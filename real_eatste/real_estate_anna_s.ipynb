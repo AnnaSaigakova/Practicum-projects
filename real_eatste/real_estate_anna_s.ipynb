{
 "cells": [
  {
   "cell_type": "markdown",
   "metadata": {
    "tags": [],
    "toc": true
   },
   "source": [
    "<h1>Содержание<span class=\"tocSkip\"></span></h1>\n",
    "<div class=\"toc\"><ul class=\"toc-item\"><li><span><a href=\"#1.-Обзор-данных\" data-toc-modified-id=\"1.-Обзор-данных-1\">1. Обзор данных</a></span><ul class=\"toc-item\"><li><span><a href=\"#Вывод\" data-toc-modified-id=\"Вывод-1.1\">Вывод</a></span></li></ul></li><li><span><a href=\"#2.-Предобработка-данных\" data-toc-modified-id=\"2.-Предобработка-данных-2\">2. Предобработка данных</a></span><ul class=\"toc-item\"><li><span><a href=\"#2.1.-Изменение-названий-колонок\" data-toc-modified-id=\"2.1.-Изменение-названий-колонок-2.1\">2.1. Изменение названий колонок</a></span></li><li><span><a href=\"#2.2.-Проверка-на-явные-дубликаты\" data-toc-modified-id=\"2.2.-Проверка-на-явные-дубликаты-2.2\">2.2. Проверка на явные дубликаты</a></span></li><li><span><a href=\"#2.3.-Проверка-на-неявные-дубликаты\" data-toc-modified-id=\"2.3.-Проверка-на-неявные-дубликаты-2.3\">2.3. Проверка на неявные дубликаты</a></span></li><li><span><a href=\"#2.4.-Заполнение-пропусков-и-проверка-на-аномалии-и-выбросы\" data-toc-modified-id=\"2.4.-Заполнение-пропусков-и-проверка-на-аномалии-и-выбросы-2.4\">2.4. Заполнение пропусков и проверка на аномалии и выбросы</a></span></li></ul></li><li><span><a href=\"#3.-Расчёты-и-добавление-результатов-в-таблицу\" data-toc-modified-id=\"3.-Расчёты-и-добавление-результатов-в-таблицу-3\">3. Расчёты и добавление результатов в таблицу</a></span></li><li><span><a href=\"#4.-Исследовательский-анализ-данных\" data-toc-modified-id=\"4.-Исследовательский-анализ-данных-4\">4. Исследовательский анализ данных</a></span><ul class=\"toc-item\"><li><span><a href=\"#4.1.-Изучение-площади,-цены,-числа-комнат-и-высоты-потолков.\" data-toc-modified-id=\"4.1.-Изучение-площади,-цены,-числа-комнат-и-высоты-потолков.-4.1\">4.1. Изучение площади, цены, числа комнат и высоты потолков.</a></span></li><li><span><a href=\"#4.2.-Изучение-времени-продажи-квартиры\" data-toc-modified-id=\"4.2.-Изучение-времени-продажи-квартиры-4.2\">4.2. Изучение времени продажи квартиры</a></span></li><li><span><a href=\"#4.3.-Изучение-факторов,-влияющих-на-стоимость-квартиры\" data-toc-modified-id=\"4.3.-Изучение-факторов,-влияющих-на-стоимость-квартиры-4.3\">4.3. Изучение факторов, влияющих на стоимость квартиры</a></span></li><li><span><a href=\"#4.4.-Изучение-стоимости-жилья-в-зависимости-от-популярности-населенного-пункта\" data-toc-modified-id=\"4.4.-Изучение-стоимости-жилья-в-зависимости-от-популярности-населенного-пункта-4.4\">4.4. Изучение стоимости жилья в зависимости от популярности населенного пункта</a></span></li><li><span><a href=\"#4.5.-Выделение-центральной-зоны-Санкт-Петербурга\" data-toc-modified-id=\"4.5.-Выделение-центральной-зоны-Санкт-Петербурга-4.5\">4.5. Выделение центральной зоны Санкт-Петербурга</a></span></li><li><span><a href=\"#4.6.-Изучение-сегмента-квартир-в-центре-Санкт-Петербурга\" data-toc-modified-id=\"4.6.-Изучение-сегмента-квартир-в-центре-Санкт-Петербурга-4.6\">4.6. Изучение сегмента квартир в центре Санкт-Петербурга</a></span></li></ul></li><li><span><a href=\"#Общий-вывод\" data-toc-modified-id=\"Общий-вывод-5\">Общий вывод</a></span></li></ul></div>"
   ]
  },
  {
   "cell_type": "markdown",
   "metadata": {},
   "source": [
    "# Проект \"Недвижимость\"\n",
    "\n",
    "\n",
    "**Цель исследования:**  Анализ рыночной стоимости квартир на основании данных сервиса по операциям с недвижимостью. \n",
    "\n",
    "**Задачи исследования:** \n",
    "* Определение факторов, влияющие на стоимость недвижимости, на основании анализа площади, количества комнат, высоты потолков.\n",
    "* Анализ стоимости жилья в зависимости от популярности населенного пункта.\n",
    "* Анализ сегмента недвижимости в центре города.\n",
    "\n",
    "В качестве данных для исследования - архив объявлений о продаже квартир в Санкт-Петербурге и соседних населённых пунктах за несколько лет.\n",
    "\n",
    "По каждой квартире на продажу доступны два вида данных:\n",
    "* данные, предоставленные пользователем;\n",
    "* данные, которые получены  на основе картографических данных автоматически (расстояние до центра, аэропорта, ближайшего парка и водоёма).\n",
    "\n",
    "**Описание данных:**\n",
    "1.\tairports_nearest — расстояние до ближайшего аэропорта в метрах (м)\n",
    "2.\tbalcony — число балконов\n",
    "3.\tceiling_height — высота потолков (м)\n",
    "4.\tcityCenters_nearest — расстояние до центра города (м)\n",
    "5.\tdays_exposition — сколько дней было размещено объявление (от публикации до снятия)\n",
    "6.\tfirst_day_exposition — дата публикации\n",
    "7.\tfloor — этаж\n",
    "8.\tfloors_total — всего этажей в доме\n",
    "9.\tis_apartment — апартаменты (булев тип)\n",
    "10.\tkitchen_area — площадь кухни в квадратных метрах (м²)\n",
    "11.\tlast_price — цена на момент снятия с публикации\n",
    "12.\tliving_area — жилая площадь в квадратных метрах (м²)\n",
    "13.\tlocality_name — название населённого пункта\n",
    "14.\topen_plan — свободная планировка (булев тип)\n",
    "15.\tparks_around3000 — число парков в радиусе 3 км\n",
    "16.\tparks_nearest — расстояние до ближайшего парка (м)\n",
    "17.\tponds_around3000 — число водоёмов в радиусе 3 км\n",
    "18.\tponds_nearest — расстояние до ближайшего водоёма (м)\n",
    "19.\trooms — число комнат\n",
    "20.\tstudio — квартира-студия (булев тип)\n",
    "21.\ttotal_area — площадь квартиры в квадратных метрах (м²)\n",
    "22.\ttotal_images — число фотографий квартиры в объявлении"
   ]
  },
  {
   "cell_type": "markdown",
   "metadata": {},
   "source": [
    "## 1. Обзор данных"
   ]
  },
  {
   "cell_type": "markdown",
   "metadata": {},
   "source": [
    "Импортируем библиотеки pandas,matplotlib и plotly."
   ]
  },
  {
   "cell_type": "code",
   "execution_count": 1,
   "metadata": {},
   "outputs": [],
   "source": [
    "import pandas as pd\n",
    "\n",
    "import matplotlib.pyplot as plt\n",
    "import seaborn as sns"
   ]
  },
  {
   "cell_type": "markdown",
   "metadata": {},
   "source": [
    "Загружаем файл с данными в перемнную df."
   ]
  },
  {
   "cell_type": "code",
   "execution_count": 2,
   "metadata": {},
   "outputs": [],
   "source": [
    "try:\n",
    "    df = pd.read_csv('real_estate_data.csv')\n",
    "except:\n",
    "    df = pd.read_csv('/datasets/real_estate_data.csv')"
   ]
  },
  {
   "cell_type": "code",
   "execution_count": 3,
   "metadata": {
    "scrolled": true
   },
   "outputs": [
    {
     "data": {
      "text/html": [
       "<div>\n",
       "<style scoped>\n",
       "    .dataframe tbody tr th:only-of-type {\n",
       "        vertical-align: middle;\n",
       "    }\n",
       "\n",
       "    .dataframe tbody tr th {\n",
       "        vertical-align: top;\n",
       "    }\n",
       "\n",
       "    .dataframe thead th {\n",
       "        text-align: right;\n",
       "    }\n",
       "</style>\n",
       "<table border=\"1\" class=\"dataframe\">\n",
       "  <thead>\n",
       "    <tr style=\"text-align: right;\">\n",
       "      <th></th>\n",
       "      <th>total_images\\tlast_price\\ttotal_area\\tfirst_day_exposition\\trooms\\tceiling_height\\tfloors_total\\tliving_area\\tfloor\\tis_apartment\\tstudio\\topen_plan\\tkitchen_area\\tbalcony\\tlocality_name\\tairports_nearest\\tcityCenters_nearest\\tparks_around3000\\tparks_nearest\\tponds_around3000\\tponds_nearest\\tdays_exposition</th>\n",
       "    </tr>\n",
       "  </thead>\n",
       "  <tbody>\n",
       "    <tr>\n",
       "      <th>0</th>\n",
       "      <td>20\\t13000000.0\\t108.0\\t2019-03-07T00:00:00\\t3\\...</td>\n",
       "    </tr>\n",
       "    <tr>\n",
       "      <th>1</th>\n",
       "      <td>7\\t3350000.0\\t40.4\\t2018-12-04T00:00:00\\t1\\t\\t...</td>\n",
       "    </tr>\n",
       "    <tr>\n",
       "      <th>2</th>\n",
       "      <td>10\\t5196000.0\\t56.0\\t2015-08-20T00:00:00\\t2\\t\\...</td>\n",
       "    </tr>\n",
       "    <tr>\n",
       "      <th>3</th>\n",
       "      <td>0\\t64900000.0\\t159.0\\t2015-07-24T00:00:00\\t3\\t...</td>\n",
       "    </tr>\n",
       "    <tr>\n",
       "      <th>4</th>\n",
       "      <td>2\\t10000000.0\\t100.0\\t2018-06-19T00:00:00\\t2\\t...</td>\n",
       "    </tr>\n",
       "  </tbody>\n",
       "</table>\n",
       "</div>"
      ],
      "text/plain": [
       "  total_images\\tlast_price\\ttotal_area\\tfirst_day_exposition\\trooms\\tceiling_height\\tfloors_total\\tliving_area\\tfloor\\tis_apartment\\tstudio\\topen_plan\\tkitchen_area\\tbalcony\\tlocality_name\\tairports_nearest\\tcityCenters_nearest\\tparks_around3000\\tparks_nearest\\tponds_around3000\\tponds_nearest\\tdays_exposition\n",
       "0  20\\t13000000.0\\t108.0\\t2019-03-07T00:00:00\\t3\\...                                                                                                                                                                                                                                                                  \n",
       "1  7\\t3350000.0\\t40.4\\t2018-12-04T00:00:00\\t1\\t\\t...                                                                                                                                                                                                                                                                  \n",
       "2  10\\t5196000.0\\t56.0\\t2015-08-20T00:00:00\\t2\\t\\...                                                                                                                                                                                                                                                                  \n",
       "3  0\\t64900000.0\\t159.0\\t2015-07-24T00:00:00\\t3\\t...                                                                                                                                                                                                                                                                  \n",
       "4  2\\t10000000.0\\t100.0\\t2018-06-19T00:00:00\\t2\\t...                                                                                                                                                                                                                                                                  "
      ]
     },
     "execution_count": 3,
     "metadata": {},
     "output_type": "execute_result"
    }
   ],
   "source": [
    "df.head()"
   ]
  },
  {
   "cell_type": "markdown",
   "metadata": {},
   "source": [
    "Файл с данными имеет следующий вид:\n",
    "\n",
    "* в данных одна колонка;\n",
    "* разделителем между колонками является сочетание символов '\\t'\n",
    "\n",
    "Сделаем новую загрузку файла с данными, указав параметр sep = '\\t', чтобы получить данные, разбитые по столбцам."
   ]
  },
  {
   "cell_type": "code",
   "execution_count": 4,
   "metadata": {
    "scrolled": true
   },
   "outputs": [],
   "source": [
    "try:\n",
    "    df = pd.read_csv('real_estate_data.csv',sep = '\\t')\n",
    "except:\n",
    "    df = pd.read_csv('/datasets/real_estate_data.csv',sep = '\\t')"
   ]
  },
  {
   "cell_type": "code",
   "execution_count": 5,
   "metadata": {
    "scrolled": true
   },
   "outputs": [
    {
     "data": {
      "text/html": [
       "<div>\n",
       "<style scoped>\n",
       "    .dataframe tbody tr th:only-of-type {\n",
       "        vertical-align: middle;\n",
       "    }\n",
       "\n",
       "    .dataframe tbody tr th {\n",
       "        vertical-align: top;\n",
       "    }\n",
       "\n",
       "    .dataframe thead th {\n",
       "        text-align: right;\n",
       "    }\n",
       "</style>\n",
       "<table border=\"1\" class=\"dataframe\">\n",
       "  <thead>\n",
       "    <tr style=\"text-align: right;\">\n",
       "      <th></th>\n",
       "      <th>total_images</th>\n",
       "      <th>last_price</th>\n",
       "      <th>total_area</th>\n",
       "      <th>first_day_exposition</th>\n",
       "      <th>rooms</th>\n",
       "      <th>ceiling_height</th>\n",
       "      <th>floors_total</th>\n",
       "      <th>living_area</th>\n",
       "      <th>floor</th>\n",
       "      <th>is_apartment</th>\n",
       "      <th>...</th>\n",
       "      <th>kitchen_area</th>\n",
       "      <th>balcony</th>\n",
       "      <th>locality_name</th>\n",
       "      <th>airports_nearest</th>\n",
       "      <th>cityCenters_nearest</th>\n",
       "      <th>parks_around3000</th>\n",
       "      <th>parks_nearest</th>\n",
       "      <th>ponds_around3000</th>\n",
       "      <th>ponds_nearest</th>\n",
       "      <th>days_exposition</th>\n",
       "    </tr>\n",
       "  </thead>\n",
       "  <tbody>\n",
       "    <tr>\n",
       "      <th>0</th>\n",
       "      <td>20</td>\n",
       "      <td>13000000.0</td>\n",
       "      <td>108.0</td>\n",
       "      <td>2019-03-07T00:00:00</td>\n",
       "      <td>3</td>\n",
       "      <td>2.70</td>\n",
       "      <td>16.0</td>\n",
       "      <td>51.0</td>\n",
       "      <td>8</td>\n",
       "      <td>NaN</td>\n",
       "      <td>...</td>\n",
       "      <td>25.0</td>\n",
       "      <td>NaN</td>\n",
       "      <td>Санкт-Петербург</td>\n",
       "      <td>18863.0</td>\n",
       "      <td>16028.0</td>\n",
       "      <td>1.0</td>\n",
       "      <td>482.0</td>\n",
       "      <td>2.0</td>\n",
       "      <td>755.0</td>\n",
       "      <td>NaN</td>\n",
       "    </tr>\n",
       "    <tr>\n",
       "      <th>1</th>\n",
       "      <td>7</td>\n",
       "      <td>3350000.0</td>\n",
       "      <td>40.4</td>\n",
       "      <td>2018-12-04T00:00:00</td>\n",
       "      <td>1</td>\n",
       "      <td>NaN</td>\n",
       "      <td>11.0</td>\n",
       "      <td>18.6</td>\n",
       "      <td>1</td>\n",
       "      <td>NaN</td>\n",
       "      <td>...</td>\n",
       "      <td>11.0</td>\n",
       "      <td>2.0</td>\n",
       "      <td>посёлок Шушары</td>\n",
       "      <td>12817.0</td>\n",
       "      <td>18603.0</td>\n",
       "      <td>0.0</td>\n",
       "      <td>NaN</td>\n",
       "      <td>0.0</td>\n",
       "      <td>NaN</td>\n",
       "      <td>81.0</td>\n",
       "    </tr>\n",
       "    <tr>\n",
       "      <th>2</th>\n",
       "      <td>10</td>\n",
       "      <td>5196000.0</td>\n",
       "      <td>56.0</td>\n",
       "      <td>2015-08-20T00:00:00</td>\n",
       "      <td>2</td>\n",
       "      <td>NaN</td>\n",
       "      <td>5.0</td>\n",
       "      <td>34.3</td>\n",
       "      <td>4</td>\n",
       "      <td>NaN</td>\n",
       "      <td>...</td>\n",
       "      <td>8.3</td>\n",
       "      <td>0.0</td>\n",
       "      <td>Санкт-Петербург</td>\n",
       "      <td>21741.0</td>\n",
       "      <td>13933.0</td>\n",
       "      <td>1.0</td>\n",
       "      <td>90.0</td>\n",
       "      <td>2.0</td>\n",
       "      <td>574.0</td>\n",
       "      <td>558.0</td>\n",
       "    </tr>\n",
       "    <tr>\n",
       "      <th>3</th>\n",
       "      <td>0</td>\n",
       "      <td>64900000.0</td>\n",
       "      <td>159.0</td>\n",
       "      <td>2015-07-24T00:00:00</td>\n",
       "      <td>3</td>\n",
       "      <td>NaN</td>\n",
       "      <td>14.0</td>\n",
       "      <td>NaN</td>\n",
       "      <td>9</td>\n",
       "      <td>NaN</td>\n",
       "      <td>...</td>\n",
       "      <td>NaN</td>\n",
       "      <td>0.0</td>\n",
       "      <td>Санкт-Петербург</td>\n",
       "      <td>28098.0</td>\n",
       "      <td>6800.0</td>\n",
       "      <td>2.0</td>\n",
       "      <td>84.0</td>\n",
       "      <td>3.0</td>\n",
       "      <td>234.0</td>\n",
       "      <td>424.0</td>\n",
       "    </tr>\n",
       "    <tr>\n",
       "      <th>4</th>\n",
       "      <td>2</td>\n",
       "      <td>10000000.0</td>\n",
       "      <td>100.0</td>\n",
       "      <td>2018-06-19T00:00:00</td>\n",
       "      <td>2</td>\n",
       "      <td>3.03</td>\n",
       "      <td>14.0</td>\n",
       "      <td>32.0</td>\n",
       "      <td>13</td>\n",
       "      <td>NaN</td>\n",
       "      <td>...</td>\n",
       "      <td>41.0</td>\n",
       "      <td>NaN</td>\n",
       "      <td>Санкт-Петербург</td>\n",
       "      <td>31856.0</td>\n",
       "      <td>8098.0</td>\n",
       "      <td>2.0</td>\n",
       "      <td>112.0</td>\n",
       "      <td>1.0</td>\n",
       "      <td>48.0</td>\n",
       "      <td>121.0</td>\n",
       "    </tr>\n",
       "  </tbody>\n",
       "</table>\n",
       "<p>5 rows × 22 columns</p>\n",
       "</div>"
      ],
      "text/plain": [
       "   total_images  last_price  total_area first_day_exposition  rooms  \\\n",
       "0            20  13000000.0       108.0  2019-03-07T00:00:00      3   \n",
       "1             7   3350000.0        40.4  2018-12-04T00:00:00      1   \n",
       "2            10   5196000.0        56.0  2015-08-20T00:00:00      2   \n",
       "3             0  64900000.0       159.0  2015-07-24T00:00:00      3   \n",
       "4             2  10000000.0       100.0  2018-06-19T00:00:00      2   \n",
       "\n",
       "   ceiling_height  floors_total  living_area  floor is_apartment  ...  \\\n",
       "0            2.70          16.0         51.0      8          NaN  ...   \n",
       "1             NaN          11.0         18.6      1          NaN  ...   \n",
       "2             NaN           5.0         34.3      4          NaN  ...   \n",
       "3             NaN          14.0          NaN      9          NaN  ...   \n",
       "4            3.03          14.0         32.0     13          NaN  ...   \n",
       "\n",
       "   kitchen_area  balcony    locality_name  airports_nearest  \\\n",
       "0          25.0      NaN  Санкт-Петербург           18863.0   \n",
       "1          11.0      2.0   посёлок Шушары           12817.0   \n",
       "2           8.3      0.0  Санкт-Петербург           21741.0   \n",
       "3           NaN      0.0  Санкт-Петербург           28098.0   \n",
       "4          41.0      NaN  Санкт-Петербург           31856.0   \n",
       "\n",
       "  cityCenters_nearest  parks_around3000  parks_nearest  ponds_around3000  \\\n",
       "0             16028.0               1.0          482.0               2.0   \n",
       "1             18603.0               0.0            NaN               0.0   \n",
       "2             13933.0               1.0           90.0               2.0   \n",
       "3              6800.0               2.0           84.0               3.0   \n",
       "4              8098.0               2.0          112.0               1.0   \n",
       "\n",
       "   ponds_nearest  days_exposition  \n",
       "0          755.0              NaN  \n",
       "1            NaN             81.0  \n",
       "2          574.0            558.0  \n",
       "3          234.0            424.0  \n",
       "4           48.0            121.0  \n",
       "\n",
       "[5 rows x 22 columns]"
      ]
     },
     "execution_count": 5,
     "metadata": {},
     "output_type": "execute_result"
    }
   ],
   "source": [
    "df.head()"
   ]
  },
  {
   "cell_type": "markdown",
   "metadata": {},
   "source": [
    "Теперь данные разбиты по столбцам.\n",
    "\n",
    "Получим информацию о таблице."
   ]
  },
  {
   "cell_type": "code",
   "execution_count": 6,
   "metadata": {},
   "outputs": [
    {
     "name": "stdout",
     "output_type": "stream",
     "text": [
      "<class 'pandas.core.frame.DataFrame'>\n",
      "RangeIndex: 23699 entries, 0 to 23698\n",
      "Data columns (total 22 columns):\n",
      " #   Column                Non-Null Count  Dtype  \n",
      "---  ------                --------------  -----  \n",
      " 0   total_images          23699 non-null  int64  \n",
      " 1   last_price            23699 non-null  float64\n",
      " 2   total_area            23699 non-null  float64\n",
      " 3   first_day_exposition  23699 non-null  object \n",
      " 4   rooms                 23699 non-null  int64  \n",
      " 5   ceiling_height        14504 non-null  float64\n",
      " 6   floors_total          23613 non-null  float64\n",
      " 7   living_area           21796 non-null  float64\n",
      " 8   floor                 23699 non-null  int64  \n",
      " 9   is_apartment          2775 non-null   object \n",
      " 10  studio                23699 non-null  bool   \n",
      " 11  open_plan             23699 non-null  bool   \n",
      " 12  kitchen_area          21421 non-null  float64\n",
      " 13  balcony               12180 non-null  float64\n",
      " 14  locality_name         23650 non-null  object \n",
      " 15  airports_nearest      18157 non-null  float64\n",
      " 16  cityCenters_nearest   18180 non-null  float64\n",
      " 17  parks_around3000      18181 non-null  float64\n",
      " 18  parks_nearest         8079 non-null   float64\n",
      " 19  ponds_around3000      18181 non-null  float64\n",
      " 20  ponds_nearest         9110 non-null   float64\n",
      " 21  days_exposition       20518 non-null  float64\n",
      "dtypes: bool(2), float64(14), int64(3), object(3)\n",
      "memory usage: 3.7+ MB\n"
     ]
    }
   ],
   "source": [
    "df.info()"
   ]
  },
  {
   "cell_type": "markdown",
   "metadata": {},
   "source": [
    "В таблице 22 колонки:\n",
    "* 3 колонки типа bool;\n",
    "* 14 колонок вещественного типа;\n",
    "* 3 целочисленных колонки;\n",
    "* 3 строковых колонки."
   ]
  },
  {
   "cell_type": "markdown",
   "metadata": {},
   "source": [
    "Проверим названия колонок."
   ]
  },
  {
   "cell_type": "code",
   "execution_count": 7,
   "metadata": {
    "scrolled": true
   },
   "outputs": [
    {
     "data": {
      "text/plain": [
       "Index(['total_images', 'last_price', 'total_area', 'first_day_exposition',\n",
       "       'rooms', 'ceiling_height', 'floors_total', 'living_area', 'floor',\n",
       "       'is_apartment', 'studio', 'open_plan', 'kitchen_area', 'balcony',\n",
       "       'locality_name', 'airports_nearest', 'cityCenters_nearest',\n",
       "       'parks_around3000', 'parks_nearest', 'ponds_around3000',\n",
       "       'ponds_nearest', 'days_exposition'],\n",
       "      dtype='object')"
      ]
     },
     "execution_count": 7,
     "metadata": {},
     "output_type": "execute_result"
    }
   ],
   "source": [
    "df.columns"
   ]
  },
  {
   "cell_type": "markdown",
   "metadata": {},
   "source": [
    "Названия колонок соответствуют описанию данных.\n",
    "\n",
    "Есть нарушениe стиля в названии колонки 'cityCenters_nearest' - использован \"верблюжий регистр\"."
   ]
  },
  {
   "cell_type": "markdown",
   "metadata": {},
   "source": [
    "В колонке 'first_day_exposition' хранится дата публикации объявления, но тип колонки строковый. Нужно изменить тип на datetime, т.к.данные этой колонки необходимы для исследования, и тип datetime является более подходящим для анализа (нужно будет выделять день, месяц и год этой даты)."
   ]
  },
  {
   "cell_type": "markdown",
   "metadata": {},
   "source": [
    "Важными для исследования являются данные в следующих колонках:\n",
    "\n",
    "1.\tceiling_height — высота потолков (м)\n",
    "2.\tcityCenters_nearest — расстояние до центра города (м)\n",
    "3.\tdays_exposition — сколько дней было размещено объявление (от публикации до снятия)\n",
    "4.\tfirst_day_exposition — дата публикации\n",
    "5.\tfloor — этаж\n",
    "6.\tfloors_total — всего этажей в доме\n",
    "7.\tkitchen_area — площадь кухни в квадратных метрах (м²)\n",
    "8.\tlast_price — цена на момент снятия с публикации\n",
    "9.\tliving_area — жилая площадь в квадратных метрах (м²)\n",
    "10.\tlocality_name — название населённого пункта\n",
    "11.\trooms — число комнат\n",
    "12.\ttotal_area — площадь квартиры в квадратных метрах (м²)"
   ]
  },
  {
   "cell_type": "markdown",
   "metadata": {},
   "source": [
    "Вызовем метод describe() для важных для исследования колонок количественного типа."
   ]
  },
  {
   "cell_type": "code",
   "execution_count": 8,
   "metadata": {},
   "outputs": [
    {
     "data": {
      "text/html": [
       "<div>\n",
       "<style scoped>\n",
       "    .dataframe tbody tr th:only-of-type {\n",
       "        vertical-align: middle;\n",
       "    }\n",
       "\n",
       "    .dataframe tbody tr th {\n",
       "        vertical-align: top;\n",
       "    }\n",
       "\n",
       "    .dataframe thead th {\n",
       "        text-align: right;\n",
       "    }\n",
       "</style>\n",
       "<table border=\"1\" class=\"dataframe\">\n",
       "  <thead>\n",
       "    <tr style=\"text-align: right;\">\n",
       "      <th></th>\n",
       "      <th>count</th>\n",
       "      <th>mean</th>\n",
       "      <th>std</th>\n",
       "      <th>min</th>\n",
       "      <th>25%</th>\n",
       "      <th>50%</th>\n",
       "      <th>75%</th>\n",
       "      <th>max</th>\n",
       "    </tr>\n",
       "  </thead>\n",
       "  <tbody>\n",
       "    <tr>\n",
       "      <th>ceiling_height</th>\n",
       "      <td>14504.0</td>\n",
       "      <td>2.771499e+00</td>\n",
       "      <td>1.261056e+00</td>\n",
       "      <td>1.0</td>\n",
       "      <td>2.52</td>\n",
       "      <td>2.65</td>\n",
       "      <td>2.8</td>\n",
       "      <td>100.0</td>\n",
       "    </tr>\n",
       "    <tr>\n",
       "      <th>cityCenters_nearest</th>\n",
       "      <td>18180.0</td>\n",
       "      <td>1.419128e+04</td>\n",
       "      <td>8.608386e+03</td>\n",
       "      <td>181.0</td>\n",
       "      <td>9238.00</td>\n",
       "      <td>13098.50</td>\n",
       "      <td>16293.0</td>\n",
       "      <td>65968.0</td>\n",
       "    </tr>\n",
       "    <tr>\n",
       "      <th>days_exposition</th>\n",
       "      <td>20518.0</td>\n",
       "      <td>1.808886e+02</td>\n",
       "      <td>2.197280e+02</td>\n",
       "      <td>1.0</td>\n",
       "      <td>45.00</td>\n",
       "      <td>95.00</td>\n",
       "      <td>232.0</td>\n",
       "      <td>1580.0</td>\n",
       "    </tr>\n",
       "    <tr>\n",
       "      <th>floor</th>\n",
       "      <td>23699.0</td>\n",
       "      <td>5.892358e+00</td>\n",
       "      <td>4.885249e+00</td>\n",
       "      <td>1.0</td>\n",
       "      <td>2.00</td>\n",
       "      <td>4.00</td>\n",
       "      <td>8.0</td>\n",
       "      <td>33.0</td>\n",
       "    </tr>\n",
       "    <tr>\n",
       "      <th>floors_total</th>\n",
       "      <td>23613.0</td>\n",
       "      <td>1.067382e+01</td>\n",
       "      <td>6.597173e+00</td>\n",
       "      <td>1.0</td>\n",
       "      <td>5.00</td>\n",
       "      <td>9.00</td>\n",
       "      <td>16.0</td>\n",
       "      <td>60.0</td>\n",
       "    </tr>\n",
       "    <tr>\n",
       "      <th>kitchen_area</th>\n",
       "      <td>21421.0</td>\n",
       "      <td>1.056981e+01</td>\n",
       "      <td>5.905438e+00</td>\n",
       "      <td>1.3</td>\n",
       "      <td>7.00</td>\n",
       "      <td>9.10</td>\n",
       "      <td>12.0</td>\n",
       "      <td>112.0</td>\n",
       "    </tr>\n",
       "    <tr>\n",
       "      <th>last_price</th>\n",
       "      <td>23699.0</td>\n",
       "      <td>6.541549e+06</td>\n",
       "      <td>1.088701e+07</td>\n",
       "      <td>12190.0</td>\n",
       "      <td>3400000.00</td>\n",
       "      <td>4650000.00</td>\n",
       "      <td>6800000.0</td>\n",
       "      <td>763000000.0</td>\n",
       "    </tr>\n",
       "    <tr>\n",
       "      <th>living_area</th>\n",
       "      <td>21796.0</td>\n",
       "      <td>3.445785e+01</td>\n",
       "      <td>2.203045e+01</td>\n",
       "      <td>2.0</td>\n",
       "      <td>18.60</td>\n",
       "      <td>30.00</td>\n",
       "      <td>42.3</td>\n",
       "      <td>409.7</td>\n",
       "    </tr>\n",
       "    <tr>\n",
       "      <th>rooms</th>\n",
       "      <td>23699.0</td>\n",
       "      <td>2.070636e+00</td>\n",
       "      <td>1.078405e+00</td>\n",
       "      <td>0.0</td>\n",
       "      <td>1.00</td>\n",
       "      <td>2.00</td>\n",
       "      <td>3.0</td>\n",
       "      <td>19.0</td>\n",
       "    </tr>\n",
       "    <tr>\n",
       "      <th>total_area</th>\n",
       "      <td>23699.0</td>\n",
       "      <td>6.034865e+01</td>\n",
       "      <td>3.565408e+01</td>\n",
       "      <td>12.0</td>\n",
       "      <td>40.00</td>\n",
       "      <td>52.00</td>\n",
       "      <td>69.9</td>\n",
       "      <td>900.0</td>\n",
       "    </tr>\n",
       "  </tbody>\n",
       "</table>\n",
       "</div>"
      ],
      "text/plain": [
       "                       count          mean           std      min         25%  \\\n",
       "ceiling_height       14504.0  2.771499e+00  1.261056e+00      1.0        2.52   \n",
       "cityCenters_nearest  18180.0  1.419128e+04  8.608386e+03    181.0     9238.00   \n",
       "days_exposition      20518.0  1.808886e+02  2.197280e+02      1.0       45.00   \n",
       "floor                23699.0  5.892358e+00  4.885249e+00      1.0        2.00   \n",
       "floors_total         23613.0  1.067382e+01  6.597173e+00      1.0        5.00   \n",
       "kitchen_area         21421.0  1.056981e+01  5.905438e+00      1.3        7.00   \n",
       "last_price           23699.0  6.541549e+06  1.088701e+07  12190.0  3400000.00   \n",
       "living_area          21796.0  3.445785e+01  2.203045e+01      2.0       18.60   \n",
       "rooms                23699.0  2.070636e+00  1.078405e+00      0.0        1.00   \n",
       "total_area           23699.0  6.034865e+01  3.565408e+01     12.0       40.00   \n",
       "\n",
       "                            50%        75%          max  \n",
       "ceiling_height             2.65        2.8        100.0  \n",
       "cityCenters_nearest    13098.50    16293.0      65968.0  \n",
       "days_exposition           95.00      232.0       1580.0  \n",
       "floor                      4.00        8.0         33.0  \n",
       "floors_total               9.00       16.0         60.0  \n",
       "kitchen_area               9.10       12.0        112.0  \n",
       "last_price           4650000.00  6800000.0  763000000.0  \n",
       "living_area               30.00       42.3        409.7  \n",
       "rooms                      2.00        3.0         19.0  \n",
       "total_area                52.00       69.9        900.0  "
      ]
     },
     "execution_count": 8,
     "metadata": {},
     "output_type": "execute_result"
    }
   ],
   "source": [
    "important_columns = ['ceiling_height','cityCenters_nearest','days_exposition', 'floor', 'floors_total', 'kitchen_area', 'last_price', 'living_area', 'rooms', 'total_area']\n",
    "df[important_columns].describe().T"
   ]
  },
  {
   "cell_type": "markdown",
   "metadata": {},
   "source": [
    "Есть колонки с большим разбросом данных."
   ]
  },
  {
   "cell_type": "markdown",
   "metadata": {},
   "source": [
    "Посмотрим, есть ли пропуски в колонках."
   ]
  },
  {
   "cell_type": "code",
   "execution_count": 9,
   "metadata": {
    "scrolled": true
   },
   "outputs": [
    {
     "data": {
      "text/plain": [
       "total_images             0.00\n",
       "last_price               0.00\n",
       "total_area               0.00\n",
       "first_day_exposition     0.00\n",
       "rooms                    0.00\n",
       "ceiling_height          38.80\n",
       "floors_total             0.36\n",
       "living_area              8.03\n",
       "floor                    0.00\n",
       "is_apartment            88.29\n",
       "studio                   0.00\n",
       "open_plan                0.00\n",
       "kitchen_area             9.61\n",
       "balcony                 48.61\n",
       "locality_name            0.21\n",
       "airports_nearest        23.38\n",
       "cityCenters_nearest     23.29\n",
       "parks_around3000        23.28\n",
       "parks_nearest           65.91\n",
       "ponds_around3000        23.28\n",
       "ponds_nearest           61.56\n",
       "days_exposition         13.42\n",
       "dtype: float64"
      ]
     },
     "execution_count": 9,
     "metadata": {},
     "output_type": "execute_result"
    }
   ],
   "source": [
    "round(df.isna().mean()*100,2)"
   ]
  },
  {
   "cell_type": "markdown",
   "metadata": {},
   "source": [
    "Пропуски в следующих колонках:\n",
    "- *ceiling_height* — высота потолков (м)\n",
    "- *floors_total* — всего этажей в доме\n",
    "- *living_area* — жилая площадь в квадратных метрах (м²)\n",
    "- *is_apartment* — апартаменты (булев тип)\n",
    "- *kitchen_area* — площадь кухни в квадратных метрах (м²)\n",
    "- *balcony* — число балконов\n",
    "- *locality_name* — название населённого пункта\n",
    "- *airports_nearest* — расстояние до ближайшего аэропорта в метрах (м)\n",
    "- *cityCenters_nearest* — расстояние до центра города (м)\n",
    "- *parks_around3000* - число парков в радиусе 3 км\n",
    "- *parks_nearest* — расстояние до ближайшего парка (м)\n",
    "- *ponds_around3000* — число водоёмов в радиусе 3 км\n",
    "- *ponds_nearest* — расстояние до ближайшего водоёма (м)\n",
    "- *days_exposition* — сколько дней было размещено объявление (от публикации до снятия)\n",
    "\n",
    "Почти одинаковая доля пропусков в колонках, полученных автоматически на основании картографических данных: 'cityCenters_nearest', 'airports_nearest', 'parks_around3000', 'ponds_around3000'. Пропуски могли возникнуть как результат сбоя выгрузки данных.\n",
    "\n",
    "Пропуски в колонке 'kitchen_area' и 'living_area' можно заполнить, если вычислить медианное значение долей кухни и жилой площади от общей площади для квартир с похожей общей площадью. Для этого нужно разбить общую площадь на категории."
   ]
  },
  {
   "cell_type": "markdown",
   "metadata": {},
   "source": [
    "### Вывод"
   ]
  },
  {
   "cell_type": "markdown",
   "metadata": {},
   "source": [
    "* В данных есть пропуски, которые нужно заполнить.\n",
    "* Нужно изменить тип колонки 'first_day_exposition' на datetime.\n",
    "* Нужно категоризировать общую площадь для удобства заполнения пропусков в колонках 'kitchen_area' и 'living_area'.\n",
    "* Есть данные с большим разбросом значений.\n",
    "\n",
    "Необходимо детальное исследование данных."
   ]
  },
  {
   "cell_type": "markdown",
   "metadata": {},
   "source": [
    "## 2. Предобработка данных"
   ]
  },
  {
   "cell_type": "markdown",
   "metadata": {},
   "source": [
    "### 2.1. Изменение названий колонок"
   ]
  },
  {
   "cell_type": "markdown",
   "metadata": {},
   "source": [
    "Исправим название колонки 'cityCenters_nearest' на 'city_сenters_nearest' (уберем 'верблюжий' регистр)."
   ]
  },
  {
   "cell_type": "code",
   "execution_count": 10,
   "metadata": {},
   "outputs": [],
   "source": [
    "df.rename(columns={'cityCenters_nearest': 'city_сenters_nearest'}, inplace=True)"
   ]
  },
  {
   "cell_type": "markdown",
   "metadata": {},
   "source": [
    "### 2.2. Проверка на явные дубликаты"
   ]
  },
  {
   "cell_type": "markdown",
   "metadata": {},
   "source": [
    "Проверим данные на наличие явных дубликатов."
   ]
  },
  {
   "cell_type": "code",
   "execution_count": 11,
   "metadata": {},
   "outputs": [
    {
     "data": {
      "text/plain": [
       "0"
      ]
     },
     "execution_count": 11,
     "metadata": {},
     "output_type": "execute_result"
    }
   ],
   "source": [
    "df.duplicated().sum()"
   ]
  },
  {
   "cell_type": "markdown",
   "metadata": {},
   "source": [
    "Явных дубликатов нет."
   ]
  },
  {
   "cell_type": "markdown",
   "metadata": {},
   "source": [
    "### 2.3. Проверка на неявные дубликаты"
   ]
  },
  {
   "cell_type": "markdown",
   "metadata": {},
   "source": [
    "В первую очередь будем проверять колонки, данные в которых нужны для исследования."
   ]
  },
  {
   "cell_type": "markdown",
   "metadata": {},
   "source": [
    "Проверим колонку <b>'locality_name'</b>. Это название населенного пункта, строковые данные."
   ]
  },
  {
   "cell_type": "code",
   "execution_count": 12,
   "metadata": {
    "scrolled": true
   },
   "outputs": [
    {
     "data": {
      "text/plain": [
       "0.21"
      ]
     },
     "execution_count": 12,
     "metadata": {},
     "output_type": "execute_result"
    }
   ],
   "source": [
    "round(df['locality_name'].isna().mean() * 100, 2)"
   ]
  },
  {
   "cell_type": "markdown",
   "metadata": {},
   "source": [
    "Пропусков очень мало, всего 0.21%. Возможно, пользователи просто не указали название населенного пункта.\n",
    "\n",
    "Данные колонки 'locality_name' являются важными для исследования. Так как доля пропусков очень мала, строки с ними можно удалить."
   ]
  },
  {
   "cell_type": "code",
   "execution_count": 13,
   "metadata": {
    "scrolled": true
   },
   "outputs": [
    {
     "data": {
      "text/plain": [
       "0"
      ]
     },
     "execution_count": 13,
     "metadata": {},
     "output_type": "execute_result"
    }
   ],
   "source": [
    "df = df.dropna(subset = ['locality_name']).reset_index(drop = True)\n",
    "df['locality_name'].isna().sum()"
   ]
  },
  {
   "cell_type": "markdown",
   "metadata": {},
   "source": [
    "Остались только строки с заполненными данными в колонке 'locality_name'."
   ]
  },
  {
   "cell_type": "markdown",
   "metadata": {},
   "source": [
    "Выведем уникальные названия населенных пунктов."
   ]
  },
  {
   "cell_type": "code",
   "execution_count": 14,
   "metadata": {
    "scrolled": true
   },
   "outputs": [
    {
     "data": {
      "text/plain": [
       "Санкт-Петербург                    15721\n",
       "посёлок Мурино                       522\n",
       "посёлок Шушары                       440\n",
       "Всеволожск                           398\n",
       "Пушкин                               369\n",
       "                                   ...  \n",
       "поселок Каложицы                       1\n",
       "посёлок Платформа 69-й километр        1\n",
       "поселок Почап                          1\n",
       "поселок Гончарово                      1\n",
       "посёлок Дзержинского                   1\n",
       "Name: locality_name, Length: 364, dtype: int64"
      ]
     },
     "execution_count": 14,
     "metadata": {},
     "output_type": "execute_result"
    }
   ],
   "source": [
    "df['locality_name'].value_counts()"
   ]
  },
  {
   "cell_type": "markdown",
   "metadata": {},
   "source": [
    "В колонке 'locality_name' всего 364 уникальных значения.\n",
    "Посчитаем, сколько уникальных значений в этой колонке, если перевести данные в нижний регистр (проверим, есть ли неявные дубликаты)."
   ]
  },
  {
   "cell_type": "code",
   "execution_count": 15,
   "metadata": {},
   "outputs": [
    {
     "data": {
      "text/plain": [
       "364"
      ]
     },
     "execution_count": 15,
     "metadata": {},
     "output_type": "execute_result"
    }
   ],
   "source": [
    "df['locality_name'].str.lower().value_counts().count()"
   ]
  },
  {
   "cell_type": "markdown",
   "metadata": {},
   "source": [
    "Число уникальных значений в нижнем регистре совпадает с общим числом уникальных значений, значит, неявных дубликатов из-за написания одних и тех же слов буквами разных регистров нет."
   ]
  },
  {
   "cell_type": "markdown",
   "metadata": {},
   "source": [
    "При выводе уникальных значений видно, что в одних названиях слово \"поселок\" написано через \"е\", а в других через \"ё\". Возможны неявные дубликаты в этом случае.\n",
    "\n",
    "Проверим названия со словом \"поселок\" через \"е\" (выведем 30 названий, первых по алфавиту). "
   ]
  },
  {
   "cell_type": "code",
   "execution_count": 16,
   "metadata": {},
   "outputs": [
    {
     "data": {
      "text/plain": [
       "array(['городской поселок Большая Ижора', 'городской поселок Янино-1',\n",
       "       'коттеджный поселок Кивеннапа Север', 'коттеджный поселок Счастье',\n",
       "       'поселок Аннино', 'поселок Барышево', 'поселок Бугры',\n",
       "       'поселок Возрождение', 'поселок Войсковицы', 'поселок Володарское',\n",
       "       'поселок Гаврилово', 'поселок Гарболово', 'поселок Гладкое',\n",
       "       'поселок Глажево', 'поселок Глебычево', 'поселок Гончарово',\n",
       "       'поселок Громово', 'поселок Дружноселье', 'поселок Елизаветино',\n",
       "       'поселок Жилгородок', 'поселок Жилпосёлок', 'поселок Житково',\n",
       "       'поселок Заводской', 'поселок Запорожское', 'поселок Зимитицы',\n",
       "       'поселок Ильичёво', 'поселок Калитино', 'поселок Каложицы',\n",
       "       'поселок Кингисеппский'], dtype=object)"
      ]
     },
     "execution_count": 16,
     "metadata": {},
     "output_type": "execute_result"
    }
   ],
   "source": [
    "df[df['locality_name'].str.find('поселок') > -1]['locality_name'].sort_values(ascending=True).unique()[0:29]"
   ]
  },
  {
   "cell_type": "markdown",
   "metadata": {},
   "source": [
    "Теперь посмотрим на названия со словом \"посёлок\" через \"ё\", тоже 30 названий первых по алфавиту."
   ]
  },
  {
   "cell_type": "code",
   "execution_count": 17,
   "metadata": {
    "scrolled": true
   },
   "outputs": [
    {
     "data": {
      "text/plain": [
       "array(['городской посёлок Будогощь', 'городской посёлок Виллози',\n",
       "       'городской посёлок Лесогорский', 'городской посёлок Мга',\n",
       "       'городской посёлок Назия', 'городской посёлок Новоселье',\n",
       "       'городской посёлок Павлово', 'городской посёлок Рощино',\n",
       "       'городской посёлок Свирьстрой', 'городской посёлок Советский',\n",
       "       'городской посёлок Фёдоровское', 'городской посёлок Янино-1',\n",
       "       'коттеджный посёлок Лесное', 'поселок Жилпосёлок',\n",
       "       'посёлок Александровская', 'посёлок Алексеевка', 'посёлок Аннино',\n",
       "       'посёлок Белоостров', 'посёлок Бугры', 'посёлок Возрождение',\n",
       "       'посёлок Войскорово', 'посёлок Высокоключевой',\n",
       "       'посёлок Гаврилово', 'посёлок Дзержинского', 'посёлок Жилгородок',\n",
       "       'посёлок Ильичёво', 'посёлок Кикерино', 'посёлок Кобралово',\n",
       "       'посёлок Коробицыно'], dtype=object)"
      ]
     },
     "execution_count": 17,
     "metadata": {},
     "output_type": "execute_result"
    }
   ],
   "source": [
    "df[df['locality_name'].str.find('посёлок')> -1]['locality_name'].sort_values(ascending=True).unique()[0:29]"
   ]
  },
  {
   "cell_type": "markdown",
   "metadata": {},
   "source": [
    "Есть неявные дубликаты, например \"поселок Бугры\" и \"посёлок Бугры\", \"поселок Возрождение\" и \"посёлок Возрождение\".\n",
    "\n",
    "Посчитаем, сколько всего названий со словом \"посёлок\" или \"поселок\"."
   ]
  },
  {
   "cell_type": "code",
   "execution_count": 18,
   "metadata": {
    "scrolled": true
   },
   "outputs": [
    {
     "data": {
      "text/plain": [
       "2660"
      ]
     },
     "execution_count": 18,
     "metadata": {},
     "output_type": "execute_result"
    }
   ],
   "source": [
    "df[(df['locality_name'].str.find('посёлок')> -1)|(df['locality_name'].str.find('поселок')> -1)]['locality_name'].count()"
   ]
  },
  {
   "cell_type": "markdown",
   "metadata": {},
   "source": [
    "Заменим слово \"посёлок\" на \"поселок\" (букву \"е\" чаще  используют, чем \"ё\")."
   ]
  },
  {
   "cell_type": "code",
   "execution_count": 19,
   "metadata": {
    "scrolled": true
   },
   "outputs": [],
   "source": [
    "df.loc[df['locality_name'].str.find('посёлок')> -1 ,'locality_name'] = df[df['locality_name'].str.find('посёлок')> -1]['locality_name'].str.replace('посёлок','поселок')"
   ]
  },
  {
   "cell_type": "code",
   "execution_count": 20,
   "metadata": {},
   "outputs": [
    {
     "data": {
      "text/plain": [
       "2660"
      ]
     },
     "execution_count": 20,
     "metadata": {},
     "output_type": "execute_result"
    }
   ],
   "source": [
    "df[df['locality_name'].str.find('поселок') > -1]['locality_name'].count()"
   ]
  },
  {
   "cell_type": "markdown",
   "metadata": {},
   "source": [
    "Теперь в названиях только \"поселок\". \n",
    "\n",
    "Выведем уникальные названия со словом \"поселок\" после обработки строк."
   ]
  },
  {
   "cell_type": "code",
   "execution_count": 21,
   "metadata": {},
   "outputs": [
    {
     "data": {
      "text/plain": [
       "array(['городской поселок Большая Ижора', 'городской поселок Будогощь',\n",
       "       'городской поселок Виллози', 'городской поселок Лесогорский',\n",
       "       'городской поселок Мга', 'городской поселок Назия',\n",
       "       'городской поселок Новоселье', 'городской поселок Павлово',\n",
       "       'городской поселок Рощино', 'городской поселок Свирьстрой',\n",
       "       'городской поселок Советский', 'городской поселок Фёдоровское',\n",
       "       'городской поселок Янино-1', 'коттеджный поселок Кивеннапа Север',\n",
       "       'коттеджный поселок Лесное', 'коттеджный поселок Счастье',\n",
       "       'поселок Александровская', 'поселок Алексеевка', 'поселок Аннино',\n",
       "       'поселок Барышево', 'поселок Белоостров', 'поселок Бугры',\n",
       "       'поселок Возрождение', 'поселок Войсковицы', 'поселок Войскорово',\n",
       "       'поселок Володарское', 'поселок Высокоключевой',\n",
       "       'поселок Гаврилово', 'поселок Гарболово', 'поселок Гладкое',\n",
       "       'поселок Глажево', 'поселок Глебычево', 'поселок Гончарово',\n",
       "       'поселок Громово', 'поселок Дзержинского', 'поселок Дружноселье',\n",
       "       'поселок Елизаветино', 'поселок Жилгородок', 'поселок Жилпоселок',\n",
       "       'поселок Житково', 'поселок Заводской', 'поселок Запорожское',\n",
       "       'поселок Зимитицы', 'поселок Ильичёво', 'поселок Калитино',\n",
       "       'поселок Каложицы', 'поселок Кикерино', 'поселок Кингисеппский',\n",
       "       'поселок Кирпичное', 'поселок Кобралово', 'поселок Кобринское',\n",
       "       'поселок Коммунары', 'поселок Коробицыно', 'поселок Котельский',\n",
       "       'поселок Красная Долина', 'поселок Красносельское',\n",
       "       'поселок Левашово', 'поселок Ленинское', 'поселок Лесное',\n",
       "       'поселок Лисий Нос', 'поселок Лукаши', 'поселок Любань',\n",
       "       'поселок Мельниково', 'поселок Металлострой',\n",
       "       'поселок Мичуринское', 'поселок Молодцово', 'поселок Молодёжное',\n",
       "       'поселок Мурино', 'поселок Мыза-Ивановка', 'поселок Новогорелово',\n",
       "       'поселок Новый Свет', 'поселок Новый Учхоз', 'поселок Оредеж',\n",
       "       'поселок Пансионат Зелёный Бор', 'поселок Парголово',\n",
       "       'поселок Первомайское', 'поселок Перово', 'поселок Песочный',\n",
       "       'поселок Петро-Славянка', 'поселок Петровское',\n",
       "       'поселок Платформа 69-й километр', 'поселок Плодовое',\n",
       "       'поселок Плоское', 'поселок Победа', 'поселок Поляны',\n",
       "       'поселок Понтонный', 'поселок Почап', 'поселок Починок',\n",
       "       'поселок Пригородный', 'поселок Пудость', 'поселок Пушное',\n",
       "       'поселок Пчевжа', 'поселок Рабитицы', 'поселок Репино',\n",
       "       'поселок Романовка', 'поселок Ромашки', 'поселок Ропша',\n",
       "       'поселок Рябово', 'поселок Сапёрное', 'поселок Сапёрный',\n",
       "       'поселок Севастьяново', 'поселок Селезнёво', 'поселок Сельцо',\n",
       "       'поселок Семиозерье', 'поселок Семрино', 'поселок Серебрянский',\n",
       "       'поселок Совхозный', 'поселок Сосново', 'поселок Старая Малукса',\n",
       "       'поселок Стеклянный', 'поселок Стрельна', 'поселок Суйда',\n",
       "       'поселок Сумино', 'поселок Суходолье', 'поселок Тельмана',\n",
       "       'поселок Терволово', 'поселок Торковичи', 'поселок Торфяное',\n",
       "       'поселок Тёсово-4', 'поселок Углово', 'поселок Усть-Ижора',\n",
       "       'поселок Усть-Луга', 'поселок Ушаки', 'поселок Форт Красная Горка',\n",
       "       'поселок Цвелодубово', 'поселок Цвылёво', 'поселок Шугозеро',\n",
       "       'поселок Шушары', 'поселок Щеглово',\n",
       "       'поселок городского типа Большая Ижора',\n",
       "       'поселок городского типа Важины',\n",
       "       'поселок городского типа Вознесенье',\n",
       "       'поселок городского типа Вырица',\n",
       "       'поселок городского типа Дружная Горка',\n",
       "       'поселок городского типа Дубровка',\n",
       "       'поселок городского типа Ефимовский',\n",
       "       'поселок городского типа Кондратьево',\n",
       "       'поселок городского типа Красный Бор',\n",
       "       'поселок городского типа Кузнечное',\n",
       "       'поселок городского типа Кузьмоловский',\n",
       "       'поселок городского типа Лебяжье',\n",
       "       'поселок городского типа Лесогорский',\n",
       "       'поселок городского типа Мга', 'поселок городского типа Назия',\n",
       "       'поселок городского типа Никольский',\n",
       "       'поселок городского типа Павлово',\n",
       "       'поселок городского типа Приладожский',\n",
       "       'поселок городского типа Рахья', 'поселок городского типа Рощино',\n",
       "       'поселок городского типа Рябово',\n",
       "       'поселок городского типа Сиверский',\n",
       "       'поселок городского типа Синявино',\n",
       "       'поселок городского типа Советский',\n",
       "       'поселок городского типа Тайцы', 'поселок городского типа Токсово',\n",
       "       'поселок городского типа Ульяновка',\n",
       "       'поселок городского типа Форносово',\n",
       "       'поселок городского типа имени Морозова',\n",
       "       'поселок городского типа имени Свердлова',\n",
       "       'поселок при железнодорожной станции Вещево',\n",
       "       'поселок при железнодорожной станции Приветнинское',\n",
       "       'поселок станции Вещево', 'поселок станции Громово',\n",
       "       'поселок станции Корнево', 'поселок станции Лужайка',\n",
       "       'поселок станции Приветнинское', 'поселок станции Свирь'],\n",
       "      dtype=object)"
      ]
     },
     "execution_count": 21,
     "metadata": {},
     "output_type": "execute_result"
    }
   ],
   "source": [
    "df[df['locality_name'].str.find('поселок') > -1]['locality_name'].sort_values(ascending=True).unique()"
   ]
  },
  {
   "cell_type": "markdown",
   "metadata": {},
   "source": [
    "Выявились неявные дубликаты: одни и те же населенные пункты, обозначенные как \"городской поселок\" и \"поселок городского типа\" (например, \"городской поселок Большая Ижора\" и \"поселок городского типа Большая Ижора\").\n",
    "\n",
    "Заменим в названиях населенных пунктов \"городской поселок\" на \"поселок городского типа\"."
   ]
  },
  {
   "cell_type": "code",
   "execution_count": 22,
   "metadata": {
    "scrolled": true
   },
   "outputs": [],
   "source": [
    "df.loc[df['locality_name'].str.find('городской поселок')> -1 ,'locality_name'] = df[df['locality_name'].str.find('городской поселок')> -1]['locality_name'].str.replace('городской поселок','поселок городского типа')"
   ]
  },
  {
   "cell_type": "code",
   "execution_count": 23,
   "metadata": {},
   "outputs": [
    {
     "data": {
      "text/plain": [
       "2660"
      ]
     },
     "execution_count": 23,
     "metadata": {},
     "output_type": "execute_result"
    }
   ],
   "source": [
    "df[df['locality_name'].str.find('поселок') > -1]['locality_name'].count()"
   ]
  },
  {
   "cell_type": "markdown",
   "metadata": {},
   "source": [
    "Данные со словом \"поселок\" приведены в порядок.\n",
    "\n",
    "Теперь проверим остальные названия в столбце 'locality_name' (без слова \"поселок\")."
   ]
  },
  {
   "cell_type": "code",
   "execution_count": 24,
   "metadata": {},
   "outputs": [
    {
     "data": {
      "text/plain": [
       "array(['Бокситогорск', 'Волосово', 'Волхов', 'Всеволожск', 'Выборг',\n",
       "       'Высоцк', 'Гатчина', 'Зеленогорск', 'Ивангород', 'Каменногорск',\n",
       "       'Кингисепп', 'Кириши', 'Кировск', 'Колпино', 'Коммунар',\n",
       "       'Красное Село', 'Кронштадт', 'Кудрово', 'Лодейное Поле',\n",
       "       'Ломоносов', 'Луга', 'Любань', 'Мурино', 'Никольское',\n",
       "       'Новая Ладога', 'Отрадное', 'Павловск', 'Петергоф', 'Пикалёво',\n",
       "       'Подпорожье', 'Приморск', 'Приозерск', 'Пушкин', 'Санкт-Петербург',\n",
       "       'Светогорск', 'Сертолово', 'Сестрорецк', 'Сланцы', 'Сосновый Бор',\n",
       "       'Сясьстрой', 'Тихвин', 'Тосно', 'Шлиссельбург',\n",
       "       'деревня Агалатово', 'деревня Аро', 'деревня Батово',\n",
       "       'деревня Бегуницы', 'деревня Белогорка', 'деревня Большая Вруда',\n",
       "       'деревня Большая Пустомержа', 'деревня Большие Колпаны',\n",
       "       'деревня Большое Рейзино', 'деревня Большой Сабск', 'деревня Бор',\n",
       "       'деревня Борисова Грива', 'деревня Ваганово', 'деревня Вартемяги',\n",
       "       'деревня Вахнова Кара', 'деревня Выскатка', 'деревня Гарболово',\n",
       "       'деревня Глинка', 'деревня Горбунки', 'деревня Гостилицы',\n",
       "       'деревня Заклинье', 'деревня Заневка', 'деревня Зимитицы',\n",
       "       'деревня Извара', 'деревня Иссад', 'деревня Калитино',\n",
       "       'деревня Кальтино', 'деревня Камышовка', 'деревня Каськово',\n",
       "       'деревня Келози', 'деревня Кипень', 'деревня Кисельня',\n",
       "       'деревня Колтуши', 'деревня Коркино', 'деревня Котлы',\n",
       "       'деревня Кривко', 'деревня Кудрово', 'деревня Кузьмолово',\n",
       "       'деревня Курковицы', 'деревня Куровицы', 'деревня Куттузи',\n",
       "       'деревня Лаврики', 'деревня Лаголово', 'деревня Лампово',\n",
       "       'деревня Лесколово', 'деревня Лопухинка', 'деревня Лупполово',\n",
       "       'деревня Малая Романовка', 'деревня Малое Верево',\n",
       "       'деревня Малое Карлино', 'деревня Малые Колпаны',\n",
       "       'деревня Мануйлово', 'деревня Меньково', 'деревня Мины',\n",
       "       'деревня Мистолово', 'деревня Ненимяки', 'деревня Нижние Осельки',\n",
       "       'деревня Нижняя', 'деревня Низино', 'деревня Новое Девяткино',\n",
       "       'деревня Новолисино', 'деревня Нурма', 'деревня Оржицы',\n",
       "       'деревня Парицы', 'деревня Пельгора', 'деревня Пеники',\n",
       "       'деревня Пижма', 'деревня Пикколово', 'деревня Пудомяги',\n",
       "       'деревня Пустынка', 'деревня Пчева', 'деревня Рабитицы',\n",
       "       'деревня Разбегаево', 'деревня Раздолье', 'деревня Разметелево',\n",
       "       'деревня Рапполово', 'деревня Реброво', 'деревня Русско',\n",
       "       'деревня Сижно', 'деревня Снегирёвка', 'деревня Старая',\n",
       "       'деревня Старая Пустошь', 'деревня Старое Хинколово',\n",
       "       'деревня Старополье', 'деревня Старосиверская',\n",
       "       'деревня Старые Бегуницы', 'деревня Суоранда',\n",
       "       'деревня Сяськелево', 'деревня Тарасово', 'деревня Терпилицы',\n",
       "       'деревня Тихковицы', 'деревня Тойворово', 'деревня Торосово',\n",
       "       'деревня Торошковичи', 'деревня Трубников Бор',\n",
       "       'деревня Фалилеево', 'деревня Фёдоровское', 'деревня Хапо-Ое',\n",
       "       'деревня Хязельки', 'деревня Чудской Бор', 'деревня Шпаньково',\n",
       "       'деревня Щеглово', 'деревня Юкки', 'деревня Ялгино',\n",
       "       'деревня Яльгелево', 'деревня Ям-Тесово',\n",
       "       'садоводческое некоммерческое товарищество Лесная Поляна',\n",
       "       'садовое товарищество Новая Ропша',\n",
       "       'садовое товарищество Приладожский', 'садовое товарищество Рахья',\n",
       "       'садовое товарищество Садко', 'село Копорье', 'село Никольское',\n",
       "       'село Павлово', 'село Паша', 'село Путилово', 'село Рождествено',\n",
       "       'село Русско-Высоцкое', 'село Старая Ладога', 'село Шум'],\n",
       "      dtype=object)"
      ]
     },
     "execution_count": 24,
     "metadata": {},
     "output_type": "execute_result"
    }
   ],
   "source": [
    "df[df['locality_name'].str.find('поселок') == -1]['locality_name'].sort_values(ascending = True).unique()"
   ]
  },
  {
   "cell_type": "markdown",
   "metadata": {},
   "source": [
    "Неявных дубликатов в названиях населенных пунктов больше не выявлено."
   ]
  },
  {
   "cell_type": "markdown",
   "metadata": {},
   "source": [
    "### 2.4. Заполнение пропусков и проверка на аномалии и выбросы"
   ]
  },
  {
   "cell_type": "markdown",
   "metadata": {},
   "source": [
    "Теперь рассмотрим колонку <b>'ceiling_height'</b>. Первичный обзор данных показал, что в ней есть пропуски. "
   ]
  },
  {
   "cell_type": "code",
   "execution_count": 25,
   "metadata": {},
   "outputs": [
    {
     "data": {
      "text/plain": [
       "38.73"
      ]
     },
     "execution_count": 25,
     "metadata": {},
     "output_type": "execute_result"
    }
   ],
   "source": [
    "round (df['ceiling_height'].isna().mean() * 100, 2)"
   ]
  },
  {
   "cell_type": "markdown",
   "metadata": {},
   "source": [
    "Пропусков достаточно много - 38.73%. Скорее всего, это ошибка выгрузки данных.\n",
    "\n",
    "Пропуски заполним индикаторным значением значением 0, которое будет означать, что данные по высоте потолка не были заполнены."
   ]
  },
  {
   "cell_type": "code",
   "execution_count": 26,
   "metadata": {},
   "outputs": [],
   "source": [
    "df['ceiling_height'] = df['ceiling_height'].fillna(0)"
   ]
  },
  {
   "cell_type": "code",
   "execution_count": 27,
   "metadata": {},
   "outputs": [
    {
     "data": {
      "text/plain": [
       "0.0"
      ]
     },
     "execution_count": 27,
     "metadata": {},
     "output_type": "execute_result"
    }
   ],
   "source": [
    "round (df['ceiling_height'].isna().median() * 100, 2)"
   ]
  },
  {
   "cell_type": "markdown",
   "metadata": {},
   "source": [
    "Пропуски заполнены."
   ]
  },
  {
   "cell_type": "markdown",
   "metadata": {},
   "source": [
    "Выведем уникальные значения колонки 'ceiling_height'."
   ]
  },
  {
   "cell_type": "code",
   "execution_count": 28,
   "metadata": {},
   "outputs": [
    {
     "data": {
      "text/plain": [
       "array([  0.  ,   1.  ,   1.2 ,   1.75,   2.  ,   2.2 ,   2.25,   2.3 ,\n",
       "         2.34,   2.4 ,   2.45,   2.46,   2.47,   2.48,   2.49,   2.5 ,\n",
       "         2.51,   2.52,   2.53,   2.54,   2.55,   2.56,   2.57,   2.58,\n",
       "         2.59,   2.6 ,   2.61,   2.62,   2.63,   2.64,   2.65,   2.66,\n",
       "         2.67,   2.68,   2.69,   2.7 ,   2.71,   2.72,   2.73,   2.74,\n",
       "         2.75,   2.76,   2.77,   2.78,   2.79,   2.8 ,   2.81,   2.82,\n",
       "         2.83,   2.84,   2.85,   2.86,   2.87,   2.88,   2.89,   2.9 ,\n",
       "         2.91,   2.92,   2.93,   2.94,   2.95,   2.96,   2.97,   2.98,\n",
       "         2.99,   3.  ,   3.01,   3.02,   3.03,   3.04,   3.05,   3.06,\n",
       "         3.07,   3.08,   3.09,   3.1 ,   3.11,   3.12,   3.13,   3.14,\n",
       "         3.15,   3.16,   3.17,   3.18,   3.2 ,   3.21,   3.22,   3.23,\n",
       "         3.24,   3.25,   3.26,   3.27,   3.28,   3.29,   3.3 ,   3.31,\n",
       "         3.32,   3.33,   3.34,   3.35,   3.36,   3.37,   3.38,   3.39,\n",
       "         3.4 ,   3.42,   3.43,   3.44,   3.45,   3.46,   3.47,   3.48,\n",
       "         3.49,   3.5 ,   3.51,   3.52,   3.53,   3.54,   3.55,   3.56,\n",
       "         3.57,   3.58,   3.59,   3.6 ,   3.62,   3.63,   3.65,   3.66,\n",
       "         3.67,   3.68,   3.69,   3.7 ,   3.75,   3.76,   3.78,   3.8 ,\n",
       "         3.82,   3.83,   3.84,   3.85,   3.86,   3.87,   3.88,   3.9 ,\n",
       "         3.93,   3.95,   3.98,   4.  ,   4.06,   4.1 ,   4.14,   4.15,\n",
       "         4.19,   4.2 ,   4.25,   4.3 ,   4.37,   4.4 ,   4.45,   4.5 ,\n",
       "         4.65,   4.7 ,   4.8 ,   4.9 ,   5.  ,   5.2 ,   5.3 ,   5.5 ,\n",
       "         5.6 ,   5.8 ,   6.  ,   8.  ,   8.3 ,  10.3 ,  14.  ,  20.  ,\n",
       "        22.6 ,  24.  ,  25.  ,  26.  ,  27.  ,  27.5 ,  32.  , 100.  ])"
      ]
     },
     "execution_count": 28,
     "metadata": {},
     "output_type": "execute_result"
    }
   ],
   "source": [
    "df['ceiling_height'].sort_values(ascending = False).sort_values(ascending = True).unique()"
   ]
  },
  {
   "cell_type": "markdown",
   "metadata": {},
   "source": [
    "Минимальной нормой высоты потолков в жилых помещениях является 2.4 м, максимальной до 10 м (например, у двухуровневых квартир). Проверим, какова доля данных, не укладывающихся в эту норму. (Высоту потолка со значением 0 не учитываем, т.к. это неизвестная высота потолка)"
   ]
  },
  {
   "cell_type": "code",
   "execution_count": 29,
   "metadata": {},
   "outputs": [
    {
     "data": {
      "text/plain": [
       "0.19"
      ]
     },
     "execution_count": 29,
     "metadata": {},
     "output_type": "execute_result"
    }
   ],
   "source": [
    "round(df[(df['ceiling_height'] != 0) & ((df['ceiling_height'] < 2.4) | (df['ceiling_height'] > 10))]['ceiling_height'].count() / len(df) * 100, 2)"
   ]
  },
  {
   "cell_type": "markdown",
   "metadata": {},
   "source": [
    "Доля ошибочных данных небольшая - 0.19%. \n",
    "\n",
    "Высота от 24 м могла быть введена по ошибке. Проверим строки с такой высотой."
   ]
  },
  {
   "cell_type": "code",
   "execution_count": 30,
   "metadata": {},
   "outputs": [
    {
     "data": {
      "text/html": [
       "<div>\n",
       "<style scoped>\n",
       "    .dataframe tbody tr th:only-of-type {\n",
       "        vertical-align: middle;\n",
       "    }\n",
       "\n",
       "    .dataframe tbody tr th {\n",
       "        vertical-align: top;\n",
       "    }\n",
       "\n",
       "    .dataframe thead th {\n",
       "        text-align: right;\n",
       "    }\n",
       "</style>\n",
       "<table border=\"1\" class=\"dataframe\">\n",
       "  <thead>\n",
       "    <tr style=\"text-align: right;\">\n",
       "      <th></th>\n",
       "      <th>total_images</th>\n",
       "      <th>last_price</th>\n",
       "      <th>total_area</th>\n",
       "      <th>first_day_exposition</th>\n",
       "      <th>rooms</th>\n",
       "      <th>ceiling_height</th>\n",
       "      <th>floors_total</th>\n",
       "      <th>living_area</th>\n",
       "      <th>floor</th>\n",
       "      <th>is_apartment</th>\n",
       "      <th>...</th>\n",
       "      <th>kitchen_area</th>\n",
       "      <th>balcony</th>\n",
       "      <th>locality_name</th>\n",
       "      <th>airports_nearest</th>\n",
       "      <th>city_сenters_nearest</th>\n",
       "      <th>parks_around3000</th>\n",
       "      <th>parks_nearest</th>\n",
       "      <th>ponds_around3000</th>\n",
       "      <th>ponds_nearest</th>\n",
       "      <th>days_exposition</th>\n",
       "    </tr>\n",
       "  </thead>\n",
       "  <tbody>\n",
       "    <tr>\n",
       "      <th>355</th>\n",
       "      <td>17</td>\n",
       "      <td>3600000.0</td>\n",
       "      <td>55.2</td>\n",
       "      <td>2018-07-12T00:00:00</td>\n",
       "      <td>2</td>\n",
       "      <td>25.0</td>\n",
       "      <td>5.0</td>\n",
       "      <td>32.0</td>\n",
       "      <td>2</td>\n",
       "      <td>False</td>\n",
       "      <td>...</td>\n",
       "      <td>NaN</td>\n",
       "      <td>2.0</td>\n",
       "      <td>Гатчина</td>\n",
       "      <td>NaN</td>\n",
       "      <td>NaN</td>\n",
       "      <td>NaN</td>\n",
       "      <td>NaN</td>\n",
       "      <td>NaN</td>\n",
       "      <td>NaN</td>\n",
       "      <td>259.0</td>\n",
       "    </tr>\n",
       "    <tr>\n",
       "      <th>3144</th>\n",
       "      <td>14</td>\n",
       "      <td>2900000.0</td>\n",
       "      <td>75.0</td>\n",
       "      <td>2018-11-12T00:00:00</td>\n",
       "      <td>3</td>\n",
       "      <td>32.0</td>\n",
       "      <td>3.0</td>\n",
       "      <td>53.0</td>\n",
       "      <td>2</td>\n",
       "      <td>NaN</td>\n",
       "      <td>...</td>\n",
       "      <td>8.0</td>\n",
       "      <td>NaN</td>\n",
       "      <td>Волхов</td>\n",
       "      <td>NaN</td>\n",
       "      <td>NaN</td>\n",
       "      <td>NaN</td>\n",
       "      <td>NaN</td>\n",
       "      <td>NaN</td>\n",
       "      <td>NaN</td>\n",
       "      <td>NaN</td>\n",
       "    </tr>\n",
       "    <tr>\n",
       "      <th>4636</th>\n",
       "      <td>0</td>\n",
       "      <td>4300000.0</td>\n",
       "      <td>45.0</td>\n",
       "      <td>2018-02-01T00:00:00</td>\n",
       "      <td>2</td>\n",
       "      <td>25.0</td>\n",
       "      <td>9.0</td>\n",
       "      <td>30.0</td>\n",
       "      <td>2</td>\n",
       "      <td>NaN</td>\n",
       "      <td>...</td>\n",
       "      <td>7.0</td>\n",
       "      <td>1.0</td>\n",
       "      <td>Санкт-Петербург</td>\n",
       "      <td>12016.0</td>\n",
       "      <td>13256.0</td>\n",
       "      <td>1.0</td>\n",
       "      <td>658.0</td>\n",
       "      <td>1.0</td>\n",
       "      <td>331.0</td>\n",
       "      <td>181.0</td>\n",
       "    </tr>\n",
       "    <tr>\n",
       "      <th>4868</th>\n",
       "      <td>7</td>\n",
       "      <td>3000000.0</td>\n",
       "      <td>25.0</td>\n",
       "      <td>2017-09-27T00:00:00</td>\n",
       "      <td>0</td>\n",
       "      <td>27.0</td>\n",
       "      <td>25.0</td>\n",
       "      <td>17.0</td>\n",
       "      <td>17</td>\n",
       "      <td>NaN</td>\n",
       "      <td>...</td>\n",
       "      <td>NaN</td>\n",
       "      <td>2.0</td>\n",
       "      <td>поселок Мурино</td>\n",
       "      <td>NaN</td>\n",
       "      <td>NaN</td>\n",
       "      <td>NaN</td>\n",
       "      <td>NaN</td>\n",
       "      <td>NaN</td>\n",
       "      <td>NaN</td>\n",
       "      <td>28.0</td>\n",
       "    </tr>\n",
       "    <tr>\n",
       "      <th>5068</th>\n",
       "      <td>0</td>\n",
       "      <td>3850000.0</td>\n",
       "      <td>30.5</td>\n",
       "      <td>2018-10-03T00:00:00</td>\n",
       "      <td>1</td>\n",
       "      <td>24.0</td>\n",
       "      <td>5.0</td>\n",
       "      <td>19.5</td>\n",
       "      <td>1</td>\n",
       "      <td>True</td>\n",
       "      <td>...</td>\n",
       "      <td>5.5</td>\n",
       "      <td>NaN</td>\n",
       "      <td>Санкт-Петербург</td>\n",
       "      <td>29686.0</td>\n",
       "      <td>8389.0</td>\n",
       "      <td>3.0</td>\n",
       "      <td>397.0</td>\n",
       "      <td>1.0</td>\n",
       "      <td>578.0</td>\n",
       "      <td>7.0</td>\n",
       "    </tr>\n",
       "  </tbody>\n",
       "</table>\n",
       "<p>5 rows × 22 columns</p>\n",
       "</div>"
      ],
      "text/plain": [
       "      total_images  last_price  total_area first_day_exposition  rooms  \\\n",
       "355             17   3600000.0        55.2  2018-07-12T00:00:00      2   \n",
       "3144            14   2900000.0        75.0  2018-11-12T00:00:00      3   \n",
       "4636             0   4300000.0        45.0  2018-02-01T00:00:00      2   \n",
       "4868             7   3000000.0        25.0  2017-09-27T00:00:00      0   \n",
       "5068             0   3850000.0        30.5  2018-10-03T00:00:00      1   \n",
       "\n",
       "      ceiling_height  floors_total  living_area  floor is_apartment  ...  \\\n",
       "355             25.0           5.0         32.0      2        False  ...   \n",
       "3144            32.0           3.0         53.0      2          NaN  ...   \n",
       "4636            25.0           9.0         30.0      2          NaN  ...   \n",
       "4868            27.0          25.0         17.0     17          NaN  ...   \n",
       "5068            24.0           5.0         19.5      1         True  ...   \n",
       "\n",
       "      kitchen_area  balcony    locality_name  airports_nearest  \\\n",
       "355            NaN      2.0          Гатчина               NaN   \n",
       "3144           8.0      NaN           Волхов               NaN   \n",
       "4636           7.0      1.0  Санкт-Петербург           12016.0   \n",
       "4868           NaN      2.0   поселок Мурино               NaN   \n",
       "5068           5.5      NaN  Санкт-Петербург           29686.0   \n",
       "\n",
       "     city_сenters_nearest  parks_around3000  parks_nearest  ponds_around3000  \\\n",
       "355                   NaN               NaN            NaN               NaN   \n",
       "3144                  NaN               NaN            NaN               NaN   \n",
       "4636              13256.0               1.0          658.0               1.0   \n",
       "4868                  NaN               NaN            NaN               NaN   \n",
       "5068               8389.0               3.0          397.0               1.0   \n",
       "\n",
       "      ponds_nearest  days_exposition  \n",
       "355             NaN            259.0  \n",
       "3144            NaN              NaN  \n",
       "4636          331.0            181.0  \n",
       "4868            NaN             28.0  \n",
       "5068          578.0              7.0  \n",
       "\n",
       "[5 rows x 22 columns]"
      ]
     },
     "execution_count": 30,
     "metadata": {},
     "output_type": "execute_result"
    }
   ],
   "source": [
    "df[df['ceiling_height'] >= 24].head()"
   ]
  },
  {
   "cell_type": "markdown",
   "metadata": {},
   "source": [
    "Данные с высотой потолка от 24 м каких-либо других аномальных значений не содержат, так что, скорее всего, действительно, в значении 'ceiling_height' опечатка.\n",
    "\n",
    "Сделаем поправку, разделим высоту потолка от 24 м  на 10."
   ]
  },
  {
   "cell_type": "code",
   "execution_count": 31,
   "metadata": {},
   "outputs": [],
   "source": [
    "df.loc[df['ceiling_height'] >= 24,'ceiling_height'] = df.loc[(df['ceiling_height'] >= 24),'ceiling_height'] / 10"
   ]
  },
  {
   "cell_type": "markdown",
   "metadata": {},
   "source": [
    "Проверим долю аномальных данных."
   ]
  },
  {
   "cell_type": "code",
   "execution_count": 32,
   "metadata": {
    "scrolled": true
   },
   "outputs": [
    {
     "data": {
      "text/plain": [
       "0.11"
      ]
     },
     "execution_count": 32,
     "metadata": {},
     "output_type": "execute_result"
    }
   ],
   "source": [
    "round(df[(df['ceiling_height'] != 0) & ((df['ceiling_height'] < 2.4) | (df['ceiling_height'] > 10))]['ceiling_height'].count() / len(df) * 100, 2)"
   ]
  },
  {
   "cell_type": "markdown",
   "metadata": {},
   "source": [
    "Доля аномальных значений очень мала, составляет 0.11%, строки с ними можно удалить. Сделаем это после проверки всех данных."
   ]
  },
  {
   "cell_type": "markdown",
   "metadata": {},
   "source": [
    "Выведем долю пропусков в колонке <b>'floors_total'<b/>. "
   ]
  },
  {
   "cell_type": "code",
   "execution_count": 33,
   "metadata": {
    "scrolled": true
   },
   "outputs": [
    {
     "data": {
      "text/plain": [
       "0.36"
      ]
     },
     "execution_count": 33,
     "metadata": {},
     "output_type": "execute_result"
    }
   ],
   "source": [
    "round(df['floors_total'].isna().mean() * 100,2)"
   ]
  },
  {
   "cell_type": "markdown",
   "metadata": {},
   "source": [
    "Доля пропусков в колонке 'floors_total' составляет всего 0.36%. Это данные, которые вводились пользователями. Их отсутствие, скорее всего, можно объяснить тем, что пользователь просто не указал число этажей в доме.\n",
    "\n",
    "Число этажей является выжным параметром для исследования, поэтому лучше удалить данные с пропусками в этой колонке. "
   ]
  },
  {
   "cell_type": "code",
   "execution_count": 34,
   "metadata": {},
   "outputs": [
    {
     "data": {
      "text/plain": [
       "0.0"
      ]
     },
     "execution_count": 34,
     "metadata": {},
     "output_type": "execute_result"
    }
   ],
   "source": [
    "df = df.dropna(subset = ['floors_total']).reset_index(drop = True)\n",
    "round(df['floors_total'].isna().mean() * 100,2)"
   ]
  },
  {
   "cell_type": "markdown",
   "metadata": {},
   "source": [
    "Пропусков в колонке 'floors_total' больше нет."
   ]
  },
  {
   "cell_type": "markdown",
   "metadata": {},
   "source": [
    "Посмотрим, какие уникальные значения есть в колонке 'floors_total'."
   ]
  },
  {
   "cell_type": "code",
   "execution_count": 35,
   "metadata": {},
   "outputs": [
    {
     "data": {
      "text/plain": [
       "array([ 1.,  2.,  3.,  4.,  5.,  6.,  7.,  8.,  9., 10., 11., 12., 13.,\n",
       "       14., 15., 16., 17., 18., 19., 20., 21., 22., 23., 24., 25., 26.,\n",
       "       27., 28., 29., 33., 34., 35., 36., 37., 52., 60.])"
      ]
     },
     "execution_count": 35,
     "metadata": {},
     "output_type": "execute_result"
    }
   ],
   "source": [
    "df['floors_total'].sort_values(ascending = True).unique()"
   ]
  },
  {
   "cell_type": "markdown",
   "metadata": {},
   "source": [
    "Согласно информации об этажности жилых домов в Санкт-Петербурге и Ленинградской области(https://dominfospb.ru/doma-po-etazham и https://lenobldoma.ru/doma-po-etazham-) максимальное количество этажей жилых домов - 36."
   ]
  },
  {
   "cell_type": "code",
   "execution_count": 36,
   "metadata": {},
   "outputs": [
    {
     "data": {
      "text/plain": [
       "60.0    1\n",
       "52.0    1\n",
       "37.0    1\n",
       "Name: floors_total, dtype: int64"
      ]
     },
     "execution_count": 36,
     "metadata": {},
     "output_type": "execute_result"
    }
   ],
   "source": [
    "df[df['floors_total'] >36 ]['floors_total'].value_counts()"
   ]
  },
  {
   "cell_type": "markdown",
   "metadata": {},
   "source": [
    "Данных с аномальными значениями - всего 2 строки. Их можно удалить. Удаление проведем после проверки всех данных."
   ]
  },
  {
   "cell_type": "markdown",
   "metadata": {},
   "source": [
    "Проверим колонку <b>'floor'</b>. "
   ]
  },
  {
   "cell_type": "code",
   "execution_count": 37,
   "metadata": {
    "scrolled": true
   },
   "outputs": [
    {
     "data": {
      "text/plain": [
       "count    23565.000000\n",
       "mean         5.878124\n",
       "std          4.871485\n",
       "min          1.000000\n",
       "25%          2.000000\n",
       "50%          4.000000\n",
       "75%          8.000000\n",
       "max         33.000000\n",
       "Name: floor, dtype: float64"
      ]
     },
     "execution_count": 37,
     "metadata": {},
     "output_type": "execute_result"
    }
   ],
   "source": [
    "df['floor'].describe()"
   ]
  },
  {
   "cell_type": "markdown",
   "metadata": {},
   "source": [
    "В колонке нет аномальных значений согласно вызову метода describe() и нет пропусков согласно первичному обзору данных."
   ]
  },
  {
   "cell_type": "markdown",
   "metadata": {},
   "source": [
    "Проверим колонку <b>'rooms'</b>."
   ]
  },
  {
   "cell_type": "code",
   "execution_count": 38,
   "metadata": {
    "scrolled": true
   },
   "outputs": [
    {
     "data": {
      "text/plain": [
       "count    23565.000000\n",
       "mean         2.070656\n",
       "std          1.078591\n",
       "min          0.000000\n",
       "25%          1.000000\n",
       "50%          2.000000\n",
       "75%          3.000000\n",
       "max         19.000000\n",
       "Name: rooms, dtype: float64"
      ]
     },
     "execution_count": 38,
     "metadata": {},
     "output_type": "execute_result"
    }
   ],
   "source": [
    "df['rooms'].describe()"
   ]
  },
  {
   "cell_type": "markdown",
   "metadata": {},
   "source": [
    "Согласно первичному обзору данных в колонке 'rooms' пропусков нет.\n",
    "\n",
    "Есть данные по квартирам с количеством комнат 0. Возможно, это студии или квартиры со свободной планировкой. Проверим это.\n",
    "\n",
    "Посчитаем число строк со значением 0 в колонке 'rooms'. "
   ]
  },
  {
   "cell_type": "code",
   "execution_count": 39,
   "metadata": {
    "scrolled": true
   },
   "outputs": [
    {
     "data": {
      "text/plain": [
       "194"
      ]
     },
     "execution_count": 39,
     "metadata": {},
     "output_type": "execute_result"
    }
   ],
   "source": [
    "df[df['rooms']==0]['rooms'].count()"
   ]
  },
  {
   "cell_type": "markdown",
   "metadata": {},
   "source": [
    "Посчитаем число студий со значением 0 в колонке 'rooms'."
   ]
  },
  {
   "cell_type": "code",
   "execution_count": 40,
   "metadata": {},
   "outputs": [
    {
     "data": {
      "text/plain": [
       "135"
      ]
     },
     "execution_count": 40,
     "metadata": {},
     "output_type": "execute_result"
    }
   ],
   "source": [
    "df[(df['rooms']==0)&(df['studio'])]['rooms'].count()"
   ]
  },
  {
   "cell_type": "markdown",
   "metadata": {},
   "source": [
    "Посчитаем число квартир со свободной планировкой со значением 0 в колонке 'rooms'."
   ]
  },
  {
   "cell_type": "code",
   "execution_count": 41,
   "metadata": {},
   "outputs": [
    {
     "data": {
      "text/plain": [
       "59"
      ]
     },
     "execution_count": 41,
     "metadata": {},
     "output_type": "execute_result"
    }
   ],
   "source": [
    "df[(df['rooms']==0)&(df['open_plan'])]['rooms'].count()"
   ]
  },
  {
   "cell_type": "markdown",
   "metadata": {},
   "source": [
    "Проверим,  может ли квартира быть одновременно студией и кватирой со свободной планировкой."
   ]
  },
  {
   "cell_type": "code",
   "execution_count": 42,
   "metadata": {},
   "outputs": [
    {
     "data": {
      "text/plain": [
       "0"
      ]
     },
     "execution_count": 42,
     "metadata": {},
     "output_type": "execute_result"
    }
   ],
   "source": [
    "df[df['open_plan']&df['studio']]['rooms'].count()"
   ]
  },
  {
   "cell_type": "markdown",
   "metadata": {},
   "source": [
    "Таких квартир среди наших данных нет. Поэтому все квартиры с числом комнат 0 - либо студии, либо квартиры со свободной планировкой (59+135=194). То есть число 0 в колонке 'rooms' не является аномалией. "
   ]
  },
  {
   "cell_type": "markdown",
   "metadata": {},
   "source": [
    "Проверим данные в колонке 'rooms'."
   ]
  },
  {
   "cell_type": "code",
   "execution_count": 43,
   "metadata": {},
   "outputs": [
    {
     "data": {
      "text/plain": [
       "count    23565.000000\n",
       "mean         2.070656\n",
       "std          1.078591\n",
       "min          0.000000\n",
       "25%          1.000000\n",
       "50%          2.000000\n",
       "75%          3.000000\n",
       "max         19.000000\n",
       "Name: rooms, dtype: float64"
      ]
     },
     "execution_count": 43,
     "metadata": {},
     "output_type": "execute_result"
    }
   ],
   "source": [
    "df['rooms'].describe()"
   ]
  },
  {
   "cell_type": "markdown",
   "metadata": {},
   "source": [
    "Проверим данные c большими значениями в колонке 'rooms'."
   ]
  },
  {
   "cell_type": "code",
   "execution_count": 44,
   "metadata": {},
   "outputs": [
    {
     "data": {
      "text/html": [
       "<div>\n",
       "<style scoped>\n",
       "    .dataframe tbody tr th:only-of-type {\n",
       "        vertical-align: middle;\n",
       "    }\n",
       "\n",
       "    .dataframe tbody tr th {\n",
       "        vertical-align: top;\n",
       "    }\n",
       "\n",
       "    .dataframe thead th {\n",
       "        text-align: right;\n",
       "    }\n",
       "</style>\n",
       "<table border=\"1\" class=\"dataframe\">\n",
       "  <thead>\n",
       "    <tr style=\"text-align: right;\">\n",
       "      <th></th>\n",
       "      <th>total_images</th>\n",
       "      <th>last_price</th>\n",
       "      <th>total_area</th>\n",
       "      <th>first_day_exposition</th>\n",
       "      <th>rooms</th>\n",
       "      <th>ceiling_height</th>\n",
       "      <th>floors_total</th>\n",
       "      <th>living_area</th>\n",
       "      <th>floor</th>\n",
       "      <th>is_apartment</th>\n",
       "      <th>...</th>\n",
       "      <th>kitchen_area</th>\n",
       "      <th>balcony</th>\n",
       "      <th>locality_name</th>\n",
       "      <th>airports_nearest</th>\n",
       "      <th>city_сenters_nearest</th>\n",
       "      <th>parks_around3000</th>\n",
       "      <th>parks_nearest</th>\n",
       "      <th>ponds_around3000</th>\n",
       "      <th>ponds_nearest</th>\n",
       "      <th>days_exposition</th>\n",
       "    </tr>\n",
       "  </thead>\n",
       "  <tbody>\n",
       "    <tr>\n",
       "      <th>645</th>\n",
       "      <td>3</td>\n",
       "      <td>17500000.0</td>\n",
       "      <td>183.7</td>\n",
       "      <td>2018-07-01T00:00:00</td>\n",
       "      <td>11</td>\n",
       "      <td>3.40</td>\n",
       "      <td>7.0</td>\n",
       "      <td>138.8</td>\n",
       "      <td>7</td>\n",
       "      <td>NaN</td>\n",
       "      <td>...</td>\n",
       "      <td>13.3</td>\n",
       "      <td>NaN</td>\n",
       "      <td>Санкт-Петербург</td>\n",
       "      <td>23606.0</td>\n",
       "      <td>3148.0</td>\n",
       "      <td>0.0</td>\n",
       "      <td>NaN</td>\n",
       "      <td>0.0</td>\n",
       "      <td>NaN</td>\n",
       "      <td>NaN</td>\n",
       "    </tr>\n",
       "    <tr>\n",
       "      <th>862</th>\n",
       "      <td>5</td>\n",
       "      <td>25000000.0</td>\n",
       "      <td>363.0</td>\n",
       "      <td>2017-12-23T00:00:00</td>\n",
       "      <td>14</td>\n",
       "      <td>3.16</td>\n",
       "      <td>5.0</td>\n",
       "      <td>222.0</td>\n",
       "      <td>4</td>\n",
       "      <td>NaN</td>\n",
       "      <td>...</td>\n",
       "      <td>16.6</td>\n",
       "      <td>NaN</td>\n",
       "      <td>Санкт-Петербург</td>\n",
       "      <td>38076.0</td>\n",
       "      <td>7950.0</td>\n",
       "      <td>0.0</td>\n",
       "      <td>NaN</td>\n",
       "      <td>2.0</td>\n",
       "      <td>435.0</td>\n",
       "      <td>418.0</td>\n",
       "    </tr>\n",
       "    <tr>\n",
       "      <th>4130</th>\n",
       "      <td>6</td>\n",
       "      <td>23000000.0</td>\n",
       "      <td>272.6</td>\n",
       "      <td>2018-01-11T00:00:00</td>\n",
       "      <td>10</td>\n",
       "      <td>3.14</td>\n",
       "      <td>7.0</td>\n",
       "      <td>145.9</td>\n",
       "      <td>7</td>\n",
       "      <td>NaN</td>\n",
       "      <td>...</td>\n",
       "      <td>18.8</td>\n",
       "      <td>1.0</td>\n",
       "      <td>Санкт-Петербург</td>\n",
       "      <td>10726.0</td>\n",
       "      <td>12169.0</td>\n",
       "      <td>1.0</td>\n",
       "      <td>191.0</td>\n",
       "      <td>1.0</td>\n",
       "      <td>531.0</td>\n",
       "      <td>NaN</td>\n",
       "    </tr>\n",
       "    <tr>\n",
       "      <th>5330</th>\n",
       "      <td>20</td>\n",
       "      <td>65000000.0</td>\n",
       "      <td>590.0</td>\n",
       "      <td>2019-02-14T00:00:00</td>\n",
       "      <td>15</td>\n",
       "      <td>3.50</td>\n",
       "      <td>6.0</td>\n",
       "      <td>409.0</td>\n",
       "      <td>3</td>\n",
       "      <td>NaN</td>\n",
       "      <td>...</td>\n",
       "      <td>100.0</td>\n",
       "      <td>NaN</td>\n",
       "      <td>Санкт-Петербург</td>\n",
       "      <td>24447.0</td>\n",
       "      <td>4666.0</td>\n",
       "      <td>1.0</td>\n",
       "      <td>767.0</td>\n",
       "      <td>0.0</td>\n",
       "      <td>NaN</td>\n",
       "      <td>14.0</td>\n",
       "    </tr>\n",
       "    <tr>\n",
       "      <th>8779</th>\n",
       "      <td>14</td>\n",
       "      <td>49968900.0</td>\n",
       "      <td>398.0</td>\n",
       "      <td>2017-07-12T00:00:00</td>\n",
       "      <td>9</td>\n",
       "      <td>3.00</td>\n",
       "      <td>2.0</td>\n",
       "      <td>160.1</td>\n",
       "      <td>1</td>\n",
       "      <td>False</td>\n",
       "      <td>...</td>\n",
       "      <td>41.0</td>\n",
       "      <td>NaN</td>\n",
       "      <td>Санкт-Петербург</td>\n",
       "      <td>17720.0</td>\n",
       "      <td>16722.0</td>\n",
       "      <td>3.0</td>\n",
       "      <td>471.0</td>\n",
       "      <td>2.0</td>\n",
       "      <td>440.0</td>\n",
       "      <td>471.0</td>\n",
       "    </tr>\n",
       "    <tr>\n",
       "      <th>8817</th>\n",
       "      <td>12</td>\n",
       "      <td>17000000.0</td>\n",
       "      <td>235.0</td>\n",
       "      <td>2018-07-14T00:00:00</td>\n",
       "      <td>9</td>\n",
       "      <td>3.00</td>\n",
       "      <td>6.0</td>\n",
       "      <td>NaN</td>\n",
       "      <td>3</td>\n",
       "      <td>NaN</td>\n",
       "      <td>...</td>\n",
       "      <td>NaN</td>\n",
       "      <td>NaN</td>\n",
       "      <td>Санкт-Петербург</td>\n",
       "      <td>24466.0</td>\n",
       "      <td>5034.0</td>\n",
       "      <td>1.0</td>\n",
       "      <td>346.0</td>\n",
       "      <td>0.0</td>\n",
       "      <td>NaN</td>\n",
       "      <td>90.0</td>\n",
       "    </tr>\n",
       "    <tr>\n",
       "      <th>9504</th>\n",
       "      <td>10</td>\n",
       "      <td>23500000.0</td>\n",
       "      <td>313.0</td>\n",
       "      <td>2017-02-13T00:00:00</td>\n",
       "      <td>9</td>\n",
       "      <td>3.20</td>\n",
       "      <td>6.0</td>\n",
       "      <td>179.2</td>\n",
       "      <td>5</td>\n",
       "      <td>NaN</td>\n",
       "      <td>...</td>\n",
       "      <td>13.2</td>\n",
       "      <td>NaN</td>\n",
       "      <td>Санкт-Петербург</td>\n",
       "      <td>38435.0</td>\n",
       "      <td>10138.0</td>\n",
       "      <td>1.0</td>\n",
       "      <td>146.0</td>\n",
       "      <td>0.0</td>\n",
       "      <td>NaN</td>\n",
       "      <td>NaN</td>\n",
       "    </tr>\n",
       "    <tr>\n",
       "      <th>9642</th>\n",
       "      <td>8</td>\n",
       "      <td>33000000.0</td>\n",
       "      <td>194.1</td>\n",
       "      <td>2017-02-07T00:00:00</td>\n",
       "      <td>11</td>\n",
       "      <td>3.43</td>\n",
       "      <td>5.0</td>\n",
       "      <td>129.0</td>\n",
       "      <td>2</td>\n",
       "      <td>NaN</td>\n",
       "      <td>...</td>\n",
       "      <td>11.9</td>\n",
       "      <td>NaN</td>\n",
       "      <td>Санкт-Петербург</td>\n",
       "      <td>21469.0</td>\n",
       "      <td>1015.0</td>\n",
       "      <td>1.0</td>\n",
       "      <td>686.0</td>\n",
       "      <td>2.0</td>\n",
       "      <td>66.0</td>\n",
       "      <td>813.0</td>\n",
       "    </tr>\n",
       "    <tr>\n",
       "      <th>12945</th>\n",
       "      <td>0</td>\n",
       "      <td>22250000.0</td>\n",
       "      <td>249.9</td>\n",
       "      <td>2019-04-23T00:00:00</td>\n",
       "      <td>9</td>\n",
       "      <td>3.20</td>\n",
       "      <td>5.0</td>\n",
       "      <td>157.0</td>\n",
       "      <td>5</td>\n",
       "      <td>NaN</td>\n",
       "      <td>...</td>\n",
       "      <td>12.4</td>\n",
       "      <td>NaN</td>\n",
       "      <td>Санкт-Петербург</td>\n",
       "      <td>10328.0</td>\n",
       "      <td>9987.0</td>\n",
       "      <td>2.0</td>\n",
       "      <td>352.0</td>\n",
       "      <td>0.0</td>\n",
       "      <td>NaN</td>\n",
       "      <td>NaN</td>\n",
       "    </tr>\n",
       "    <tr>\n",
       "      <th>13322</th>\n",
       "      <td>14</td>\n",
       "      <td>19500000.0</td>\n",
       "      <td>309.7</td>\n",
       "      <td>2016-02-03T00:00:00</td>\n",
       "      <td>9</td>\n",
       "      <td>0.00</td>\n",
       "      <td>5.0</td>\n",
       "      <td>199.0</td>\n",
       "      <td>5</td>\n",
       "      <td>NaN</td>\n",
       "      <td>...</td>\n",
       "      <td>14.3</td>\n",
       "      <td>0.0</td>\n",
       "      <td>Санкт-Петербург</td>\n",
       "      <td>10328.0</td>\n",
       "      <td>9987.0</td>\n",
       "      <td>2.0</td>\n",
       "      <td>352.0</td>\n",
       "      <td>0.0</td>\n",
       "      <td>NaN</td>\n",
       "      <td>468.0</td>\n",
       "    </tr>\n",
       "    <tr>\n",
       "      <th>14414</th>\n",
       "      <td>6</td>\n",
       "      <td>32250000.0</td>\n",
       "      <td>374.6</td>\n",
       "      <td>2018-06-09T00:00:00</td>\n",
       "      <td>19</td>\n",
       "      <td>0.00</td>\n",
       "      <td>5.0</td>\n",
       "      <td>264.5</td>\n",
       "      <td>2</td>\n",
       "      <td>NaN</td>\n",
       "      <td>...</td>\n",
       "      <td>27.6</td>\n",
       "      <td>NaN</td>\n",
       "      <td>Санкт-Петербург</td>\n",
       "      <td>19497.0</td>\n",
       "      <td>3574.0</td>\n",
       "      <td>0.0</td>\n",
       "      <td>NaN</td>\n",
       "      <td>2.0</td>\n",
       "      <td>548.0</td>\n",
       "      <td>114.0</td>\n",
       "    </tr>\n",
       "    <tr>\n",
       "      <th>15065</th>\n",
       "      <td>15</td>\n",
       "      <td>88000000.0</td>\n",
       "      <td>400.0</td>\n",
       "      <td>2019-03-27T00:00:00</td>\n",
       "      <td>9</td>\n",
       "      <td>2.50</td>\n",
       "      <td>2.0</td>\n",
       "      <td>250.0</td>\n",
       "      <td>1</td>\n",
       "      <td>NaN</td>\n",
       "      <td>...</td>\n",
       "      <td>50.0</td>\n",
       "      <td>NaN</td>\n",
       "      <td>Санкт-Петербург</td>\n",
       "      <td>24395.0</td>\n",
       "      <td>2725.0</td>\n",
       "      <td>2.0</td>\n",
       "      <td>315.0</td>\n",
       "      <td>1.0</td>\n",
       "      <td>578.0</td>\n",
       "      <td>NaN</td>\n",
       "    </tr>\n",
       "    <tr>\n",
       "      <th>16818</th>\n",
       "      <td>14</td>\n",
       "      <td>29000000.0</td>\n",
       "      <td>292.2</td>\n",
       "      <td>2017-01-12T00:00:00</td>\n",
       "      <td>9</td>\n",
       "      <td>3.35</td>\n",
       "      <td>5.0</td>\n",
       "      <td>225.9</td>\n",
       "      <td>4</td>\n",
       "      <td>NaN</td>\n",
       "      <td>...</td>\n",
       "      <td>32.9</td>\n",
       "      <td>1.0</td>\n",
       "      <td>Санкт-Петербург</td>\n",
       "      <td>24892.0</td>\n",
       "      <td>5162.0</td>\n",
       "      <td>2.0</td>\n",
       "      <td>263.0</td>\n",
       "      <td>0.0</td>\n",
       "      <td>NaN</td>\n",
       "      <td>825.0</td>\n",
       "    </tr>\n",
       "    <tr>\n",
       "      <th>18017</th>\n",
       "      <td>4</td>\n",
       "      <td>15500000.0</td>\n",
       "      <td>216.1</td>\n",
       "      <td>2016-07-04T00:00:00</td>\n",
       "      <td>10</td>\n",
       "      <td>3.15</td>\n",
       "      <td>5.0</td>\n",
       "      <td>161.4</td>\n",
       "      <td>2</td>\n",
       "      <td>NaN</td>\n",
       "      <td>...</td>\n",
       "      <td>19.8</td>\n",
       "      <td>0.0</td>\n",
       "      <td>Санкт-Петербург</td>\n",
       "      <td>24353.0</td>\n",
       "      <td>4921.0</td>\n",
       "      <td>1.0</td>\n",
       "      <td>368.0</td>\n",
       "      <td>0.0</td>\n",
       "      <td>NaN</td>\n",
       "      <td>11.0</td>\n",
       "    </tr>\n",
       "    <tr>\n",
       "      <th>18744</th>\n",
       "      <td>6</td>\n",
       "      <td>28500000.0</td>\n",
       "      <td>270.0</td>\n",
       "      <td>2015-03-02T00:00:00</td>\n",
       "      <td>16</td>\n",
       "      <td>3.00</td>\n",
       "      <td>4.0</td>\n",
       "      <td>180.0</td>\n",
       "      <td>4</td>\n",
       "      <td>NaN</td>\n",
       "      <td>...</td>\n",
       "      <td>13.0</td>\n",
       "      <td>1.0</td>\n",
       "      <td>Санкт-Петербург</td>\n",
       "      <td>23575.0</td>\n",
       "      <td>4142.0</td>\n",
       "      <td>1.0</td>\n",
       "      <td>516.0</td>\n",
       "      <td>0.0</td>\n",
       "      <td>NaN</td>\n",
       "      <td>1365.0</td>\n",
       "    </tr>\n",
       "    <tr>\n",
       "      <th>18787</th>\n",
       "      <td>11</td>\n",
       "      <td>40000000.0</td>\n",
       "      <td>290.0</td>\n",
       "      <td>2016-06-21T00:00:00</td>\n",
       "      <td>10</td>\n",
       "      <td>3.50</td>\n",
       "      <td>6.0</td>\n",
       "      <td>189.4</td>\n",
       "      <td>6</td>\n",
       "      <td>NaN</td>\n",
       "      <td>...</td>\n",
       "      <td>30.0</td>\n",
       "      <td>1.0</td>\n",
       "      <td>Санкт-Петербург</td>\n",
       "      <td>26229.0</td>\n",
       "      <td>4932.0</td>\n",
       "      <td>3.0</td>\n",
       "      <td>316.0</td>\n",
       "      <td>1.0</td>\n",
       "      <td>227.0</td>\n",
       "      <td>77.0</td>\n",
       "    </tr>\n",
       "    <tr>\n",
       "      <th>19431</th>\n",
       "      <td>8</td>\n",
       "      <td>420000000.0</td>\n",
       "      <td>900.0</td>\n",
       "      <td>2017-12-06T00:00:00</td>\n",
       "      <td>12</td>\n",
       "      <td>2.80</td>\n",
       "      <td>25.0</td>\n",
       "      <td>409.7</td>\n",
       "      <td>25</td>\n",
       "      <td>NaN</td>\n",
       "      <td>...</td>\n",
       "      <td>112.0</td>\n",
       "      <td>NaN</td>\n",
       "      <td>Санкт-Петербург</td>\n",
       "      <td>30706.0</td>\n",
       "      <td>7877.0</td>\n",
       "      <td>0.0</td>\n",
       "      <td>NaN</td>\n",
       "      <td>2.0</td>\n",
       "      <td>318.0</td>\n",
       "      <td>106.0</td>\n",
       "    </tr>\n",
       "    <tr>\n",
       "      <th>20674</th>\n",
       "      <td>0</td>\n",
       "      <td>24000000.0</td>\n",
       "      <td>250.0</td>\n",
       "      <td>2019-04-23T00:00:00</td>\n",
       "      <td>9</td>\n",
       "      <td>3.20</td>\n",
       "      <td>5.0</td>\n",
       "      <td>160.6</td>\n",
       "      <td>3</td>\n",
       "      <td>NaN</td>\n",
       "      <td>...</td>\n",
       "      <td>11.7</td>\n",
       "      <td>NaN</td>\n",
       "      <td>Санкт-Петербург</td>\n",
       "      <td>10328.0</td>\n",
       "      <td>9987.0</td>\n",
       "      <td>2.0</td>\n",
       "      <td>352.0</td>\n",
       "      <td>0.0</td>\n",
       "      <td>NaN</td>\n",
       "      <td>NaN</td>\n",
       "    </tr>\n",
       "    <tr>\n",
       "      <th>20712</th>\n",
       "      <td>6</td>\n",
       "      <td>28659000.0</td>\n",
       "      <td>245.4</td>\n",
       "      <td>2016-03-31T00:00:00</td>\n",
       "      <td>14</td>\n",
       "      <td>0.00</td>\n",
       "      <td>4.0</td>\n",
       "      <td>168.3</td>\n",
       "      <td>2</td>\n",
       "      <td>NaN</td>\n",
       "      <td>...</td>\n",
       "      <td>25.9</td>\n",
       "      <td>0.0</td>\n",
       "      <td>Санкт-Петербург</td>\n",
       "      <td>21104.0</td>\n",
       "      <td>2054.0</td>\n",
       "      <td>3.0</td>\n",
       "      <td>541.0</td>\n",
       "      <td>2.0</td>\n",
       "      <td>118.0</td>\n",
       "      <td>95.0</td>\n",
       "    </tr>\n",
       "  </tbody>\n",
       "</table>\n",
       "<p>19 rows × 22 columns</p>\n",
       "</div>"
      ],
      "text/plain": [
       "       total_images   last_price  total_area first_day_exposition  rooms  \\\n",
       "645               3   17500000.0       183.7  2018-07-01T00:00:00     11   \n",
       "862               5   25000000.0       363.0  2017-12-23T00:00:00     14   \n",
       "4130              6   23000000.0       272.6  2018-01-11T00:00:00     10   \n",
       "5330             20   65000000.0       590.0  2019-02-14T00:00:00     15   \n",
       "8779             14   49968900.0       398.0  2017-07-12T00:00:00      9   \n",
       "8817             12   17000000.0       235.0  2018-07-14T00:00:00      9   \n",
       "9504             10   23500000.0       313.0  2017-02-13T00:00:00      9   \n",
       "9642              8   33000000.0       194.1  2017-02-07T00:00:00     11   \n",
       "12945             0   22250000.0       249.9  2019-04-23T00:00:00      9   \n",
       "13322            14   19500000.0       309.7  2016-02-03T00:00:00      9   \n",
       "14414             6   32250000.0       374.6  2018-06-09T00:00:00     19   \n",
       "15065            15   88000000.0       400.0  2019-03-27T00:00:00      9   \n",
       "16818            14   29000000.0       292.2  2017-01-12T00:00:00      9   \n",
       "18017             4   15500000.0       216.1  2016-07-04T00:00:00     10   \n",
       "18744             6   28500000.0       270.0  2015-03-02T00:00:00     16   \n",
       "18787            11   40000000.0       290.0  2016-06-21T00:00:00     10   \n",
       "19431             8  420000000.0       900.0  2017-12-06T00:00:00     12   \n",
       "20674             0   24000000.0       250.0  2019-04-23T00:00:00      9   \n",
       "20712             6   28659000.0       245.4  2016-03-31T00:00:00     14   \n",
       "\n",
       "       ceiling_height  floors_total  living_area  floor is_apartment  ...  \\\n",
       "645              3.40           7.0        138.8      7          NaN  ...   \n",
       "862              3.16           5.0        222.0      4          NaN  ...   \n",
       "4130             3.14           7.0        145.9      7          NaN  ...   \n",
       "5330             3.50           6.0        409.0      3          NaN  ...   \n",
       "8779             3.00           2.0        160.1      1        False  ...   \n",
       "8817             3.00           6.0          NaN      3          NaN  ...   \n",
       "9504             3.20           6.0        179.2      5          NaN  ...   \n",
       "9642             3.43           5.0        129.0      2          NaN  ...   \n",
       "12945            3.20           5.0        157.0      5          NaN  ...   \n",
       "13322            0.00           5.0        199.0      5          NaN  ...   \n",
       "14414            0.00           5.0        264.5      2          NaN  ...   \n",
       "15065            2.50           2.0        250.0      1          NaN  ...   \n",
       "16818            3.35           5.0        225.9      4          NaN  ...   \n",
       "18017            3.15           5.0        161.4      2          NaN  ...   \n",
       "18744            3.00           4.0        180.0      4          NaN  ...   \n",
       "18787            3.50           6.0        189.4      6          NaN  ...   \n",
       "19431            2.80          25.0        409.7     25          NaN  ...   \n",
       "20674            3.20           5.0        160.6      3          NaN  ...   \n",
       "20712            0.00           4.0        168.3      2          NaN  ...   \n",
       "\n",
       "       kitchen_area  balcony    locality_name  airports_nearest  \\\n",
       "645            13.3      NaN  Санкт-Петербург           23606.0   \n",
       "862            16.6      NaN  Санкт-Петербург           38076.0   \n",
       "4130           18.8      1.0  Санкт-Петербург           10726.0   \n",
       "5330          100.0      NaN  Санкт-Петербург           24447.0   \n",
       "8779           41.0      NaN  Санкт-Петербург           17720.0   \n",
       "8817            NaN      NaN  Санкт-Петербург           24466.0   \n",
       "9504           13.2      NaN  Санкт-Петербург           38435.0   \n",
       "9642           11.9      NaN  Санкт-Петербург           21469.0   \n",
       "12945          12.4      NaN  Санкт-Петербург           10328.0   \n",
       "13322          14.3      0.0  Санкт-Петербург           10328.0   \n",
       "14414          27.6      NaN  Санкт-Петербург           19497.0   \n",
       "15065          50.0      NaN  Санкт-Петербург           24395.0   \n",
       "16818          32.9      1.0  Санкт-Петербург           24892.0   \n",
       "18017          19.8      0.0  Санкт-Петербург           24353.0   \n",
       "18744          13.0      1.0  Санкт-Петербург           23575.0   \n",
       "18787          30.0      1.0  Санкт-Петербург           26229.0   \n",
       "19431         112.0      NaN  Санкт-Петербург           30706.0   \n",
       "20674          11.7      NaN  Санкт-Петербург           10328.0   \n",
       "20712          25.9      0.0  Санкт-Петербург           21104.0   \n",
       "\n",
       "      city_сenters_nearest  parks_around3000  parks_nearest  ponds_around3000  \\\n",
       "645                 3148.0               0.0            NaN               0.0   \n",
       "862                 7950.0               0.0            NaN               2.0   \n",
       "4130               12169.0               1.0          191.0               1.0   \n",
       "5330                4666.0               1.0          767.0               0.0   \n",
       "8779               16722.0               3.0          471.0               2.0   \n",
       "8817                5034.0               1.0          346.0               0.0   \n",
       "9504               10138.0               1.0          146.0               0.0   \n",
       "9642                1015.0               1.0          686.0               2.0   \n",
       "12945               9987.0               2.0          352.0               0.0   \n",
       "13322               9987.0               2.0          352.0               0.0   \n",
       "14414               3574.0               0.0            NaN               2.0   \n",
       "15065               2725.0               2.0          315.0               1.0   \n",
       "16818               5162.0               2.0          263.0               0.0   \n",
       "18017               4921.0               1.0          368.0               0.0   \n",
       "18744               4142.0               1.0          516.0               0.0   \n",
       "18787               4932.0               3.0          316.0               1.0   \n",
       "19431               7877.0               0.0            NaN               2.0   \n",
       "20674               9987.0               2.0          352.0               0.0   \n",
       "20712               2054.0               3.0          541.0               2.0   \n",
       "\n",
       "       ponds_nearest  days_exposition  \n",
       "645              NaN              NaN  \n",
       "862            435.0            418.0  \n",
       "4130           531.0              NaN  \n",
       "5330             NaN             14.0  \n",
       "8779           440.0            471.0  \n",
       "8817             NaN             90.0  \n",
       "9504             NaN              NaN  \n",
       "9642            66.0            813.0  \n",
       "12945            NaN              NaN  \n",
       "13322            NaN            468.0  \n",
       "14414          548.0            114.0  \n",
       "15065          578.0              NaN  \n",
       "16818            NaN            825.0  \n",
       "18017            NaN             11.0  \n",
       "18744            NaN           1365.0  \n",
       "18787          227.0             77.0  \n",
       "19431          318.0            106.0  \n",
       "20674            NaN              NaN  \n",
       "20712          118.0             95.0  \n",
       "\n",
       "[19 rows x 22 columns]"
      ]
     },
     "execution_count": 44,
     "metadata": {},
     "output_type": "execute_result"
    }
   ],
   "source": [
    "df[df['rooms']>8]"
   ]
  },
  {
   "cell_type": "markdown",
   "metadata": {},
   "source": [
    "Это квартиры с большой площадью, и большое количество комнат в таких квартирах может быть возможно. Данные оставляем как есть."
   ]
  },
  {
   "cell_type": "markdown",
   "metadata": {},
   "source": [
    "Проверим данные в колонке <b>'city_centers_nearest'</b>."
   ]
  },
  {
   "cell_type": "markdown",
   "metadata": {},
   "source": [
    "Параметр 'city_centers_nearest' - в описании данных обозначен как расстояние до цента города (м). Неизвестно, что считается центром города - центр самого населенного пункта или же центр Санкт-Петербурга.\n",
    "\n",
    "Попробуем это выяснить. Сгруппируем данные по населенному пункту, выведем максимум и минимум расстояния до центра у каждого пункта."
   ]
  },
  {
   "cell_type": "code",
   "execution_count": 45,
   "metadata": {},
   "outputs": [
    {
     "data": {
      "text/html": [
       "<div>\n",
       "<style scoped>\n",
       "    .dataframe tbody tr th:only-of-type {\n",
       "        vertical-align: middle;\n",
       "    }\n",
       "\n",
       "    .dataframe tbody tr th {\n",
       "        vertical-align: top;\n",
       "    }\n",
       "\n",
       "    .dataframe thead tr th {\n",
       "        text-align: left;\n",
       "    }\n",
       "\n",
       "    .dataframe thead tr:last-of-type th {\n",
       "        text-align: right;\n",
       "    }\n",
       "</style>\n",
       "<table border=\"1\" class=\"dataframe\">\n",
       "  <thead>\n",
       "    <tr>\n",
       "      <th></th>\n",
       "      <th>min</th>\n",
       "      <th>max</th>\n",
       "    </tr>\n",
       "    <tr>\n",
       "      <th></th>\n",
       "      <th>city_сenters_nearest</th>\n",
       "      <th>city_сenters_nearest</th>\n",
       "    </tr>\n",
       "    <tr>\n",
       "      <th>locality_name</th>\n",
       "      <th></th>\n",
       "      <th></th>\n",
       "    </tr>\n",
       "  </thead>\n",
       "  <tbody>\n",
       "    <tr>\n",
       "      <th>Санкт-Петербург</th>\n",
       "      <td>181.0</td>\n",
       "      <td>29493.0</td>\n",
       "    </tr>\n",
       "    <tr>\n",
       "      <th>поселок Шушары</th>\n",
       "      <td>17012.0</td>\n",
       "      <td>32079.0</td>\n",
       "    </tr>\n",
       "    <tr>\n",
       "      <th>поселок Парголово</th>\n",
       "      <td>17994.0</td>\n",
       "      <td>24415.0</td>\n",
       "    </tr>\n",
       "    <tr>\n",
       "      <th>поселок Стрельна</th>\n",
       "      <td>21813.0</td>\n",
       "      <td>24134.0</td>\n",
       "    </tr>\n",
       "    <tr>\n",
       "      <th>Пушкин</th>\n",
       "      <td>24311.0</td>\n",
       "      <td>35610.0</td>\n",
       "    </tr>\n",
       "    <tr>\n",
       "      <th>поселок Левашово</th>\n",
       "      <td>25727.0</td>\n",
       "      <td>25727.0</td>\n",
       "    </tr>\n",
       "    <tr>\n",
       "      <th>поселок Песочный</th>\n",
       "      <td>25867.0</td>\n",
       "      <td>27835.0</td>\n",
       "    </tr>\n",
       "    <tr>\n",
       "      <th>поселок Лисий Нос</th>\n",
       "      <td>26368.0</td>\n",
       "      <td>28246.0</td>\n",
       "    </tr>\n",
       "    <tr>\n",
       "      <th>поселок Металлострой</th>\n",
       "      <td>26696.0</td>\n",
       "      <td>29217.0</td>\n",
       "    </tr>\n",
       "    <tr>\n",
       "      <th>поселок Петро-Славянка</th>\n",
       "      <td>27165.0</td>\n",
       "      <td>27165.0</td>\n",
       "    </tr>\n",
       "    <tr>\n",
       "      <th>Красное Село</th>\n",
       "      <td>27317.0</td>\n",
       "      <td>41792.0</td>\n",
       "    </tr>\n",
       "    <tr>\n",
       "      <th>поселок Александровская</th>\n",
       "      <td>27352.0</td>\n",
       "      <td>27584.0</td>\n",
       "    </tr>\n",
       "    <tr>\n",
       "      <th>поселок Усть-Ижора</th>\n",
       "      <td>28212.0</td>\n",
       "      <td>28233.0</td>\n",
       "    </tr>\n",
       "    <tr>\n",
       "      <th>Колпино</th>\n",
       "      <td>29436.0</td>\n",
       "      <td>37477.0</td>\n",
       "    </tr>\n",
       "    <tr>\n",
       "      <th>Петергоф</th>\n",
       "      <td>29815.0</td>\n",
       "      <td>49574.0</td>\n",
       "    </tr>\n",
       "    <tr>\n",
       "      <th>поселок Понтонный</th>\n",
       "      <td>30709.0</td>\n",
       "      <td>33853.0</td>\n",
       "    </tr>\n",
       "    <tr>\n",
       "      <th>Сестрорецк</th>\n",
       "      <td>31130.0</td>\n",
       "      <td>42971.0</td>\n",
       "    </tr>\n",
       "    <tr>\n",
       "      <th>Павловск</th>\n",
       "      <td>31533.0</td>\n",
       "      <td>36445.0</td>\n",
       "    </tr>\n",
       "    <tr>\n",
       "      <th>поселок Сапёрный</th>\n",
       "      <td>35822.0</td>\n",
       "      <td>35892.0</td>\n",
       "    </tr>\n",
       "    <tr>\n",
       "      <th>Ломоносов</th>\n",
       "      <td>36816.0</td>\n",
       "      <td>61495.0</td>\n",
       "    </tr>\n",
       "    <tr>\n",
       "      <th>поселок Белоостров</th>\n",
       "      <td>38868.0</td>\n",
       "      <td>38868.0</td>\n",
       "    </tr>\n",
       "    <tr>\n",
       "      <th>поселок Репино</th>\n",
       "      <td>42550.0</td>\n",
       "      <td>45226.0</td>\n",
       "    </tr>\n",
       "    <tr>\n",
       "      <th>Кронштадт</th>\n",
       "      <td>46657.0</td>\n",
       "      <td>51511.0</td>\n",
       "    </tr>\n",
       "    <tr>\n",
       "      <th>Зеленогорск</th>\n",
       "      <td>51115.0</td>\n",
       "      <td>62706.0</td>\n",
       "    </tr>\n",
       "    <tr>\n",
       "      <th>поселок Молодёжное</th>\n",
       "      <td>64857.0</td>\n",
       "      <td>65968.0</td>\n",
       "    </tr>\n",
       "  </tbody>\n",
       "</table>\n",
       "</div>"
      ],
      "text/plain": [
       "                                         min                  max\n",
       "                        city_сenters_nearest city_сenters_nearest\n",
       "locality_name                                                    \n",
       "Санкт-Петербург                        181.0              29493.0\n",
       "поселок Шушары                       17012.0              32079.0\n",
       "поселок Парголово                    17994.0              24415.0\n",
       "поселок Стрельна                     21813.0              24134.0\n",
       "Пушкин                               24311.0              35610.0\n",
       "поселок Левашово                     25727.0              25727.0\n",
       "поселок Песочный                     25867.0              27835.0\n",
       "поселок Лисий Нос                    26368.0              28246.0\n",
       "поселок Металлострой                 26696.0              29217.0\n",
       "поселок Петро-Славянка               27165.0              27165.0\n",
       "Красное Село                         27317.0              41792.0\n",
       "поселок Александровская              27352.0              27584.0\n",
       "поселок Усть-Ижора                   28212.0              28233.0\n",
       "Колпино                              29436.0              37477.0\n",
       "Петергоф                             29815.0              49574.0\n",
       "поселок Понтонный                    30709.0              33853.0\n",
       "Сестрорецк                           31130.0              42971.0\n",
       "Павловск                             31533.0              36445.0\n",
       "поселок Сапёрный                     35822.0              35892.0\n",
       "Ломоносов                            36816.0              61495.0\n",
       "поселок Белоостров                   38868.0              38868.0\n",
       "поселок Репино                       42550.0              45226.0\n",
       "Кронштадт                            46657.0              51511.0\n",
       "Зеленогорск                          51115.0              62706.0\n",
       "поселок Молодёжное                   64857.0              65968.0"
      ]
     },
     "execution_count": 45,
     "metadata": {},
     "output_type": "execute_result"
    }
   ],
   "source": [
    "locatity_city_сenters_nearest = df.pivot_table(index = 'locality_name', values = 'city_сenters_nearest', aggfunc = ['min','max'])\n",
    "locatity_city_сenters_nearest.sort_values(by = locatity_city_сenters_nearest.columns[0], ascending  = True)"
   ]
  },
  {
   "cell_type": "markdown",
   "metadata": {},
   "source": [
    "Скорее всего это расстояние до центра Санкт-Петербурга, т.к. по мере удаления населенного пункта от СПб значения колонок возрастают. "
   ]
  },
  {
   "cell_type": "markdown",
   "metadata": {},
   "source": [
    "Посчитаем долю пропусков в колонке 'city_centers_nearest'."
   ]
  },
  {
   "cell_type": "code",
   "execution_count": 46,
   "metadata": {},
   "outputs": [
    {
     "data": {
      "text/plain": [
       "23.34"
      ]
     },
     "execution_count": 46,
     "metadata": {},
     "output_type": "execute_result"
    }
   ],
   "source": [
    "round(df['city_сenters_nearest'].isna().mean() * 100, 2)"
   ]
  },
  {
   "cell_type": "markdown",
   "metadata": {},
   "source": [
    "Пропусков много - 23%. Заполним пропуски индикаторным значением 99999, которое будет означать, что расстояние до центра города не определено. (Можно было заполнить значением 0, но по заданию нужно будет создавать колонку с расстоянием до центра в км, и получится, что квартиры в самом центре (у которых до центра меньше 1 км) смешаются с квартирами, у которых расстояние до центра неизвестно))."
   ]
  },
  {
   "cell_type": "code",
   "execution_count": 47,
   "metadata": {},
   "outputs": [],
   "source": [
    "df['city_сenters_nearest'] = df['city_сenters_nearest'].fillna(99999)"
   ]
  },
  {
   "cell_type": "markdown",
   "metadata": {},
   "source": [
    "Проверим колонку <b>'first_day_exposition'</b>. Это данные строкового типа, содержащие дату. "
   ]
  },
  {
   "cell_type": "markdown",
   "metadata": {},
   "source": [
    "Согласно первичному обзору данных пропусков в колонке нет. \n",
    "\n",
    "Тип данных этой колонки нужно изменить на тип 'datetime', т.к. для исследования понадобится выделить день недели, месяц и год публикации объявления. "
   ]
  },
  {
   "cell_type": "code",
   "execution_count": 48,
   "metadata": {
    "scrolled": true
   },
   "outputs": [
    {
     "data": {
      "text/plain": [
       "0    2019-03-07T00:00:00\n",
       "1    2018-12-04T00:00:00\n",
       "2    2015-08-20T00:00:00\n",
       "3    2015-07-24T00:00:00\n",
       "4    2018-06-19T00:00:00\n",
       "Name: first_day_exposition, dtype: object"
      ]
     },
     "execution_count": 48,
     "metadata": {},
     "output_type": "execute_result"
    }
   ],
   "source": [
    "df['first_day_exposition'].head()"
   ]
  },
  {
   "cell_type": "markdown",
   "metadata": {},
   "source": [
    "Формат даты в колонке '%Y-%m-%dT%H:%M:%S'. Преобразуем тип данных в колонке 'first_day_exposition' в datetime. Если есть ошибочно заполненные даты, сохраним индексы строк таких данных в список bad_date_indexes."
   ]
  },
  {
   "cell_type": "code",
   "execution_count": 49,
   "metadata": {
    "scrolled": true
   },
   "outputs": [
    {
     "name": "stdout",
     "output_type": "stream",
     "text": [
      "[]\n"
     ]
    }
   ],
   "source": [
    "bad_date_indexes = []\n",
    "try:\n",
    "    df['first_day_exposition'] = pd.to_datetime(df['first_day_exposition'], format = '%Y-%m-%dT%H:%M:%S')\n",
    "except:\n",
    "    bad_date_indexes.append(df.index)\n",
    "print(bad_date_indexes)"
   ]
  },
  {
   "cell_type": "markdown",
   "metadata": {},
   "source": [
    "Список bad_date_indexes пуст, значит преобразование прошло успешно."
   ]
  },
  {
   "cell_type": "code",
   "execution_count": 50,
   "metadata": {
    "scrolled": true
   },
   "outputs": [
    {
     "name": "stdout",
     "output_type": "stream",
     "text": [
      "<class 'pandas.core.frame.DataFrame'>\n",
      "RangeIndex: 23565 entries, 0 to 23564\n",
      "Data columns (total 22 columns):\n",
      " #   Column                Non-Null Count  Dtype         \n",
      "---  ------                --------------  -----         \n",
      " 0   total_images          23565 non-null  int64         \n",
      " 1   last_price            23565 non-null  float64       \n",
      " 2   total_area            23565 non-null  float64       \n",
      " 3   first_day_exposition  23565 non-null  datetime64[ns]\n",
      " 4   rooms                 23565 non-null  int64         \n",
      " 5   ceiling_height        23565 non-null  float64       \n",
      " 6   floors_total          23565 non-null  float64       \n",
      " 7   living_area           21700 non-null  float64       \n",
      " 8   floor                 23565 non-null  int64         \n",
      " 9   is_apartment          2760 non-null   object        \n",
      " 10  studio                23565 non-null  bool          \n",
      " 11  open_plan             23565 non-null  bool          \n",
      " 12  kitchen_area          21343 non-null  float64       \n",
      " 13  balcony               12090 non-null  float64       \n",
      " 14  locality_name         23565 non-null  object        \n",
      " 15  airports_nearest      18041 non-null  float64       \n",
      " 16  city_сenters_nearest  23565 non-null  float64       \n",
      " 17  parks_around3000      18065 non-null  float64       \n",
      " 18  parks_nearest         8030 non-null   float64       \n",
      " 19  ponds_around3000      18065 non-null  float64       \n",
      " 20  ponds_nearest         9036 non-null   float64       \n",
      " 21  days_exposition       20394 non-null  float64       \n",
      "dtypes: bool(2), datetime64[ns](1), float64(14), int64(3), object(2)\n",
      "memory usage: 3.6+ MB\n"
     ]
    }
   ],
   "source": [
    "df.info()"
   ]
  },
  {
   "cell_type": "markdown",
   "metadata": {},
   "source": [
    "Тип данных в колонке 'first_day_exposition' теперь datetime64."
   ]
  },
  {
   "cell_type": "markdown",
   "metadata": {},
   "source": [
    "Выведем информацию о данных в колонке <b>'days_exposition'</b>."
   ]
  },
  {
   "cell_type": "code",
   "execution_count": 51,
   "metadata": {
    "scrolled": true
   },
   "outputs": [
    {
     "data": {
      "text/plain": [
       "count    20394.000000\n",
       "mean       180.741395\n",
       "std        219.732782\n",
       "min          1.000000\n",
       "25%         45.000000\n",
       "50%         95.000000\n",
       "75%        231.000000\n",
       "max       1580.000000\n",
       "Name: days_exposition, dtype: float64"
      ]
     },
     "execution_count": 51,
     "metadata": {},
     "output_type": "execute_result"
    }
   ],
   "source": [
    "df['days_exposition'].describe()"
   ]
  },
  {
   "cell_type": "markdown",
   "metadata": {},
   "source": [
    "Согласно описанию данных в колонке 'first_day_exposition' большая часть квартир продается от 45 до 230 дней."
   ]
  },
  {
   "cell_type": "code",
   "execution_count": 52,
   "metadata": {},
   "outputs": [
    {
     "data": {
      "text/plain": [
       "13.46"
      ]
     },
     "execution_count": 52,
     "metadata": {},
     "output_type": "execute_result"
    }
   ],
   "source": [
    "round(df['days_exposition'].isna().mean() * 100, 2)"
   ]
  },
  {
   "cell_type": "markdown",
   "metadata": {},
   "source": [
    "Пропусков 13.46%. Пропуски можно объяснить тем, что квартира все еще не была продана."
   ]
  },
  {
   "cell_type": "markdown",
   "metadata": {},
   "source": [
    "Пропусков достаточно много. Заполним их значением 0, которое будет означать, что данные не были заполнены."
   ]
  },
  {
   "cell_type": "code",
   "execution_count": 53,
   "metadata": {},
   "outputs": [],
   "source": [
    "df['days_exposition'] = df['days_exposition'].fillna(0)"
   ]
  },
  {
   "cell_type": "code",
   "execution_count": 54,
   "metadata": {},
   "outputs": [
    {
     "data": {
      "text/plain": [
       "0"
      ]
     },
     "execution_count": 54,
     "metadata": {},
     "output_type": "execute_result"
    }
   ],
   "source": [
    "df['days_exposition'].isna().sum() "
   ]
  },
  {
   "cell_type": "markdown",
   "metadata": {},
   "source": [
    "Пропусков  в колонке 'days_exposition' больше нет."
   ]
  },
  {
   "cell_type": "markdown",
   "metadata": {},
   "source": [
    "Проверим колонку <b>'total_area'</b>.\n",
    "\n",
    "Первичный обзор данных показал, что пропусков в колонке нет. "
   ]
  },
  {
   "cell_type": "code",
   "execution_count": 55,
   "metadata": {
    "scrolled": true
   },
   "outputs": [
    {
     "data": {
      "text/plain": [
       "count    23565.000000\n",
       "mean        60.322824\n",
       "std         35.657060\n",
       "min         12.000000\n",
       "25%         40.000000\n",
       "50%         52.000000\n",
       "75%         69.700000\n",
       "max        900.000000\n",
       "Name: total_area, dtype: float64"
      ]
     },
     "execution_count": 55,
     "metadata": {},
     "output_type": "execute_result"
    }
   ],
   "source": [
    "df['total_area'].describe()"
   ]
  },
  {
   "cell_type": "markdown",
   "metadata": {},
   "source": [
    "В колонке есть выбросы. Минимальное значение является допустимым, т.к. есть студии с маленькой площадью. "
   ]
  },
  {
   "cell_type": "code",
   "execution_count": 56,
   "metadata": {},
   "outputs": [],
   "source": [
    "# df - датафрейм, по которому строим гистограмму\n",
    "# column - колонка датафрейма, по которому строим гистограмму\n",
    "# col_name - имя колонки лоя подписей на графике\n",
    "# ed_izm - единица измерения для подписи оси Х\n",
    "# xlim - предельное значение для оси Х (None, если предел не задан)\n",
    "def hist(df,column,col_name, ed_izm, xlym):\n",
    "    sns.set_palette('PRGn')\n",
    "    plt.figure(figsize=(10, 6))\n",
    "    sns.set_style('darkgrid') \n",
    "    hist = sns.histplot(df, x=column)\n",
    "    hist.set_xlim(left=0, right=xlym)\n",
    "    plt.title(f'Гистограмма распределения: {col_name}',fontsize = 18)\n",
    "    plt.xticks(rotation = 0,fontsize=12)\n",
    "    plt.xlabel(col_name + ed_izm,fontsize=15)\n",
    "    plt.ylabel('частота',fontsize=15)    \n",
    "    plt.show()"
   ]
  },
  {
   "cell_type": "code",
   "execution_count": 57,
   "metadata": {},
   "outputs": [
    {
     "data": {
      "image/png": "[encoded data removed]",
      "text/plain": [
       "<Figure size 720x432 with 1 Axes>"
      ]
     },
     "metadata": {
      "needs_background": "light"
     },
     "output_type": "display_data"
    }
   ],
   "source": [
    "hist(df, 'total_area', 'общая площадь', ', кв.м', None)"
   ]
  },
  {
   "cell_type": "markdown",
   "metadata": {},
   "source": [
    "Гистограмма показывает, что квартир площадью больше 400 кв.м очень мало."
   ]
  },
  {
   "cell_type": "code",
   "execution_count": 58,
   "metadata": {
    "scrolled": true
   },
   "outputs": [
    {
     "data": {
      "text/plain": [
       "26"
      ]
     },
     "execution_count": 58,
     "metadata": {},
     "output_type": "execute_result"
    }
   ],
   "source": [
    "df[df['total_area'] >= 400]['total_area'].count()"
   ]
  },
  {
   "cell_type": "markdown",
   "metadata": {},
   "source": [
    "Можно удалить выбросы, ограничив площадь 400 кв.м. Удалим после полной проверки данных."
   ]
  },
  {
   "cell_type": "markdown",
   "metadata": {},
   "source": [
    "Произведем категоризацию колонки 'total_area'.\n",
    "\n",
    "Сначала напишем функцию total_area_category, которая разбивает общую площадь на следующие категории:\n",
    "1.  (до 25 кв.м);\n",
    "2.  (от 25 до 35 кв.м);\n",
    "3.  (от 35 до 45 кв.м);\n",
    "4.  (от 45 до 55 кв.м);\n",
    "5.  (от 55 до 65 кв.м);\n",
    "6.  (от 65 до 75 кв.м);\n",
    "7.  (от 75 до 85 кв.м);\n",
    "8.  (от 85 до 95 кв.м);\n",
    "9.  (от 95 до 125 кв.м);\n",
    "10. (от 125 до 150 кв.м);\n",
    "11. (от 150 до 200 кв.м);\n",
    "12. (от 200 кв.м)."
   ]
  },
  {
   "cell_type": "code",
   "execution_count": 59,
   "metadata": {},
   "outputs": [],
   "source": [
    "def total_area_category(total_area):\n",
    "    if (total_area <25):\n",
    "        return 1\n",
    "    if (total_area >= 25) & (total_area < 35):\n",
    "        return 2\n",
    "    if (total_area >= 35) & (total_area < 45):\n",
    "        return 3\n",
    "    if (total_area >= 45) & (total_area < 55):\n",
    "        return 4\n",
    "    if (total_area >= 55) & (total_area < 65):\n",
    "        return 5\n",
    "    if (total_area >= 65) & (total_area < 75):\n",
    "        return 6\n",
    "    if (total_area >= 75) & (total_area < 85):\n",
    "        return 7\n",
    "    if (total_area >= 85) & (total_area < 95):\n",
    "        return 8\n",
    "    if (total_area >= 95) & (total_area < 125):\n",
    "        return 9\n",
    "    if (total_area >= 125) & (total_area < 150):\n",
    "        return 10\n",
    "    if (total_area >= 150) & (total_area < 200):\n",
    "        return 11\n",
    "    if (total_area >= 200):\n",
    "        return 12"
   ]
  },
  {
   "cell_type": "markdown",
   "metadata": {},
   "source": [
    "Создадим столбец 'total_area_category' и заполним его исходя из значений колонки 'total_area', применив функцию total_area_category."
   ]
  },
  {
   "cell_type": "code",
   "execution_count": 60,
   "metadata": {
    "scrolled": true
   },
   "outputs": [],
   "source": [
    "df['total_area_category'] = df['total_area'].apply(total_area_category)"
   ]
  },
  {
   "cell_type": "markdown",
   "metadata": {},
   "source": [
    "Данные колонки 'total_area' категоризировны."
   ]
  },
  {
   "cell_type": "markdown",
   "metadata": {},
   "source": [
    "Выведем информацию о данных колонки <b>'living_area'</b>."
   ]
  },
  {
   "cell_type": "code",
   "execution_count": 61,
   "metadata": {},
   "outputs": [
    {
     "data": {
      "text/plain": [
       "count    21700.000000\n",
       "mean        34.454822\n",
       "std         22.045359\n",
       "min          2.000000\n",
       "25%         18.600000\n",
       "50%         30.000000\n",
       "75%         42.300000\n",
       "max        409.700000\n",
       "Name: living_area, dtype: float64"
      ]
     },
     "execution_count": 61,
     "metadata": {},
     "output_type": "execute_result"
    }
   ],
   "source": [
    "df['living_area'].describe()"
   ]
  },
  {
   "cell_type": "markdown",
   "metadata": {},
   "source": [
    "Жилая площадь должна быть меньше общей. "
   ]
  },
  {
   "cell_type": "markdown",
   "metadata": {},
   "source": [
    "Проверим, нет ли ошибочно введенной информации, где жилая площадь больше общей."
   ]
  },
  {
   "cell_type": "code",
   "execution_count": 62,
   "metadata": {},
   "outputs": [
    {
     "data": {
      "text/plain": [
       "0"
      ]
     },
     "execution_count": 62,
     "metadata": {},
     "output_type": "execute_result"
    }
   ],
   "source": [
    "df[df['total_area'] < df['living_area']]['total_area'].count()"
   ]
  },
  {
   "cell_type": "markdown",
   "metadata": {},
   "source": [
    "Таких ошибок нет."
   ]
  },
  {
   "cell_type": "markdown",
   "metadata": {},
   "source": [
    "Жилая площадь должна быть больше площади кухни. Проверим, выполняется ли это условие."
   ]
  },
  {
   "cell_type": "code",
   "execution_count": 63,
   "metadata": {},
   "outputs": [
    {
     "data": {
      "text/html": [
       "<div>\n",
       "<style scoped>\n",
       "    .dataframe tbody tr th:only-of-type {\n",
       "        vertical-align: middle;\n",
       "    }\n",
       "\n",
       "    .dataframe tbody tr th {\n",
       "        vertical-align: top;\n",
       "    }\n",
       "\n",
       "    .dataframe thead th {\n",
       "        text-align: right;\n",
       "    }\n",
       "</style>\n",
       "<table border=\"1\" class=\"dataframe\">\n",
       "  <thead>\n",
       "    <tr style=\"text-align: right;\">\n",
       "      <th></th>\n",
       "      <th>total_area</th>\n",
       "      <th>kitchen_area</th>\n",
       "      <th>living_area</th>\n",
       "    </tr>\n",
       "  </thead>\n",
       "  <tbody>\n",
       "    <tr>\n",
       "      <th>4</th>\n",
       "      <td>100.00</td>\n",
       "      <td>41.00</td>\n",
       "      <td>32.00</td>\n",
       "    </tr>\n",
       "    <tr>\n",
       "      <th>6</th>\n",
       "      <td>37.30</td>\n",
       "      <td>14.40</td>\n",
       "      <td>10.60</td>\n",
       "    </tr>\n",
       "    <tr>\n",
       "      <th>51</th>\n",
       "      <td>161.00</td>\n",
       "      <td>50.00</td>\n",
       "      <td>38.00</td>\n",
       "    </tr>\n",
       "    <tr>\n",
       "      <th>53</th>\n",
       "      <td>39.10</td>\n",
       "      <td>15.50</td>\n",
       "      <td>15.40</td>\n",
       "    </tr>\n",
       "    <tr>\n",
       "      <th>101</th>\n",
       "      <td>37.00</td>\n",
       "      <td>13.00</td>\n",
       "      <td>12.00</td>\n",
       "    </tr>\n",
       "    <tr>\n",
       "      <th>...</th>\n",
       "      <td>...</td>\n",
       "      <td>...</td>\n",
       "      <td>...</td>\n",
       "    </tr>\n",
       "    <tr>\n",
       "      <th>23077</th>\n",
       "      <td>37.00</td>\n",
       "      <td>22.00</td>\n",
       "      <td>8.00</td>\n",
       "    </tr>\n",
       "    <tr>\n",
       "      <th>23256</th>\n",
       "      <td>43.00</td>\n",
       "      <td>20.00</td>\n",
       "      <td>12.00</td>\n",
       "    </tr>\n",
       "    <tr>\n",
       "      <th>23349</th>\n",
       "      <td>37.29</td>\n",
       "      <td>16.88</td>\n",
       "      <td>10.08</td>\n",
       "    </tr>\n",
       "    <tr>\n",
       "      <th>23441</th>\n",
       "      <td>47.67</td>\n",
       "      <td>17.87</td>\n",
       "      <td>13.59</td>\n",
       "    </tr>\n",
       "    <tr>\n",
       "      <th>23442</th>\n",
       "      <td>139.00</td>\n",
       "      <td>16.00</td>\n",
       "      <td>3.00</td>\n",
       "    </tr>\n",
       "  </tbody>\n",
       "</table>\n",
       "<p>354 rows × 3 columns</p>\n",
       "</div>"
      ],
      "text/plain": [
       "       total_area  kitchen_area  living_area\n",
       "4          100.00         41.00        32.00\n",
       "6           37.30         14.40        10.60\n",
       "51         161.00         50.00        38.00\n",
       "53          39.10         15.50        15.40\n",
       "101         37.00         13.00        12.00\n",
       "...           ...           ...          ...\n",
       "23077       37.00         22.00         8.00\n",
       "23256       43.00         20.00        12.00\n",
       "23349       37.29         16.88        10.08\n",
       "23441       47.67         17.87        13.59\n",
       "23442      139.00         16.00         3.00\n",
       "\n",
       "[354 rows x 3 columns]"
      ]
     },
     "execution_count": 63,
     "metadata": {},
     "output_type": "execute_result"
    }
   ],
   "source": [
    "df[ df['living_area']  < df['kitchen_area']][['total_area','kitchen_area','living_area']]"
   ]
  },
  {
   "cell_type": "markdown",
   "metadata": {},
   "source": [
    "В таблице 355 строк с такой ошибкой. Скорее всего пользователь по ошибке поменял местами жилую площадь и площадь кухни.\n",
    "Эти ошибки можно исправить в 3 этапа:\n",
    "* в ошибочных строках прибавить к площади кухни жилую площадь ('kitchen_area'+'living_area');\n",
    "* затем в этих строках жилую площадь заменить разностью нового значения площади кухни и жилой площади (будет ('kitchen_area'+'living_area')-'living_area', т.е. жилая площадь будет равна 'kitchen_area')\n",
    "* площадь кухни в ошибочных строках заменить разностью нового значения площади кухни и нового значения жилой площади (будет ('kitchen_area'+'living_area')-'kitchen_area', т.е. 'living_area')."
   ]
  },
  {
   "cell_type": "code",
   "execution_count": 64,
   "metadata": {},
   "outputs": [],
   "source": [
    "df.loc[df['living_area'] < df['kitchen_area'],'kitchen_area'] = df[df['living_area'] < df['kitchen_area']]['kitchen_area'] + df[df['living_area'] < df['kitchen_area']]['living_area']\n",
    "df.loc[df['living_area'] < df['kitchen_area'],'living_area'] = df[df['living_area'] < df['kitchen_area']]['kitchen_area'] - df[df['living_area'] < df['kitchen_area']]['living_area'] \n",
    "df.loc[df['living_area'] < df['kitchen_area'],'kitchen_area'] = df[df['living_area'] < df['kitchen_area']]['kitchen_area'] - df[df['living_area'] < df['kitchen_area']]['living_area'] "
   ]
  },
  {
   "cell_type": "markdown",
   "metadata": {},
   "source": [
    "Проверим, остались ли такие ошибки."
   ]
  },
  {
   "cell_type": "code",
   "execution_count": 65,
   "metadata": {},
   "outputs": [
    {
     "data": {
      "text/plain": [
       "0"
      ]
     },
     "execution_count": 65,
     "metadata": {},
     "output_type": "execute_result"
    }
   ],
   "source": [
    "df[ df['living_area']  < df['kitchen_area']][['total_area','kitchen_area','living_area']]['total_area'].count()"
   ]
  },
  {
   "cell_type": "markdown",
   "metadata": {},
   "source": [
    "Таких ошибок больше нет."
   ]
  },
  {
   "cell_type": "markdown",
   "metadata": {},
   "source": [
    "Разница между общей и жилой площадью (нежилая площадь) должна быть больше площади кухни (кухня является частью нежилой площади). \n",
    "Проверим данные на наличие ошибок такого вида."
   ]
  },
  {
   "cell_type": "code",
   "execution_count": 66,
   "metadata": {
    "scrolled": true
   },
   "outputs": [
    {
     "data": {
      "text/html": [
       "<div>\n",
       "<style scoped>\n",
       "    .dataframe tbody tr th:only-of-type {\n",
       "        vertical-align: middle;\n",
       "    }\n",
       "\n",
       "    .dataframe tbody tr th {\n",
       "        vertical-align: top;\n",
       "    }\n",
       "\n",
       "    .dataframe thead th {\n",
       "        text-align: right;\n",
       "    }\n",
       "</style>\n",
       "<table border=\"1\" class=\"dataframe\">\n",
       "  <thead>\n",
       "    <tr style=\"text-align: right;\">\n",
       "      <th></th>\n",
       "      <th>total_area</th>\n",
       "      <th>kitchen_area</th>\n",
       "      <th>living_area</th>\n",
       "    </tr>\n",
       "  </thead>\n",
       "  <tbody>\n",
       "    <tr>\n",
       "      <th>184</th>\n",
       "      <td>30.20</td>\n",
       "      <td>6.20</td>\n",
       "      <td>26.10</td>\n",
       "    </tr>\n",
       "    <tr>\n",
       "      <th>542</th>\n",
       "      <td>23.80</td>\n",
       "      <td>5.00</td>\n",
       "      <td>20.00</td>\n",
       "    </tr>\n",
       "    <tr>\n",
       "      <th>548</th>\n",
       "      <td>31.59</td>\n",
       "      <td>9.28</td>\n",
       "      <td>30.55</td>\n",
       "    </tr>\n",
       "    <tr>\n",
       "      <th>598</th>\n",
       "      <td>53.70</td>\n",
       "      <td>7.00</td>\n",
       "      <td>48.30</td>\n",
       "    </tr>\n",
       "    <tr>\n",
       "      <th>692</th>\n",
       "      <td>34.69</td>\n",
       "      <td>23.43</td>\n",
       "      <td>23.43</td>\n",
       "    </tr>\n",
       "    <tr>\n",
       "      <th>...</th>\n",
       "      <td>...</td>\n",
       "      <td>...</td>\n",
       "      <td>...</td>\n",
       "    </tr>\n",
       "    <tr>\n",
       "      <th>21744</th>\n",
       "      <td>34.30</td>\n",
       "      <td>8.00</td>\n",
       "      <td>30.60</td>\n",
       "    </tr>\n",
       "    <tr>\n",
       "      <th>21790</th>\n",
       "      <td>91.40</td>\n",
       "      <td>32.40</td>\n",
       "      <td>62.00</td>\n",
       "    </tr>\n",
       "    <tr>\n",
       "      <th>21831</th>\n",
       "      <td>46.00</td>\n",
       "      <td>8.00</td>\n",
       "      <td>44.00</td>\n",
       "    </tr>\n",
       "    <tr>\n",
       "      <th>22274</th>\n",
       "      <td>54.80</td>\n",
       "      <td>15.30</td>\n",
       "      <td>39.50</td>\n",
       "    </tr>\n",
       "    <tr>\n",
       "      <th>23071</th>\n",
       "      <td>67.92</td>\n",
       "      <td>13.04</td>\n",
       "      <td>63.00</td>\n",
       "    </tr>\n",
       "  </tbody>\n",
       "</table>\n",
       "<p>67 rows × 3 columns</p>\n",
       "</div>"
      ],
      "text/plain": [
       "       total_area  kitchen_area  living_area\n",
       "184         30.20          6.20        26.10\n",
       "542         23.80          5.00        20.00\n",
       "548         31.59          9.28        30.55\n",
       "598         53.70          7.00        48.30\n",
       "692         34.69         23.43        23.43\n",
       "...           ...           ...          ...\n",
       "21744       34.30          8.00        30.60\n",
       "21790       91.40         32.40        62.00\n",
       "21831       46.00          8.00        44.00\n",
       "22274       54.80         15.30        39.50\n",
       "23071       67.92         13.04        63.00\n",
       "\n",
       "[67 rows x 3 columns]"
      ]
     },
     "execution_count": 66,
     "metadata": {},
     "output_type": "execute_result"
    }
   ],
   "source": [
    "area_columns = ['total_area','kitchen_area','living_area']\n",
    "df[df['total_area'] - df['living_area']  < df['kitchen_area']][area_columns]"
   ]
  },
  {
   "cell_type": "markdown",
   "metadata": {},
   "source": [
    "Такие ошибки в данных есть. Появление таких ошибок скорее всего - человеческий фактор (ошибка ввода информации пользователем).\n",
    "\n",
    "Так как пропуски в колонках 'living_area' и 'kitchen_area' будем заполнять исходя из медианных значений долей этих площадей от общей площади, строки с неправильным соотношением площадей лучше удалить. Посмотрим, какова доля таких данных."
   ]
  },
  {
   "cell_type": "code",
   "execution_count": 67,
   "metadata": {},
   "outputs": [
    {
     "data": {
      "text/plain": [
       "0.28"
      ]
     },
     "execution_count": 67,
     "metadata": {},
     "output_type": "execute_result"
    }
   ],
   "source": [
    "round((df[df['total_area'] - df['living_area']  < df['kitchen_area']])['total_area'].count() / len(df) * 100, 2)"
   ]
  },
  {
   "cell_type": "markdown",
   "metadata": {},
   "source": [
    "Доля таких данных всего 0.28%, поэтому удалим ошибочные данные (оставим строки с правильным соотношением жилой площади и кухни, а также строки, где есть пропуски в 'kitchen_area' или 'living_area').\n"
   ]
  },
  {
   "cell_type": "code",
   "execution_count": 68,
   "metadata": {},
   "outputs": [],
   "source": [
    "df = df[(df['total_area'] - df['living_area']  >= df['kitchen_area'])|df['living_area'].isna()|df['kitchen_area'].isna()]"
   ]
  },
  {
   "cell_type": "markdown",
   "metadata": {},
   "source": [
    "Проверим, остались ли ошибки."
   ]
  },
  {
   "cell_type": "code",
   "execution_count": 69,
   "metadata": {},
   "outputs": [
    {
     "data": {
      "text/plain": [
       "0"
      ]
     },
     "execution_count": 69,
     "metadata": {},
     "output_type": "execute_result"
    }
   ],
   "source": [
    "df[df['total_area'] - df['living_area']  < df['kitchen_area']]['total_area'].count()"
   ]
  },
  {
   "cell_type": "markdown",
   "metadata": {},
   "source": [
    "Строк с ошибочным соотношением жилой площади и площади кухни больше нет."
   ]
  },
  {
   "cell_type": "markdown",
   "metadata": {},
   "source": [
    "Проверим долю пропусков в колонке 'living_area'."
   ]
  },
  {
   "cell_type": "code",
   "execution_count": 70,
   "metadata": {
    "scrolled": true
   },
   "outputs": [
    {
     "data": {
      "text/plain": [
       "7.94"
      ]
     },
     "execution_count": 70,
     "metadata": {},
     "output_type": "execute_result"
    }
   ],
   "source": [
    "round(df['living_area'].isna().mean() * 100, 2)"
   ]
  },
  {
   "cell_type": "markdown",
   "metadata": {},
   "source": [
    "Пропусков в колонке 'living_area' 7.94%. "
   ]
  },
  {
   "cell_type": "markdown",
   "metadata": {},
   "source": [
    "Создадим столбец 'living_share', который содержит долю жилой площади по отношению к общей."
   ]
  },
  {
   "cell_type": "code",
   "execution_count": 71,
   "metadata": {},
   "outputs": [],
   "source": [
    "df['living_share'] = df['living_area'] / df['total_area']\n"
   ]
  },
  {
   "cell_type": "markdown",
   "metadata": {},
   "source": [
    "Теперь для каждой категории общей площади квартиры найдем медианное значение доли жилой площади от общей. "
   ]
  },
  {
   "cell_type": "code",
   "execution_count": 72,
   "metadata": {},
   "outputs": [],
   "source": [
    "\n",
    "df['living_share'] = df['living_share'].fillna(df.groupby('total_area_category')['living_share'].transform(\"median\"))\n"
   ]
  },
  {
   "cell_type": "markdown",
   "metadata": {},
   "source": [
    "Проверим пропуски в поле 'living_share'."
   ]
  },
  {
   "cell_type": "code",
   "execution_count": 73,
   "metadata": {
    "scrolled": true
   },
   "outputs": [
    {
     "data": {
      "text/plain": [
       "0.0"
      ]
     },
     "execution_count": 73,
     "metadata": {},
     "output_type": "execute_result"
    }
   ],
   "source": [
    "round(df['living_share'].isna().mean() * 100, 2)"
   ]
  },
  {
   "cell_type": "markdown",
   "metadata": {},
   "source": [
    "Пропуски заполнены."
   ]
  },
  {
   "cell_type": "markdown",
   "metadata": {},
   "source": [
    "Теперь заполним пропуски в колонке 'living_area', вычислив жилую площадь исходя из ее доли от общей площади."
   ]
  },
  {
   "cell_type": "code",
   "execution_count": 74,
   "metadata": {
    "scrolled": true
   },
   "outputs": [
    {
     "data": {
      "text/html": [
       "<div>\n",
       "<style scoped>\n",
       "    .dataframe tbody tr th:only-of-type {\n",
       "        vertical-align: middle;\n",
       "    }\n",
       "\n",
       "    .dataframe tbody tr th {\n",
       "        vertical-align: top;\n",
       "    }\n",
       "\n",
       "    .dataframe thead th {\n",
       "        text-align: right;\n",
       "    }\n",
       "</style>\n",
       "<table border=\"1\" class=\"dataframe\">\n",
       "  <thead>\n",
       "    <tr style=\"text-align: right;\">\n",
       "      <th></th>\n",
       "      <th>total_images</th>\n",
       "      <th>last_price</th>\n",
       "      <th>total_area</th>\n",
       "      <th>first_day_exposition</th>\n",
       "      <th>rooms</th>\n",
       "      <th>ceiling_height</th>\n",
       "      <th>floors_total</th>\n",
       "      <th>living_area</th>\n",
       "      <th>floor</th>\n",
       "      <th>is_apartment</th>\n",
       "      <th>...</th>\n",
       "      <th>locality_name</th>\n",
       "      <th>airports_nearest</th>\n",
       "      <th>city_сenters_nearest</th>\n",
       "      <th>parks_around3000</th>\n",
       "      <th>parks_nearest</th>\n",
       "      <th>ponds_around3000</th>\n",
       "      <th>ponds_nearest</th>\n",
       "      <th>days_exposition</th>\n",
       "      <th>total_area_category</th>\n",
       "      <th>living_share</th>\n",
       "    </tr>\n",
       "  </thead>\n",
       "  <tbody>\n",
       "    <tr>\n",
       "      <th>0</th>\n",
       "      <td>20</td>\n",
       "      <td>13000000.0</td>\n",
       "      <td>108.0</td>\n",
       "      <td>2019-03-07</td>\n",
       "      <td>3</td>\n",
       "      <td>2.70</td>\n",
       "      <td>16.0</td>\n",
       "      <td>51.000000</td>\n",
       "      <td>8</td>\n",
       "      <td>NaN</td>\n",
       "      <td>...</td>\n",
       "      <td>Санкт-Петербург</td>\n",
       "      <td>18863.0</td>\n",
       "      <td>16028.0</td>\n",
       "      <td>1.0</td>\n",
       "      <td>482.0</td>\n",
       "      <td>2.0</td>\n",
       "      <td>755.0</td>\n",
       "      <td>0.0</td>\n",
       "      <td>9</td>\n",
       "      <td>0.472222</td>\n",
       "    </tr>\n",
       "    <tr>\n",
       "      <th>1</th>\n",
       "      <td>7</td>\n",
       "      <td>3350000.0</td>\n",
       "      <td>40.4</td>\n",
       "      <td>2018-12-04</td>\n",
       "      <td>1</td>\n",
       "      <td>0.00</td>\n",
       "      <td>11.0</td>\n",
       "      <td>18.600000</td>\n",
       "      <td>1</td>\n",
       "      <td>NaN</td>\n",
       "      <td>...</td>\n",
       "      <td>поселок Шушары</td>\n",
       "      <td>12817.0</td>\n",
       "      <td>18603.0</td>\n",
       "      <td>0.0</td>\n",
       "      <td>NaN</td>\n",
       "      <td>0.0</td>\n",
       "      <td>NaN</td>\n",
       "      <td>81.0</td>\n",
       "      <td>3</td>\n",
       "      <td>0.460396</td>\n",
       "    </tr>\n",
       "    <tr>\n",
       "      <th>2</th>\n",
       "      <td>10</td>\n",
       "      <td>5196000.0</td>\n",
       "      <td>56.0</td>\n",
       "      <td>2015-08-20</td>\n",
       "      <td>2</td>\n",
       "      <td>0.00</td>\n",
       "      <td>5.0</td>\n",
       "      <td>34.300000</td>\n",
       "      <td>4</td>\n",
       "      <td>NaN</td>\n",
       "      <td>...</td>\n",
       "      <td>Санкт-Петербург</td>\n",
       "      <td>21741.0</td>\n",
       "      <td>13933.0</td>\n",
       "      <td>1.0</td>\n",
       "      <td>90.0</td>\n",
       "      <td>2.0</td>\n",
       "      <td>574.0</td>\n",
       "      <td>558.0</td>\n",
       "      <td>5</td>\n",
       "      <td>0.612500</td>\n",
       "    </tr>\n",
       "    <tr>\n",
       "      <th>3</th>\n",
       "      <td>0</td>\n",
       "      <td>64900000.0</td>\n",
       "      <td>159.0</td>\n",
       "      <td>2015-07-24</td>\n",
       "      <td>3</td>\n",
       "      <td>0.00</td>\n",
       "      <td>14.0</td>\n",
       "      <td>94.887097</td>\n",
       "      <td>9</td>\n",
       "      <td>NaN</td>\n",
       "      <td>...</td>\n",
       "      <td>Санкт-Петербург</td>\n",
       "      <td>28098.0</td>\n",
       "      <td>6800.0</td>\n",
       "      <td>2.0</td>\n",
       "      <td>84.0</td>\n",
       "      <td>3.0</td>\n",
       "      <td>234.0</td>\n",
       "      <td>424.0</td>\n",
       "      <td>11</td>\n",
       "      <td>0.596774</td>\n",
       "    </tr>\n",
       "    <tr>\n",
       "      <th>4</th>\n",
       "      <td>2</td>\n",
       "      <td>10000000.0</td>\n",
       "      <td>100.0</td>\n",
       "      <td>2018-06-19</td>\n",
       "      <td>2</td>\n",
       "      <td>3.03</td>\n",
       "      <td>14.0</td>\n",
       "      <td>41.000000</td>\n",
       "      <td>13</td>\n",
       "      <td>NaN</td>\n",
       "      <td>...</td>\n",
       "      <td>Санкт-Петербург</td>\n",
       "      <td>31856.0</td>\n",
       "      <td>8098.0</td>\n",
       "      <td>2.0</td>\n",
       "      <td>112.0</td>\n",
       "      <td>1.0</td>\n",
       "      <td>48.0</td>\n",
       "      <td>121.0</td>\n",
       "      <td>9</td>\n",
       "      <td>0.410000</td>\n",
       "    </tr>\n",
       "  </tbody>\n",
       "</table>\n",
       "<p>5 rows × 24 columns</p>\n",
       "</div>"
      ],
      "text/plain": [
       "   total_images  last_price  total_area first_day_exposition  rooms  \\\n",
       "0            20  13000000.0       108.0           2019-03-07      3   \n",
       "1             7   3350000.0        40.4           2018-12-04      1   \n",
       "2            10   5196000.0        56.0           2015-08-20      2   \n",
       "3             0  64900000.0       159.0           2015-07-24      3   \n",
       "4             2  10000000.0       100.0           2018-06-19      2   \n",
       "\n",
       "   ceiling_height  floors_total  living_area  floor is_apartment  ...  \\\n",
       "0            2.70          16.0    51.000000      8          NaN  ...   \n",
       "1            0.00          11.0    18.600000      1          NaN  ...   \n",
       "2            0.00           5.0    34.300000      4          NaN  ...   \n",
       "3            0.00          14.0    94.887097      9          NaN  ...   \n",
       "4            3.03          14.0    41.000000     13          NaN  ...   \n",
       "\n",
       "     locality_name  airports_nearest  city_сenters_nearest  parks_around3000  \\\n",
       "0  Санкт-Петербург           18863.0               16028.0               1.0   \n",
       "1   поселок Шушары           12817.0               18603.0               0.0   \n",
       "2  Санкт-Петербург           21741.0               13933.0               1.0   \n",
       "3  Санкт-Петербург           28098.0                6800.0               2.0   \n",
       "4  Санкт-Петербург           31856.0                8098.0               2.0   \n",
       "\n",
       "  parks_nearest  ponds_around3000  ponds_nearest  days_exposition  \\\n",
       "0         482.0               2.0          755.0              0.0   \n",
       "1           NaN               0.0            NaN             81.0   \n",
       "2          90.0               2.0          574.0            558.0   \n",
       "3          84.0               3.0          234.0            424.0   \n",
       "4         112.0               1.0           48.0            121.0   \n",
       "\n",
       "   total_area_category  living_share  \n",
       "0                    9      0.472222  \n",
       "1                    3      0.460396  \n",
       "2                    5      0.612500  \n",
       "3                   11      0.596774  \n",
       "4                    9      0.410000  \n",
       "\n",
       "[5 rows x 24 columns]"
      ]
     },
     "execution_count": 74,
     "metadata": {},
     "output_type": "execute_result"
    }
   ],
   "source": [
    "df['living_area'] = df['living_area'].fillna(df['total_area'] * df['living_share'])\n",
    "df.head()"
   ]
  },
  {
   "cell_type": "markdown",
   "metadata": {},
   "source": [
    "Проверим пропуски в поле 'living_area'."
   ]
  },
  {
   "cell_type": "code",
   "execution_count": 75,
   "metadata": {
    "scrolled": true
   },
   "outputs": [
    {
     "data": {
      "text/plain": [
       "0.0"
      ]
     },
     "execution_count": 75,
     "metadata": {},
     "output_type": "execute_result"
    }
   ],
   "source": [
    "round(df['living_area'].isna().mean() * 100, 2)"
   ]
  },
  {
   "cell_type": "markdown",
   "metadata": {},
   "source": [
    "Пропуски заполнены."
   ]
  },
  {
   "cell_type": "markdown",
   "metadata": {},
   "source": [
    "Проверим столбец <b>'kitchen_area'</b>."
   ]
  },
  {
   "cell_type": "code",
   "execution_count": 76,
   "metadata": {
    "scrolled": true
   },
   "outputs": [
    {
     "data": {
      "text/plain": [
       "count    21276.000000\n",
       "mean        10.432613\n",
       "std          5.530436\n",
       "min          1.300000\n",
       "25%          7.000000\n",
       "50%          9.100000\n",
       "75%         12.000000\n",
       "max        112.000000\n",
       "Name: kitchen_area, dtype: float64"
      ]
     },
     "execution_count": 76,
     "metadata": {},
     "output_type": "execute_result"
    }
   ],
   "source": [
    "df['kitchen_area'].describe()"
   ]
  },
  {
   "cell_type": "markdown",
   "metadata": {},
   "source": [
    "Выведем долю пропусков в колонке 'kitchen_area'."
   ]
  },
  {
   "cell_type": "code",
   "execution_count": 77,
   "metadata": {},
   "outputs": [
    {
     "data": {
      "text/plain": [
       "9.46"
      ]
     },
     "execution_count": 77,
     "metadata": {},
     "output_type": "execute_result"
    }
   ],
   "source": [
    "round(df['kitchen_area'].isna().mean() * 100, 2)"
   ]
  },
  {
   "cell_type": "markdown",
   "metadata": {},
   "source": [
    "Пропусков в колонке 'kitchen_area' 9.46%. \n",
    "\n",
    "Их можно заполнить по аналогии заполнения пропусков с колонке 'living_area': вычислить медианное значение доли площади кухни от общей площади для квартир с похожей общей площадью."
   ]
  },
  {
   "cell_type": "markdown",
   "metadata": {},
   "source": [
    "Создадим столбец 'kitchen_share', который содержит долю площади кухни по отношению к общей площади."
   ]
  },
  {
   "cell_type": "code",
   "execution_count": 78,
   "metadata": {},
   "outputs": [],
   "source": [
    "df['kitchen_share'] = df['kitchen_area'] / df['total_area']"
   ]
  },
  {
   "cell_type": "markdown",
   "metadata": {},
   "source": [
    "Теперь для каждой категории общей площади квартиры найдем медианное значение доли площади кухни. "
   ]
  },
  {
   "cell_type": "code",
   "execution_count": 79,
   "metadata": {},
   "outputs": [],
   "source": [
    "df['kitchen_share'] = df['kitchen_share'].fillna(df.groupby('total_area_category')['kitchen_share'].transform(\"median\"))"
   ]
  },
  {
   "cell_type": "markdown",
   "metadata": {},
   "source": [
    "Проверим пропуски в поле 'kitchen_share'."
   ]
  },
  {
   "cell_type": "code",
   "execution_count": 80,
   "metadata": {
    "scrolled": true
   },
   "outputs": [
    {
     "data": {
      "text/plain": [
       "0.0"
      ]
     },
     "execution_count": 80,
     "metadata": {},
     "output_type": "execute_result"
    }
   ],
   "source": [
    "round(df['kitchen_share'].isna().mean() * 100, 2)"
   ]
  },
  {
   "cell_type": "markdown",
   "metadata": {},
   "source": [
    "Пропуски заполнены."
   ]
  },
  {
   "cell_type": "markdown",
   "metadata": {},
   "source": [
    "Теперь для строк с пропусками в колонке 'kitchen_area' вычислим площадь кухни исходя из ее доли от общей площади."
   ]
  },
  {
   "cell_type": "code",
   "execution_count": 81,
   "metadata": {},
   "outputs": [
    {
     "data": {
      "text/html": [
       "<div>\n",
       "<style scoped>\n",
       "    .dataframe tbody tr th:only-of-type {\n",
       "        vertical-align: middle;\n",
       "    }\n",
       "\n",
       "    .dataframe tbody tr th {\n",
       "        vertical-align: top;\n",
       "    }\n",
       "\n",
       "    .dataframe thead th {\n",
       "        text-align: right;\n",
       "    }\n",
       "</style>\n",
       "<table border=\"1\" class=\"dataframe\">\n",
       "  <thead>\n",
       "    <tr style=\"text-align: right;\">\n",
       "      <th></th>\n",
       "      <th>total_images</th>\n",
       "      <th>last_price</th>\n",
       "      <th>total_area</th>\n",
       "      <th>first_day_exposition</th>\n",
       "      <th>rooms</th>\n",
       "      <th>ceiling_height</th>\n",
       "      <th>floors_total</th>\n",
       "      <th>living_area</th>\n",
       "      <th>floor</th>\n",
       "      <th>is_apartment</th>\n",
       "      <th>...</th>\n",
       "      <th>airports_nearest</th>\n",
       "      <th>city_сenters_nearest</th>\n",
       "      <th>parks_around3000</th>\n",
       "      <th>parks_nearest</th>\n",
       "      <th>ponds_around3000</th>\n",
       "      <th>ponds_nearest</th>\n",
       "      <th>days_exposition</th>\n",
       "      <th>total_area_category</th>\n",
       "      <th>living_share</th>\n",
       "      <th>kitchen_share</th>\n",
       "    </tr>\n",
       "  </thead>\n",
       "  <tbody>\n",
       "    <tr>\n",
       "      <th>0</th>\n",
       "      <td>20</td>\n",
       "      <td>13000000.0</td>\n",
       "      <td>108.0</td>\n",
       "      <td>2019-03-07</td>\n",
       "      <td>3</td>\n",
       "      <td>2.70</td>\n",
       "      <td>16.0</td>\n",
       "      <td>51.000000</td>\n",
       "      <td>8</td>\n",
       "      <td>NaN</td>\n",
       "      <td>...</td>\n",
       "      <td>18863.0</td>\n",
       "      <td>16028.0</td>\n",
       "      <td>1.0</td>\n",
       "      <td>482.0</td>\n",
       "      <td>2.0</td>\n",
       "      <td>755.0</td>\n",
       "      <td>0.0</td>\n",
       "      <td>9</td>\n",
       "      <td>0.472222</td>\n",
       "      <td>0.231481</td>\n",
       "    </tr>\n",
       "    <tr>\n",
       "      <th>1</th>\n",
       "      <td>7</td>\n",
       "      <td>3350000.0</td>\n",
       "      <td>40.4</td>\n",
       "      <td>2018-12-04</td>\n",
       "      <td>1</td>\n",
       "      <td>0.00</td>\n",
       "      <td>11.0</td>\n",
       "      <td>18.600000</td>\n",
       "      <td>1</td>\n",
       "      <td>NaN</td>\n",
       "      <td>...</td>\n",
       "      <td>12817.0</td>\n",
       "      <td>18603.0</td>\n",
       "      <td>0.0</td>\n",
       "      <td>NaN</td>\n",
       "      <td>0.0</td>\n",
       "      <td>NaN</td>\n",
       "      <td>81.0</td>\n",
       "      <td>3</td>\n",
       "      <td>0.460396</td>\n",
       "      <td>0.272277</td>\n",
       "    </tr>\n",
       "    <tr>\n",
       "      <th>2</th>\n",
       "      <td>10</td>\n",
       "      <td>5196000.0</td>\n",
       "      <td>56.0</td>\n",
       "      <td>2015-08-20</td>\n",
       "      <td>2</td>\n",
       "      <td>0.00</td>\n",
       "      <td>5.0</td>\n",
       "      <td>34.300000</td>\n",
       "      <td>4</td>\n",
       "      <td>NaN</td>\n",
       "      <td>...</td>\n",
       "      <td>21741.0</td>\n",
       "      <td>13933.0</td>\n",
       "      <td>1.0</td>\n",
       "      <td>90.0</td>\n",
       "      <td>2.0</td>\n",
       "      <td>574.0</td>\n",
       "      <td>558.0</td>\n",
       "      <td>5</td>\n",
       "      <td>0.612500</td>\n",
       "      <td>0.148214</td>\n",
       "    </tr>\n",
       "    <tr>\n",
       "      <th>3</th>\n",
       "      <td>0</td>\n",
       "      <td>64900000.0</td>\n",
       "      <td>159.0</td>\n",
       "      <td>2015-07-24</td>\n",
       "      <td>3</td>\n",
       "      <td>0.00</td>\n",
       "      <td>14.0</td>\n",
       "      <td>94.887097</td>\n",
       "      <td>9</td>\n",
       "      <td>NaN</td>\n",
       "      <td>...</td>\n",
       "      <td>28098.0</td>\n",
       "      <td>6800.0</td>\n",
       "      <td>2.0</td>\n",
       "      <td>84.0</td>\n",
       "      <td>3.0</td>\n",
       "      <td>234.0</td>\n",
       "      <td>424.0</td>\n",
       "      <td>11</td>\n",
       "      <td>0.596774</td>\n",
       "      <td>0.112201</td>\n",
       "    </tr>\n",
       "    <tr>\n",
       "      <th>4</th>\n",
       "      <td>2</td>\n",
       "      <td>10000000.0</td>\n",
       "      <td>100.0</td>\n",
       "      <td>2018-06-19</td>\n",
       "      <td>2</td>\n",
       "      <td>3.03</td>\n",
       "      <td>14.0</td>\n",
       "      <td>41.000000</td>\n",
       "      <td>13</td>\n",
       "      <td>NaN</td>\n",
       "      <td>...</td>\n",
       "      <td>31856.0</td>\n",
       "      <td>8098.0</td>\n",
       "      <td>2.0</td>\n",
       "      <td>112.0</td>\n",
       "      <td>1.0</td>\n",
       "      <td>48.0</td>\n",
       "      <td>121.0</td>\n",
       "      <td>9</td>\n",
       "      <td>0.410000</td>\n",
       "      <td>0.320000</td>\n",
       "    </tr>\n",
       "  </tbody>\n",
       "</table>\n",
       "<p>5 rows × 25 columns</p>\n",
       "</div>"
      ],
      "text/plain": [
       "   total_images  last_price  total_area first_day_exposition  rooms  \\\n",
       "0            20  13000000.0       108.0           2019-03-07      3   \n",
       "1             7   3350000.0        40.4           2018-12-04      1   \n",
       "2            10   5196000.0        56.0           2015-08-20      2   \n",
       "3             0  64900000.0       159.0           2015-07-24      3   \n",
       "4             2  10000000.0       100.0           2018-06-19      2   \n",
       "\n",
       "   ceiling_height  floors_total  living_area  floor is_apartment  ...  \\\n",
       "0            2.70          16.0    51.000000      8          NaN  ...   \n",
       "1            0.00          11.0    18.600000      1          NaN  ...   \n",
       "2            0.00           5.0    34.300000      4          NaN  ...   \n",
       "3            0.00          14.0    94.887097      9          NaN  ...   \n",
       "4            3.03          14.0    41.000000     13          NaN  ...   \n",
       "\n",
       "   airports_nearest  city_сenters_nearest  parks_around3000  parks_nearest  \\\n",
       "0           18863.0               16028.0               1.0          482.0   \n",
       "1           12817.0               18603.0               0.0            NaN   \n",
       "2           21741.0               13933.0               1.0           90.0   \n",
       "3           28098.0                6800.0               2.0           84.0   \n",
       "4           31856.0                8098.0               2.0          112.0   \n",
       "\n",
       "  ponds_around3000  ponds_nearest  days_exposition  total_area_category  \\\n",
       "0              2.0          755.0              0.0                    9   \n",
       "1              0.0            NaN             81.0                    3   \n",
       "2              2.0          574.0            558.0                    5   \n",
       "3              3.0          234.0            424.0                   11   \n",
       "4              1.0           48.0            121.0                    9   \n",
       "\n",
       "   living_share  kitchen_share  \n",
       "0      0.472222       0.231481  \n",
       "1      0.460396       0.272277  \n",
       "2      0.612500       0.148214  \n",
       "3      0.596774       0.112201  \n",
       "4      0.410000       0.320000  \n",
       "\n",
       "[5 rows x 25 columns]"
      ]
     },
     "execution_count": 81,
     "metadata": {},
     "output_type": "execute_result"
    }
   ],
   "source": [
    "df['kitchen_area'] = df['kitchen_area'].fillna(df['total_area'] * df['kitchen_share'])\n",
    "df.head()"
   ]
  },
  {
   "cell_type": "markdown",
   "metadata": {},
   "source": [
    "Для наглядности выведем на экран только колонки с площадью."
   ]
  },
  {
   "cell_type": "code",
   "execution_count": 82,
   "metadata": {
    "scrolled": true
   },
   "outputs": [
    {
     "data": {
      "text/html": [
       "<div>\n",
       "<style scoped>\n",
       "    .dataframe tbody tr th:only-of-type {\n",
       "        vertical-align: middle;\n",
       "    }\n",
       "\n",
       "    .dataframe tbody tr th {\n",
       "        vertical-align: top;\n",
       "    }\n",
       "\n",
       "    .dataframe thead th {\n",
       "        text-align: right;\n",
       "    }\n",
       "</style>\n",
       "<table border=\"1\" class=\"dataframe\">\n",
       "  <thead>\n",
       "    <tr style=\"text-align: right;\">\n",
       "      <th></th>\n",
       "      <th>total_area</th>\n",
       "      <th>living_area</th>\n",
       "      <th>kitchen_area</th>\n",
       "    </tr>\n",
       "  </thead>\n",
       "  <tbody>\n",
       "    <tr>\n",
       "      <th>0</th>\n",
       "      <td>108.0</td>\n",
       "      <td>51.000000</td>\n",
       "      <td>25.000000</td>\n",
       "    </tr>\n",
       "    <tr>\n",
       "      <th>1</th>\n",
       "      <td>40.4</td>\n",
       "      <td>18.600000</td>\n",
       "      <td>11.000000</td>\n",
       "    </tr>\n",
       "    <tr>\n",
       "      <th>2</th>\n",
       "      <td>56.0</td>\n",
       "      <td>34.300000</td>\n",
       "      <td>8.300000</td>\n",
       "    </tr>\n",
       "    <tr>\n",
       "      <th>3</th>\n",
       "      <td>159.0</td>\n",
       "      <td>94.887097</td>\n",
       "      <td>17.840014</td>\n",
       "    </tr>\n",
       "    <tr>\n",
       "      <th>4</th>\n",
       "      <td>100.0</td>\n",
       "      <td>41.000000</td>\n",
       "      <td>32.000000</td>\n",
       "    </tr>\n",
       "  </tbody>\n",
       "</table>\n",
       "</div>"
      ],
      "text/plain": [
       "   total_area  living_area  kitchen_area\n",
       "0       108.0    51.000000     25.000000\n",
       "1        40.4    18.600000     11.000000\n",
       "2        56.0    34.300000      8.300000\n",
       "3       159.0    94.887097     17.840014\n",
       "4       100.0    41.000000     32.000000"
      ]
     },
     "execution_count": 82,
     "metadata": {},
     "output_type": "execute_result"
    }
   ],
   "source": [
    "df[['total_area', 'living_area', 'kitchen_area']].head()"
   ]
  },
  {
   "cell_type": "markdown",
   "metadata": {},
   "source": [
    "Проверим пропуски в поле 'kitchen_area'."
   ]
  },
  {
   "cell_type": "code",
   "execution_count": 83,
   "metadata": {},
   "outputs": [
    {
     "data": {
      "text/plain": [
       "0.0"
      ]
     },
     "execution_count": 83,
     "metadata": {},
     "output_type": "execute_result"
    }
   ],
   "source": [
    "round(df['kitchen_area'].isna().mean() * 100, 2)"
   ]
  },
  {
   "cell_type": "markdown",
   "metadata": {},
   "source": [
    "Пропуски в поле 'kitchen_area' заполнены."
   ]
  },
  {
   "cell_type": "markdown",
   "metadata": {},
   "source": [
    "Выведем информацию о данных колонки <b>'last_price'</b>.\n",
    "\n",
    "Пропусков в ней нет согласно первичному обзору данных."
   ]
  },
  {
   "cell_type": "code",
   "execution_count": 84,
   "metadata": {},
   "outputs": [
    {
     "data": {
      "text/plain": [
       "count    2.349800e+04\n",
       "mean     6.543538e+06\n",
       "std      1.092433e+07\n",
       "min      1.219000e+04\n",
       "25%      3.400000e+06\n",
       "50%      4.646500e+06\n",
       "75%      6.796750e+06\n",
       "max      7.630000e+08\n",
       "Name: last_price, dtype: float64"
      ]
     },
     "execution_count": 84,
     "metadata": {},
     "output_type": "execute_result"
    }
   ],
   "source": [
    "df['last_price'].describe()"
   ]
  },
  {
   "cell_type": "markdown",
   "metadata": {},
   "source": [
    "В колонке большой разброс данных: от минимального значения в 12190 руб. до максимального в 763 млн.руб.\n",
    "Выведем гистограмму колонки, ограничив стоимость значением 70 млн.руб."
   ]
  },
  {
   "cell_type": "code",
   "execution_count": 85,
   "metadata": {},
   "outputs": [
    {
     "data": {
      "image/png": "[encoded data removed]",
      "text/plain": [
       "<Figure size 720x432 with 1 Axes>"
      ]
     },
     "metadata": {},
     "output_type": "display_data"
    }
   ],
   "source": [
    "hist(df, 'last_price', 'стоимость', ', руб.', 70000000)"
   ]
  },
  {
   "cell_type": "markdown",
   "metadata": {},
   "source": [
    "По графику видно, что квартир со стоимомтью больше 40 млн.р очень мало, и их можно считать выбросами. Посмотрим, какова доля таких квартир."
   ]
  },
  {
   "cell_type": "code",
   "execution_count": 86,
   "metadata": {
    "scrolled": true
   },
   "outputs": [
    {
     "data": {
      "text/plain": [
       "181"
      ]
     },
     "execution_count": 86,
     "metadata": {},
     "output_type": "execute_result"
    }
   ],
   "source": [
    "df[df['last_price']>40000000]['last_price'].count()"
   ]
  },
  {
   "cell_type": "code",
   "execution_count": 87,
   "metadata": {
    "scrolled": true
   },
   "outputs": [
    {
     "data": {
      "text/plain": [
       "0.77"
      ]
     },
     "execution_count": 87,
     "metadata": {},
     "output_type": "execute_result"
    }
   ],
   "source": [
    "round(df[df['last_price']>40000000]['last_price'].count() / len(df) * 100, 2)"
   ]
  },
  {
   "cell_type": "markdown",
   "metadata": {},
   "source": [
    "Доля таких квартир очень мала - 0.77%. Их можно удалить."
   ]
  },
  {
   "cell_type": "code",
   "execution_count": 88,
   "metadata": {
    "scrolled": true
   },
   "outputs": [
    {
     "data": {
      "text/html": [
       "<div>\n",
       "<style scoped>\n",
       "    .dataframe tbody tr th:only-of-type {\n",
       "        vertical-align: middle;\n",
       "    }\n",
       "\n",
       "    .dataframe tbody tr th {\n",
       "        vertical-align: top;\n",
       "    }\n",
       "\n",
       "    .dataframe thead th {\n",
       "        text-align: right;\n",
       "    }\n",
       "</style>\n",
       "<table border=\"1\" class=\"dataframe\">\n",
       "  <thead>\n",
       "    <tr style=\"text-align: right;\">\n",
       "      <th></th>\n",
       "      <th>total_images</th>\n",
       "      <th>last_price</th>\n",
       "      <th>total_area</th>\n",
       "      <th>first_day_exposition</th>\n",
       "      <th>rooms</th>\n",
       "      <th>ceiling_height</th>\n",
       "      <th>floors_total</th>\n",
       "      <th>living_area</th>\n",
       "      <th>floor</th>\n",
       "      <th>is_apartment</th>\n",
       "      <th>...</th>\n",
       "      <th>airports_nearest</th>\n",
       "      <th>city_сenters_nearest</th>\n",
       "      <th>parks_around3000</th>\n",
       "      <th>parks_nearest</th>\n",
       "      <th>ponds_around3000</th>\n",
       "      <th>ponds_nearest</th>\n",
       "      <th>days_exposition</th>\n",
       "      <th>total_area_category</th>\n",
       "      <th>living_share</th>\n",
       "      <th>kitchen_share</th>\n",
       "    </tr>\n",
       "  </thead>\n",
       "  <tbody>\n",
       "    <tr>\n",
       "      <th>8750</th>\n",
       "      <td>7</td>\n",
       "      <td>12190.0</td>\n",
       "      <td>109.0</td>\n",
       "      <td>2019-03-20</td>\n",
       "      <td>2</td>\n",
       "      <td>2.75</td>\n",
       "      <td>25.0</td>\n",
       "      <td>40.5</td>\n",
       "      <td>25</td>\n",
       "      <td>NaN</td>\n",
       "      <td>...</td>\n",
       "      <td>36421.0</td>\n",
       "      <td>9176.0</td>\n",
       "      <td>1.0</td>\n",
       "      <td>805.0</td>\n",
       "      <td>0.0</td>\n",
       "      <td>NaN</td>\n",
       "      <td>8.0</td>\n",
       "      <td>9</td>\n",
       "      <td>0.37156</td>\n",
       "      <td>0.293578</td>\n",
       "    </tr>\n",
       "  </tbody>\n",
       "</table>\n",
       "<p>1 rows × 25 columns</p>\n",
       "</div>"
      ],
      "text/plain": [
       "      total_images  last_price  total_area first_day_exposition  rooms  \\\n",
       "8750             7     12190.0       109.0           2019-03-20      2   \n",
       "\n",
       "      ceiling_height  floors_total  living_area  floor is_apartment  ...  \\\n",
       "8750            2.75          25.0         40.5     25          NaN  ...   \n",
       "\n",
       "      airports_nearest  city_сenters_nearest  parks_around3000  parks_nearest  \\\n",
       "8750           36421.0                9176.0               1.0          805.0   \n",
       "\n",
       "     ponds_around3000  ponds_nearest  days_exposition  total_area_category  \\\n",
       "8750              0.0            NaN              8.0                    9   \n",
       "\n",
       "      living_share  kitchen_share  \n",
       "8750       0.37156       0.293578  \n",
       "\n",
       "[1 rows x 25 columns]"
      ]
     },
     "execution_count": 88,
     "metadata": {},
     "output_type": "execute_result"
    }
   ],
   "source": [
    "df[df['last_price']<100000]"
   ]
  },
  {
   "cell_type": "markdown",
   "metadata": {},
   "source": [
    "Цена 12190 р. за квартиру в 109 кв.м в Петербурге - нереально низкая. Эту строку тоже лучше удалить. Удаление сделаем в конце проверки всех данных."
   ]
  },
  {
   "cell_type": "markdown",
   "metadata": {},
   "source": [
    "Выведем информацию о данных колонки <b>'balcony'</b>.\n",
    "\n",
    "Согласно первичному обзору данных в ней есть пропуски."
   ]
  },
  {
   "cell_type": "code",
   "execution_count": 89,
   "metadata": {
    "scrolled": true
   },
   "outputs": [
    {
     "data": {
      "text/plain": [
       "count    12046.000000\n",
       "mean         1.155819\n",
       "std          1.071094\n",
       "min          0.000000\n",
       "25%          0.000000\n",
       "50%          1.000000\n",
       "75%          2.000000\n",
       "max          5.000000\n",
       "Name: balcony, dtype: float64"
      ]
     },
     "execution_count": 89,
     "metadata": {},
     "output_type": "execute_result"
    }
   ],
   "source": [
    "df['balcony'].describe()"
   ]
  },
  {
   "cell_type": "markdown",
   "metadata": {},
   "source": [
    "Аномальных значений нет. \n",
    "\n",
    "Согласно первичному обзору данных в ней есть пропуски."
   ]
  },
  {
   "cell_type": "code",
   "execution_count": 90,
   "metadata": {},
   "outputs": [
    {
     "data": {
      "text/plain": [
       "48.74"
      ]
     },
     "execution_count": 90,
     "metadata": {},
     "output_type": "execute_result"
    }
   ],
   "source": [
    "round(df['balcony'].isna().mean() * 100, 2)"
   ]
  },
  {
   "cell_type": "markdown",
   "metadata": {},
   "source": [
    "Пропусков много (48.74%). Скорее всего пользователь не заполнил информацию о балконах в тех случаях, когда балконов в квартире нет. \n",
    "\n",
    "Поэтому заполним пропуски в поле 'balcony' значением 0."
   ]
  },
  {
   "cell_type": "code",
   "execution_count": 91,
   "metadata": {},
   "outputs": [],
   "source": [
    "df['balcony'] = df['balcony'].fillna(0)"
   ]
  },
  {
   "cell_type": "code",
   "execution_count": 92,
   "metadata": {
    "scrolled": true
   },
   "outputs": [
    {
     "data": {
      "text/plain": [
       "0.0"
      ]
     },
     "execution_count": 92,
     "metadata": {},
     "output_type": "execute_result"
    }
   ],
   "source": [
    "round(df['balcony'].isna().mean() * 100, 2)"
   ]
  },
  {
   "cell_type": "markdown",
   "metadata": {},
   "source": [
    "Выведем информацию о данных колонки <b>'total_images'</b>.\n",
    "\n",
    "Согласно первичному обзору данных в ней есть пропуски."
   ]
  },
  {
   "cell_type": "code",
   "execution_count": 93,
   "metadata": {},
   "outputs": [
    {
     "data": {
      "text/plain": [
       "count    23498.000000\n",
       "mean         9.877181\n",
       "std          5.680487\n",
       "min          0.000000\n",
       "25%          6.000000\n",
       "50%          9.000000\n",
       "75%         14.000000\n",
       "max         50.000000\n",
       "Name: total_images, dtype: float64"
      ]
     },
     "execution_count": 93,
     "metadata": {},
     "output_type": "execute_result"
    }
   ],
   "source": [
    "df['total_images'].describe()"
   ]
  },
  {
   "cell_type": "markdown",
   "metadata": {},
   "source": [
    "Есть выбросы с большим количеством фотографий, но т.к. для исследований данные колонки не нужны, не будем их трогать.\n",
    "\n",
    "Пропусков в колонке нет согласно первичному обзору данных."
   ]
  },
  {
   "cell_type": "markdown",
   "metadata": {},
   "source": [
    "Выведем информацию о данных колонки <b>'is_apartment'</b>. Это колонка строкового типа, но в ней, судя по названию и описанию, содержится признак, является ли квартира апартаментами.\n",
    "\n",
    "Выведем уникальные значения этой колонки."
   ]
  },
  {
   "cell_type": "code",
   "execution_count": 94,
   "metadata": {
    "scrolled": true
   },
   "outputs": [
    {
     "data": {
      "text/plain": [
       "False    2693\n",
       "True       50\n",
       "Name: is_apartment, dtype: int64"
      ]
     },
     "execution_count": 94,
     "metadata": {},
     "output_type": "execute_result"
    }
   ],
   "source": [
    "df['is_apartment'].value_counts()"
   ]
  },
  {
   "cell_type": "markdown",
   "metadata": {},
   "source": [
    "Согласно первичному обзору данных в колонке есть пропуски. "
   ]
  },
  {
   "cell_type": "code",
   "execution_count": 95,
   "metadata": {},
   "outputs": [
    {
     "data": {
      "text/plain": [
       "88.33"
      ]
     },
     "execution_count": 95,
     "metadata": {},
     "output_type": "execute_result"
    }
   ],
   "source": [
    "round(df['is_apartment'].isna().mean() * 100,2)"
   ]
  },
  {
   "cell_type": "markdown",
   "metadata": {},
   "source": [
    "Пропусков достаточно много, 88.33%.\n",
    "\n",
    "Так как данные колонки не используются для исследования, заполним пропуски значением 'unknown', тип колонки оставим как есть."
   ]
  },
  {
   "cell_type": "code",
   "execution_count": 96,
   "metadata": {},
   "outputs": [],
   "source": [
    "df['is_apartment'] = df['is_apartment'].fillna('unknown')"
   ]
  },
  {
   "cell_type": "code",
   "execution_count": 97,
   "metadata": {
    "scrolled": true
   },
   "outputs": [
    {
     "data": {
      "text/plain": [
       "0.0"
      ]
     },
     "execution_count": 97,
     "metadata": {},
     "output_type": "execute_result"
    }
   ],
   "source": [
    "round(df['is_apartment'].isna().mean() * 100,2)"
   ]
  },
  {
   "cell_type": "markdown",
   "metadata": {},
   "source": [
    "Пропуски заполнены"
   ]
  },
  {
   "cell_type": "markdown",
   "metadata": {},
   "source": [
    "Поля <b>'airports_nearest', 'parks_nearest', 'ponds_nearest'</b> заполнены автоматически на основании картографических данных. Согласно первичному обзору данных, в них много пропусков. Пропуски в этих колонках можно объяснить сбоем программы. \n",
    "\n",
    "Пропуски в этих полях можно заполнить значением 0, которое будет означать, что расстояние неизвестно."
   ]
  },
  {
   "cell_type": "markdown",
   "metadata": {},
   "source": [
    "Поля <b>'parks_around3000', 'ponds_around3000'</b> содержат количество парков и прудов рядом с квартирой. В них тоже много пропусков, которые можно объяснить тем, что пользователь не заполнил эти поля, т.к. рядом нет парков или прудов. Пропуски в колонках 'parks_around3000' и 'ponds_around3000' тоже можно заполнить значением 0."
   ]
  },
  {
   "cell_type": "code",
   "execution_count": 98,
   "metadata": {},
   "outputs": [],
   "source": [
    "columns_to_replace = ['airports_nearest', 'parks_nearest', 'ponds_nearest',  'parks_around3000', 'ponds_around3000']\n",
    "for column in columns_to_replace:\n",
    "    df[column] = df[column].fillna(0)"
   ]
  },
  {
   "cell_type": "code",
   "execution_count": 99,
   "metadata": {},
   "outputs": [
    {
     "data": {
      "text/plain": [
       "total_images            0\n",
       "last_price              0\n",
       "total_area              0\n",
       "first_day_exposition    0\n",
       "rooms                   0\n",
       "ceiling_height          0\n",
       "floors_total            0\n",
       "living_area             0\n",
       "floor                   0\n",
       "is_apartment            0\n",
       "studio                  0\n",
       "open_plan               0\n",
       "kitchen_area            0\n",
       "balcony                 0\n",
       "locality_name           0\n",
       "airports_nearest        0\n",
       "city_сenters_nearest    0\n",
       "parks_around3000        0\n",
       "parks_nearest           0\n",
       "ponds_around3000        0\n",
       "ponds_nearest           0\n",
       "days_exposition         0\n",
       "total_area_category     0\n",
       "living_share            0\n",
       "kitchen_share           0\n",
       "dtype: int64"
      ]
     },
     "execution_count": 99,
     "metadata": {},
     "output_type": "execute_result"
    }
   ],
   "source": [
    "df.isna().sum()"
   ]
  },
  {
   "cell_type": "markdown",
   "metadata": {},
   "source": [
    "Пропусков в данных не осталось."
   ]
  },
  {
   "cell_type": "markdown",
   "metadata": {},
   "source": [
    "Колонки 'floors_total', 'balcony', 'parks_around3000', 'ponds_around3000', 'days_exposition' отражают количество (этажей в доме, балконов в квартире, парков и прудов рядом, дней публикации объявления), но тип данных у этих колонок float. Для удобства последующего анализа этих данных переведем их в цлочисленный тип.\n",
    "Колонку 'last_price' тоже лучше сделать целочисленной, т.к. цена квартиры обычно не указывается до копеек."
   ]
  },
  {
   "cell_type": "code",
   "execution_count": 100,
   "metadata": {
    "scrolled": true
   },
   "outputs": [],
   "source": [
    "columns_to_int = ['city_сenters_nearest', 'floors_total', 'balcony', 'parks_around3000', 'ponds_around3000', 'days_exposition', 'last_price']\n",
    "for column in columns_to_int:\n",
    "    df[column] = df[column].astype('int')"
   ]
  },
  {
   "cell_type": "markdown",
   "metadata": {},
   "source": [
    "Пропуски заполнены, удалим выбросы в данных.\n",
    "\n",
    "Теперь удалим выбросы в данных. Согласно исследованиям, нужно удалить данные, если:\n",
    "* высота потолка меньше 2.4 м и больше 10 м;\n",
    "* количество этажей больше 36;\n",
    "* общая площадь более 400 кв.м;\n",
    "* стоимость менее 100000 руб. или более 40000000 руб."
   ]
  },
  {
   "cell_type": "code",
   "execution_count": 101,
   "metadata": {},
   "outputs": [],
   "source": [
    "df = df.query(''' \n",
    "((ceiling_height == 0) or ((ceiling_height >= 2.4) and (ceiling_height <= 10))) and \\\n",
    "(floors_total <= 36) and \\\n",
    "(total_area <= 400) and \\\n",
    "((last_price > 100000) & (last_price <= 40000000))\n",
    " ''')"
   ]
  },
  {
   "cell_type": "code",
   "execution_count": 102,
   "metadata": {},
   "outputs": [
    {
     "name": "stdout",
     "output_type": "stream",
     "text": [
      "<class 'pandas.core.frame.DataFrame'>\n",
      "Int64Index: 23285 entries, 0 to 23564\n",
      "Data columns (total 25 columns):\n",
      " #   Column                Non-Null Count  Dtype         \n",
      "---  ------                --------------  -----         \n",
      " 0   total_images          23285 non-null  int64         \n",
      " 1   last_price            23285 non-null  int32         \n",
      " 2   total_area            23285 non-null  float64       \n",
      " 3   first_day_exposition  23285 non-null  datetime64[ns]\n",
      " 4   rooms                 23285 non-null  int64         \n",
      " 5   ceiling_height        23285 non-null  float64       \n",
      " 6   floors_total          23285 non-null  int32         \n",
      " 7   living_area           23285 non-null  float64       \n",
      " 8   floor                 23285 non-null  int64         \n",
      " 9   is_apartment          23285 non-null  object        \n",
      " 10  studio                23285 non-null  bool          \n",
      " 11  open_plan             23285 non-null  bool          \n",
      " 12  kitchen_area          23285 non-null  float64       \n",
      " 13  balcony               23285 non-null  int32         \n",
      " 14  locality_name         23285 non-null  object        \n",
      " 15  airports_nearest      23285 non-null  float64       \n",
      " 16  city_сenters_nearest  23285 non-null  int32         \n",
      " 17  parks_around3000      23285 non-null  int32         \n",
      " 18  parks_nearest         23285 non-null  float64       \n",
      " 19  ponds_around3000      23285 non-null  int32         \n",
      " 20  ponds_nearest         23285 non-null  float64       \n",
      " 21  days_exposition       23285 non-null  int32         \n",
      " 22  total_area_category   23285 non-null  int64         \n",
      " 23  living_share          23285 non-null  float64       \n",
      " 24  kitchen_share         23285 non-null  float64       \n",
      "dtypes: bool(2), datetime64[ns](1), float64(9), int32(7), int64(4), object(2)\n",
      "memory usage: 3.7+ MB\n"
     ]
    }
   ],
   "source": [
    "df.info()"
   ]
  },
  {
   "cell_type": "markdown",
   "metadata": {},
   "source": [
    "Данные прошли предобработку, в результате которой:\n",
    "* удалены пропуски;\n",
    "* устранены неявные дубликаты ('locality_name');\n",
    "* произведена категоризация данных ('ceiling_height','total_area');\n",
    "* типы данных изменены на типы, более удобные для последующего анализа;\n",
    "* удалены некоторые выбросы."
   ]
  },
  {
   "cell_type": "markdown",
   "metadata": {},
   "source": [
    "## 3. Расчёты и добавление результатов в таблицу"
   ]
  },
  {
   "cell_type": "markdown",
   "metadata": {},
   "source": [
    "На этапе предобработки были созданы колонки соотношения жилой площади и площади кухни к общей площади квартиры ('living_share' и 'kitchen_share').\n",
    "\n",
    "Нужно создать еще следующие колонки в датафрейме df:\n",
    "\n",
    "* День недели, месяц и год публикации объявления;\n",
    "* цена квадратного метра;\n",
    "* вариант этажа квартиры ('первый', 'последний', 'другой');\n",
    "* расстояние до центра в км."
   ]
  },
  {
   "cell_type": "markdown",
   "metadata": {},
   "source": [
    "Добавим колонку 'week_day_exposition', где будет находиться номер дня недели публикации объявления."
   ]
  },
  {
   "cell_type": "code",
   "execution_count": 103,
   "metadata": {},
   "outputs": [],
   "source": [
    "df['week_day_exposition'] = df['first_day_exposition'].dt.weekday"
   ]
  },
  {
   "cell_type": "markdown",
   "metadata": {},
   "source": [
    "Создадим колонку 'month_exposition', где будет находиться номер месяца публикации объявления."
   ]
  },
  {
   "cell_type": "code",
   "execution_count": 104,
   "metadata": {},
   "outputs": [],
   "source": [
    "df['month_exposition'] = df['first_day_exposition'].dt.month"
   ]
  },
  {
   "cell_type": "markdown",
   "metadata": {},
   "source": [
    "Добавим колонку 'year_exposition', где будет находиться год публикации объявления."
   ]
  },
  {
   "cell_type": "code",
   "execution_count": 105,
   "metadata": {},
   "outputs": [],
   "source": [
    "df['year_exposition'] = df['first_day_exposition'].dt.year"
   ]
  },
  {
   "cell_type": "code",
   "execution_count": 106,
   "metadata": {},
   "outputs": [
    {
     "data": {
      "text/html": [
       "<div>\n",
       "<style scoped>\n",
       "    .dataframe tbody tr th:only-of-type {\n",
       "        vertical-align: middle;\n",
       "    }\n",
       "\n",
       "    .dataframe tbody tr th {\n",
       "        vertical-align: top;\n",
       "    }\n",
       "\n",
       "    .dataframe thead th {\n",
       "        text-align: right;\n",
       "    }\n",
       "</style>\n",
       "<table border=\"1\" class=\"dataframe\">\n",
       "  <thead>\n",
       "    <tr style=\"text-align: right;\">\n",
       "      <th></th>\n",
       "      <th>week_day_exposition</th>\n",
       "      <th>month_exposition</th>\n",
       "      <th>year_exposition</th>\n",
       "    </tr>\n",
       "  </thead>\n",
       "  <tbody>\n",
       "    <tr>\n",
       "      <th>0</th>\n",
       "      <td>3</td>\n",
       "      <td>3</td>\n",
       "      <td>2019</td>\n",
       "    </tr>\n",
       "    <tr>\n",
       "      <th>1</th>\n",
       "      <td>1</td>\n",
       "      <td>12</td>\n",
       "      <td>2018</td>\n",
       "    </tr>\n",
       "    <tr>\n",
       "      <th>2</th>\n",
       "      <td>3</td>\n",
       "      <td>8</td>\n",
       "      <td>2015</td>\n",
       "    </tr>\n",
       "    <tr>\n",
       "      <th>4</th>\n",
       "      <td>1</td>\n",
       "      <td>6</td>\n",
       "      <td>2018</td>\n",
       "    </tr>\n",
       "    <tr>\n",
       "      <th>5</th>\n",
       "      <td>0</td>\n",
       "      <td>9</td>\n",
       "      <td>2018</td>\n",
       "    </tr>\n",
       "  </tbody>\n",
       "</table>\n",
       "</div>"
      ],
      "text/plain": [
       "   week_day_exposition  month_exposition  year_exposition\n",
       "0                    3                 3             2019\n",
       "1                    1                12             2018\n",
       "2                    3                 8             2015\n",
       "4                    1                 6             2018\n",
       "5                    0                 9             2018"
      ]
     },
     "execution_count": 106,
     "metadata": {},
     "output_type": "execute_result"
    }
   ],
   "source": [
    "df[['week_day_exposition','month_exposition','year_exposition']].head()"
   ]
  },
  {
   "cell_type": "markdown",
   "metadata": {},
   "source": [
    "Создадим колонку 'square_meter_price' для хранения цены квадратного метра."
   ]
  },
  {
   "cell_type": "code",
   "execution_count": 107,
   "metadata": {},
   "outputs": [],
   "source": [
    "df['square_meter_price'] = df['last_price'] / df['total_area']"
   ]
  },
  {
   "cell_type": "markdown",
   "metadata": {},
   "source": [
    "Теперь добавим колонку 'floor_variant', где будет находиться вариант этажа квартиры: 1 - 'первый', 3 - 'последний', 2 -'другой' (чем выше этаж, тем больше значение переменной floor_variant). \n",
    "\n",
    "Сначала создадим функцию define_floor_variant, которая определяет вариант этажа на основании значений колонок 'floor' и 'floors_total'. "
   ]
  },
  {
   "cell_type": "code",
   "execution_count": 108,
   "metadata": {},
   "outputs": [],
   "source": [
    "def define_floor_variant(row):\n",
    "    if row['floor'] == 1:\n",
    "        result = 'первый'\n",
    "    elif row['floor'] == row['floors_total']:\n",
    "        result = 'последний'\n",
    "    else:\n",
    "        result = 'другой'\n",
    "    return result"
   ]
  },
  {
   "cell_type": "markdown",
   "metadata": {},
   "source": [
    "Применим функцию define_floor_variant к датафрейму df."
   ]
  },
  {
   "cell_type": "code",
   "execution_count": 109,
   "metadata": {},
   "outputs": [],
   "source": [
    "df['floor_variant'] = df.apply(define_floor_variant, axis=1)"
   ]
  },
  {
   "cell_type": "markdown",
   "metadata": {},
   "source": [
    "Создадим столбец 'city_center_km', который содержит расстояние до центра в км."
   ]
  },
  {
   "cell_type": "code",
   "execution_count": 110,
   "metadata": {},
   "outputs": [],
   "source": [
    "df['city_center_km'] = round(df['city_сenters_nearest'] / 1000)"
   ]
  },
  {
   "cell_type": "code",
   "execution_count": 111,
   "metadata": {},
   "outputs": [
    {
     "data": {
      "text/html": [
       "<div>\n",
       "<style scoped>\n",
       "    .dataframe tbody tr th:only-of-type {\n",
       "        vertical-align: middle;\n",
       "    }\n",
       "\n",
       "    .dataframe tbody tr th {\n",
       "        vertical-align: top;\n",
       "    }\n",
       "\n",
       "    .dataframe thead th {\n",
       "        text-align: right;\n",
       "    }\n",
       "</style>\n",
       "<table border=\"1\" class=\"dataframe\">\n",
       "  <thead>\n",
       "    <tr style=\"text-align: right;\">\n",
       "      <th></th>\n",
       "      <th>square_meter_price</th>\n",
       "      <th>floor_variant</th>\n",
       "      <th>city_center_km</th>\n",
       "      <th>city_сenters_nearest</th>\n",
       "    </tr>\n",
       "  </thead>\n",
       "  <tbody>\n",
       "    <tr>\n",
       "      <th>0</th>\n",
       "      <td>120370.370370</td>\n",
       "      <td>другой</td>\n",
       "      <td>16.0</td>\n",
       "      <td>16028</td>\n",
       "    </tr>\n",
       "    <tr>\n",
       "      <th>1</th>\n",
       "      <td>82920.792079</td>\n",
       "      <td>первый</td>\n",
       "      <td>19.0</td>\n",
       "      <td>18603</td>\n",
       "    </tr>\n",
       "    <tr>\n",
       "      <th>2</th>\n",
       "      <td>92785.714286</td>\n",
       "      <td>другой</td>\n",
       "      <td>14.0</td>\n",
       "      <td>13933</td>\n",
       "    </tr>\n",
       "    <tr>\n",
       "      <th>4</th>\n",
       "      <td>100000.000000</td>\n",
       "      <td>другой</td>\n",
       "      <td>8.0</td>\n",
       "      <td>8098</td>\n",
       "    </tr>\n",
       "    <tr>\n",
       "      <th>5</th>\n",
       "      <td>95065.789474</td>\n",
       "      <td>другой</td>\n",
       "      <td>100.0</td>\n",
       "      <td>99999</td>\n",
       "    </tr>\n",
       "  </tbody>\n",
       "</table>\n",
       "</div>"
      ],
      "text/plain": [
       "   square_meter_price floor_variant  city_center_km  city_сenters_nearest\n",
       "0       120370.370370        другой            16.0                 16028\n",
       "1        82920.792079        первый            19.0                 18603\n",
       "2        92785.714286        другой            14.0                 13933\n",
       "4       100000.000000        другой             8.0                  8098\n",
       "5        95065.789474        другой           100.0                 99999"
      ]
     },
     "execution_count": 111,
     "metadata": {},
     "output_type": "execute_result"
    }
   ],
   "source": [
    "df[['square_meter_price', 'floor_variant', 'city_center_km', 'city_сenters_nearest']].head()"
   ]
  },
  {
   "cell_type": "markdown",
   "metadata": {},
   "source": [
    "Значение колонки 'city_center_km' будет равно 100, если расстояние от квартиры до центра неизвестно ('city_centers_nearest'=99999)."
   ]
  },
  {
   "cell_type": "markdown",
   "metadata": {},
   "source": [
    "## 4. Исследовательский анализ данных"
   ]
  },
  {
   "cell_type": "markdown",
   "metadata": {},
   "source": [
    "### 4.1. Изучение площади, цены, числа комнат и высоты потолков."
   ]
  },
  {
   "cell_type": "markdown",
   "metadata": {},
   "source": [
    "Для изучения площади, цены, числа комнат и высоты потолков построим гистограммы соответствующих колонок 'total_area', 'last_price', 'rooms', 'ceiling_height'."
   ]
  },
  {
   "cell_type": "code",
   "execution_count": 112,
   "metadata": {},
   "outputs": [
    {
     "data": {
      "image/png": "[encoded data removed]",
      "text/plain": [
       "<Figure size 720x432 with 1 Axes>"
      ]
     },
     "metadata": {},
     "output_type": "display_data"
    },
    {
     "data": {
      "image/png": "[encoded data removed]",
      "text/plain": [
       "<Figure size 720x432 with 1 Axes>"
      ]
     },
     "metadata": {},
     "output_type": "display_data"
    },
    {
     "data": {
      "image/png": "[encoded data removed]",
      "text/plain": [
       "<Figure size 720x432 with 1 Axes>"
      ]
     },
     "metadata": {},
     "output_type": "display_data"
    },
    {
     "data": {
      "image/png": "[encoded data removed]",
      "text/plain": [
       "<Figure size 720x432 with 1 Axes>"
      ]
     },
     "metadata": {},
     "output_type": "display_data"
    }
   ],
   "source": [
    "columns = ['total_area', 'last_price', 'rooms', 'ceiling_height'] \n",
    "col_names = ['общая площадь', 'стоимость', 'количество комнат', 'высота потолка']\n",
    "ed_izm_list = [', кв.м', ', руб.', '', ', м']\n",
    "xlyms = [None, 40000000, None, None]\n",
    "\n",
    "for column, col_name, ed_izm, xlym in zip(columns, col_names, ed_izm_list, xlyms):    \n",
    "    hist(df, column, col_name, ed_izm, xlym)    "
   ]
  },
  {
   "cell_type": "markdown",
   "metadata": {},
   "source": [
    "По гистограммам можно сделать следующие <b>выводы:</b>\n",
    "\n",
    "* Самыми популярными являются квартиры с общей площадью от 30 до 65 кв.м, меньше всего объявлений очень маленьких и очень больших квартир (до 25 кв.м и более 200 кв.м).\n",
    "* Самыми популярными являются квартиры в ценовой категории от 2.5 до 6 млн.руб., менее всего популярны квартиры с самой низкой и высокой ценой (меньне 1 млн.руб. и более 30 млн. руб).\n",
    "* В основной массе объявления о продаже 1 и 2-х комнатных квартир, 3-х комнатные квартиры тоже популярны.\n",
    "* Основная масса объявлений квартир с высотой потолка от 2.4 до 2.7 м, меньше всего объявлений о недвижимости с очень высокими потолками (выше 3.5 м)."
   ]
  },
  {
   "cell_type": "markdown",
   "metadata": {},
   "source": [
    "### 4.2. Изучение времени продажи квартиры"
   ]
  },
  {
   "cell_type": "markdown",
   "metadata": {},
   "source": [
    "Вызовем метод describe() для значениий колонки 'days_exposition', отличных от 0 (т.е. для данных, у которых известно количество дней размещения объявления)."
   ]
  },
  {
   "cell_type": "code",
   "execution_count": 113,
   "metadata": {
    "scrolled": true
   },
   "outputs": [
    {
     "data": {
      "text/plain": [
       "count    20171.000000\n",
       "mean       179.830896\n",
       "std        218.983815\n",
       "min          1.000000\n",
       "25%         45.000000\n",
       "50%         95.000000\n",
       "75%        229.000000\n",
       "max       1580.000000\n",
       "Name: days_exposition, dtype: float64"
      ]
     },
     "execution_count": 113,
     "metadata": {},
     "output_type": "execute_result"
    }
   ],
   "source": [
    "df[df['days_exposition']>0]['days_exposition'].describe()"
   ]
  },
  {
   "cell_type": "code",
   "execution_count": 114,
   "metadata": {},
   "outputs": [
    {
     "data": {
      "image/png": "[encoded data removed]",
      "text/plain": [
       "<Figure size 720x432 with 1 Axes>"
      ]
     },
     "metadata": {},
     "output_type": "display_data"
    }
   ],
   "source": [
    "hist(df[df['days_exposition']>0], 'days_exposition', 'количество дней размещения объявления', '', None) "
   ]
  },
  {
   "cell_type": "markdown",
   "metadata": {},
   "source": [
    "Минимальный срок продажи квартиры - 1 день, максимальный 1580 дней (более 4 лет).\n",
    "У основной части квартир срок продажи от 45 до 230 дней (около 7-8 месяцев)."
   ]
  },
  {
   "cell_type": "markdown",
   "metadata": {},
   "source": [
    "### 4.3. Изучение факторов, влияющих на стоимость квартиры"
   ]
  },
  {
   "cell_type": "markdown",
   "metadata": {},
   "source": [
    "К факторам, от которых может зависеть стоимость квартиры, относятся площадь, число комнат, удаленность от центра, вариант этажа (1-й, последний, другой), а также день недели, месяц и год даты размещения объявления."
   ]
  },
  {
   "cell_type": "markdown",
   "metadata": {},
   "source": [
    "Найдем коэффициент корреляции цены квартиры с каждым из параметров."
   ]
  },
  {
   "cell_type": "code",
   "execution_count": 115,
   "metadata": {},
   "outputs": [
    {
     "name": "stdout",
     "output_type": "stream",
     "text": [
      "корреляция last_price - total_area : 0.79\n",
      "корреляция last_price - rooms : 0.52\n",
      "корреляция last_price - city_center_km : -0.34\n",
      "корреляция last_price - week_day_exposition : -0.01\n",
      "корреляция last_price - month_exposition : 0.0\n",
      "корреляция last_price - year_exposition : -0.04\n"
     ]
    }
   ],
   "source": [
    "for column in ['total_area','rooms','city_center_km','week_day_exposition', 'month_exposition', 'year_exposition']:\n",
    "    # для колонки 'city_center_km' поставим ограничение < 100, т.к. значение 100 у нас у данных, \n",
    "    # расстояние до центра у которых неизвестно\n",
    "    if column == 'city_center_km':\n",
    "        print('корреляция last_price -',column,':',round(df['last_price'].corr(df[df[column]<100][column]),2))\n",
    "    else:\n",
    "        print('корреляция last_price -',column,':',round(df['last_price'].corr(df[column]),2))"
   ]
  },
  {
   "cell_type": "markdown",
   "metadata": {},
   "source": [
    "Вычисления коэффициента корреляции показало, что существует линейная зависимость стоимости от площади, числа комнат и удаленности от центра.\n",
    "\n",
    "Зависимость от варианта этажа, дня недели, месяца и года даты размещения объявления будем исследовать с помощью графиков."
   ]
  },
  {
   "cell_type": "code",
   "execution_count": 116,
   "metadata": {},
   "outputs": [],
   "source": [
    "def lineplot(df, column1, column2, title, xlabel, ylabel, ylim):\n",
    "        plt.figure(figsize=(10, 6))\n",
    "        sns.set_style('darkgrid') \n",
    "\n",
    "        sns.set_palette('PRGn')\n",
    "        ax = sns.lineplot(data = df, x = column1, y = column2)\n",
    "        ax.set_ylim(bottom = 0, top = ylim)\n",
    "        plt.title(f'Зависимость: ' + title + xlabel, fontsize = 18)\n",
    "        #plt.legend(fontsize=12)\n",
    "        plt.xticks(rotation = 0,fontsize=12)\n",
    "        plt.xlabel(xlabel,fontsize=15)\n",
    "        plt.ylabel(ylabel,fontsize=15)\n",
    "        plt.show()\n"
   ]
  },
  {
   "cell_type": "code",
   "execution_count": 117,
   "metadata": {},
   "outputs": [
    {
     "data": {
      "text/html": [
       "<div>\n",
       "<style scoped>\n",
       "    .dataframe tbody tr th:only-of-type {\n",
       "        vertical-align: middle;\n",
       "    }\n",
       "\n",
       "    .dataframe tbody tr th {\n",
       "        vertical-align: top;\n",
       "    }\n",
       "\n",
       "    .dataframe thead th {\n",
       "        text-align: right;\n",
       "    }\n",
       "</style>\n",
       "<table border=\"1\" class=\"dataframe\">\n",
       "  <thead>\n",
       "    <tr style=\"text-align: right;\">\n",
       "      <th></th>\n",
       "      <th>total_images</th>\n",
       "      <th>last_price</th>\n",
       "      <th>total_area</th>\n",
       "      <th>first_day_exposition</th>\n",
       "      <th>rooms</th>\n",
       "      <th>ceiling_height</th>\n",
       "      <th>floors_total</th>\n",
       "      <th>living_area</th>\n",
       "      <th>floor</th>\n",
       "      <th>is_apartment</th>\n",
       "      <th>...</th>\n",
       "      <th>days_exposition</th>\n",
       "      <th>total_area_category</th>\n",
       "      <th>living_share</th>\n",
       "      <th>kitchen_share</th>\n",
       "      <th>week_day_exposition</th>\n",
       "      <th>month_exposition</th>\n",
       "      <th>year_exposition</th>\n",
       "      <th>square_meter_price</th>\n",
       "      <th>floor_variant</th>\n",
       "      <th>city_center_km</th>\n",
       "    </tr>\n",
       "  </thead>\n",
       "  <tbody>\n",
       "    <tr>\n",
       "      <th>0</th>\n",
       "      <td>20</td>\n",
       "      <td>13000000</td>\n",
       "      <td>108.0</td>\n",
       "      <td>2019-03-07</td>\n",
       "      <td>3</td>\n",
       "      <td>2.70</td>\n",
       "      <td>16</td>\n",
       "      <td>51.0</td>\n",
       "      <td>8</td>\n",
       "      <td>unknown</td>\n",
       "      <td>...</td>\n",
       "      <td>0</td>\n",
       "      <td>9</td>\n",
       "      <td>0.472222</td>\n",
       "      <td>0.231481</td>\n",
       "      <td>3</td>\n",
       "      <td>3</td>\n",
       "      <td>2019</td>\n",
       "      <td>120370.370370</td>\n",
       "      <td>другой</td>\n",
       "      <td>16.0</td>\n",
       "    </tr>\n",
       "    <tr>\n",
       "      <th>1</th>\n",
       "      <td>7</td>\n",
       "      <td>3350000</td>\n",
       "      <td>40.4</td>\n",
       "      <td>2018-12-04</td>\n",
       "      <td>1</td>\n",
       "      <td>0.00</td>\n",
       "      <td>11</td>\n",
       "      <td>18.6</td>\n",
       "      <td>1</td>\n",
       "      <td>unknown</td>\n",
       "      <td>...</td>\n",
       "      <td>81</td>\n",
       "      <td>3</td>\n",
       "      <td>0.460396</td>\n",
       "      <td>0.272277</td>\n",
       "      <td>1</td>\n",
       "      <td>12</td>\n",
       "      <td>2018</td>\n",
       "      <td>82920.792079</td>\n",
       "      <td>первый</td>\n",
       "      <td>19.0</td>\n",
       "    </tr>\n",
       "    <tr>\n",
       "      <th>2</th>\n",
       "      <td>10</td>\n",
       "      <td>5196000</td>\n",
       "      <td>56.0</td>\n",
       "      <td>2015-08-20</td>\n",
       "      <td>2</td>\n",
       "      <td>0.00</td>\n",
       "      <td>5</td>\n",
       "      <td>34.3</td>\n",
       "      <td>4</td>\n",
       "      <td>unknown</td>\n",
       "      <td>...</td>\n",
       "      <td>558</td>\n",
       "      <td>5</td>\n",
       "      <td>0.612500</td>\n",
       "      <td>0.148214</td>\n",
       "      <td>3</td>\n",
       "      <td>8</td>\n",
       "      <td>2015</td>\n",
       "      <td>92785.714286</td>\n",
       "      <td>другой</td>\n",
       "      <td>14.0</td>\n",
       "    </tr>\n",
       "    <tr>\n",
       "      <th>4</th>\n",
       "      <td>2</td>\n",
       "      <td>10000000</td>\n",
       "      <td>100.0</td>\n",
       "      <td>2018-06-19</td>\n",
       "      <td>2</td>\n",
       "      <td>3.03</td>\n",
       "      <td>14</td>\n",
       "      <td>41.0</td>\n",
       "      <td>13</td>\n",
       "      <td>unknown</td>\n",
       "      <td>...</td>\n",
       "      <td>121</td>\n",
       "      <td>9</td>\n",
       "      <td>0.410000</td>\n",
       "      <td>0.320000</td>\n",
       "      <td>1</td>\n",
       "      <td>6</td>\n",
       "      <td>2018</td>\n",
       "      <td>100000.000000</td>\n",
       "      <td>другой</td>\n",
       "      <td>8.0</td>\n",
       "    </tr>\n",
       "    <tr>\n",
       "      <th>5</th>\n",
       "      <td>10</td>\n",
       "      <td>2890000</td>\n",
       "      <td>30.4</td>\n",
       "      <td>2018-09-10</td>\n",
       "      <td>1</td>\n",
       "      <td>0.00</td>\n",
       "      <td>12</td>\n",
       "      <td>14.4</td>\n",
       "      <td>5</td>\n",
       "      <td>unknown</td>\n",
       "      <td>...</td>\n",
       "      <td>55</td>\n",
       "      <td>2</td>\n",
       "      <td>0.473684</td>\n",
       "      <td>0.299342</td>\n",
       "      <td>0</td>\n",
       "      <td>9</td>\n",
       "      <td>2018</td>\n",
       "      <td>95065.789474</td>\n",
       "      <td>другой</td>\n",
       "      <td>100.0</td>\n",
       "    </tr>\n",
       "  </tbody>\n",
       "</table>\n",
       "<p>5 rows × 31 columns</p>\n",
       "</div>"
      ],
      "text/plain": [
       "   total_images  last_price  total_area first_day_exposition  rooms  \\\n",
       "0            20    13000000       108.0           2019-03-07      3   \n",
       "1             7     3350000        40.4           2018-12-04      1   \n",
       "2            10     5196000        56.0           2015-08-20      2   \n",
       "4             2    10000000       100.0           2018-06-19      2   \n",
       "5            10     2890000        30.4           2018-09-10      1   \n",
       "\n",
       "   ceiling_height  floors_total  living_area  floor is_apartment  ...  \\\n",
       "0            2.70            16         51.0      8      unknown  ...   \n",
       "1            0.00            11         18.6      1      unknown  ...   \n",
       "2            0.00             5         34.3      4      unknown  ...   \n",
       "4            3.03            14         41.0     13      unknown  ...   \n",
       "5            0.00            12         14.4      5      unknown  ...   \n",
       "\n",
       "   days_exposition  total_area_category  living_share  kitchen_share  \\\n",
       "0                0                    9      0.472222       0.231481   \n",
       "1               81                    3      0.460396       0.272277   \n",
       "2              558                    5      0.612500       0.148214   \n",
       "4              121                    9      0.410000       0.320000   \n",
       "5               55                    2      0.473684       0.299342   \n",
       "\n",
       "  week_day_exposition  month_exposition  year_exposition  square_meter_price  \\\n",
       "0                   3                 3             2019       120370.370370   \n",
       "1                   1                12             2018        82920.792079   \n",
       "2                   3                 8             2015        92785.714286   \n",
       "4                   1                 6             2018       100000.000000   \n",
       "5                   0                 9             2018        95065.789474   \n",
       "\n",
       "   floor_variant  city_center_km  \n",
       "0         другой            16.0  \n",
       "1         первый            19.0  \n",
       "2         другой            14.0  \n",
       "4         другой             8.0  \n",
       "5         другой           100.0  \n",
       "\n",
       "[5 rows x 31 columns]"
      ]
     },
     "execution_count": 117,
     "metadata": {},
     "output_type": "execute_result"
    }
   ],
   "source": [
    "df.head()"
   ]
  },
  {
   "cell_type": "code",
   "execution_count": 118,
   "metadata": {},
   "outputs": [
    {
     "data": {
      "image/png": "[encoded data removed]",
      "text/plain": [
       "<Figure size 720x432 with 1 Axes>"
      ]
     },
     "metadata": {},
     "output_type": "display_data"
    },
    {
     "data": {
      "image/png": "[encoded data removed]",
      "text/plain": [
       "<Figure size 720x432 with 1 Axes>"
      ]
     },
     "metadata": {},
     "output_type": "display_data"
    },
    {
     "data": {
      "image/png": "[encoded data removed]",
      "text/plain": [
       "<Figure size 720x432 with 1 Axes>"
      ]
     },
     "metadata": {},
     "output_type": "display_data"
    },
    {
     "data": {
      "image/png": "[encoded data removed]",
      "text/plain": [
       "<Figure size 720x432 with 1 Axes>"
      ]
     },
     "metadata": {},
     "output_type": "display_data"
    }
   ],
   "source": [
    "columns = ['week_day_exposition', 'month_exposition', 'year_exposition', 'floor_variant']\n",
    "col_names = ['день недели показа объявления', 'месяц показа объявления', 'год показа объявления', 'вариант этажа']\n",
    "ylims = [5000000, 5000000, 8000000, 5000000, None]\n",
    "for column, col_name, ylim in zip(columns, col_names, ylims):\n",
    "    pivot = df.pivot_table(index = column, values = 'last_price', aggfunc = 'median').reset_index()\n",
    "    lineplot(pivot, column, 'last_price', 'стоимость - ', col_name, 'стоимость, руб.', ylim)"
   ]
  },
  {
   "cell_type": "markdown",
   "metadata": {},
   "source": [
    "ylims = (100000, 100000, 120000, 100000)\n",
    "for column, col_name, ylim in zip(columns, col_names, ylims):\n",
    "    pivot = df.pivot_table(index = column, values = 'square_meter_price', aggfunc = 'median').reset_index()\n",
    "    lineplot(pivot, column, 'square_meter_price', 'стоимость за кв.м - ', col_name, 'стоимость за кв.м, руб.', ylim)"
   ]
  },
  {
   "cell_type": "markdown",
   "metadata": {},
   "source": [
    "Стоимость квартиры складывается из общей площади и цены за 1 кв.м. Посмотрим зависимость и того и другого от года подачи объявления."
   ]
  },
  {
   "cell_type": "code",
   "execution_count": 119,
   "metadata": {},
   "outputs": [
    {
     "data": {
      "image/png": "[encoded data removed]",
      "text/plain": [
       "<Figure size 720x432 with 1 Axes>"
      ]
     },
     "metadata": {},
     "output_type": "display_data"
    }
   ],
   "source": [
    "pivot = df.pivot_table(index = 'year_exposition', values = 'total_area', aggfunc = 'median').reset_index()\n",
    "lineplot(pivot, 'year_exposition', 'total_area', 'общая площадь - ', 'год подачи объявления', 'общая площадь, кв.м', 80)"
   ]
  },
  {
   "cell_type": "code",
   "execution_count": 120,
   "metadata": {},
   "outputs": [
    {
     "data": {
      "image/png": "[encoded data removed]",
      "text/plain": [
       "<Figure size 720x432 with 1 Axes>"
      ]
     },
     "metadata": {},
     "output_type": "display_data"
    }
   ],
   "source": [
    "pivot = df.pivot_table(index = 'year_exposition', values = 'square_meter_price', aggfunc = 'median').reset_index()\n",
    "lineplot(pivot, 'year_exposition', 'square_meter_price', 'цена 1 кв.м - ', 'год подачи объявления', 'цена 1 кв.м, руб.', 120000)"
   ]
  },
  {
   "cell_type": "code",
   "execution_count": 121,
   "metadata": {},
   "outputs": [
    {
     "data": {
      "image/png": "[encoded data removed]",
      "text/plain": [
       "<Figure size 720x432 with 1 Axes>"
      ]
     },
     "metadata": {},
     "output_type": "display_data"
    }
   ],
   "source": [
    "pivot = df.pivot_table(index = 'year_exposition', values = 'square_meter_price', aggfunc = 'count').reset_index()\n",
    "lineplot(pivot, 'year_exposition', 'square_meter_price', 'количество объявлений - ', 'год подачи объявления', 'количество объявлений', 10000)"
   ]
  },
  {
   "cell_type": "markdown",
   "metadata": {},
   "source": [
    "В результате исследования можно сделать следующие выводы:\n",
    "* есть выраженная прямая зависимость стоимости жилья от общей площади (чем больше общая площадь, тем больше стоимость);\n",
    "* есть средневыраженная прямая зависимость стоимости от количества комнат (чем больше количество комнат, тем больше стоимость);\n",
    "* есть слабовыраженная обратная зависимость стоимости от удаленности от центра (чем больше расстояние от центра, тем меньше стоимость);\n",
    "* меньше всего стоимость квартир на 1 этаже;\n",
    "* зависимость стоимости жилья от дня подачи объявления следующая: самая высокая стоимость квартир, которые выставили на продажу во вторника по среду; затем наблюдается снижение стоимости у объявлений, которые появились со среды по пятницу. Самая низкая стоимость у квартир, объявления о продаже которых появилось в выходные(сб, вс);\n",
    "* зависимость стоимости от месяца подачи объявления: рост стоимости наблюдается в первой половине весны (с марта по апрель), также все лето (с начала июня по сентябрь) и осенью (с октября по ноябрь). Резкий спад стоимости с апреля по июнь, также есть спад с сентября по октябрь.\n",
    "* зависимость стоимости жилья от года подачи заявления: с 2014 по 2015 год выраженное падение цены (скорее всего из-за экономической ситуации в стране), которое менее значительно продолжалось до 2016 г. Далее до 2018 г. уровень стоимости оставался относительно стабильным, с 2018 г. начался рост стоимости. Т.к. стоимость складывается из цены 1 кв.м и площади, то ее снижение можно объяснить не только снижением цены 1 кв.м, но и снижением площади продаваемых квартир (стали пользоваться большим спросом квартиры с меньшей площадью)."
   ]
  },
  {
   "cell_type": "markdown",
   "metadata": {},
   "source": [
    "### 4.4. Изучение стоимости жилья в зависимости от популярности населенного пункта"
   ]
  },
  {
   "cell_type": "markdown",
   "metadata": {},
   "source": [
    "Выделим 10 населенных пунктов с наибольшим числом объявлений."
   ]
  },
  {
   "cell_type": "code",
   "execution_count": 122,
   "metadata": {},
   "outputs": [
    {
     "name": "stdout",
     "output_type": "stream",
     "text": [
      "Index(['Санкт-Петербург', 'поселок Мурино', 'поселок Шушары', 'Всеволожск',\n",
      "       'Пушкин', 'Колпино', 'поселок Парголово', 'Гатчина', 'деревня Кудрово',\n",
      "       'Выборг'],\n",
      "      dtype='object')\n"
     ]
    }
   ],
   "source": [
    "top10_locality_names = df['locality_name'].value_counts().index[:10]\n",
    "print(top10_locality_names)"
   ]
  },
  {
   "cell_type": "markdown",
   "metadata": {},
   "source": [
    "Посчитаем среднюю стоимость квадратного метра в этих населенных пунктах."
   ]
  },
  {
   "cell_type": "code",
   "execution_count": 123,
   "metadata": {},
   "outputs": [
    {
     "data": {
      "text/html": [
       "<div>\n",
       "<style scoped>\n",
       "    .dataframe tbody tr th:only-of-type {\n",
       "        vertical-align: middle;\n",
       "    }\n",
       "\n",
       "    .dataframe tbody tr th {\n",
       "        vertical-align: top;\n",
       "    }\n",
       "\n",
       "    .dataframe thead th {\n",
       "        text-align: right;\n",
       "    }\n",
       "</style>\n",
       "<table border=\"1\" class=\"dataframe\">\n",
       "  <thead>\n",
       "    <tr style=\"text-align: right;\">\n",
       "      <th></th>\n",
       "      <th>square_meter_price</th>\n",
       "    </tr>\n",
       "    <tr>\n",
       "      <th>locality_name</th>\n",
       "      <th></th>\n",
       "    </tr>\n",
       "  </thead>\n",
       "  <tbody>\n",
       "    <tr>\n",
       "      <th>Санкт-Петербург</th>\n",
       "      <td>111686.390982</td>\n",
       "    </tr>\n",
       "    <tr>\n",
       "      <th>Пушкин</th>\n",
       "      <td>103100.890905</td>\n",
       "    </tr>\n",
       "    <tr>\n",
       "      <th>деревня Кудрово</th>\n",
       "      <td>92473.547576</td>\n",
       "    </tr>\n",
       "    <tr>\n",
       "      <th>поселок Парголово</th>\n",
       "      <td>90135.075586</td>\n",
       "    </tr>\n",
       "    <tr>\n",
       "      <th>поселок Мурино</th>\n",
       "      <td>85545.674124</td>\n",
       "    </tr>\n",
       "    <tr>\n",
       "      <th>поселок Шушары</th>\n",
       "      <td>78546.979088</td>\n",
       "    </tr>\n",
       "    <tr>\n",
       "      <th>Колпино</th>\n",
       "      <td>75480.547446</td>\n",
       "    </tr>\n",
       "    <tr>\n",
       "      <th>Гатчина</th>\n",
       "      <td>68625.141404</td>\n",
       "    </tr>\n",
       "    <tr>\n",
       "      <th>Всеволожск</th>\n",
       "      <td>68606.705174</td>\n",
       "    </tr>\n",
       "    <tr>\n",
       "      <th>Выборг</th>\n",
       "      <td>58238.143141</td>\n",
       "    </tr>\n",
       "  </tbody>\n",
       "</table>\n",
       "</div>"
      ],
      "text/plain": [
       "                   square_meter_price\n",
       "locality_name                        \n",
       "Санкт-Петербург         111686.390982\n",
       "Пушкин                  103100.890905\n",
       "деревня Кудрово          92473.547576\n",
       "поселок Парголово        90135.075586\n",
       "поселок Мурино           85545.674124\n",
       "поселок Шушары           78546.979088\n",
       "Колпино                  75480.547446\n",
       "Гатчина                  68625.141404\n",
       "Всеволожск               68606.705174\n",
       "Выборг                   58238.143141"
      ]
     },
     "execution_count": 123,
     "metadata": {},
     "output_type": "execute_result"
    }
   ],
   "source": [
    "df.query('locality_name in @top10_locality_names').pivot_table(index = 'locality_name', values = 'square_meter_price').sort_values(by = 'square_meter_price',ascending = False)"
   ]
  },
  {
   "cell_type": "markdown",
   "metadata": {},
   "source": [
    "Среди топ-10 населенных пунктов с самым большим количеством объявлений \n",
    "* самая высокая стоимость жилья в Санкт-Петербурге - 112 216 руб/кв.м,\n",
    "* самая низкая стоимость жилья в Выборге - 58 238 руб/кв.м"
   ]
  },
  {
   "cell_type": "markdown",
   "metadata": {},
   "source": [
    "### 4.5. Выделение центральной зоны Санкт-Петербурга"
   ]
  },
  {
   "cell_type": "markdown",
   "metadata": {},
   "source": [
    "Для того, чтобы выделить центр Санкт-Петербурга, посчитаем среднюю цену жилья для каждого километра города, исключив данные, у которых расстояние до центра не указано. Построим граыик зависимости стоимости кв.метра жилья от расстояния до центра в км."
   ]
  },
  {
   "cell_type": "code",
   "execution_count": 124,
   "metadata": {},
   "outputs": [
    {
     "data": {
      "image/png": "[encoded data removed]",
      "text/plain": [
       "<Figure size 720x432 with 1 Axes>"
      ]
     },
     "metadata": {},
     "output_type": "display_data"
    }
   ],
   "source": [
    "pivot = df.query('locality_name==\"Санкт-Петербург\" and city_center_km<100')\\\n",
    "          .pivot_table(index = 'city_center_km', values = 'square_meter_price').reset_index()\n",
    "lineplot(pivot, 'city_center_km', 'square_meter_price', 'цена 1 кв.м - ', 'расстояние до центра', 'цена 1 кв.м', None)"
   ]
  },
  {
   "cell_type": "markdown",
   "metadata": {},
   "source": [
    "Точка, где график сильно меняется, соответствует значению 3 на оси X (city_center_km=3). Скорее всего резкое повышение цены в этой точке можно объяснить тем, что за пределами центра появились новостройки с более высокой стоимостью, т.к. в центре в основном вторичное жилье из-за дефицита места под строительсво новых домов. Значит, центром города можно считать жилье с расстоянием до центра до 3 км."
   ]
  },
  {
   "cell_type": "markdown",
   "metadata": {},
   "source": [
    "### 4.6. Изучение сегмента квартир в центре Санкт-Петербурга\n"
   ]
  },
  {
   "cell_type": "markdown",
   "metadata": {},
   "source": [
    "Для изучения жилья центра Санкт-Петербурга создадим датафрейм spb_center"
   ]
  },
  {
   "cell_type": "code",
   "execution_count": 125,
   "metadata": {},
   "outputs": [
    {
     "data": {
      "text/html": [
       "<div>\n",
       "<style scoped>\n",
       "    .dataframe tbody tr th:only-of-type {\n",
       "        vertical-align: middle;\n",
       "    }\n",
       "\n",
       "    .dataframe tbody tr th {\n",
       "        vertical-align: top;\n",
       "    }\n",
       "\n",
       "    .dataframe thead th {\n",
       "        text-align: right;\n",
       "    }\n",
       "</style>\n",
       "<table border=\"1\" class=\"dataframe\">\n",
       "  <thead>\n",
       "    <tr style=\"text-align: right;\">\n",
       "      <th></th>\n",
       "      <th>total_images</th>\n",
       "      <th>last_price</th>\n",
       "      <th>total_area</th>\n",
       "      <th>first_day_exposition</th>\n",
       "      <th>rooms</th>\n",
       "      <th>ceiling_height</th>\n",
       "      <th>floors_total</th>\n",
       "      <th>living_area</th>\n",
       "      <th>floor</th>\n",
       "      <th>is_apartment</th>\n",
       "      <th>...</th>\n",
       "      <th>days_exposition</th>\n",
       "      <th>total_area_category</th>\n",
       "      <th>living_share</th>\n",
       "      <th>kitchen_share</th>\n",
       "      <th>week_day_exposition</th>\n",
       "      <th>month_exposition</th>\n",
       "      <th>year_exposition</th>\n",
       "      <th>square_meter_price</th>\n",
       "      <th>floor_variant</th>\n",
       "      <th>city_center_km</th>\n",
       "    </tr>\n",
       "  </thead>\n",
       "  <tbody>\n",
       "    <tr>\n",
       "      <th>24</th>\n",
       "      <td>8</td>\n",
       "      <td>6500000</td>\n",
       "      <td>97.2</td>\n",
       "      <td>2015-10-31</td>\n",
       "      <td>2</td>\n",
       "      <td>0.00</td>\n",
       "      <td>3</td>\n",
       "      <td>46.5</td>\n",
       "      <td>1</td>\n",
       "      <td>unknown</td>\n",
       "      <td>...</td>\n",
       "      <td>265</td>\n",
       "      <td>9</td>\n",
       "      <td>0.478395</td>\n",
       "      <td>0.201646</td>\n",
       "      <td>5</td>\n",
       "      <td>10</td>\n",
       "      <td>2015</td>\n",
       "      <td>66872.427984</td>\n",
       "      <td>первый</td>\n",
       "      <td>2.0</td>\n",
       "    </tr>\n",
       "    <tr>\n",
       "      <th>99</th>\n",
       "      <td>32</td>\n",
       "      <td>9600000</td>\n",
       "      <td>90.0</td>\n",
       "      <td>2017-09-26</td>\n",
       "      <td>4</td>\n",
       "      <td>0.00</td>\n",
       "      <td>5</td>\n",
       "      <td>67.0</td>\n",
       "      <td>2</td>\n",
       "      <td>unknown</td>\n",
       "      <td>...</td>\n",
       "      <td>104</td>\n",
       "      <td>8</td>\n",
       "      <td>0.744444</td>\n",
       "      <td>0.088889</td>\n",
       "      <td>1</td>\n",
       "      <td>9</td>\n",
       "      <td>2017</td>\n",
       "      <td>106666.666667</td>\n",
       "      <td>другой</td>\n",
       "      <td>3.0</td>\n",
       "    </tr>\n",
       "    <tr>\n",
       "      <th>138</th>\n",
       "      <td>8</td>\n",
       "      <td>4800000</td>\n",
       "      <td>40.0</td>\n",
       "      <td>2017-11-18</td>\n",
       "      <td>2</td>\n",
       "      <td>0.00</td>\n",
       "      <td>3</td>\n",
       "      <td>29.0</td>\n",
       "      <td>2</td>\n",
       "      <td>unknown</td>\n",
       "      <td>...</td>\n",
       "      <td>80</td>\n",
       "      <td>3</td>\n",
       "      <td>0.725000</td>\n",
       "      <td>0.150000</td>\n",
       "      <td>5</td>\n",
       "      <td>11</td>\n",
       "      <td>2017</td>\n",
       "      <td>120000.000000</td>\n",
       "      <td>другой</td>\n",
       "      <td>3.0</td>\n",
       "    </tr>\n",
       "    <tr>\n",
       "      <th>154</th>\n",
       "      <td>1</td>\n",
       "      <td>8200000</td>\n",
       "      <td>80.0</td>\n",
       "      <td>2018-11-06</td>\n",
       "      <td>3</td>\n",
       "      <td>4.15</td>\n",
       "      <td>3</td>\n",
       "      <td>44.2</td>\n",
       "      <td>2</td>\n",
       "      <td>unknown</td>\n",
       "      <td>...</td>\n",
       "      <td>38</td>\n",
       "      <td>7</td>\n",
       "      <td>0.552500</td>\n",
       "      <td>0.152500</td>\n",
       "      <td>1</td>\n",
       "      <td>11</td>\n",
       "      <td>2018</td>\n",
       "      <td>102500.000000</td>\n",
       "      <td>другой</td>\n",
       "      <td>3.0</td>\n",
       "    </tr>\n",
       "    <tr>\n",
       "      <th>179</th>\n",
       "      <td>5</td>\n",
       "      <td>14800000</td>\n",
       "      <td>108.7</td>\n",
       "      <td>2019-04-11</td>\n",
       "      <td>3</td>\n",
       "      <td>4.00</td>\n",
       "      <td>5</td>\n",
       "      <td>72.4</td>\n",
       "      <td>5</td>\n",
       "      <td>unknown</td>\n",
       "      <td>...</td>\n",
       "      <td>0</td>\n",
       "      <td>9</td>\n",
       "      <td>0.666053</td>\n",
       "      <td>0.073597</td>\n",
       "      <td>3</td>\n",
       "      <td>4</td>\n",
       "      <td>2019</td>\n",
       "      <td>136154.553818</td>\n",
       "      <td>последний</td>\n",
       "      <td>3.0</td>\n",
       "    </tr>\n",
       "  </tbody>\n",
       "</table>\n",
       "<p>5 rows × 31 columns</p>\n",
       "</div>"
      ],
      "text/plain": [
       "     total_images  last_price  total_area first_day_exposition  rooms  \\\n",
       "24              8     6500000        97.2           2015-10-31      2   \n",
       "99             32     9600000        90.0           2017-09-26      4   \n",
       "138             8     4800000        40.0           2017-11-18      2   \n",
       "154             1     8200000        80.0           2018-11-06      3   \n",
       "179             5    14800000       108.7           2019-04-11      3   \n",
       "\n",
       "     ceiling_height  floors_total  living_area  floor is_apartment  ...  \\\n",
       "24             0.00             3         46.5      1      unknown  ...   \n",
       "99             0.00             5         67.0      2      unknown  ...   \n",
       "138            0.00             3         29.0      2      unknown  ...   \n",
       "154            4.15             3         44.2      2      unknown  ...   \n",
       "179            4.00             5         72.4      5      unknown  ...   \n",
       "\n",
       "     days_exposition  total_area_category  living_share  kitchen_share  \\\n",
       "24               265                    9      0.478395       0.201646   \n",
       "99               104                    8      0.744444       0.088889   \n",
       "138               80                    3      0.725000       0.150000   \n",
       "154               38                    7      0.552500       0.152500   \n",
       "179                0                    9      0.666053       0.073597   \n",
       "\n",
       "    week_day_exposition  month_exposition  year_exposition  \\\n",
       "24                    5                10             2015   \n",
       "99                    1                 9             2017   \n",
       "138                   5                11             2017   \n",
       "154                   1                11             2018   \n",
       "179                   3                 4             2019   \n",
       "\n",
       "     square_meter_price  floor_variant  city_center_km  \n",
       "24         66872.427984         первый             2.0  \n",
       "99        106666.666667         другой             3.0  \n",
       "138       120000.000000         другой             3.0  \n",
       "154       102500.000000         другой             3.0  \n",
       "179       136154.553818      последний             3.0  \n",
       "\n",
       "[5 rows x 31 columns]"
      ]
     },
     "metadata": {},
     "output_type": "display_data"
    }
   ],
   "source": [
    "spb_center = df.query('locality_name == \"Санкт-Петербург\" and city_center_km<=3')\n",
    "display(spb_center.head())"
   ]
  },
  {
   "cell_type": "markdown",
   "metadata": {},
   "source": [
    "Для изучения площади, цены, числа комнат и высоты потолков построим гистограммы соответствующих колонок 'total_area', 'last_price', 'rooms', 'ceiling_height'."
   ]
  },
  {
   "cell_type": "code",
   "execution_count": 126,
   "metadata": {},
   "outputs": [
    {
     "data": {
      "image/png": "[encoded data removed]",
      "text/plain": [
       "<Figure size 720x432 with 1 Axes>"
      ]
     },
     "metadata": {},
     "output_type": "display_data"
    },
    {
     "data": {
      "image/png": "[encoded data removed]",
      "text/plain": [
       "<Figure size 720x432 with 1 Axes>"
      ]
     },
     "metadata": {},
     "output_type": "display_data"
    },
    {
     "data": {
      "image/png": "[encoded data removed]",
      "text/plain": [
       "<Figure size 720x432 with 1 Axes>"
      ]
     },
     "metadata": {},
     "output_type": "display_data"
    },
    {
     "data": {
      "image/png": "[encoded data removed]",
      "text/plain": [
       "<Figure size 720x432 with 1 Axes>"
      ]
     },
     "metadata": {},
     "output_type": "display_data"
    }
   ],
   "source": [
    "columns = ['total_area', 'last_price', 'rooms', 'ceiling_height'] \n",
    "col_names = ['общая площадь', 'стоимость', 'количество комнат', 'высота потолка']\n",
    "ed_izm_list = [', кв.м', ', руб.', '', ', м']\n",
    "xlyms = [None, None, None, None]\n",
    "\n",
    "for column, col_name, ed_izm, xlym in zip(columns, col_names, ed_izm_list, xlyms):    \n",
    "    hist(spb_center, column, col_name, ed_izm, xlym)    "
   ]
  },
  {
   "cell_type": "markdown",
   "metadata": {},
   "source": [
    "С помощью гистограмм можно сделать следующие выводы:\n",
    "* В центре города больше объявлений квартир с большой площадью (от 70 до 110 кв.м). Самыми непопулярными в центре являются самые маленькие квартиры (менее 25 кв.м).\n",
    "* Большинство объявлений на продажу квартир в ценовой категории от 5 до 10 млн. руб.\n",
    "* В центре основная масса объявлений 2, 3 и 4-х комнатных квартир (больше всего 3-х комнатных). \n",
    "* В центре большая часть объявлений о продаже квартир с высокими потолками от 3 м. "
   ]
  },
  {
   "cell_type": "markdown",
   "metadata": {},
   "source": [
    "Теперь изучим факторы, влияющие на стоимость квартиры: площадь, число комнат, удаленность от центра, вариант этажа (1-й, последний, другой), а также день недели, месяц и год даты размещения объявления."
   ]
  },
  {
   "cell_type": "markdown",
   "metadata": {},
   "source": [
    "Найдем корреляцию цены квартиры с каждым из параметров."
   ]
  },
  {
   "cell_type": "code",
   "execution_count": 127,
   "metadata": {
    "scrolled": true
   },
   "outputs": [
    {
     "name": "stdout",
     "output_type": "stream",
     "text": [
      "корреляция last_price - total_area : 0.66\n",
      "корреляция last_price - rooms : 0.45\n",
      "корреляция last_price - city_center_km : -0.19\n",
      "корреляция last_price - week_day_exposition : -0.02\n",
      "корреляция last_price - month_exposition : -0.01\n",
      "корреляция last_price - year_exposition : -0.02\n"
     ]
    }
   ],
   "source": [
    "for column in ['total_area','rooms','city_center_km','week_day_exposition', 'month_exposition', 'year_exposition']:\n",
    "    print('корреляция last_price -',column,':',round(spb_center['last_price'].corr(spb_center[column]),2))"
   ]
  },
  {
   "cell_type": "code",
   "execution_count": 128,
   "metadata": {},
   "outputs": [
    {
     "data": {
      "image/png": "[encoded data removed]",
      "text/plain": [
       "<Figure size 720x432 with 1 Axes>"
      ]
     },
     "metadata": {},
     "output_type": "display_data"
    },
    {
     "data": {
      "image/png": "[encoded data removed]",
      "text/plain": [
       "<Figure size 720x432 with 1 Axes>"
      ]
     },
     "metadata": {},
     "output_type": "display_data"
    },
    {
     "data": {
      "image/png": "[encoded data removed]",
      "text/plain": [
       "<Figure size 720x432 with 1 Axes>"
      ]
     },
     "metadata": {},
     "output_type": "display_data"
    },
    {
     "data": {
      "image/png": "[encoded data removed]",
      "text/plain": [
       "<Figure size 720x432 with 1 Axes>"
      ]
     },
     "metadata": {},
     "output_type": "display_data"
    }
   ],
   "source": [
    "columns = ['week_day_exposition', 'month_exposition', 'year_exposition', 'floor_variant']\n",
    "col_names = ['день недели показа объявления', 'месяц показа объявления', 'год показа объявления', 'вариант этажа']\n",
    "ylims = [12000000, 12000000, 30000000, None]\n",
    "for column, col_name, ylim in zip(columns, col_names, ylims):\n",
    "    pivot = spb_center.pivot_table(index = column, values = 'last_price', aggfunc = 'median').reset_index()\n",
    "    lineplot(pivot, column, 'last_price', 'стоимость - ', col_name, 'стоимость, руб.', ylim)"
   ]
  },
  {
   "cell_type": "markdown",
   "metadata": {},
   "source": [
    "Выводы:\n",
    "\n",
    "* есть выраженная прямая зависимость стоимости жилья от общей площади (чем больше общая площадь, тем больше стоимость);\n",
    "* есть средневыраженная прямая зависимость стоимости от количества комнат (чем больше количество комнат, тем больше стоимость);\n",
    "* есть слабовыраженная обратная зависимость стоимости от удаленности от центра (чем больше расстояние от центра, тем меньше стоимость);\n",
    "* меньше всего стоимость квартир, расположенных на 1 этаже;\n",
    "* зависимость стоимости от дня недели объявления: самая высокая стоимость жилья в среду и воскресенье. С понедельника стоимость несколько падает, но со вторника до среды растет. Затем происходит снижение стоимости до самого низкого порога в субботу, а с субботы по воскресенье - резкий рост.\n",
    "* зависимость стоимости от месяца подачи объявления: рост стоимости наблюдается с февраля по март, резкий рост с августа по сентябрь и менее значительное повышение стоимости с ноября по декабрь. Небольшое снижение стоимости происходит в начале зимы (с января по февраль), затем значительное снижение с начала весны по август, и опять небольшое снижение осенью (с сентября по ноябрь).\n",
    "* зависимость стоимости от года подачи объявления следующая: с 2014 по 2015 г. происходит резкий спад стоимости (скорее всего, из за экономической ситуаци в стране). Затем незначительное снижение с 2015 по 2017 г. И с 2017 г отмечается небольшой рост стоимости."
   ]
  },
  {
   "cell_type": "markdown",
   "metadata": {},
   "source": [
    "Выводы по общей площади, количеству комнат, удаленности от центра и варианту этажей совпадают с выводами по общей базе."
   ]
  },
  {
   "cell_type": "markdown",
   "metadata": {},
   "source": [
    "По дате подачи объявления есть отличия от общей базы: если в общей базе есть весенний спад цены с апреля по июнь, а затем наблюдается ее рост до конца лета, то в Санкт-Петербурге спад цены происходит с марта по август, а затем рост до сентября."
   ]
  },
  {
   "cell_type": "markdown",
   "metadata": {},
   "source": [
    "## Общий вывод"
   ]
  },
  {
   "cell_type": "markdown",
   "metadata": {},
   "source": [
    "**Время продажи квартир в основном в пределах от 45 до 230 дней.**\n",
    "\n",
    "Основная масса квартир имеет следующие характеристики:\n",
    "- общая площадь  :                        30 - 65 кв.м;\n",
    "- стоимость      :                        2.5 - 6 млн.руб.;\n",
    "- кол-во комнат  :                        1 - 3;\n",
    "- высота потолков:                        2.4 - 2.7 м \n",
    "\n",
    "К центральному сегменту жилья г. Санкт-Петербург относятся квартиры с расстоянием до 3 км от центра.\n",
    "\n",
    "Основная масса квартир имеет следующие характеристики:\n",
    "- общая площадь  :                        70 - 110 кв.м;\n",
    "- стоимость      :                        5 - 10 млн.руб.;\n",
    "- кол-во комнат  :                        2 - 3;\n",
    "- высота потолков:                        от 3 м.\n",
    "\n",
    "Отличительные особенности жилья в центре:\n",
    "- большая площадь;\n",
    "- высокие потолки;\n",
    "- количество комнат в основном 2-3 и более.\n",
    "\n",
    "На стоимость квартиры влияет общая площадь, количество комнат, удаленность от центра и этаж:\n",
    "стоимость растет    \n",
    "* с увеличением площади;\n",
    "* с увеличением количества комнат; \n",
    "* с уменьшением расстояния до центра;\n",
    "\n",
    "на 1-м этаже стоимость квартир ниже, чем на остальных этажах.\n",
    "\n",
    "Дата подачи объявления оказывает влияние на стоимость жилья:\n",
    "* Зависимость от дня недели: самая большая стоимость у квартир, объявления о продаже которых появились ближе к середине недели (а в  Петерберге еще и в воскресенье).\n",
    "* Зависимость от месяца: наблюдается сезонность в изменении стоимости жилья (значительное падение стоимости весной и рост летом, а затем снижение осенью).\n",
    "* Зависимость от года: экономическая ситуация 2014 г. оказала влияние на стоимость жилья - произошел резкий спад и в общей базе и по Санкт-Петербургу из-за снижения цены за 1 кв.м и снижения площади основной массы продаваемых квартир."
   ]
  }
 ],
 "metadata": {
  "kernelspec": {
   "display_name": "Python 3 (ipykernel)",
   "language": "python",
   "name": "python3"
  },
  "language_info": {
   "codemirror_mode": {
    "name": "ipython",
    "version": 3
   },
   "file_extension": ".py",
   "mimetype": "text/x-python",
   "name": "python",
   "nbconvert_exporter": "python",
   "pygments_lexer": "ipython3",
   "version": "3.9.12"
  },
  "toc": {
   "base_numbering": 1,
   "nav_menu": {},
   "number_sections": false,
   "sideBar": true,
   "skip_h1_title": true,
   "title_cell": "Содержание",
   "title_sidebar": "Contents",
   "toc_cell": true,
   "toc_position": {
    "height": "calc(100% - 180px)",
    "left": "10px",
    "top": "150px",
    "width": "288px"
   },
   "toc_section_display": true,
   "toc_window_display": true
  }
 },
 "nbformat": 4,
 "nbformat_minor": 4
}
