{
 "cells": [
  {
   "cell_type": "markdown",
   "id": "82894e09",
   "metadata": {},
   "source": [
    "# Проект \"Мобильные телесистемы\"."
   ]
  },
  {
   "cell_type": "markdown",
   "id": "568c1fd5",
   "metadata": {},
   "source": [
    "<b>Цель:</b> Нужно проанализировать поведение абонентов двух тарифов мобильной связи и сделать вывод — какой тариф лучше.\n",
    "\n",
    "<b>Задачи:</b> \n",
    "* Рассчитать количество звонков, смс-сообщений и мегабайт интернет-траффика абонентов.\n",
    "* Рассчитать доход от использования тарифов.\n",
    "* Сформулировать и проверить гипотезы по сравнению тарифов.\n"
   ]
  },
  {
   "cell_type": "markdown",
   "id": "39f420fa",
   "metadata": {},
   "source": [
    "<b>Описание тарифов</b>\n",
    "\n",
    "<b>Тариф «Смарт»</b>\n",
    "1.\tЕжемесячная плата: 550 рублей\n",
    "2.\tВключено 500 минут разговора, 50 сообщений и 15 Гб интернет-трафика\n",
    "3.\tСтоимость услуг сверх тарифного пакета:\n",
    "*\tминута разговора: 3 рубля\n",
    "*\tсообщение: 3 рубля\n",
    "*\t1 Гб интернет-трафика: 200 рублей\n",
    "\n",
    "<b>Тариф «Ультра»</b>\n",
    "1.\tЕжемесячная плата: 1950 рублей\n",
    "2.\tВключено 3000 минут разговора, 1000 сообщений и 30 Гб интернет-трафика\n",
    "3.\tСтоимость услуг сверх тарифного пакета:\n",
    "*\tминута разговора: 1 рубль\n",
    "*\tсообщение: 1 рубль\n",
    "*\t1 Гб интернет-трафика: 150 рублей\n",
    "\n",
    "<b>Примечание:</b>\n",
    "\n",
    "Оператор мобильной связи всегда округляет секунды до минут, а мегабайты — до гигабайт. Каждый звонок округляется отдельно: даже если он длился всего 1 секунду, будет засчитан как 1 минута.\n",
    "\n",
    "Для веб-трафика отдельные сессии не считаются. Вместо этого общая сумма за месяц округляется в бо́льшую сторону. Если абонент использует 1025 мегабайт в этом месяце, с него возьмут плату за 2 гигабайта.\n"
   ]
  },
  {
   "cell_type": "markdown",
   "id": "ca063b21",
   "metadata": {},
   "source": [
    "<b>Описание данных</b>\n",
    "\n",
    "Таблица users (информация о пользователях):\n",
    "*\tuser_id — уникальный идентификатор пользователя\n",
    "*\tfirst_name — имя пользователя\n",
    "*\tlast_name — фамилия пользователя\n",
    "*\tage — возраст пользователя (годы)\n",
    "*\treg_date — дата подключения тарифа (день, месяц, год)\n",
    "*\tchurn_date — дата прекращения пользования тарифом (если значение пропущено, то тариф ещё действовал на момент выгрузки данных)\n",
    "*\tcity — город проживания пользователя\n",
    "*\ttariff — название тарифного плана\n",
    "\n",
    "Таблица calls (информация о звонках):\n",
    "*\tid — уникальный номер звонка\n",
    "*\tcall_date — дата звонка\n",
    "*\tduration — длительность звонка в минутах\n",
    "*\tuser_id — идентификатор пользователя, сделавшего звонок\n",
    "\n",
    "Таблица messages (информация о сообщениях):\n",
    "*\tid — уникальный номер сообщения\n",
    "*\tmessage_date — дата сообщения\n",
    "*\tuser_id — идентификатор пользователя, отправившего сообщение\n",
    "\n",
    "Таблица internet (информация об интернет-сессиях):\n",
    "*\tid — уникальный номер сессии\n",
    "*\tmb_used — объём потраченного за сессию интернет-трафика (в мегабайтах)\n",
    "*\tsession_date — дата интернет-сессии\n",
    "*\tuser_id — идентификатор пользователя\n",
    "\n",
    "Таблица tariffs (информация о тарифах):\n",
    "*\ttariff_name — название тарифа\n",
    "*\trub_monthly_fee — ежемесячная абонентская плата в рублях\n",
    "*\tminutes_included — количество минут разговора в месяц, включённых в абонентскую плату\n",
    "*\tmessages_included — количество сообщений в месяц, включённых в абонентскую плату\n",
    "*\tmb_per_month_included — объём интернет-трафика, включённого в абонентскую плату (в мегабайтах)\n",
    "*\trub_per_minute — стоимость минуты разговора сверх тарифного пакета (например, если в тарифе 100 минут разговора в месяц, то со 101 минуты будет взиматься плата)\n",
    "*\trub_per_message — стоимость отправки сообщения сверх тарифного пакета\n",
    "*\trub_per_gb — стоимость дополнительного гигабайта интернет-трафика сверх тарифного пакета (1 гигабайт = 1024 мегабайта)"
   ]
  },
  {
   "cell_type": "markdown",
   "id": "4a98e8f2",
   "metadata": {},
   "source": [
    "## 1. Обзор данных"
   ]
  },
  {
   "cell_type": "markdown",
   "id": "1d4afed7-baed-4586-be51-181130733aaf",
   "metadata": {},
   "source": [
    "Импортируем библиотеки pandas, numpy, matplotlib и scipy."
   ]
  },
  {
   "cell_type": "code",
   "execution_count": 1,
   "id": "4d71343e",
   "metadata": {},
   "outputs": [],
   "source": [
    "import pandas as pd\n",
    "import numpy as np\n",
    "\n",
    "import matplotlib.pyplot as plt\n",
    "import seaborn as sns\n",
    "\n",
    "from scipy import stats as st"
   ]
  },
  {
   "cell_type": "markdown",
   "id": "d58008ab-4840-4697-bce3-8c18976b3ae2",
   "metadata": {},
   "source": [
    "Загрузим данные из csv-файлов."
   ]
  },
  {
   "cell_type": "code",
   "execution_count": 2,
   "id": "75bcb09c",
   "metadata": {},
   "outputs": [],
   "source": [
    "users = pd.read_csv('/datasets/users.csv')\n",
    "tariffs = pd.read_csv('/datasets/tariffs.csv')\n",
    "calls = pd.read_csv('/datasets/calls.csv')\n",
    "messages = pd.read_csv('/datasets/messages.csv')\n",
    "internet = pd.read_csv('/datasets/internet.csv')"
   ]
  },
  {
   "cell_type": "markdown",
   "id": "158ff0b5-13d6-49ba-b724-48e67eb6c3a0",
   "metadata": {},
   "source": [
    "Сделаем обзор датафрейма <b>users.</b>"
   ]
  },
  {
   "cell_type": "code",
   "execution_count": 3,
   "id": "ca75aaf7",
   "metadata": {
    "scrolled": true,
    "tags": []
   },
   "outputs": [
    {
     "data": {
      "text/html": [
       "<div>\n",
       "<style scoped>\n",
       "    .dataframe tbody tr th:only-of-type {\n",
       "        vertical-align: middle;\n",
       "    }\n",
       "\n",
       "    .dataframe tbody tr th {\n",
       "        vertical-align: top;\n",
       "    }\n",
       "\n",
       "    .dataframe thead th {\n",
       "        text-align: right;\n",
       "    }\n",
       "</style>\n",
       "<table border=\"1\" class=\"dataframe\">\n",
       "  <thead>\n",
       "    <tr style=\"text-align: right;\">\n",
       "      <th></th>\n",
       "      <th>user_id</th>\n",
       "      <th>age</th>\n",
       "      <th>churn_date</th>\n",
       "      <th>city</th>\n",
       "      <th>first_name</th>\n",
       "      <th>last_name</th>\n",
       "      <th>reg_date</th>\n",
       "      <th>tariff</th>\n",
       "    </tr>\n",
       "  </thead>\n",
       "  <tbody>\n",
       "    <tr>\n",
       "      <th>0</th>\n",
       "      <td>1000</td>\n",
       "      <td>52</td>\n",
       "      <td>NaN</td>\n",
       "      <td>Краснодар</td>\n",
       "      <td>Рафаил</td>\n",
       "      <td>Верещагин</td>\n",
       "      <td>2018-05-25</td>\n",
       "      <td>ultra</td>\n",
       "    </tr>\n",
       "    <tr>\n",
       "      <th>1</th>\n",
       "      <td>1001</td>\n",
       "      <td>41</td>\n",
       "      <td>NaN</td>\n",
       "      <td>Москва</td>\n",
       "      <td>Иван</td>\n",
       "      <td>Ежов</td>\n",
       "      <td>2018-11-01</td>\n",
       "      <td>smart</td>\n",
       "    </tr>\n",
       "    <tr>\n",
       "      <th>2</th>\n",
       "      <td>1002</td>\n",
       "      <td>59</td>\n",
       "      <td>NaN</td>\n",
       "      <td>Стерлитамак</td>\n",
       "      <td>Евгений</td>\n",
       "      <td>Абрамович</td>\n",
       "      <td>2018-06-17</td>\n",
       "      <td>smart</td>\n",
       "    </tr>\n",
       "    <tr>\n",
       "      <th>3</th>\n",
       "      <td>1003</td>\n",
       "      <td>23</td>\n",
       "      <td>NaN</td>\n",
       "      <td>Москва</td>\n",
       "      <td>Белла</td>\n",
       "      <td>Белякова</td>\n",
       "      <td>2018-08-17</td>\n",
       "      <td>ultra</td>\n",
       "    </tr>\n",
       "    <tr>\n",
       "      <th>4</th>\n",
       "      <td>1004</td>\n",
       "      <td>68</td>\n",
       "      <td>NaN</td>\n",
       "      <td>Новокузнецк</td>\n",
       "      <td>Татьяна</td>\n",
       "      <td>Авдеенко</td>\n",
       "      <td>2018-05-14</td>\n",
       "      <td>ultra</td>\n",
       "    </tr>\n",
       "  </tbody>\n",
       "</table>\n",
       "</div>"
      ],
      "text/plain": [
       "   user_id  age churn_date         city first_name  last_name    reg_date  \\\n",
       "0     1000   52        NaN    Краснодар     Рафаил  Верещагин  2018-05-25   \n",
       "1     1001   41        NaN       Москва       Иван       Ежов  2018-11-01   \n",
       "2     1002   59        NaN  Стерлитамак    Евгений  Абрамович  2018-06-17   \n",
       "3     1003   23        NaN       Москва      Белла   Белякова  2018-08-17   \n",
       "4     1004   68        NaN  Новокузнецк    Татьяна   Авдеенко  2018-05-14   \n",
       "\n",
       "  tariff  \n",
       "0  ultra  \n",
       "1  smart  \n",
       "2  smart  \n",
       "3  ultra  \n",
       "4  ultra  "
      ]
     },
     "execution_count": 3,
     "metadata": {},
     "output_type": "execute_result"
    }
   ],
   "source": [
    "users.head()"
   ]
  },
  {
   "cell_type": "code",
   "execution_count": 4,
   "id": "3fb96679",
   "metadata": {
    "scrolled": true
   },
   "outputs": [
    {
     "name": "stdout",
     "output_type": "stream",
     "text": [
      "<class 'pandas.core.frame.DataFrame'>\n",
      "RangeIndex: 500 entries, 0 to 499\n",
      "Data columns (total 8 columns):\n",
      " #   Column      Non-Null Count  Dtype \n",
      "---  ------      --------------  ----- \n",
      " 0   user_id     500 non-null    int64 \n",
      " 1   age         500 non-null    int64 \n",
      " 2   churn_date  38 non-null     object\n",
      " 3   city        500 non-null    object\n",
      " 4   first_name  500 non-null    object\n",
      " 5   last_name   500 non-null    object\n",
      " 6   reg_date    500 non-null    object\n",
      " 7   tariff      500 non-null    object\n",
      "dtypes: int64(2), object(6)\n",
      "memory usage: 31.4+ KB\n"
     ]
    }
   ],
   "source": [
    "users.info()"
   ]
  },
  {
   "cell_type": "markdown",
   "id": "59cbabc1-7cce-4523-8208-e7dc912e5dce",
   "metadata": {},
   "source": [
    "Колонки 'churn_date' и 'reg_date' строкового типа содержат дату. Для работы с датой нужно изменить тип на datetime.\n",
    "\n",
    "Пропуски в 'churn_date' означают, что тариф действующий."
   ]
  },
  {
   "cell_type": "markdown",
   "id": "a9548271-aa61-428f-a410-eae529dec0e7",
   "metadata": {},
   "source": [
    "Рассмотрим датафрейм <b>tariffs.</b>"
   ]
  },
  {
   "cell_type": "code",
   "execution_count": 5,
   "id": "2e18582d",
   "metadata": {
    "scrolled": true
   },
   "outputs": [
    {
     "data": {
      "text/html": [
       "<div>\n",
       "<style scoped>\n",
       "    .dataframe tbody tr th:only-of-type {\n",
       "        vertical-align: middle;\n",
       "    }\n",
       "\n",
       "    .dataframe tbody tr th {\n",
       "        vertical-align: top;\n",
       "    }\n",
       "\n",
       "    .dataframe thead th {\n",
       "        text-align: right;\n",
       "    }\n",
       "</style>\n",
       "<table border=\"1\" class=\"dataframe\">\n",
       "  <thead>\n",
       "    <tr style=\"text-align: right;\">\n",
       "      <th></th>\n",
       "      <th>messages_included</th>\n",
       "      <th>mb_per_month_included</th>\n",
       "      <th>minutes_included</th>\n",
       "      <th>rub_monthly_fee</th>\n",
       "      <th>rub_per_gb</th>\n",
       "      <th>rub_per_message</th>\n",
       "      <th>rub_per_minute</th>\n",
       "      <th>tariff_name</th>\n",
       "    </tr>\n",
       "  </thead>\n",
       "  <tbody>\n",
       "    <tr>\n",
       "      <th>0</th>\n",
       "      <td>50</td>\n",
       "      <td>15360</td>\n",
       "      <td>500</td>\n",
       "      <td>550</td>\n",
       "      <td>200</td>\n",
       "      <td>3</td>\n",
       "      <td>3</td>\n",
       "      <td>smart</td>\n",
       "    </tr>\n",
       "    <tr>\n",
       "      <th>1</th>\n",
       "      <td>1000</td>\n",
       "      <td>30720</td>\n",
       "      <td>3000</td>\n",
       "      <td>1950</td>\n",
       "      <td>150</td>\n",
       "      <td>1</td>\n",
       "      <td>1</td>\n",
       "      <td>ultra</td>\n",
       "    </tr>\n",
       "  </tbody>\n",
       "</table>\n",
       "</div>"
      ],
      "text/plain": [
       "   messages_included  mb_per_month_included  minutes_included  \\\n",
       "0                 50                  15360               500   \n",
       "1               1000                  30720              3000   \n",
       "\n",
       "   rub_monthly_fee  rub_per_gb  rub_per_message  rub_per_minute tariff_name  \n",
       "0              550         200                3               3       smart  \n",
       "1             1950         150                1               1       ultra  "
      ]
     },
     "execution_count": 5,
     "metadata": {},
     "output_type": "execute_result"
    }
   ],
   "source": [
    "tariffs.head()"
   ]
  },
  {
   "cell_type": "code",
   "execution_count": 6,
   "id": "6995154b",
   "metadata": {
    "scrolled": true,
    "tags": []
   },
   "outputs": [
    {
     "name": "stdout",
     "output_type": "stream",
     "text": [
      "<class 'pandas.core.frame.DataFrame'>\n",
      "RangeIndex: 2 entries, 0 to 1\n",
      "Data columns (total 8 columns):\n",
      " #   Column                 Non-Null Count  Dtype \n",
      "---  ------                 --------------  ----- \n",
      " 0   messages_included      2 non-null      int64 \n",
      " 1   mb_per_month_included  2 non-null      int64 \n",
      " 2   minutes_included       2 non-null      int64 \n",
      " 3   rub_monthly_fee        2 non-null      int64 \n",
      " 4   rub_per_gb             2 non-null      int64 \n",
      " 5   rub_per_message        2 non-null      int64 \n",
      " 6   rub_per_minute         2 non-null      int64 \n",
      " 7   tariff_name            2 non-null      object\n",
      "dtypes: int64(7), object(1)\n",
      "memory usage: 256.0+ bytes\n"
     ]
    }
   ],
   "source": [
    "tariffs.info()"
   ]
  },
  {
   "cell_type": "markdown",
   "id": "c9371240-5de4-4d30-a5ec-240eeb194973",
   "metadata": {},
   "source": [
    "Для анализа данных нужно будет объединять датафреймы users и tariffs, поэтому колонку 'tafiff_name' в датафрейме 'tariff' лучше переименовать в 'tariff' (как в датафрейме users)"
   ]
  },
  {
   "cell_type": "markdown",
   "id": "b723b833-5f40-40d8-b191-5290a1225342",
   "metadata": {},
   "source": [
    "Сделаем обзор датафрема <b>calls</b>."
   ]
  },
  {
   "cell_type": "code",
   "execution_count": 7,
   "id": "cdfd5a50",
   "metadata": {
    "scrolled": true
   },
   "outputs": [
    {
     "data": {
      "text/html": [
       "<div>\n",
       "<style scoped>\n",
       "    .dataframe tbody tr th:only-of-type {\n",
       "        vertical-align: middle;\n",
       "    }\n",
       "\n",
       "    .dataframe tbody tr th {\n",
       "        vertical-align: top;\n",
       "    }\n",
       "\n",
       "    .dataframe thead th {\n",
       "        text-align: right;\n",
       "    }\n",
       "</style>\n",
       "<table border=\"1\" class=\"dataframe\">\n",
       "  <thead>\n",
       "    <tr style=\"text-align: right;\">\n",
       "      <th></th>\n",
       "      <th>id</th>\n",
       "      <th>call_date</th>\n",
       "      <th>duration</th>\n",
       "      <th>user_id</th>\n",
       "    </tr>\n",
       "  </thead>\n",
       "  <tbody>\n",
       "    <tr>\n",
       "      <th>0</th>\n",
       "      <td>1000_0</td>\n",
       "      <td>2018-07-25</td>\n",
       "      <td>0.00</td>\n",
       "      <td>1000</td>\n",
       "    </tr>\n",
       "    <tr>\n",
       "      <th>1</th>\n",
       "      <td>1000_1</td>\n",
       "      <td>2018-08-17</td>\n",
       "      <td>0.00</td>\n",
       "      <td>1000</td>\n",
       "    </tr>\n",
       "    <tr>\n",
       "      <th>2</th>\n",
       "      <td>1000_2</td>\n",
       "      <td>2018-06-11</td>\n",
       "      <td>2.85</td>\n",
       "      <td>1000</td>\n",
       "    </tr>\n",
       "    <tr>\n",
       "      <th>3</th>\n",
       "      <td>1000_3</td>\n",
       "      <td>2018-09-21</td>\n",
       "      <td>13.80</td>\n",
       "      <td>1000</td>\n",
       "    </tr>\n",
       "    <tr>\n",
       "      <th>4</th>\n",
       "      <td>1000_4</td>\n",
       "      <td>2018-12-15</td>\n",
       "      <td>5.18</td>\n",
       "      <td>1000</td>\n",
       "    </tr>\n",
       "  </tbody>\n",
       "</table>\n",
       "</div>"
      ],
      "text/plain": [
       "       id   call_date  duration  user_id\n",
       "0  1000_0  2018-07-25      0.00     1000\n",
       "1  1000_1  2018-08-17      0.00     1000\n",
       "2  1000_2  2018-06-11      2.85     1000\n",
       "3  1000_3  2018-09-21     13.80     1000\n",
       "4  1000_4  2018-12-15      5.18     1000"
      ]
     },
     "execution_count": 7,
     "metadata": {},
     "output_type": "execute_result"
    }
   ],
   "source": [
    "calls.head()"
   ]
  },
  {
   "cell_type": "code",
   "execution_count": 8,
   "id": "f5f5ccd6",
   "metadata": {
    "scrolled": true
   },
   "outputs": [
    {
     "name": "stdout",
     "output_type": "stream",
     "text": [
      "<class 'pandas.core.frame.DataFrame'>\n",
      "RangeIndex: 202607 entries, 0 to 202606\n",
      "Data columns (total 4 columns):\n",
      " #   Column     Non-Null Count   Dtype  \n",
      "---  ------     --------------   -----  \n",
      " 0   id         202607 non-null  object \n",
      " 1   call_date  202607 non-null  object \n",
      " 2   duration   202607 non-null  float64\n",
      " 3   user_id    202607 non-null  int64  \n",
      "dtypes: float64(1), int64(1), object(2)\n",
      "memory usage: 6.2+ MB\n"
     ]
    }
   ],
   "source": [
    "calls.info()"
   ]
  },
  {
   "cell_type": "markdown",
   "id": "1975132c-46e8-4fe5-bab7-cb26711878be",
   "metadata": {},
   "source": [
    "Колонка 'call_date' строкового типа содержит дату. Для работы с датой нужно изменить тип на datetime."
   ]
  },
  {
   "cell_type": "code",
   "execution_count": 9,
   "id": "b3b6241b",
   "metadata": {},
   "outputs": [
    {
     "data": {
      "text/html": [
       "<div>\n",
       "<style scoped>\n",
       "    .dataframe tbody tr th:only-of-type {\n",
       "        vertical-align: middle;\n",
       "    }\n",
       "\n",
       "    .dataframe tbody tr th {\n",
       "        vertical-align: top;\n",
       "    }\n",
       "\n",
       "    .dataframe thead th {\n",
       "        text-align: right;\n",
       "    }\n",
       "</style>\n",
       "<table border=\"1\" class=\"dataframe\">\n",
       "  <thead>\n",
       "    <tr style=\"text-align: right;\">\n",
       "      <th></th>\n",
       "      <th>count</th>\n",
       "      <th>mean</th>\n",
       "      <th>std</th>\n",
       "      <th>min</th>\n",
       "      <th>25%</th>\n",
       "      <th>50%</th>\n",
       "      <th>75%</th>\n",
       "      <th>max</th>\n",
       "    </tr>\n",
       "  </thead>\n",
       "  <tbody>\n",
       "    <tr>\n",
       "      <th>duration</th>\n",
       "      <td>202607.0</td>\n",
       "      <td>6.755887</td>\n",
       "      <td>5.843365</td>\n",
       "      <td>0.0</td>\n",
       "      <td>1.3</td>\n",
       "      <td>6.0</td>\n",
       "      <td>10.7</td>\n",
       "      <td>38.0</td>\n",
       "    </tr>\n",
       "    <tr>\n",
       "      <th>user_id</th>\n",
       "      <td>202607.0</td>\n",
       "      <td>1253.940619</td>\n",
       "      <td>144.722751</td>\n",
       "      <td>1000.0</td>\n",
       "      <td>1126.0</td>\n",
       "      <td>1260.0</td>\n",
       "      <td>1379.0</td>\n",
       "      <td>1499.0</td>\n",
       "    </tr>\n",
       "  </tbody>\n",
       "</table>\n",
       "</div>"
      ],
      "text/plain": [
       "             count         mean         std     min     25%     50%     75%  \\\n",
       "duration  202607.0     6.755887    5.843365     0.0     1.3     6.0    10.7   \n",
       "user_id   202607.0  1253.940619  144.722751  1000.0  1126.0  1260.0  1379.0   \n",
       "\n",
       "             max  \n",
       "duration    38.0  \n",
       "user_id   1499.0  "
      ]
     },
     "execution_count": 9,
     "metadata": {},
     "output_type": "execute_result"
    }
   ],
   "source": [
    "calls.describe().T"
   ]
  },
  {
   "cell_type": "markdown",
   "id": "77818401-f539-4979-9393-4505237f5a84",
   "metadata": {},
   "source": [
    "В колонке duration есть значения 0. Скорее всего, это пропущенные вызовы."
   ]
  },
  {
   "cell_type": "markdown",
   "id": "4047570b-945a-479f-9513-f354b8df48a8",
   "metadata": {},
   "source": [
    "Теперь рассмотрим датафрейм <b>internet</b>"
   ]
  },
  {
   "cell_type": "code",
   "execution_count": 10,
   "id": "1033f0c4",
   "metadata": {
    "scrolled": true
   },
   "outputs": [
    {
     "data": {
      "text/html": [
       "<div>\n",
       "<style scoped>\n",
       "    .dataframe tbody tr th:only-of-type {\n",
       "        vertical-align: middle;\n",
       "    }\n",
       "\n",
       "    .dataframe tbody tr th {\n",
       "        vertical-align: top;\n",
       "    }\n",
       "\n",
       "    .dataframe thead th {\n",
       "        text-align: right;\n",
       "    }\n",
       "</style>\n",
       "<table border=\"1\" class=\"dataframe\">\n",
       "  <thead>\n",
       "    <tr style=\"text-align: right;\">\n",
       "      <th></th>\n",
       "      <th>Unnamed: 0</th>\n",
       "      <th>id</th>\n",
       "      <th>mb_used</th>\n",
       "      <th>session_date</th>\n",
       "      <th>user_id</th>\n",
       "    </tr>\n",
       "  </thead>\n",
       "  <tbody>\n",
       "    <tr>\n",
       "      <th>0</th>\n",
       "      <td>0</td>\n",
       "      <td>1000_0</td>\n",
       "      <td>112.95</td>\n",
       "      <td>2018-11-25</td>\n",
       "      <td>1000</td>\n",
       "    </tr>\n",
       "    <tr>\n",
       "      <th>1</th>\n",
       "      <td>1</td>\n",
       "      <td>1000_1</td>\n",
       "      <td>1052.81</td>\n",
       "      <td>2018-09-07</td>\n",
       "      <td>1000</td>\n",
       "    </tr>\n",
       "    <tr>\n",
       "      <th>2</th>\n",
       "      <td>2</td>\n",
       "      <td>1000_2</td>\n",
       "      <td>1197.26</td>\n",
       "      <td>2018-06-25</td>\n",
       "      <td>1000</td>\n",
       "    </tr>\n",
       "    <tr>\n",
       "      <th>3</th>\n",
       "      <td>3</td>\n",
       "      <td>1000_3</td>\n",
       "      <td>550.27</td>\n",
       "      <td>2018-08-22</td>\n",
       "      <td>1000</td>\n",
       "    </tr>\n",
       "    <tr>\n",
       "      <th>4</th>\n",
       "      <td>4</td>\n",
       "      <td>1000_4</td>\n",
       "      <td>302.56</td>\n",
       "      <td>2018-09-24</td>\n",
       "      <td>1000</td>\n",
       "    </tr>\n",
       "  </tbody>\n",
       "</table>\n",
       "</div>"
      ],
      "text/plain": [
       "   Unnamed: 0      id  mb_used session_date  user_id\n",
       "0           0  1000_0   112.95   2018-11-25     1000\n",
       "1           1  1000_1  1052.81   2018-09-07     1000\n",
       "2           2  1000_2  1197.26   2018-06-25     1000\n",
       "3           3  1000_3   550.27   2018-08-22     1000\n",
       "4           4  1000_4   302.56   2018-09-24     1000"
      ]
     },
     "execution_count": 10,
     "metadata": {},
     "output_type": "execute_result"
    }
   ],
   "source": [
    "internet.head()"
   ]
  },
  {
   "cell_type": "markdown",
   "id": "6ffbd171-a47e-467e-9225-f8fa7720e0c9",
   "metadata": {},
   "source": [
    "В датафрейме internet есть безымянная колонка (она отсутствует в описании данных), данные в которой, скорее всего, дублируют индекс.  Проверим это, выбрав 10 случайных строк."
   ]
  },
  {
   "cell_type": "code",
   "execution_count": 11,
   "id": "47eda9ba-d1ce-419b-acae-73ffee4fe6e9",
   "metadata": {
    "scrolled": true
   },
   "outputs": [
    {
     "data": {
      "text/html": [
       "<div>\n",
       "<style scoped>\n",
       "    .dataframe tbody tr th:only-of-type {\n",
       "        vertical-align: middle;\n",
       "    }\n",
       "\n",
       "    .dataframe tbody tr th {\n",
       "        vertical-align: top;\n",
       "    }\n",
       "\n",
       "    .dataframe thead th {\n",
       "        text-align: right;\n",
       "    }\n",
       "</style>\n",
       "<table border=\"1\" class=\"dataframe\">\n",
       "  <thead>\n",
       "    <tr style=\"text-align: right;\">\n",
       "      <th></th>\n",
       "      <th>Unnamed: 0</th>\n",
       "      <th>id</th>\n",
       "      <th>mb_used</th>\n",
       "      <th>session_date</th>\n",
       "      <th>user_id</th>\n",
       "    </tr>\n",
       "  </thead>\n",
       "  <tbody>\n",
       "    <tr>\n",
       "      <th>27389</th>\n",
       "      <td>27389</td>\n",
       "      <td>1094_251</td>\n",
       "      <td>466.86</td>\n",
       "      <td>2018-12-29</td>\n",
       "      <td>1094</td>\n",
       "    </tr>\n",
       "    <tr>\n",
       "      <th>37509</th>\n",
       "      <td>37509</td>\n",
       "      <td>1130_407</td>\n",
       "      <td>373.58</td>\n",
       "      <td>2018-08-17</td>\n",
       "      <td>1130</td>\n",
       "    </tr>\n",
       "    <tr>\n",
       "      <th>93042</th>\n",
       "      <td>93042</td>\n",
       "      <td>1314_396</td>\n",
       "      <td>797.46</td>\n",
       "      <td>2018-06-08</td>\n",
       "      <td>1314</td>\n",
       "    </tr>\n",
       "    <tr>\n",
       "      <th>26065</th>\n",
       "      <td>26065</td>\n",
       "      <td>1090_1</td>\n",
       "      <td>716.06</td>\n",
       "      <td>2018-11-09</td>\n",
       "      <td>1090</td>\n",
       "    </tr>\n",
       "    <tr>\n",
       "      <th>143439</th>\n",
       "      <td>143439</td>\n",
       "      <td>1480_127</td>\n",
       "      <td>0.00</td>\n",
       "      <td>2018-05-19</td>\n",
       "      <td>1480</td>\n",
       "    </tr>\n",
       "    <tr>\n",
       "      <th>121544</th>\n",
       "      <td>121544</td>\n",
       "      <td>1410_18</td>\n",
       "      <td>324.09</td>\n",
       "      <td>2018-09-04</td>\n",
       "      <td>1410</td>\n",
       "    </tr>\n",
       "    <tr>\n",
       "      <th>30759</th>\n",
       "      <td>30759</td>\n",
       "      <td>1107_242</td>\n",
       "      <td>705.63</td>\n",
       "      <td>2018-11-04</td>\n",
       "      <td>1107</td>\n",
       "    </tr>\n",
       "    <tr>\n",
       "      <th>51524</th>\n",
       "      <td>51524</td>\n",
       "      <td>1175_177</td>\n",
       "      <td>265.29</td>\n",
       "      <td>2018-08-24</td>\n",
       "      <td>1175</td>\n",
       "    </tr>\n",
       "    <tr>\n",
       "      <th>59128</th>\n",
       "      <td>59128</td>\n",
       "      <td>1199_87</td>\n",
       "      <td>0.00</td>\n",
       "      <td>2018-11-10</td>\n",
       "      <td>1199</td>\n",
       "    </tr>\n",
       "    <tr>\n",
       "      <th>38368</th>\n",
       "      <td>38368</td>\n",
       "      <td>1134_423</td>\n",
       "      <td>318.54</td>\n",
       "      <td>2018-12-10</td>\n",
       "      <td>1134</td>\n",
       "    </tr>\n",
       "  </tbody>\n",
       "</table>\n",
       "</div>"
      ],
      "text/plain": [
       "        Unnamed: 0        id  mb_used session_date  user_id\n",
       "27389        27389  1094_251   466.86   2018-12-29     1094\n",
       "37509        37509  1130_407   373.58   2018-08-17     1130\n",
       "93042        93042  1314_396   797.46   2018-06-08     1314\n",
       "26065        26065    1090_1   716.06   2018-11-09     1090\n",
       "143439      143439  1480_127     0.00   2018-05-19     1480\n",
       "121544      121544   1410_18   324.09   2018-09-04     1410\n",
       "30759        30759  1107_242   705.63   2018-11-04     1107\n",
       "51524        51524  1175_177   265.29   2018-08-24     1175\n",
       "59128        59128   1199_87     0.00   2018-11-10     1199\n",
       "38368        38368  1134_423   318.54   2018-12-10     1134"
      ]
     },
     "execution_count": 11,
     "metadata": {},
     "output_type": "execute_result"
    }
   ],
   "source": [
    "internet.sample(10)"
   ]
  },
  {
   "cell_type": "markdown",
   "id": "c7210306-1d17-4d27-be53-01ea8fdb317b",
   "metadata": {},
   "source": [
    "Действительно, колонка просто дублирует индекс, и ее можно удалить."
   ]
  },
  {
   "cell_type": "code",
   "execution_count": 12,
   "id": "f40635d0",
   "metadata": {},
   "outputs": [
    {
     "name": "stdout",
     "output_type": "stream",
     "text": [
      "<class 'pandas.core.frame.DataFrame'>\n",
      "RangeIndex: 149396 entries, 0 to 149395\n",
      "Data columns (total 5 columns):\n",
      " #   Column        Non-Null Count   Dtype  \n",
      "---  ------        --------------   -----  \n",
      " 0   Unnamed: 0    149396 non-null  int64  \n",
      " 1   id            149396 non-null  object \n",
      " 2   mb_used       149396 non-null  float64\n",
      " 3   session_date  149396 non-null  object \n",
      " 4   user_id       149396 non-null  int64  \n",
      "dtypes: float64(1), int64(2), object(2)\n",
      "memory usage: 5.7+ MB\n"
     ]
    }
   ],
   "source": [
    "internet.info()"
   ]
  },
  {
   "cell_type": "code",
   "execution_count": 13,
   "id": "6a011ea3",
   "metadata": {
    "scrolled": true
   },
   "outputs": [
    {
     "data": {
      "text/html": [
       "<div>\n",
       "<style scoped>\n",
       "    .dataframe tbody tr th:only-of-type {\n",
       "        vertical-align: middle;\n",
       "    }\n",
       "\n",
       "    .dataframe tbody tr th {\n",
       "        vertical-align: top;\n",
       "    }\n",
       "\n",
       "    .dataframe thead th {\n",
       "        text-align: right;\n",
       "    }\n",
       "</style>\n",
       "<table border=\"1\" class=\"dataframe\">\n",
       "  <thead>\n",
       "    <tr style=\"text-align: right;\">\n",
       "      <th></th>\n",
       "      <th>count</th>\n",
       "      <th>mean</th>\n",
       "      <th>std</th>\n",
       "      <th>min</th>\n",
       "      <th>25%</th>\n",
       "      <th>50%</th>\n",
       "      <th>75%</th>\n",
       "      <th>max</th>\n",
       "    </tr>\n",
       "  </thead>\n",
       "  <tbody>\n",
       "    <tr>\n",
       "      <th>Unnamed: 0</th>\n",
       "      <td>149396.0</td>\n",
       "      <td>74697.500000</td>\n",
       "      <td>43127.054745</td>\n",
       "      <td>0.0</td>\n",
       "      <td>37348.7500</td>\n",
       "      <td>74697.500</td>\n",
       "      <td>112046.2500</td>\n",
       "      <td>149395.00</td>\n",
       "    </tr>\n",
       "    <tr>\n",
       "      <th>mb_used</th>\n",
       "      <td>149396.0</td>\n",
       "      <td>370.192426</td>\n",
       "      <td>278.300951</td>\n",
       "      <td>0.0</td>\n",
       "      <td>138.1875</td>\n",
       "      <td>348.015</td>\n",
       "      <td>559.5525</td>\n",
       "      <td>1724.83</td>\n",
       "    </tr>\n",
       "    <tr>\n",
       "      <th>user_id</th>\n",
       "      <td>149396.0</td>\n",
       "      <td>1252.099842</td>\n",
       "      <td>144.050823</td>\n",
       "      <td>1000.0</td>\n",
       "      <td>1130.0000</td>\n",
       "      <td>1251.000</td>\n",
       "      <td>1380.0000</td>\n",
       "      <td>1499.00</td>\n",
       "    </tr>\n",
       "  </tbody>\n",
       "</table>\n",
       "</div>"
      ],
      "text/plain": [
       "               count          mean           std     min         25%  \\\n",
       "Unnamed: 0  149396.0  74697.500000  43127.054745     0.0  37348.7500   \n",
       "mb_used     149396.0    370.192426    278.300951     0.0    138.1875   \n",
       "user_id     149396.0   1252.099842    144.050823  1000.0   1130.0000   \n",
       "\n",
       "                  50%          75%        max  \n",
       "Unnamed: 0  74697.500  112046.2500  149395.00  \n",
       "mb_used       348.015     559.5525    1724.83  \n",
       "user_id      1251.000    1380.0000    1499.00  "
      ]
     },
     "execution_count": 13,
     "metadata": {},
     "output_type": "execute_result"
    }
   ],
   "source": [
    "internet.describe().T"
   ]
  },
  {
   "cell_type": "markdown",
   "id": "8fe10f35-9909-452d-8606-cfa8d4760444",
   "metadata": {},
   "source": [
    "Колонка 'session_date' строкового типа содержит дату. Для работы с датой нужно изменить тип на datetime."
   ]
  },
  {
   "cell_type": "markdown",
   "id": "29030252-e33f-4d55-b5b6-8b51c5cbb3fd",
   "metadata": {},
   "source": [
    "Сделаем обзор датафрейма <b>messages.</b>."
   ]
  },
  {
   "cell_type": "code",
   "execution_count": 14,
   "id": "db821a74",
   "metadata": {
    "scrolled": true,
    "tags": []
   },
   "outputs": [
    {
     "data": {
      "text/html": [
       "<div>\n",
       "<style scoped>\n",
       "    .dataframe tbody tr th:only-of-type {\n",
       "        vertical-align: middle;\n",
       "    }\n",
       "\n",
       "    .dataframe tbody tr th {\n",
       "        vertical-align: top;\n",
       "    }\n",
       "\n",
       "    .dataframe thead th {\n",
       "        text-align: right;\n",
       "    }\n",
       "</style>\n",
       "<table border=\"1\" class=\"dataframe\">\n",
       "  <thead>\n",
       "    <tr style=\"text-align: right;\">\n",
       "      <th></th>\n",
       "      <th>id</th>\n",
       "      <th>message_date</th>\n",
       "      <th>user_id</th>\n",
       "    </tr>\n",
       "  </thead>\n",
       "  <tbody>\n",
       "    <tr>\n",
       "      <th>0</th>\n",
       "      <td>1000_0</td>\n",
       "      <td>2018-06-27</td>\n",
       "      <td>1000</td>\n",
       "    </tr>\n",
       "    <tr>\n",
       "      <th>1</th>\n",
       "      <td>1000_1</td>\n",
       "      <td>2018-10-08</td>\n",
       "      <td>1000</td>\n",
       "    </tr>\n",
       "    <tr>\n",
       "      <th>2</th>\n",
       "      <td>1000_2</td>\n",
       "      <td>2018-08-04</td>\n",
       "      <td>1000</td>\n",
       "    </tr>\n",
       "    <tr>\n",
       "      <th>3</th>\n",
       "      <td>1000_3</td>\n",
       "      <td>2018-06-16</td>\n",
       "      <td>1000</td>\n",
       "    </tr>\n",
       "    <tr>\n",
       "      <th>4</th>\n",
       "      <td>1000_4</td>\n",
       "      <td>2018-12-05</td>\n",
       "      <td>1000</td>\n",
       "    </tr>\n",
       "  </tbody>\n",
       "</table>\n",
       "</div>"
      ],
      "text/plain": [
       "       id message_date  user_id\n",
       "0  1000_0   2018-06-27     1000\n",
       "1  1000_1   2018-10-08     1000\n",
       "2  1000_2   2018-08-04     1000\n",
       "3  1000_3   2018-06-16     1000\n",
       "4  1000_4   2018-12-05     1000"
      ]
     },
     "execution_count": 14,
     "metadata": {},
     "output_type": "execute_result"
    }
   ],
   "source": [
    "messages.head()"
   ]
  },
  {
   "cell_type": "code",
   "execution_count": 15,
   "id": "4f5bd931",
   "metadata": {},
   "outputs": [
    {
     "name": "stdout",
     "output_type": "stream",
     "text": [
      "<class 'pandas.core.frame.DataFrame'>\n",
      "RangeIndex: 123036 entries, 0 to 123035\n",
      "Data columns (total 3 columns):\n",
      " #   Column        Non-Null Count   Dtype \n",
      "---  ------        --------------   ----- \n",
      " 0   id            123036 non-null  object\n",
      " 1   message_date  123036 non-null  object\n",
      " 2   user_id       123036 non-null  int64 \n",
      "dtypes: int64(1), object(2)\n",
      "memory usage: 2.8+ MB\n"
     ]
    }
   ],
   "source": [
    "messages.info()"
   ]
  },
  {
   "cell_type": "markdown",
   "id": "7c91ca2a-f5db-4d88-bae2-7f78eb4bdad3",
   "metadata": {},
   "source": [
    "Колонка 'message_date' строкового типа содержит дату. Для работы с датой нужно изменить тип на datetime."
   ]
  },
  {
   "cell_type": "markdown",
   "id": "a8b83acc",
   "metadata": {},
   "source": [
    "### Вывод\n",
    "\n",
    "Пропуски только в датафрейме users в колонке 'churn_date', т.к. это дата смены тарифа, и если она не заполнена, то тариф действующий.\n",
    "В остальных датафреймах пропусков нет.\n",
    "\n",
    "\n",
    "* Нужно сделать преобразование типов данных из object в datetime:\n",
    "    * users - 'churn_date' и 'reg_date';\n",
    "    * calls - 'call_date';\n",
    "    * internet - 'session_date';\n",
    "    * messages - 'message_date'.\n",
    "    \n",
    "\n",
    "* Нужно добавить в таблицы calls, internet и messages колонку 'month' для анализа данных по месяцам.\n",
    "\n",
    "* Нужно привести к целочисленному типу и округлить в большую сторону колонку 'duration' в calls, так как каждый звонок компанией «Мегалайн» округляется отдельно.\n",
    "\n",
    "* Колонку 'tafiff_name' в датафрейме 'tariff' нужно переименовать в 'tariff' (как в датафрейме users).\n"
   ]
  },
  {
   "cell_type": "markdown",
   "id": "966545c7",
   "metadata": {},
   "source": [
    "## 2 Предобработка данных"
   ]
  },
  {
   "cell_type": "markdown",
   "id": "1474c543",
   "metadata": {},
   "source": [
    "### 2.1. Проверка на наличие дубликатов"
   ]
  },
  {
   "cell_type": "code",
   "execution_count": 16,
   "id": "80de6002",
   "metadata": {},
   "outputs": [
    {
     "name": "stdout",
     "output_type": "stream",
     "text": [
      "users : 0\n",
      "tariffs : 0\n",
      "calls : 0\n",
      "internet : 0\n",
      "messages : 0\n"
     ]
    }
   ],
   "source": [
    "dfs = [users, tariffs, calls, internet, messages]\n",
    "df_names = ['users', 'tariffs', 'calls', 'internet', 'messages']\n",
    "for df, df_name in zip(dfs, df_names):\n",
    "    print(df_name, ':', df.duplicated().sum())"
   ]
  },
  {
   "cell_type": "markdown",
   "id": "3b9b8a87-de65-46b4-b70f-b36702dfb609",
   "metadata": {},
   "source": [
    "Ни в одном из датафреймов нет дубликатов."
   ]
  },
  {
   "cell_type": "markdown",
   "id": "35a6ab3a-1eb5-47f4-a177-7f034e525fb4",
   "metadata": {},
   "source": [
    "### 2.2. Изменение типов данных и названий колонок."
   ]
  },
  {
   "cell_type": "markdown",
   "id": "9b1334c6-373b-4a02-97a3-a459689668f1",
   "metadata": {},
   "source": [
    "Так как для каждого звонка длительность разговора округляется до минут, округлим колонку 'duration' в большую сторону, и  изменим ее тип на int."
   ]
  },
  {
   "cell_type": "code",
   "execution_count": 17,
   "id": "97ab11cb",
   "metadata": {},
   "outputs": [],
   "source": [
    "calls['duration'] = np.ceil(calls['duration']).astype('int')"
   ]
  },
  {
   "cell_type": "code",
   "execution_count": 18,
   "id": "4507fc28-8ac7-4fcf-8a24-a474e7ebc398",
   "metadata": {},
   "outputs": [
    {
     "data": {
      "text/html": [
       "<div>\n",
       "<style scoped>\n",
       "    .dataframe tbody tr th:only-of-type {\n",
       "        vertical-align: middle;\n",
       "    }\n",
       "\n",
       "    .dataframe tbody tr th {\n",
       "        vertical-align: top;\n",
       "    }\n",
       "\n",
       "    .dataframe thead th {\n",
       "        text-align: right;\n",
       "    }\n",
       "</style>\n",
       "<table border=\"1\" class=\"dataframe\">\n",
       "  <thead>\n",
       "    <tr style=\"text-align: right;\">\n",
       "      <th></th>\n",
       "      <th>id</th>\n",
       "      <th>call_date</th>\n",
       "      <th>duration</th>\n",
       "      <th>user_id</th>\n",
       "    </tr>\n",
       "  </thead>\n",
       "  <tbody>\n",
       "    <tr>\n",
       "      <th>176827</th>\n",
       "      <td>1436_272</td>\n",
       "      <td>2018-04-21</td>\n",
       "      <td>22</td>\n",
       "      <td>1436</td>\n",
       "    </tr>\n",
       "  </tbody>\n",
       "</table>\n",
       "</div>"
      ],
      "text/plain": [
       "              id   call_date  duration  user_id\n",
       "176827  1436_272  2018-04-21        22     1436"
      ]
     },
     "execution_count": 18,
     "metadata": {},
     "output_type": "execute_result"
    }
   ],
   "source": [
    "calls.sample()"
   ]
  },
  {
   "cell_type": "code",
   "execution_count": 19,
   "id": "12dd03e4-8a20-43d0-904d-e79f3be99722",
   "metadata": {},
   "outputs": [
    {
     "data": {
      "text/html": [
       "<div>\n",
       "<style scoped>\n",
       "    .dataframe tbody tr th:only-of-type {\n",
       "        vertical-align: middle;\n",
       "    }\n",
       "\n",
       "    .dataframe tbody tr th {\n",
       "        vertical-align: top;\n",
       "    }\n",
       "\n",
       "    .dataframe thead th {\n",
       "        text-align: right;\n",
       "    }\n",
       "</style>\n",
       "<table border=\"1\" class=\"dataframe\">\n",
       "  <thead>\n",
       "    <tr style=\"text-align: right;\">\n",
       "      <th></th>\n",
       "      <th>Unnamed: 0</th>\n",
       "      <th>id</th>\n",
       "      <th>mb_used</th>\n",
       "      <th>session_date</th>\n",
       "      <th>user_id</th>\n",
       "    </tr>\n",
       "  </thead>\n",
       "  <tbody>\n",
       "    <tr>\n",
       "      <th>57602</th>\n",
       "      <td>57602</td>\n",
       "      <td>1193_141</td>\n",
       "      <td>140.73</td>\n",
       "      <td>2018-08-08</td>\n",
       "      <td>1193</td>\n",
       "    </tr>\n",
       "  </tbody>\n",
       "</table>\n",
       "</div>"
      ],
      "text/plain": [
       "       Unnamed: 0        id  mb_used session_date  user_id\n",
       "57602       57602  1193_141   140.73   2018-08-08     1193"
      ]
     },
     "execution_count": 19,
     "metadata": {},
     "output_type": "execute_result"
    }
   ],
   "source": [
    "internet.sample()"
   ]
  },
  {
   "cell_type": "markdown",
   "id": "29eb0682-683d-4412-9c17-ca30518edbeb",
   "metadata": {},
   "source": [
    "Удалим лишнюю колонку в датафрейме internet."
   ]
  },
  {
   "cell_type": "code",
   "execution_count": 20,
   "id": "3bc1f77c-6e1c-456c-aeb1-4f09ecbfdc95",
   "metadata": {},
   "outputs": [
    {
     "data": {
      "text/plain": [
       "Index(['Unnamed: 0', 'id', 'mb_used', 'session_date', 'user_id'], dtype='object')"
      ]
     },
     "execution_count": 20,
     "metadata": {},
     "output_type": "execute_result"
    }
   ],
   "source": [
    "internet.columns"
   ]
  },
  {
   "cell_type": "code",
   "execution_count": 21,
   "id": "11a8c580-24a0-43cb-8190-525e1193da23",
   "metadata": {},
   "outputs": [],
   "source": [
    "internet.drop(['Unnamed: 0'],axis=1,inplace = True)"
   ]
  },
  {
   "cell_type": "code",
   "execution_count": 22,
   "id": "244333e9-840e-4a78-ac00-2370397f08b6",
   "metadata": {},
   "outputs": [
    {
     "data": {
      "text/html": [
       "<div>\n",
       "<style scoped>\n",
       "    .dataframe tbody tr th:only-of-type {\n",
       "        vertical-align: middle;\n",
       "    }\n",
       "\n",
       "    .dataframe tbody tr th {\n",
       "        vertical-align: top;\n",
       "    }\n",
       "\n",
       "    .dataframe thead th {\n",
       "        text-align: right;\n",
       "    }\n",
       "</style>\n",
       "<table border=\"1\" class=\"dataframe\">\n",
       "  <thead>\n",
       "    <tr style=\"text-align: right;\">\n",
       "      <th></th>\n",
       "      <th>id</th>\n",
       "      <th>mb_used</th>\n",
       "      <th>session_date</th>\n",
       "      <th>user_id</th>\n",
       "    </tr>\n",
       "  </thead>\n",
       "  <tbody>\n",
       "    <tr>\n",
       "      <th>90479</th>\n",
       "      <td>1307_96</td>\n",
       "      <td>516.75</td>\n",
       "      <td>2018-10-20</td>\n",
       "      <td>1307</td>\n",
       "    </tr>\n",
       "  </tbody>\n",
       "</table>\n",
       "</div>"
      ],
      "text/plain": [
       "            id  mb_used session_date  user_id\n",
       "90479  1307_96   516.75   2018-10-20     1307"
      ]
     },
     "execution_count": 22,
     "metadata": {},
     "output_type": "execute_result"
    }
   ],
   "source": [
    "internet.sample()"
   ]
  },
  {
   "cell_type": "markdown",
   "id": "9d70de23-54a1-463d-a429-8b750093e4f7",
   "metadata": {},
   "source": [
    "Преобразуем в датафрейме users тип данных в колонке 'reg_date' в datetime. Если есть ошибочно заполненные даты, сохраним индексы строк таких данных в список bad_date_indexes."
   ]
  },
  {
   "cell_type": "code",
   "execution_count": 23,
   "id": "ba4dacb7",
   "metadata": {},
   "outputs": [
    {
     "name": "stdout",
     "output_type": "stream",
     "text": [
      "users[\"reg_date\"]: bad_date_indexes = []\n",
      "users[\"churn_date\"]: bad_date_indexes = []\n",
      "calls[\"call_date\"]: bad_date_indexes = []\n",
      "internet[\"session_date\"]: bad_date_indexes = []\n",
      "messages[\"message_date\"]: bad_date_indexes = []\n"
     ]
    }
   ],
   "source": [
    "dfs = [users,users,calls,internet,messages]\n",
    "df_names = ['users', 'users', 'calls', 'internet', 'messages']\n",
    "columns = ['reg_date', 'churn_date', 'call_date', 'session_date', 'message_date']\n",
    "for df, column, df_name in zip(dfs, columns, df_names):\n",
    "    bad_date_indexes = []\n",
    "    try:\n",
    "        df[column] = pd.to_datetime(df[column], format = '%Y-%m-%d')\n",
    "    except:\n",
    "        bad_date_indexes.append(df.index)\n",
    "    print(f'{df_name}[\"{column}\"]: bad_date_indexes = {bad_date_indexes}')"
   ]
  },
  {
   "cell_type": "markdown",
   "id": "717e4744",
   "metadata": {},
   "source": [
    "Преобразование дат прошло успешно (все списки bad_date_indexes пусты)."
   ]
  },
  {
   "cell_type": "code",
   "execution_count": 24,
   "id": "a70d4da6",
   "metadata": {},
   "outputs": [
    {
     "name": "stdout",
     "output_type": "stream",
     "text": [
      "users :\n",
      "<class 'pandas.core.frame.DataFrame'>\n",
      "RangeIndex: 500 entries, 0 to 499\n",
      "Data columns (total 8 columns):\n",
      " #   Column      Non-Null Count  Dtype         \n",
      "---  ------      --------------  -----         \n",
      " 0   user_id     500 non-null    int64         \n",
      " 1   age         500 non-null    int64         \n",
      " 2   churn_date  38 non-null     datetime64[ns]\n",
      " 3   city        500 non-null    object        \n",
      " 4   first_name  500 non-null    object        \n",
      " 5   last_name   500 non-null    object        \n",
      " 6   reg_date    500 non-null    datetime64[ns]\n",
      " 7   tariff      500 non-null    object        \n",
      "dtypes: datetime64[ns](2), int64(2), object(4)\n",
      "memory usage: 31.4+ KB\n",
      "\n",
      "users :\n",
      "<class 'pandas.core.frame.DataFrame'>\n",
      "RangeIndex: 500 entries, 0 to 499\n",
      "Data columns (total 8 columns):\n",
      " #   Column      Non-Null Count  Dtype         \n",
      "---  ------      --------------  -----         \n",
      " 0   user_id     500 non-null    int64         \n",
      " 1   age         500 non-null    int64         \n",
      " 2   churn_date  38 non-null     datetime64[ns]\n",
      " 3   city        500 non-null    object        \n",
      " 4   first_name  500 non-null    object        \n",
      " 5   last_name   500 non-null    object        \n",
      " 6   reg_date    500 non-null    datetime64[ns]\n",
      " 7   tariff      500 non-null    object        \n",
      "dtypes: datetime64[ns](2), int64(2), object(4)\n",
      "memory usage: 31.4+ KB\n",
      "\n",
      "calls :\n",
      "<class 'pandas.core.frame.DataFrame'>\n",
      "RangeIndex: 202607 entries, 0 to 202606\n",
      "Data columns (total 4 columns):\n",
      " #   Column     Non-Null Count   Dtype         \n",
      "---  ------     --------------   -----         \n",
      " 0   id         202607 non-null  object        \n",
      " 1   call_date  202607 non-null  datetime64[ns]\n",
      " 2   duration   202607 non-null  int32         \n",
      " 3   user_id    202607 non-null  int64         \n",
      "dtypes: datetime64[ns](1), int32(1), int64(1), object(1)\n",
      "memory usage: 5.4+ MB\n",
      "\n",
      "internet :\n",
      "<class 'pandas.core.frame.DataFrame'>\n",
      "RangeIndex: 149396 entries, 0 to 149395\n",
      "Data columns (total 4 columns):\n",
      " #   Column        Non-Null Count   Dtype         \n",
      "---  ------        --------------   -----         \n",
      " 0   id            149396 non-null  object        \n",
      " 1   mb_used       149396 non-null  float64       \n",
      " 2   session_date  149396 non-null  datetime64[ns]\n",
      " 3   user_id       149396 non-null  int64         \n",
      "dtypes: datetime64[ns](1), float64(1), int64(1), object(1)\n",
      "memory usage: 4.6+ MB\n",
      "\n",
      "messages :\n",
      "<class 'pandas.core.frame.DataFrame'>\n",
      "RangeIndex: 123036 entries, 0 to 123035\n",
      "Data columns (total 3 columns):\n",
      " #   Column        Non-Null Count   Dtype         \n",
      "---  ------        --------------   -----         \n",
      " 0   id            123036 non-null  object        \n",
      " 1   message_date  123036 non-null  datetime64[ns]\n",
      " 2   user_id       123036 non-null  int64         \n",
      "dtypes: datetime64[ns](1), int64(1), object(1)\n",
      "memory usage: 2.8+ MB\n",
      "\n"
     ]
    }
   ],
   "source": [
    "for df,df_name in zip(dfs, df_names):\n",
    "    print(df_name, ':')\n",
    "    df.info()\n",
    "    print()"
   ]
  },
  {
   "cell_type": "markdown",
   "id": "486df624-6094-4a9d-b96b-42a1e87b052c",
   "metadata": {},
   "source": [
    "Переименуем колонку 'tariff_name' в 'tariff' в датафрейме tariff."
   ]
  },
  {
   "cell_type": "code",
   "execution_count": 25,
   "id": "f41caf4d-60db-49e6-94d2-124657a75424",
   "metadata": {},
   "outputs": [],
   "source": [
    "tariffs = tariffs.rename(columns = {'tariff_name': 'tariff'})"
   ]
  },
  {
   "cell_type": "markdown",
   "id": "b0f7f514",
   "metadata": {},
   "source": [
    "### 2.3. Добавление новых колонок в датафреймы"
   ]
  },
  {
   "cell_type": "markdown",
   "id": "b603e1ff-dc50-4e73-8de6-d2008ddae0f9",
   "metadata": {},
   "source": [
    "Нужно добавить в таблицы calls, internet и messages колонку 'month' для анализа данных по месяцам."
   ]
  },
  {
   "cell_type": "code",
   "execution_count": 26,
   "id": "e079dddf-5f1a-4f8f-b24f-c07ce78bb1ff",
   "metadata": {},
   "outputs": [
    {
     "data": {
      "text/html": [
       "<div>\n",
       "<style scoped>\n",
       "    .dataframe tbody tr th:only-of-type {\n",
       "        vertical-align: middle;\n",
       "    }\n",
       "\n",
       "    .dataframe tbody tr th {\n",
       "        vertical-align: top;\n",
       "    }\n",
       "\n",
       "    .dataframe thead th {\n",
       "        text-align: right;\n",
       "    }\n",
       "</style>\n",
       "<table border=\"1\" class=\"dataframe\">\n",
       "  <thead>\n",
       "    <tr style=\"text-align: right;\">\n",
       "      <th></th>\n",
       "      <th>id</th>\n",
       "      <th>call_date</th>\n",
       "      <th>duration</th>\n",
       "      <th>user_id</th>\n",
       "      <th>month</th>\n",
       "    </tr>\n",
       "  </thead>\n",
       "  <tbody>\n",
       "    <tr>\n",
       "      <th>110689</th>\n",
       "      <td>1284_287</td>\n",
       "      <td>2018-06-21</td>\n",
       "      <td>5</td>\n",
       "      <td>1284</td>\n",
       "      <td>2018-06-01</td>\n",
       "    </tr>\n",
       "  </tbody>\n",
       "</table>\n",
       "</div>"
      ],
      "text/plain": [
       "              id  call_date  duration  user_id      month\n",
       "110689  1284_287 2018-06-21         5     1284 2018-06-01"
      ]
     },
     "execution_count": 26,
     "metadata": {},
     "output_type": "execute_result"
    }
   ],
   "source": [
    "calls['month'] = calls['call_date'].astype('datetime64[M]')\n",
    "calls.sample()"
   ]
  },
  {
   "cell_type": "code",
   "execution_count": 27,
   "id": "7d7ee144-efe2-41f4-8345-80f382677082",
   "metadata": {},
   "outputs": [
    {
     "data": {
      "text/html": [
       "<div>\n",
       "<style scoped>\n",
       "    .dataframe tbody tr th:only-of-type {\n",
       "        vertical-align: middle;\n",
       "    }\n",
       "\n",
       "    .dataframe tbody tr th {\n",
       "        vertical-align: top;\n",
       "    }\n",
       "\n",
       "    .dataframe thead th {\n",
       "        text-align: right;\n",
       "    }\n",
       "</style>\n",
       "<table border=\"1\" class=\"dataframe\">\n",
       "  <thead>\n",
       "    <tr style=\"text-align: right;\">\n",
       "      <th></th>\n",
       "      <th>id</th>\n",
       "      <th>mb_used</th>\n",
       "      <th>session_date</th>\n",
       "      <th>user_id</th>\n",
       "      <th>month</th>\n",
       "    </tr>\n",
       "  </thead>\n",
       "  <tbody>\n",
       "    <tr>\n",
       "      <th>9212</th>\n",
       "      <td>1032_292</td>\n",
       "      <td>360.52</td>\n",
       "      <td>2018-11-20</td>\n",
       "      <td>1032</td>\n",
       "      <td>2018-11-01</td>\n",
       "    </tr>\n",
       "  </tbody>\n",
       "</table>\n",
       "</div>"
      ],
      "text/plain": [
       "            id  mb_used session_date  user_id      month\n",
       "9212  1032_292   360.52   2018-11-20     1032 2018-11-01"
      ]
     },
     "execution_count": 27,
     "metadata": {},
     "output_type": "execute_result"
    }
   ],
   "source": [
    "internet['month'] = internet['session_date'].astype('datetime64[M]')\n",
    "internet.sample()"
   ]
  },
  {
   "cell_type": "code",
   "execution_count": 28,
   "id": "635c37d9-ddb7-45fa-b802-50791632c7c6",
   "metadata": {},
   "outputs": [
    {
     "data": {
      "text/html": [
       "<div>\n",
       "<style scoped>\n",
       "    .dataframe tbody tr th:only-of-type {\n",
       "        vertical-align: middle;\n",
       "    }\n",
       "\n",
       "    .dataframe tbody tr th {\n",
       "        vertical-align: top;\n",
       "    }\n",
       "\n",
       "    .dataframe thead th {\n",
       "        text-align: right;\n",
       "    }\n",
       "</style>\n",
       "<table border=\"1\" class=\"dataframe\">\n",
       "  <thead>\n",
       "    <tr style=\"text-align: right;\">\n",
       "      <th></th>\n",
       "      <th>id</th>\n",
       "      <th>message_date</th>\n",
       "      <th>user_id</th>\n",
       "      <th>month</th>\n",
       "    </tr>\n",
       "  </thead>\n",
       "  <tbody>\n",
       "    <tr>\n",
       "      <th>82584</th>\n",
       "      <td>1344_648</td>\n",
       "      <td>2018-10-23</td>\n",
       "      <td>1344</td>\n",
       "      <td>2018-10-01</td>\n",
       "    </tr>\n",
       "  </tbody>\n",
       "</table>\n",
       "</div>"
      ],
      "text/plain": [
       "             id message_date  user_id      month\n",
       "82584  1344_648   2018-10-23     1344 2018-10-01"
      ]
     },
     "execution_count": 28,
     "metadata": {},
     "output_type": "execute_result"
    }
   ],
   "source": [
    "messages['month'] = messages['message_date'].astype('datetime64[M]')\n",
    "messages.sample()"
   ]
  },
  {
   "cell_type": "markdown",
   "id": "06d95db5",
   "metadata": {},
   "source": [
    "## 3. Подготовка данных для исследования"
   ]
  },
  {
   "cell_type": "markdown",
   "id": "58b5fc2e-60c5-4065-8546-c486d970c3f4",
   "metadata": {},
   "source": [
    "Для исследования для каждого пользователя нужно посчитать:\n",
    "\n",
    "*\tколичество сделанных звонков и израсходованных минут разговора по месяцам;\n",
    "*\tколичество отправленных сообщений по месяцам;\n",
    "*\tобъем израсходованного интернет-трафика по месяцам;\n",
    "*\tпомесячную выручку с каждого пользователя (вычесть бесплатный лимит из суммарного количества звонков, сообщений и интернет-трафика; остаток умножить на значение из тарифного плана; прибавить абонентскую плату, соответствующую тарифному плану).\n"
   ]
  },
  {
   "cell_type": "markdown",
   "id": "45bd03d3-68b9-4fbc-866a-0fbe57f68f64",
   "metadata": {},
   "source": [
    "#### 3.1. Подготовка данных по звонкам"
   ]
  },
  {
   "cell_type": "markdown",
   "id": "05baf6e6-d2ac-44b5-b3be-ab7d81533f1d",
   "metadata": {},
   "source": [
    "Для исследования данных по звонкам (количество звонков, число использованных минут разговора) нужны будут данные из датафрейма calls. \n",
    "\n",
    "Но нужно решить, как включать в исследование данные о звонках, которые были сделаны в месяц подключения к тарифу и в месяц отказа от тарифа. Если пользователь подключился к тарифу в конце месяца (или отказался от тарифа в начале месяца), то в этом случае данные о звонках могут повлиять на среднее значение.\n",
    "\n",
    "Дата регистрации и дата отказа от тарифа находятся в датафрейме users, поэтому объединим users и calls методом merge().\n",
    "\n",
    "Так как данные нового датафрейма будем группировать по месяцам, новый датафрейм назовем calls_per_month."
   ]
  },
  {
   "cell_type": "code",
   "execution_count": 29,
   "id": "e6a13e63-0b8c-48a2-8fc6-aaa940d6e248",
   "metadata": {},
   "outputs": [
    {
     "name": "stdout",
     "output_type": "stream",
     "text": [
      "<class 'pandas.core.frame.DataFrame'>\n",
      "Int64Index: 202607 entries, 0 to 202606\n",
      "Data columns (total 7 columns):\n",
      " #   Column      Non-Null Count   Dtype         \n",
      "---  ------      --------------   -----         \n",
      " 0   id          202607 non-null  object        \n",
      " 1   call_date   202607 non-null  datetime64[ns]\n",
      " 2   duration    202607 non-null  int32         \n",
      " 3   user_id     202607 non-null  int64         \n",
      " 4   month       202607 non-null  datetime64[ns]\n",
      " 5   reg_date    202607 non-null  datetime64[ns]\n",
      " 6   churn_date  9919 non-null    datetime64[ns]\n",
      "dtypes: datetime64[ns](4), int32(1), int64(1), object(1)\n",
      "memory usage: 11.6+ MB\n"
     ]
    }
   ],
   "source": [
    "calls_per_month = calls.merge(users[['user_id','reg_date','churn_date']], on = 'user_id', how='left')\n",
    "calls_per_month['user_id'].count()\n",
    "calls_per_month.info()"
   ]
  },
  {
   "cell_type": "markdown",
   "id": "71fed592-55fe-4589-8fd7-6dd0cd0fb94d",
   "metadata": {},
   "source": [
    "В датафрейме 202615 записей.\n",
    "\n",
    "Выберем записи о звонках, которые приходятся на месяц регистрации или отказа от тарифа."
   ]
  },
  {
   "cell_type": "code",
   "execution_count": 30,
   "id": "e56f8fc0-3d9b-43ca-8c9c-572642f008bf",
   "metadata": {},
   "outputs": [
    {
     "data": {
      "text/plain": [
       "19092"
      ]
     },
     "execution_count": 30,
     "metadata": {},
     "output_type": "execute_result"
    }
   ],
   "source": [
    "calls_per_month[(calls_per_month['reg_date'].dt.month == calls_per_month['call_date'].dt.month) |\n",
    "           (calls_per_month['churn_date'].dt.month == calls_per_month['call_date'].dt.month)]['user_id'].count()"
   ]
  },
  {
   "cell_type": "code",
   "execution_count": 31,
   "id": "e7438f63-2125-4573-8604-5505e6398b11",
   "metadata": {},
   "outputs": [
    {
     "data": {
      "text/plain": [
       "9.42"
      ]
     },
     "execution_count": 31,
     "metadata": {},
     "output_type": "execute_result"
    }
   ],
   "source": [
    "round(19092 / 202615 * 100,2)"
   ]
  },
  {
   "cell_type": "markdown",
   "id": "76f08ee8-8ed4-45c7-8038-14db23cf389d",
   "metadata": {},
   "source": [
    "Таких записей 9.42%. \n",
    "\n",
    "Чтобы не удалять все данные за месяц регистрации/отказа от тарифа, можно взять данные о звонках, если регистрация прошла не позднее 5 числа месяца или отказ от тарифа прошел не раньше 25 числа месяца. Проверим, сколько данных НЕ войдут в исследование при таких условиях."
   ]
  },
  {
   "cell_type": "code",
   "execution_count": 32,
   "id": "b8d2b654-f8a4-4c70-b091-97e43fdadbf1",
   "metadata": {},
   "outputs": [
    {
     "data": {
      "text/plain": [
       "12970"
      ]
     },
     "execution_count": 32,
     "metadata": {},
     "output_type": "execute_result"
    }
   ],
   "source": [
    "calls_per_month[((calls_per_month['reg_date'].dt.month == calls_per_month['call_date'].dt.month) &\n",
    "             (calls_per_month['reg_date'].dt.day > 5)) |\n",
    "            ((calls_per_month['churn_date'].dt.month == calls_per_month['call_date'].dt.month) &\n",
    "             (calls_per_month['churn_date'].dt.day < 25))]['user_id'].count()"
   ]
  },
  {
   "cell_type": "code",
   "execution_count": 33,
   "id": "03846220-26c6-41e5-97df-fceff7e31b7f",
   "metadata": {},
   "outputs": [
    {
     "data": {
      "text/plain": [
       "6.4"
      ]
     },
     "execution_count": 33,
     "metadata": {},
     "output_type": "execute_result"
    }
   ],
   "source": [
    "round(12970 / 202607 * 100,2)"
   ]
  },
  {
   "cell_type": "markdown",
   "id": "28ea2ac6-b5c5-4519-b8eb-8fad4d4b57a8",
   "metadata": {},
   "source": [
    "Таких записей меньше - 6.4%. Применим это правило (если месяц звонка совпадает с месяцем регистрации отказа от тарифа, и регистрация прошла не позднее 5 числа месяца или отказ от тарифа прошел не раньше 25 числа месяца, тогда включаем данные звонак в датафрейм).\n",
    "\n",
    "По такому же принципу будем отбирать данные по смс-сообщениям и траффику интернета."
   ]
  },
  {
   "cell_type": "code",
   "execution_count": 34,
   "id": "387d5072-e95b-491d-8ea1-54fac1f3cd6a",
   "metadata": {},
   "outputs": [
    {
     "data": {
      "text/html": [
       "<div>\n",
       "<style scoped>\n",
       "    .dataframe tbody tr th:only-of-type {\n",
       "        vertical-align: middle;\n",
       "    }\n",
       "\n",
       "    .dataframe tbody tr th {\n",
       "        vertical-align: top;\n",
       "    }\n",
       "\n",
       "    .dataframe thead th {\n",
       "        text-align: right;\n",
       "    }\n",
       "</style>\n",
       "<table border=\"1\" class=\"dataframe\">\n",
       "  <thead>\n",
       "    <tr style=\"text-align: right;\">\n",
       "      <th></th>\n",
       "      <th>id</th>\n",
       "      <th>call_date</th>\n",
       "      <th>duration</th>\n",
       "      <th>user_id</th>\n",
       "      <th>month</th>\n",
       "      <th>reg_date</th>\n",
       "      <th>churn_date</th>\n",
       "    </tr>\n",
       "  </thead>\n",
       "  <tbody>\n",
       "    <tr>\n",
       "      <th>0</th>\n",
       "      <td>1000_0</td>\n",
       "      <td>2018-07-25</td>\n",
       "      <td>0</td>\n",
       "      <td>1000</td>\n",
       "      <td>2018-07-01</td>\n",
       "      <td>2018-05-25</td>\n",
       "      <td>NaT</td>\n",
       "    </tr>\n",
       "    <tr>\n",
       "      <th>1</th>\n",
       "      <td>1000_1</td>\n",
       "      <td>2018-08-17</td>\n",
       "      <td>0</td>\n",
       "      <td>1000</td>\n",
       "      <td>2018-08-01</td>\n",
       "      <td>2018-05-25</td>\n",
       "      <td>NaT</td>\n",
       "    </tr>\n",
       "    <tr>\n",
       "      <th>2</th>\n",
       "      <td>1000_2</td>\n",
       "      <td>2018-06-11</td>\n",
       "      <td>3</td>\n",
       "      <td>1000</td>\n",
       "      <td>2018-06-01</td>\n",
       "      <td>2018-05-25</td>\n",
       "      <td>NaT</td>\n",
       "    </tr>\n",
       "    <tr>\n",
       "      <th>3</th>\n",
       "      <td>1000_3</td>\n",
       "      <td>2018-09-21</td>\n",
       "      <td>14</td>\n",
       "      <td>1000</td>\n",
       "      <td>2018-09-01</td>\n",
       "      <td>2018-05-25</td>\n",
       "      <td>NaT</td>\n",
       "    </tr>\n",
       "    <tr>\n",
       "      <th>4</th>\n",
       "      <td>1000_4</td>\n",
       "      <td>2018-12-15</td>\n",
       "      <td>6</td>\n",
       "      <td>1000</td>\n",
       "      <td>2018-12-01</td>\n",
       "      <td>2018-05-25</td>\n",
       "      <td>NaT</td>\n",
       "    </tr>\n",
       "  </tbody>\n",
       "</table>\n",
       "</div>"
      ],
      "text/plain": [
       "       id  call_date  duration  user_id      month   reg_date churn_date\n",
       "0  1000_0 2018-07-25         0     1000 2018-07-01 2018-05-25        NaT\n",
       "1  1000_1 2018-08-17         0     1000 2018-08-01 2018-05-25        NaT\n",
       "2  1000_2 2018-06-11         3     1000 2018-06-01 2018-05-25        NaT\n",
       "3  1000_3 2018-09-21        14     1000 2018-09-01 2018-05-25        NaT\n",
       "4  1000_4 2018-12-15         6     1000 2018-12-01 2018-05-25        NaT"
      ]
     },
     "execution_count": 34,
     "metadata": {},
     "output_type": "execute_result"
    }
   ],
   "source": [
    "calls_per_month = calls_per_month[((calls_per_month['reg_date'].dt.month != calls_per_month['call_date'].dt.month) |\n",
    "             (calls_per_month['reg_date'].dt.day <= 5)) &\n",
    "            ((calls_per_month['churn_date'].dt.month != calls_per_month['call_date'].dt.month) |\n",
    "             (calls_per_month['churn_date'].dt.day >=25))]\n",
    "calls_per_month.head()"
   ]
  },
  {
   "cell_type": "markdown",
   "id": "4582bbc5-e575-4fa6-b2fe-63668e05b5af",
   "metadata": {},
   "source": [
    "Вычислим количество звонков и суммарное количество минут за каждый месяц для каждого пользователя. reset_index() нужен, чтобы user_id и month были колонками, а не мультииндексом."
   ]
  },
  {
   "cell_type": "code",
   "execution_count": 35,
   "id": "ddf6e4ab-c29b-44a6-a3ea-af1822802c91",
   "metadata": {},
   "outputs": [
    {
     "data": {
      "text/html": [
       "<div>\n",
       "<style scoped>\n",
       "    .dataframe tbody tr th:only-of-type {\n",
       "        vertical-align: middle;\n",
       "    }\n",
       "\n",
       "    .dataframe tbody tr th {\n",
       "        vertical-align: top;\n",
       "    }\n",
       "\n",
       "    .dataframe thead th {\n",
       "        text-align: right;\n",
       "    }\n",
       "</style>\n",
       "<table border=\"1\" class=\"dataframe\">\n",
       "  <thead>\n",
       "    <tr style=\"text-align: right;\">\n",
       "      <th></th>\n",
       "      <th>user_id</th>\n",
       "      <th>month</th>\n",
       "      <th>count</th>\n",
       "      <th>sum</th>\n",
       "    </tr>\n",
       "  </thead>\n",
       "  <tbody>\n",
       "    <tr>\n",
       "      <th>0</th>\n",
       "      <td>1000</td>\n",
       "      <td>2018-06-01</td>\n",
       "      <td>43</td>\n",
       "      <td>172</td>\n",
       "    </tr>\n",
       "    <tr>\n",
       "      <th>1</th>\n",
       "      <td>1000</td>\n",
       "      <td>2018-07-01</td>\n",
       "      <td>47</td>\n",
       "      <td>340</td>\n",
       "    </tr>\n",
       "    <tr>\n",
       "      <th>2</th>\n",
       "      <td>1000</td>\n",
       "      <td>2018-08-01</td>\n",
       "      <td>52</td>\n",
       "      <td>408</td>\n",
       "    </tr>\n",
       "    <tr>\n",
       "      <th>3</th>\n",
       "      <td>1000</td>\n",
       "      <td>2018-09-01</td>\n",
       "      <td>58</td>\n",
       "      <td>466</td>\n",
       "    </tr>\n",
       "    <tr>\n",
       "      <th>4</th>\n",
       "      <td>1000</td>\n",
       "      <td>2018-10-01</td>\n",
       "      <td>57</td>\n",
       "      <td>350</td>\n",
       "    </tr>\n",
       "  </tbody>\n",
       "</table>\n",
       "</div>"
      ],
      "text/plain": [
       "   user_id      month  count  sum\n",
       "0     1000 2018-06-01     43  172\n",
       "1     1000 2018-07-01     47  340\n",
       "2     1000 2018-08-01     52  408\n",
       "3     1000 2018-09-01     58  466\n",
       "4     1000 2018-10-01     57  350"
      ]
     },
     "execution_count": 35,
     "metadata": {},
     "output_type": "execute_result"
    }
   ],
   "source": [
    "calls_per_month = calls_per_month.groupby(['user_id','month'])['duration'].agg(['count','sum']).reset_index()\n",
    "calls_per_month.head()"
   ]
  },
  {
   "cell_type": "markdown",
   "id": "908123d3-10b1-4651-a280-b4830eb91f01",
   "metadata": {},
   "source": [
    "Переименуем колонки 'coun't в 'calls', а 'sum' в 'minutes'."
   ]
  },
  {
   "cell_type": "code",
   "execution_count": 36,
   "id": "428897f2-921c-488e-8a2b-f52d498a9c36",
   "metadata": {},
   "outputs": [
    {
     "data": {
      "text/html": [
       "<div>\n",
       "<style scoped>\n",
       "    .dataframe tbody tr th:only-of-type {\n",
       "        vertical-align: middle;\n",
       "    }\n",
       "\n",
       "    .dataframe tbody tr th {\n",
       "        vertical-align: top;\n",
       "    }\n",
       "\n",
       "    .dataframe thead th {\n",
       "        text-align: right;\n",
       "    }\n",
       "</style>\n",
       "<table border=\"1\" class=\"dataframe\">\n",
       "  <thead>\n",
       "    <tr style=\"text-align: right;\">\n",
       "      <th></th>\n",
       "      <th>user_id</th>\n",
       "      <th>month</th>\n",
       "      <th>calls</th>\n",
       "      <th>minutes</th>\n",
       "    </tr>\n",
       "  </thead>\n",
       "  <tbody>\n",
       "    <tr>\n",
       "      <th>0</th>\n",
       "      <td>1000</td>\n",
       "      <td>2018-06-01</td>\n",
       "      <td>43</td>\n",
       "      <td>172</td>\n",
       "    </tr>\n",
       "    <tr>\n",
       "      <th>1</th>\n",
       "      <td>1000</td>\n",
       "      <td>2018-07-01</td>\n",
       "      <td>47</td>\n",
       "      <td>340</td>\n",
       "    </tr>\n",
       "    <tr>\n",
       "      <th>2</th>\n",
       "      <td>1000</td>\n",
       "      <td>2018-08-01</td>\n",
       "      <td>52</td>\n",
       "      <td>408</td>\n",
       "    </tr>\n",
       "    <tr>\n",
       "      <th>3</th>\n",
       "      <td>1000</td>\n",
       "      <td>2018-09-01</td>\n",
       "      <td>58</td>\n",
       "      <td>466</td>\n",
       "    </tr>\n",
       "    <tr>\n",
       "      <th>4</th>\n",
       "      <td>1000</td>\n",
       "      <td>2018-10-01</td>\n",
       "      <td>57</td>\n",
       "      <td>350</td>\n",
       "    </tr>\n",
       "  </tbody>\n",
       "</table>\n",
       "</div>"
      ],
      "text/plain": [
       "   user_id      month  calls  minutes\n",
       "0     1000 2018-06-01     43      172\n",
       "1     1000 2018-07-01     47      340\n",
       "2     1000 2018-08-01     52      408\n",
       "3     1000 2018-09-01     58      466\n",
       "4     1000 2018-10-01     57      350"
      ]
     },
     "execution_count": 36,
     "metadata": {},
     "output_type": "execute_result"
    }
   ],
   "source": [
    "calls_per_month.columns = ['user_id','month','calls','minutes']\n",
    "calls_per_month.head()"
   ]
  },
  {
   "cell_type": "markdown",
   "id": "d264e4ec-2d1d-4eb2-b8b5-e0226a37fd05",
   "metadata": {},
   "source": [
    "Теперь вычислим помесячную выручку от телефонных разговоров сверх лимита с каждого пользователя."
   ]
  },
  {
   "cell_type": "markdown",
   "id": "5fcdf55a-de4f-400d-be03-ba40bfb635c8",
   "metadata": {},
   "source": [
    "Для вычисления выручки по минутам из датафрейма tariffs возьмем информацию о минутах тарифа."
   ]
  },
  {
   "cell_type": "code",
   "execution_count": 37,
   "id": "74a91216-a8fb-4cb4-8676-49236a923846",
   "metadata": {},
   "outputs": [
    {
     "data": {
      "text/html": [
       "<div>\n",
       "<style scoped>\n",
       "    .dataframe tbody tr th:only-of-type {\n",
       "        vertical-align: middle;\n",
       "    }\n",
       "\n",
       "    .dataframe tbody tr th {\n",
       "        vertical-align: top;\n",
       "    }\n",
       "\n",
       "    .dataframe thead th {\n",
       "        text-align: right;\n",
       "    }\n",
       "</style>\n",
       "<table border=\"1\" class=\"dataframe\">\n",
       "  <thead>\n",
       "    <tr style=\"text-align: right;\">\n",
       "      <th></th>\n",
       "      <th>user_id</th>\n",
       "      <th>month</th>\n",
       "      <th>calls</th>\n",
       "      <th>minutes</th>\n",
       "      <th>tariff</th>\n",
       "      <th>minutes_included</th>\n",
       "      <th>rub_per_minute</th>\n",
       "    </tr>\n",
       "  </thead>\n",
       "  <tbody>\n",
       "    <tr>\n",
       "      <th>0</th>\n",
       "      <td>1000</td>\n",
       "      <td>2018-06-01</td>\n",
       "      <td>43</td>\n",
       "      <td>172</td>\n",
       "      <td>ultra</td>\n",
       "      <td>3000</td>\n",
       "      <td>1</td>\n",
       "    </tr>\n",
       "    <tr>\n",
       "      <th>1</th>\n",
       "      <td>1000</td>\n",
       "      <td>2018-07-01</td>\n",
       "      <td>47</td>\n",
       "      <td>340</td>\n",
       "      <td>ultra</td>\n",
       "      <td>3000</td>\n",
       "      <td>1</td>\n",
       "    </tr>\n",
       "    <tr>\n",
       "      <th>2</th>\n",
       "      <td>1000</td>\n",
       "      <td>2018-08-01</td>\n",
       "      <td>52</td>\n",
       "      <td>408</td>\n",
       "      <td>ultra</td>\n",
       "      <td>3000</td>\n",
       "      <td>1</td>\n",
       "    </tr>\n",
       "    <tr>\n",
       "      <th>3</th>\n",
       "      <td>1000</td>\n",
       "      <td>2018-09-01</td>\n",
       "      <td>58</td>\n",
       "      <td>466</td>\n",
       "      <td>ultra</td>\n",
       "      <td>3000</td>\n",
       "      <td>1</td>\n",
       "    </tr>\n",
       "    <tr>\n",
       "      <th>4</th>\n",
       "      <td>1000</td>\n",
       "      <td>2018-10-01</td>\n",
       "      <td>57</td>\n",
       "      <td>350</td>\n",
       "      <td>ultra</td>\n",
       "      <td>3000</td>\n",
       "      <td>1</td>\n",
       "    </tr>\n",
       "  </tbody>\n",
       "</table>\n",
       "</div>"
      ],
      "text/plain": [
       "   user_id      month  calls  minutes tariff  minutes_included  rub_per_minute\n",
       "0     1000 2018-06-01     43      172  ultra              3000               1\n",
       "1     1000 2018-07-01     47      340  ultra              3000               1\n",
       "2     1000 2018-08-01     52      408  ultra              3000               1\n",
       "3     1000 2018-09-01     58      466  ultra              3000               1\n",
       "4     1000 2018-10-01     57      350  ultra              3000               1"
      ]
     },
     "execution_count": 37,
     "metadata": {},
     "output_type": "execute_result"
    }
   ],
   "source": [
    "calls_per_month = calls_per_month.merge(users[['user_id','tariff']],on = 'user_id',how='left')\\\n",
    "                                 .merge(tariffs[['tariff','minutes_included','rub_per_minute']], on = 'tariff')\n",
    "calls_per_month.head()"
   ]
  },
  {
   "cell_type": "markdown",
   "id": "5c4a0662-c326-42fa-bde5-d04b8468e32f",
   "metadata": {},
   "source": [
    "В колонку 'minutes_income' поместим выручку от использования минут разговора сверх лимита."
   ]
  },
  {
   "cell_type": "code",
   "execution_count": 38,
   "id": "a36f2be9-0d60-4933-be64-809f309ccdf0",
   "metadata": {},
   "outputs": [
    {
     "data": {
      "text/html": [
       "<div>\n",
       "<style scoped>\n",
       "    .dataframe tbody tr th:only-of-type {\n",
       "        vertical-align: middle;\n",
       "    }\n",
       "\n",
       "    .dataframe tbody tr th {\n",
       "        vertical-align: top;\n",
       "    }\n",
       "\n",
       "    .dataframe thead th {\n",
       "        text-align: right;\n",
       "    }\n",
       "</style>\n",
       "<table border=\"1\" class=\"dataframe\">\n",
       "  <thead>\n",
       "    <tr style=\"text-align: right;\">\n",
       "      <th></th>\n",
       "      <th>user_id</th>\n",
       "      <th>month</th>\n",
       "      <th>calls</th>\n",
       "      <th>minutes</th>\n",
       "      <th>tariff</th>\n",
       "      <th>minutes_included</th>\n",
       "      <th>rub_per_minute</th>\n",
       "      <th>minutes_income</th>\n",
       "    </tr>\n",
       "  </thead>\n",
       "  <tbody>\n",
       "    <tr>\n",
       "      <th>0</th>\n",
       "      <td>1000</td>\n",
       "      <td>2018-06-01</td>\n",
       "      <td>43</td>\n",
       "      <td>172</td>\n",
       "      <td>ultra</td>\n",
       "      <td>3000</td>\n",
       "      <td>1</td>\n",
       "      <td>0</td>\n",
       "    </tr>\n",
       "    <tr>\n",
       "      <th>1</th>\n",
       "      <td>1000</td>\n",
       "      <td>2018-07-01</td>\n",
       "      <td>47</td>\n",
       "      <td>340</td>\n",
       "      <td>ultra</td>\n",
       "      <td>3000</td>\n",
       "      <td>1</td>\n",
       "      <td>0</td>\n",
       "    </tr>\n",
       "    <tr>\n",
       "      <th>2</th>\n",
       "      <td>1000</td>\n",
       "      <td>2018-08-01</td>\n",
       "      <td>52</td>\n",
       "      <td>408</td>\n",
       "      <td>ultra</td>\n",
       "      <td>3000</td>\n",
       "      <td>1</td>\n",
       "      <td>0</td>\n",
       "    </tr>\n",
       "    <tr>\n",
       "      <th>3</th>\n",
       "      <td>1000</td>\n",
       "      <td>2018-09-01</td>\n",
       "      <td>58</td>\n",
       "      <td>466</td>\n",
       "      <td>ultra</td>\n",
       "      <td>3000</td>\n",
       "      <td>1</td>\n",
       "      <td>0</td>\n",
       "    </tr>\n",
       "    <tr>\n",
       "      <th>4</th>\n",
       "      <td>1000</td>\n",
       "      <td>2018-10-01</td>\n",
       "      <td>57</td>\n",
       "      <td>350</td>\n",
       "      <td>ultra</td>\n",
       "      <td>3000</td>\n",
       "      <td>1</td>\n",
       "      <td>0</td>\n",
       "    </tr>\n",
       "  </tbody>\n",
       "</table>\n",
       "</div>"
      ],
      "text/plain": [
       "   user_id      month  calls  minutes tariff  minutes_included  \\\n",
       "0     1000 2018-06-01     43      172  ultra              3000   \n",
       "1     1000 2018-07-01     47      340  ultra              3000   \n",
       "2     1000 2018-08-01     52      408  ultra              3000   \n",
       "3     1000 2018-09-01     58      466  ultra              3000   \n",
       "4     1000 2018-10-01     57      350  ultra              3000   \n",
       "\n",
       "   rub_per_minute  minutes_income  \n",
       "0               1               0  \n",
       "1               1               0  \n",
       "2               1               0  \n",
       "3               1               0  \n",
       "4               1               0  "
      ]
     },
     "execution_count": 38,
     "metadata": {},
     "output_type": "execute_result"
    }
   ],
   "source": [
    "# Из количества минут разговора вычтем количество минут, включенных в тариф, и умножим на стоимость минут вне лимита\n",
    "calls_per_month['minutes_income'] = (calls_per_month['minutes'] - calls_per_month['minutes_included']) * \\\n",
    "                                     calls_per_month['rub_per_minute']\n",
    "# Если лимит неизрасходован, то значение в колонке 'minutes_income' будет  <0, т.е. прибыль будет =0\n",
    "calls_per_month.loc[calls_per_month['minutes_income'] < 0,'minutes_income'] = 0\n",
    "calls_per_month.head()"
   ]
  },
  {
   "cell_type": "markdown",
   "id": "74db313e-3d0c-4083-943a-d9eac7b47df5",
   "metadata": {},
   "source": [
    "#### 3.2. Подготовка данных по смс-сообщениям"
   ]
  },
  {
   "cell_type": "markdown",
   "id": "f6c4b53d-88b6-47a2-a186-060af0c7bfcd",
   "metadata": {},
   "source": [
    "Для исследования данных по сообщениям  нужны будут данные из датафрейма messages. \n",
    "\n",
    "Дата регистрации и дата отказа от тарифа находятся в датафрейме users, поэтому объединим users и messages методом merge().\n",
    "\n",
    "Так как данные нового датафрейма будем группировать по месяцам, назовем его messages_per_month."
   ]
  },
  {
   "cell_type": "code",
   "execution_count": 39,
   "id": "9d5cc755-212c-4d6c-a3ef-aa2df67d940e",
   "metadata": {},
   "outputs": [
    {
     "data": {
      "text/plain": [
       "123036"
      ]
     },
     "execution_count": 39,
     "metadata": {},
     "output_type": "execute_result"
    }
   ],
   "source": [
    "messages_per_month = messages.merge(users[['user_id','reg_date','churn_date']], on = 'user_id', how='left')\n",
    "messages_per_month['user_id'].count()"
   ]
  },
  {
   "cell_type": "markdown",
   "id": "21fe4bb9-eff4-4e5e-8955-620ef0d8c6fb",
   "metadata": {},
   "source": [
    "Если регистрация была позднее 5 числа месяца или отказ от тарифа позднее 25 числа месяца, то данные о месяце регистрации/отказа не включаем."
   ]
  },
  {
   "cell_type": "code",
   "execution_count": 40,
   "id": "a2d1a8c8-8aa1-4919-824d-8499f05d9c02",
   "metadata": {},
   "outputs": [
    {
     "data": {
      "text/html": [
       "<div>\n",
       "<style scoped>\n",
       "    .dataframe tbody tr th:only-of-type {\n",
       "        vertical-align: middle;\n",
       "    }\n",
       "\n",
       "    .dataframe tbody tr th {\n",
       "        vertical-align: top;\n",
       "    }\n",
       "\n",
       "    .dataframe thead th {\n",
       "        text-align: right;\n",
       "    }\n",
       "</style>\n",
       "<table border=\"1\" class=\"dataframe\">\n",
       "  <thead>\n",
       "    <tr style=\"text-align: right;\">\n",
       "      <th></th>\n",
       "      <th>id</th>\n",
       "      <th>message_date</th>\n",
       "      <th>user_id</th>\n",
       "      <th>month</th>\n",
       "      <th>reg_date</th>\n",
       "      <th>churn_date</th>\n",
       "    </tr>\n",
       "  </thead>\n",
       "  <tbody>\n",
       "    <tr>\n",
       "      <th>0</th>\n",
       "      <td>1000_0</td>\n",
       "      <td>2018-06-27</td>\n",
       "      <td>1000</td>\n",
       "      <td>2018-06-01</td>\n",
       "      <td>2018-05-25</td>\n",
       "      <td>NaT</td>\n",
       "    </tr>\n",
       "    <tr>\n",
       "      <th>1</th>\n",
       "      <td>1000_1</td>\n",
       "      <td>2018-10-08</td>\n",
       "      <td>1000</td>\n",
       "      <td>2018-10-01</td>\n",
       "      <td>2018-05-25</td>\n",
       "      <td>NaT</td>\n",
       "    </tr>\n",
       "    <tr>\n",
       "      <th>2</th>\n",
       "      <td>1000_2</td>\n",
       "      <td>2018-08-04</td>\n",
       "      <td>1000</td>\n",
       "      <td>2018-08-01</td>\n",
       "      <td>2018-05-25</td>\n",
       "      <td>NaT</td>\n",
       "    </tr>\n",
       "    <tr>\n",
       "      <th>3</th>\n",
       "      <td>1000_3</td>\n",
       "      <td>2018-06-16</td>\n",
       "      <td>1000</td>\n",
       "      <td>2018-06-01</td>\n",
       "      <td>2018-05-25</td>\n",
       "      <td>NaT</td>\n",
       "    </tr>\n",
       "    <tr>\n",
       "      <th>4</th>\n",
       "      <td>1000_4</td>\n",
       "      <td>2018-12-05</td>\n",
       "      <td>1000</td>\n",
       "      <td>2018-12-01</td>\n",
       "      <td>2018-05-25</td>\n",
       "      <td>NaT</td>\n",
       "    </tr>\n",
       "  </tbody>\n",
       "</table>\n",
       "</div>"
      ],
      "text/plain": [
       "       id message_date  user_id      month   reg_date churn_date\n",
       "0  1000_0   2018-06-27     1000 2018-06-01 2018-05-25        NaT\n",
       "1  1000_1   2018-10-08     1000 2018-10-01 2018-05-25        NaT\n",
       "2  1000_2   2018-08-04     1000 2018-08-01 2018-05-25        NaT\n",
       "3  1000_3   2018-06-16     1000 2018-06-01 2018-05-25        NaT\n",
       "4  1000_4   2018-12-05     1000 2018-12-01 2018-05-25        NaT"
      ]
     },
     "execution_count": 40,
     "metadata": {},
     "output_type": "execute_result"
    }
   ],
   "source": [
    "messages_per_month = messages_per_month[((messages_per_month['reg_date'].dt.month != \\\n",
    "                                          messages_per_month['message_date'].dt.month) |\n",
    "                                         (messages_per_month['reg_date'].dt.day <= 5)) &\n",
    "                                        ((messages_per_month['churn_date'].dt.month != \\\n",
    "                                          messages_per_month['message_date'].dt.month) |\n",
    "                                         (messages_per_month['churn_date'].dt.day >=25))]\n",
    "messages_per_month.head(5)"
   ]
  },
  {
   "cell_type": "markdown",
   "id": "3c882c6b-9446-46c4-a400-04aa8fdea2a2",
   "metadata": {},
   "source": [
    "Вычислим, количество сообщений за каждый месяц для каждого пользователя."
   ]
  },
  {
   "cell_type": "code",
   "execution_count": 41,
   "id": "610b729e-cb65-4bad-b22d-d0e1971ab549",
   "metadata": {},
   "outputs": [
    {
     "data": {
      "text/html": [
       "<div>\n",
       "<style scoped>\n",
       "    .dataframe tbody tr th:only-of-type {\n",
       "        vertical-align: middle;\n",
       "    }\n",
       "\n",
       "    .dataframe tbody tr th {\n",
       "        vertical-align: top;\n",
       "    }\n",
       "\n",
       "    .dataframe thead th {\n",
       "        text-align: right;\n",
       "    }\n",
       "</style>\n",
       "<table border=\"1\" class=\"dataframe\">\n",
       "  <thead>\n",
       "    <tr style=\"text-align: right;\">\n",
       "      <th></th>\n",
       "      <th>user_id</th>\n",
       "      <th>month</th>\n",
       "      <th>id</th>\n",
       "    </tr>\n",
       "  </thead>\n",
       "  <tbody>\n",
       "    <tr>\n",
       "      <th>0</th>\n",
       "      <td>1000</td>\n",
       "      <td>2018-06-01</td>\n",
       "      <td>60</td>\n",
       "    </tr>\n",
       "    <tr>\n",
       "      <th>1</th>\n",
       "      <td>1000</td>\n",
       "      <td>2018-07-01</td>\n",
       "      <td>75</td>\n",
       "    </tr>\n",
       "    <tr>\n",
       "      <th>2</th>\n",
       "      <td>1000</td>\n",
       "      <td>2018-08-01</td>\n",
       "      <td>81</td>\n",
       "    </tr>\n",
       "    <tr>\n",
       "      <th>3</th>\n",
       "      <td>1000</td>\n",
       "      <td>2018-09-01</td>\n",
       "      <td>57</td>\n",
       "    </tr>\n",
       "    <tr>\n",
       "      <th>4</th>\n",
       "      <td>1000</td>\n",
       "      <td>2018-10-01</td>\n",
       "      <td>73</td>\n",
       "    </tr>\n",
       "  </tbody>\n",
       "</table>\n",
       "</div>"
      ],
      "text/plain": [
       "   user_id      month  id\n",
       "0     1000 2018-06-01  60\n",
       "1     1000 2018-07-01  75\n",
       "2     1000 2018-08-01  81\n",
       "3     1000 2018-09-01  57\n",
       "4     1000 2018-10-01  73"
      ]
     },
     "metadata": {},
     "output_type": "display_data"
    }
   ],
   "source": [
    "messages_per_month = messages_per_month.groupby(['user_id','month'])['id'].agg('count').reset_index()\n",
    "display(messages_per_month.head())"
   ]
  },
  {
   "cell_type": "markdown",
   "id": "50221c16-a8fd-449d-91a3-ebbdc2472255",
   "metadata": {},
   "source": [
    "В колонке 'id' находится количество смс-сообщений, поэтому переименуем ее в 'messages'."
   ]
  },
  {
   "cell_type": "code",
   "execution_count": 42,
   "id": "0247c7f6-7842-4726-ab4e-7a62e4c66d44",
   "metadata": {},
   "outputs": [],
   "source": [
    "messages_per_month.columns = ['user_id','month','messages']"
   ]
  },
  {
   "cell_type": "markdown",
   "id": "f1ab485a-7904-49a5-905a-142f13c30088",
   "metadata": {},
   "source": [
    "Для дальнейшего анализа из датафрейма tariffs возьмем информацию о сообщениях для соответствующего тарифа."
   ]
  },
  {
   "cell_type": "code",
   "execution_count": 43,
   "id": "1d29e82c-5b37-4669-89e1-abd3199ff8c6",
   "metadata": {},
   "outputs": [
    {
     "data": {
      "text/html": [
       "<div>\n",
       "<style scoped>\n",
       "    .dataframe tbody tr th:only-of-type {\n",
       "        vertical-align: middle;\n",
       "    }\n",
       "\n",
       "    .dataframe tbody tr th {\n",
       "        vertical-align: top;\n",
       "    }\n",
       "\n",
       "    .dataframe thead th {\n",
       "        text-align: right;\n",
       "    }\n",
       "</style>\n",
       "<table border=\"1\" class=\"dataframe\">\n",
       "  <thead>\n",
       "    <tr style=\"text-align: right;\">\n",
       "      <th></th>\n",
       "      <th>user_id</th>\n",
       "      <th>month</th>\n",
       "      <th>messages</th>\n",
       "      <th>tariff</th>\n",
       "      <th>messages_included</th>\n",
       "      <th>rub_per_message</th>\n",
       "    </tr>\n",
       "  </thead>\n",
       "  <tbody>\n",
       "    <tr>\n",
       "      <th>0</th>\n",
       "      <td>1000</td>\n",
       "      <td>2018-06-01</td>\n",
       "      <td>60</td>\n",
       "      <td>ultra</td>\n",
       "      <td>1000</td>\n",
       "      <td>1</td>\n",
       "    </tr>\n",
       "    <tr>\n",
       "      <th>1</th>\n",
       "      <td>1000</td>\n",
       "      <td>2018-07-01</td>\n",
       "      <td>75</td>\n",
       "      <td>ultra</td>\n",
       "      <td>1000</td>\n",
       "      <td>1</td>\n",
       "    </tr>\n",
       "    <tr>\n",
       "      <th>2</th>\n",
       "      <td>1000</td>\n",
       "      <td>2018-08-01</td>\n",
       "      <td>81</td>\n",
       "      <td>ultra</td>\n",
       "      <td>1000</td>\n",
       "      <td>1</td>\n",
       "    </tr>\n",
       "    <tr>\n",
       "      <th>3</th>\n",
       "      <td>1000</td>\n",
       "      <td>2018-09-01</td>\n",
       "      <td>57</td>\n",
       "      <td>ultra</td>\n",
       "      <td>1000</td>\n",
       "      <td>1</td>\n",
       "    </tr>\n",
       "    <tr>\n",
       "      <th>4</th>\n",
       "      <td>1000</td>\n",
       "      <td>2018-10-01</td>\n",
       "      <td>73</td>\n",
       "      <td>ultra</td>\n",
       "      <td>1000</td>\n",
       "      <td>1</td>\n",
       "    </tr>\n",
       "  </tbody>\n",
       "</table>\n",
       "</div>"
      ],
      "text/plain": [
       "   user_id      month  messages tariff  messages_included  rub_per_message\n",
       "0     1000 2018-06-01        60  ultra               1000                1\n",
       "1     1000 2018-07-01        75  ultra               1000                1\n",
       "2     1000 2018-08-01        81  ultra               1000                1\n",
       "3     1000 2018-09-01        57  ultra               1000                1\n",
       "4     1000 2018-10-01        73  ultra               1000                1"
      ]
     },
     "execution_count": 43,
     "metadata": {},
     "output_type": "execute_result"
    }
   ],
   "source": [
    "messages_per_month = messages_per_month.merge(users[['user_id','tariff']],on = 'user_id',how='left')\\\n",
    "                                       .merge(tariffs[['tariff','messages_included','rub_per_message']], on = 'tariff')\n",
    "messages_per_month.head()"
   ]
  },
  {
   "cell_type": "markdown",
   "id": "2bb5e16a-2c94-4628-aae9-7c1e2cf4b6bb",
   "metadata": {},
   "source": [
    "В колонку 'messages_income' поместим выручку от использования минут разговора сверх лимита."
   ]
  },
  {
   "cell_type": "code",
   "execution_count": 44,
   "id": "a7622137-871b-4c18-b61d-f197fd1fa1ca",
   "metadata": {},
   "outputs": [
    {
     "data": {
      "text/html": [
       "<div>\n",
       "<style scoped>\n",
       "    .dataframe tbody tr th:only-of-type {\n",
       "        vertical-align: middle;\n",
       "    }\n",
       "\n",
       "    .dataframe tbody tr th {\n",
       "        vertical-align: top;\n",
       "    }\n",
       "\n",
       "    .dataframe thead th {\n",
       "        text-align: right;\n",
       "    }\n",
       "</style>\n",
       "<table border=\"1\" class=\"dataframe\">\n",
       "  <thead>\n",
       "    <tr style=\"text-align: right;\">\n",
       "      <th></th>\n",
       "      <th>user_id</th>\n",
       "      <th>month</th>\n",
       "      <th>messages</th>\n",
       "      <th>tariff</th>\n",
       "      <th>messages_included</th>\n",
       "      <th>rub_per_message</th>\n",
       "      <th>messages_income</th>\n",
       "    </tr>\n",
       "  </thead>\n",
       "  <tbody>\n",
       "    <tr>\n",
       "      <th>0</th>\n",
       "      <td>1000</td>\n",
       "      <td>2018-06-01</td>\n",
       "      <td>60</td>\n",
       "      <td>ultra</td>\n",
       "      <td>1000</td>\n",
       "      <td>1</td>\n",
       "      <td>0</td>\n",
       "    </tr>\n",
       "    <tr>\n",
       "      <th>1</th>\n",
       "      <td>1000</td>\n",
       "      <td>2018-07-01</td>\n",
       "      <td>75</td>\n",
       "      <td>ultra</td>\n",
       "      <td>1000</td>\n",
       "      <td>1</td>\n",
       "      <td>0</td>\n",
       "    </tr>\n",
       "    <tr>\n",
       "      <th>2</th>\n",
       "      <td>1000</td>\n",
       "      <td>2018-08-01</td>\n",
       "      <td>81</td>\n",
       "      <td>ultra</td>\n",
       "      <td>1000</td>\n",
       "      <td>1</td>\n",
       "      <td>0</td>\n",
       "    </tr>\n",
       "    <tr>\n",
       "      <th>3</th>\n",
       "      <td>1000</td>\n",
       "      <td>2018-09-01</td>\n",
       "      <td>57</td>\n",
       "      <td>ultra</td>\n",
       "      <td>1000</td>\n",
       "      <td>1</td>\n",
       "      <td>0</td>\n",
       "    </tr>\n",
       "    <tr>\n",
       "      <th>4</th>\n",
       "      <td>1000</td>\n",
       "      <td>2018-10-01</td>\n",
       "      <td>73</td>\n",
       "      <td>ultra</td>\n",
       "      <td>1000</td>\n",
       "      <td>1</td>\n",
       "      <td>0</td>\n",
       "    </tr>\n",
       "  </tbody>\n",
       "</table>\n",
       "</div>"
      ],
      "text/plain": [
       "   user_id      month  messages tariff  messages_included  rub_per_message  \\\n",
       "0     1000 2018-06-01        60  ultra               1000                1   \n",
       "1     1000 2018-07-01        75  ultra               1000                1   \n",
       "2     1000 2018-08-01        81  ultra               1000                1   \n",
       "3     1000 2018-09-01        57  ultra               1000                1   \n",
       "4     1000 2018-10-01        73  ultra               1000                1   \n",
       "\n",
       "   messages_income  \n",
       "0                0  \n",
       "1                0  \n",
       "2                0  \n",
       "3                0  \n",
       "4                0  "
      ]
     },
     "execution_count": 44,
     "metadata": {},
     "output_type": "execute_result"
    }
   ],
   "source": [
    "# Из количества сообщений пользователя вычтем количество сообщений, включенных в тариф, и умножим на стоимость сообщения вне лимита\n",
    "messages_per_month['messages_income'] = (messages_per_month['messages'] - messages_per_month['messages_included']) * \\\n",
    "                                         messages_per_month['rub_per_message']\n",
    "# Если лимит неизрасходован, то значение в колонке 'messages_income' будет <0, и прибыль будет =0\n",
    "messages_per_month.loc[messages_per_month['messages_income'] < 0,'messages_income'] = 0\n",
    "messages_per_month.head()"
   ]
  },
  {
   "cell_type": "markdown",
   "id": "ad0083ce-e184-4394-92da-050402f5ef0d",
   "metadata": {},
   "source": [
    "#### 3.3. Подготовка данных по интернет-сессиям "
   ]
  },
  {
   "cell_type": "markdown",
   "id": "849808fb-b866-4666-93f8-ee84233aa191",
   "metadata": {},
   "source": [
    "Для исследования данных об интернет-сессиях нужны будут данные из датафрейма internet. \n",
    "\n",
    "Дата регистрации и дата отказа от тарифа находятся в датафрейме users, поэтому объединим internet и users методом merge().\n",
    "\n",
    "Так как данные нового датафрейма будем группировать по месяцам, новый датафрейм назовем internet_per_month."
   ]
  },
  {
   "cell_type": "code",
   "execution_count": 45,
   "id": "7924e99f-5676-40c0-848d-95cd6363e5ef",
   "metadata": {},
   "outputs": [
    {
     "data": {
      "text/plain": [
       "149396"
      ]
     },
     "execution_count": 45,
     "metadata": {},
     "output_type": "execute_result"
    }
   ],
   "source": [
    "internet_per_month = internet.merge(users[['user_id','reg_date','churn_date']], on = 'user_id', how='left')\n",
    "internet_per_month['user_id'].count()"
   ]
  },
  {
   "cell_type": "markdown",
   "id": "6728486b-06e9-4ece-af44-adb892dbe831",
   "metadata": {},
   "source": [
    "Если регистрация была позднее 5 числа месяца или откказ от тарифа позднее 25 числа месяца, то данные о месяце регистрации/отказа не включаем."
   ]
  },
  {
   "cell_type": "code",
   "execution_count": 46,
   "id": "19c83048-c6b0-49a3-8b1a-17bba9288f03",
   "metadata": {},
   "outputs": [
    {
     "data": {
      "text/html": [
       "<div>\n",
       "<style scoped>\n",
       "    .dataframe tbody tr th:only-of-type {\n",
       "        vertical-align: middle;\n",
       "    }\n",
       "\n",
       "    .dataframe tbody tr th {\n",
       "        vertical-align: top;\n",
       "    }\n",
       "\n",
       "    .dataframe thead th {\n",
       "        text-align: right;\n",
       "    }\n",
       "</style>\n",
       "<table border=\"1\" class=\"dataframe\">\n",
       "  <thead>\n",
       "    <tr style=\"text-align: right;\">\n",
       "      <th></th>\n",
       "      <th>id</th>\n",
       "      <th>mb_used</th>\n",
       "      <th>session_date</th>\n",
       "      <th>user_id</th>\n",
       "      <th>month</th>\n",
       "      <th>reg_date</th>\n",
       "      <th>churn_date</th>\n",
       "    </tr>\n",
       "  </thead>\n",
       "  <tbody>\n",
       "    <tr>\n",
       "      <th>0</th>\n",
       "      <td>1000_0</td>\n",
       "      <td>112.95</td>\n",
       "      <td>2018-11-25</td>\n",
       "      <td>1000</td>\n",
       "      <td>2018-11-01</td>\n",
       "      <td>2018-05-25</td>\n",
       "      <td>NaT</td>\n",
       "    </tr>\n",
       "    <tr>\n",
       "      <th>1</th>\n",
       "      <td>1000_1</td>\n",
       "      <td>1052.81</td>\n",
       "      <td>2018-09-07</td>\n",
       "      <td>1000</td>\n",
       "      <td>2018-09-01</td>\n",
       "      <td>2018-05-25</td>\n",
       "      <td>NaT</td>\n",
       "    </tr>\n",
       "    <tr>\n",
       "      <th>2</th>\n",
       "      <td>1000_2</td>\n",
       "      <td>1197.26</td>\n",
       "      <td>2018-06-25</td>\n",
       "      <td>1000</td>\n",
       "      <td>2018-06-01</td>\n",
       "      <td>2018-05-25</td>\n",
       "      <td>NaT</td>\n",
       "    </tr>\n",
       "    <tr>\n",
       "      <th>3</th>\n",
       "      <td>1000_3</td>\n",
       "      <td>550.27</td>\n",
       "      <td>2018-08-22</td>\n",
       "      <td>1000</td>\n",
       "      <td>2018-08-01</td>\n",
       "      <td>2018-05-25</td>\n",
       "      <td>NaT</td>\n",
       "    </tr>\n",
       "    <tr>\n",
       "      <th>4</th>\n",
       "      <td>1000_4</td>\n",
       "      <td>302.56</td>\n",
       "      <td>2018-09-24</td>\n",
       "      <td>1000</td>\n",
       "      <td>2018-09-01</td>\n",
       "      <td>2018-05-25</td>\n",
       "      <td>NaT</td>\n",
       "    </tr>\n",
       "  </tbody>\n",
       "</table>\n",
       "</div>"
      ],
      "text/plain": [
       "       id  mb_used session_date  user_id      month   reg_date churn_date\n",
       "0  1000_0   112.95   2018-11-25     1000 2018-11-01 2018-05-25        NaT\n",
       "1  1000_1  1052.81   2018-09-07     1000 2018-09-01 2018-05-25        NaT\n",
       "2  1000_2  1197.26   2018-06-25     1000 2018-06-01 2018-05-25        NaT\n",
       "3  1000_3   550.27   2018-08-22     1000 2018-08-01 2018-05-25        NaT\n",
       "4  1000_4   302.56   2018-09-24     1000 2018-09-01 2018-05-25        NaT"
      ]
     },
     "execution_count": 46,
     "metadata": {},
     "output_type": "execute_result"
    }
   ],
   "source": [
    "internet_per_month = internet_per_month[((internet_per_month['reg_date'].dt.month != \\\n",
    "                                          internet_per_month['session_date'].dt.month) | \\\n",
    "                                         (internet_per_month['reg_date'].dt.day <= 5)) & \\\n",
    "                                        ((internet_per_month['churn_date'].dt.month != \\\n",
    "                                          internet_per_month['session_date'].dt.month) | \\\n",
    "                                         (internet_per_month['churn_date'].dt.day >=25))]\n",
    "internet_per_month.head()"
   ]
  },
  {
   "cell_type": "markdown",
   "id": "d41866d7-4e97-44ad-a554-35e47fb0de06",
   "metadata": {},
   "source": [
    "Вычислим количество использованных мегабайт за каждый месяц для каждого пользователя, округлим его в большую сторону, т.к. оператор округляет в большую сторону объем интернет-траффика за весь месяц."
   ]
  },
  {
   "cell_type": "code",
   "execution_count": 47,
   "id": "f08fbcab-bdb4-4faa-aa63-47f9c8bededc",
   "metadata": {},
   "outputs": [
    {
     "data": {
      "text/html": [
       "<div>\n",
       "<style scoped>\n",
       "    .dataframe tbody tr th:only-of-type {\n",
       "        vertical-align: middle;\n",
       "    }\n",
       "\n",
       "    .dataframe tbody tr th {\n",
       "        vertical-align: top;\n",
       "    }\n",
       "\n",
       "    .dataframe thead th {\n",
       "        text-align: right;\n",
       "    }\n",
       "</style>\n",
       "<table border=\"1\" class=\"dataframe\">\n",
       "  <thead>\n",
       "    <tr style=\"text-align: right;\">\n",
       "      <th></th>\n",
       "      <th>user_id</th>\n",
       "      <th>month</th>\n",
       "      <th>mb_used</th>\n",
       "    </tr>\n",
       "  </thead>\n",
       "  <tbody>\n",
       "    <tr>\n",
       "      <th>0</th>\n",
       "      <td>1000</td>\n",
       "      <td>2018-06-01</td>\n",
       "      <td>23234.0</td>\n",
       "    </tr>\n",
       "    <tr>\n",
       "      <th>1</th>\n",
       "      <td>1000</td>\n",
       "      <td>2018-07-01</td>\n",
       "      <td>14004.0</td>\n",
       "    </tr>\n",
       "    <tr>\n",
       "      <th>2</th>\n",
       "      <td>1000</td>\n",
       "      <td>2018-08-01</td>\n",
       "      <td>14056.0</td>\n",
       "    </tr>\n",
       "    <tr>\n",
       "      <th>3</th>\n",
       "      <td>1000</td>\n",
       "      <td>2018-09-01</td>\n",
       "      <td>14569.0</td>\n",
       "    </tr>\n",
       "    <tr>\n",
       "      <th>4</th>\n",
       "      <td>1000</td>\n",
       "      <td>2018-10-01</td>\n",
       "      <td>14703.0</td>\n",
       "    </tr>\n",
       "  </tbody>\n",
       "</table>\n",
       "</div>"
      ],
      "text/plain": [
       "   user_id      month  mb_used\n",
       "0     1000 2018-06-01  23234.0\n",
       "1     1000 2018-07-01  14004.0\n",
       "2     1000 2018-08-01  14056.0\n",
       "3     1000 2018-09-01  14569.0\n",
       "4     1000 2018-10-01  14703.0"
      ]
     },
     "metadata": {},
     "output_type": "display_data"
    }
   ],
   "source": [
    "internet_per_month = np.ceil(internet_per_month.groupby(['user_id','month'])['mb_used'].agg('sum')).reset_index()\n",
    "display(internet_per_month.head())"
   ]
  },
  {
   "cell_type": "markdown",
   "id": "41409af4-f2e3-4697-a1e1-3c7b5e33e8c3",
   "metadata": {},
   "source": [
    "Для дальнейшего анализа из датафрейма tariffs возьмем информацию, касающуюся интернета соответствующего тарифа."
   ]
  },
  {
   "cell_type": "code",
   "execution_count": 48,
   "id": "3822481e-d511-4fad-8e9b-916f61b1d397",
   "metadata": {},
   "outputs": [
    {
     "data": {
      "text/html": [
       "<div>\n",
       "<style scoped>\n",
       "    .dataframe tbody tr th:only-of-type {\n",
       "        vertical-align: middle;\n",
       "    }\n",
       "\n",
       "    .dataframe tbody tr th {\n",
       "        vertical-align: top;\n",
       "    }\n",
       "\n",
       "    .dataframe thead th {\n",
       "        text-align: right;\n",
       "    }\n",
       "</style>\n",
       "<table border=\"1\" class=\"dataframe\">\n",
       "  <thead>\n",
       "    <tr style=\"text-align: right;\">\n",
       "      <th></th>\n",
       "      <th>user_id</th>\n",
       "      <th>month</th>\n",
       "      <th>mb_used</th>\n",
       "      <th>tariff</th>\n",
       "      <th>mb_per_month_included</th>\n",
       "      <th>rub_per_gb</th>\n",
       "    </tr>\n",
       "  </thead>\n",
       "  <tbody>\n",
       "    <tr>\n",
       "      <th>0</th>\n",
       "      <td>1000</td>\n",
       "      <td>2018-06-01</td>\n",
       "      <td>23234.0</td>\n",
       "      <td>ultra</td>\n",
       "      <td>30720</td>\n",
       "      <td>150</td>\n",
       "    </tr>\n",
       "    <tr>\n",
       "      <th>1</th>\n",
       "      <td>1000</td>\n",
       "      <td>2018-07-01</td>\n",
       "      <td>14004.0</td>\n",
       "      <td>ultra</td>\n",
       "      <td>30720</td>\n",
       "      <td>150</td>\n",
       "    </tr>\n",
       "    <tr>\n",
       "      <th>2</th>\n",
       "      <td>1000</td>\n",
       "      <td>2018-08-01</td>\n",
       "      <td>14056.0</td>\n",
       "      <td>ultra</td>\n",
       "      <td>30720</td>\n",
       "      <td>150</td>\n",
       "    </tr>\n",
       "    <tr>\n",
       "      <th>3</th>\n",
       "      <td>1000</td>\n",
       "      <td>2018-09-01</td>\n",
       "      <td>14569.0</td>\n",
       "      <td>ultra</td>\n",
       "      <td>30720</td>\n",
       "      <td>150</td>\n",
       "    </tr>\n",
       "    <tr>\n",
       "      <th>4</th>\n",
       "      <td>1000</td>\n",
       "      <td>2018-10-01</td>\n",
       "      <td>14703.0</td>\n",
       "      <td>ultra</td>\n",
       "      <td>30720</td>\n",
       "      <td>150</td>\n",
       "    </tr>\n",
       "  </tbody>\n",
       "</table>\n",
       "</div>"
      ],
      "text/plain": [
       "   user_id      month  mb_used tariff  mb_per_month_included  rub_per_gb\n",
       "0     1000 2018-06-01  23234.0  ultra                  30720         150\n",
       "1     1000 2018-07-01  14004.0  ultra                  30720         150\n",
       "2     1000 2018-08-01  14056.0  ultra                  30720         150\n",
       "3     1000 2018-09-01  14569.0  ultra                  30720         150\n",
       "4     1000 2018-10-01  14703.0  ultra                  30720         150"
      ]
     },
     "execution_count": 48,
     "metadata": {},
     "output_type": "execute_result"
    }
   ],
   "source": [
    "internet_per_month = internet_per_month.merge(users[['user_id','tariff']],on = 'user_id',how='left')\\\n",
    "                                       .merge(tariffs[['tariff','mb_per_month_included','rub_per_gb']], on = 'tariff')\n",
    "internet_per_month.head()"
   ]
  },
  {
   "cell_type": "markdown",
   "id": "cc007a6b-7d00-4b60-9256-a0745db5655a",
   "metadata": {},
   "source": [
    "В колонку 'internet_income' поместим выручку от использования интернет-траффика сверх лимита (Мб переведем в Гб, округлив результат в большую сторону)."
   ]
  },
  {
   "cell_type": "code",
   "execution_count": 49,
   "id": "86d1478f-74c9-49ef-80f6-5143fd518db5",
   "metadata": {},
   "outputs": [
    {
     "data": {
      "text/html": [
       "<div>\n",
       "<style scoped>\n",
       "    .dataframe tbody tr th:only-of-type {\n",
       "        vertical-align: middle;\n",
       "    }\n",
       "\n",
       "    .dataframe tbody tr th {\n",
       "        vertical-align: top;\n",
       "    }\n",
       "\n",
       "    .dataframe thead th {\n",
       "        text-align: right;\n",
       "    }\n",
       "</style>\n",
       "<table border=\"1\" class=\"dataframe\">\n",
       "  <thead>\n",
       "    <tr style=\"text-align: right;\">\n",
       "      <th></th>\n",
       "      <th>user_id</th>\n",
       "      <th>month</th>\n",
       "      <th>mb_used</th>\n",
       "      <th>tariff</th>\n",
       "      <th>mb_per_month_included</th>\n",
       "      <th>rub_per_gb</th>\n",
       "      <th>internet_income</th>\n",
       "    </tr>\n",
       "  </thead>\n",
       "  <tbody>\n",
       "    <tr>\n",
       "      <th>0</th>\n",
       "      <td>1000</td>\n",
       "      <td>2018-06-01</td>\n",
       "      <td>23234.0</td>\n",
       "      <td>ultra</td>\n",
       "      <td>30720</td>\n",
       "      <td>150</td>\n",
       "      <td>0.0</td>\n",
       "    </tr>\n",
       "    <tr>\n",
       "      <th>1</th>\n",
       "      <td>1000</td>\n",
       "      <td>2018-07-01</td>\n",
       "      <td>14004.0</td>\n",
       "      <td>ultra</td>\n",
       "      <td>30720</td>\n",
       "      <td>150</td>\n",
       "      <td>0.0</td>\n",
       "    </tr>\n",
       "    <tr>\n",
       "      <th>2</th>\n",
       "      <td>1000</td>\n",
       "      <td>2018-08-01</td>\n",
       "      <td>14056.0</td>\n",
       "      <td>ultra</td>\n",
       "      <td>30720</td>\n",
       "      <td>150</td>\n",
       "      <td>0.0</td>\n",
       "    </tr>\n",
       "    <tr>\n",
       "      <th>3</th>\n",
       "      <td>1000</td>\n",
       "      <td>2018-09-01</td>\n",
       "      <td>14569.0</td>\n",
       "      <td>ultra</td>\n",
       "      <td>30720</td>\n",
       "      <td>150</td>\n",
       "      <td>0.0</td>\n",
       "    </tr>\n",
       "    <tr>\n",
       "      <th>4</th>\n",
       "      <td>1000</td>\n",
       "      <td>2018-10-01</td>\n",
       "      <td>14703.0</td>\n",
       "      <td>ultra</td>\n",
       "      <td>30720</td>\n",
       "      <td>150</td>\n",
       "      <td>0.0</td>\n",
       "    </tr>\n",
       "  </tbody>\n",
       "</table>\n",
       "</div>"
      ],
      "text/plain": [
       "   user_id      month  mb_used tariff  mb_per_month_included  rub_per_gb  \\\n",
       "0     1000 2018-06-01  23234.0  ultra                  30720         150   \n",
       "1     1000 2018-07-01  14004.0  ultra                  30720         150   \n",
       "2     1000 2018-08-01  14056.0  ultra                  30720         150   \n",
       "3     1000 2018-09-01  14569.0  ultra                  30720         150   \n",
       "4     1000 2018-10-01  14703.0  ultra                  30720         150   \n",
       "\n",
       "   internet_income  \n",
       "0              0.0  \n",
       "1              0.0  \n",
       "2              0.0  \n",
       "3              0.0  \n",
       "4              0.0  "
      ]
     },
     "execution_count": 49,
     "metadata": {},
     "output_type": "execute_result"
    }
   ],
   "source": [
    "# Из количества израсходованных Мб интернета вычтем количество Мб, включенных в тариф,переведем в Гб и умножим на стоимость Гб интернета вне лимита\n",
    "internet_per_month['internet_income'] = np.ceil((internet_per_month['mb_used'] - \\\n",
    "                                                 internet_per_month['mb_per_month_included'])/1024) * \\\n",
    "                                                 internet_per_month['rub_per_gb']\n",
    "# Если лимит неизрасходован, то значение в колонке будет 'messages_income'<0, и прибыль будет =0\n",
    "internet_per_month.loc[internet_per_month['internet_income'] < 0,'internet_income'] = 0\n",
    "internet_per_month.head()"
   ]
  },
  {
   "cell_type": "markdown",
   "id": "d0c4056a-db41-4ea9-aed5-6d235e10f654",
   "metadata": {},
   "source": [
    "#### 3.4. Объединение данных по звонкам, сообщениям и интернет-сессиям"
   ]
  },
  {
   "cell_type": "markdown",
   "id": "94312286-b7ea-4bfb-9a28-897e49f413ea",
   "metadata": {},
   "source": [
    "Объединим данные по звонкам, сообщениям и интернет-сессиям в датафрейм used_per_month."
   ]
  },
  {
   "cell_type": "code",
   "execution_count": 50,
   "id": "96d9cfaf-bf46-4873-8218-b6fede60142b",
   "metadata": {},
   "outputs": [
    {
     "data": {
      "text/html": [
       "<div>\n",
       "<style scoped>\n",
       "    .dataframe tbody tr th:only-of-type {\n",
       "        vertical-align: middle;\n",
       "    }\n",
       "\n",
       "    .dataframe tbody tr th {\n",
       "        vertical-align: top;\n",
       "    }\n",
       "\n",
       "    .dataframe thead th {\n",
       "        text-align: right;\n",
       "    }\n",
       "</style>\n",
       "<table border=\"1\" class=\"dataframe\">\n",
       "  <thead>\n",
       "    <tr style=\"text-align: right;\">\n",
       "      <th></th>\n",
       "      <th>user_id</th>\n",
       "      <th>month</th>\n",
       "      <th>calls</th>\n",
       "      <th>minutes</th>\n",
       "      <th>minutes_income</th>\n",
       "      <th>messages</th>\n",
       "      <th>messages_income</th>\n",
       "      <th>mb_used</th>\n",
       "      <th>internet_income</th>\n",
       "      <th>tariff</th>\n",
       "      <th>city</th>\n",
       "    </tr>\n",
       "  </thead>\n",
       "  <tbody>\n",
       "    <tr>\n",
       "      <th>0</th>\n",
       "      <td>1000</td>\n",
       "      <td>2018-06-01</td>\n",
       "      <td>43.0</td>\n",
       "      <td>172.0</td>\n",
       "      <td>0.0</td>\n",
       "      <td>60.0</td>\n",
       "      <td>0.0</td>\n",
       "      <td>23234.0</td>\n",
       "      <td>0.0</td>\n",
       "      <td>ultra</td>\n",
       "      <td>Краснодар</td>\n",
       "    </tr>\n",
       "    <tr>\n",
       "      <th>1</th>\n",
       "      <td>1000</td>\n",
       "      <td>2018-07-01</td>\n",
       "      <td>47.0</td>\n",
       "      <td>340.0</td>\n",
       "      <td>0.0</td>\n",
       "      <td>75.0</td>\n",
       "      <td>0.0</td>\n",
       "      <td>14004.0</td>\n",
       "      <td>0.0</td>\n",
       "      <td>ultra</td>\n",
       "      <td>Краснодар</td>\n",
       "    </tr>\n",
       "    <tr>\n",
       "      <th>2</th>\n",
       "      <td>1000</td>\n",
       "      <td>2018-08-01</td>\n",
       "      <td>52.0</td>\n",
       "      <td>408.0</td>\n",
       "      <td>0.0</td>\n",
       "      <td>81.0</td>\n",
       "      <td>0.0</td>\n",
       "      <td>14056.0</td>\n",
       "      <td>0.0</td>\n",
       "      <td>ultra</td>\n",
       "      <td>Краснодар</td>\n",
       "    </tr>\n",
       "    <tr>\n",
       "      <th>3</th>\n",
       "      <td>1000</td>\n",
       "      <td>2018-09-01</td>\n",
       "      <td>58.0</td>\n",
       "      <td>466.0</td>\n",
       "      <td>0.0</td>\n",
       "      <td>57.0</td>\n",
       "      <td>0.0</td>\n",
       "      <td>14569.0</td>\n",
       "      <td>0.0</td>\n",
       "      <td>ultra</td>\n",
       "      <td>Краснодар</td>\n",
       "    </tr>\n",
       "    <tr>\n",
       "      <th>4</th>\n",
       "      <td>1000</td>\n",
       "      <td>2018-10-01</td>\n",
       "      <td>57.0</td>\n",
       "      <td>350.0</td>\n",
       "      <td>0.0</td>\n",
       "      <td>73.0</td>\n",
       "      <td>0.0</td>\n",
       "      <td>14703.0</td>\n",
       "      <td>0.0</td>\n",
       "      <td>ultra</td>\n",
       "      <td>Краснодар</td>\n",
       "    </tr>\n",
       "  </tbody>\n",
       "</table>\n",
       "</div>"
      ],
      "text/plain": [
       "   user_id      month  calls  minutes  minutes_income  messages  \\\n",
       "0     1000 2018-06-01   43.0    172.0             0.0      60.0   \n",
       "1     1000 2018-07-01   47.0    340.0             0.0      75.0   \n",
       "2     1000 2018-08-01   52.0    408.0             0.0      81.0   \n",
       "3     1000 2018-09-01   58.0    466.0             0.0      57.0   \n",
       "4     1000 2018-10-01   57.0    350.0             0.0      73.0   \n",
       "\n",
       "   messages_income  mb_used  internet_income tariff       city  \n",
       "0              0.0  23234.0              0.0  ultra  Краснодар  \n",
       "1              0.0  14004.0              0.0  ultra  Краснодар  \n",
       "2              0.0  14056.0              0.0  ultra  Краснодар  \n",
       "3              0.0  14569.0              0.0  ultra  Краснодар  \n",
       "4              0.0  14703.0              0.0  ultra  Краснодар  "
      ]
     },
     "execution_count": 50,
     "metadata": {},
     "output_type": "execute_result"
    }
   ],
   "source": [
    "used_per_month = calls_per_month[['user_id','month','calls','minutes','minutes_income']]\\\n",
    "                                .merge(messages_per_month[['user_id','month','messages','messages_income']],\\\n",
    "                                       on=['user_id','month'],how='outer')\\\n",
    "                                .merge(internet_per_month[['user_id','month','mb_used','internet_income']], \\\n",
    "                                       on = ['user_id','month'],how='outer')\\\n",
    "                                .merge(users[['user_id','tariff','city']],on = ['user_id'])\n",
    "used_per_month.head()"
   ]
  },
  {
   "cell_type": "markdown",
   "id": "7a28df7e-307c-4550-8ac7-72a4fd2c5ef4",
   "metadata": {},
   "source": [
    "Так как есть пользователи, которые либо не разговаривали по телефону, либо не отправляли смс или не пользовались интернетом, то в общей таблице будут значения Nan в соответствующих колонках. Заполним их индикаторным значением 99999, т.к. иначе не сможем посчитать общий доход по пользователю (сложение числа с Nan в сумме даст Nan)."
   ]
  },
  {
   "cell_type": "code",
   "execution_count": 51,
   "id": "312255cb-bc79-40a2-9988-5672c5348f31",
   "metadata": {},
   "outputs": [
    {
     "data": {
      "text/html": [
       "<div>\n",
       "<style scoped>\n",
       "    .dataframe tbody tr th:only-of-type {\n",
       "        vertical-align: middle;\n",
       "    }\n",
       "\n",
       "    .dataframe tbody tr th {\n",
       "        vertical-align: top;\n",
       "    }\n",
       "\n",
       "    .dataframe thead th {\n",
       "        text-align: right;\n",
       "    }\n",
       "</style>\n",
       "<table border=\"1\" class=\"dataframe\">\n",
       "  <thead>\n",
       "    <tr style=\"text-align: right;\">\n",
       "      <th></th>\n",
       "      <th>user_id</th>\n",
       "      <th>month</th>\n",
       "      <th>calls</th>\n",
       "      <th>minutes</th>\n",
       "      <th>minutes_income</th>\n",
       "      <th>messages</th>\n",
       "      <th>messages_income</th>\n",
       "      <th>mb_used</th>\n",
       "      <th>internet_income</th>\n",
       "      <th>tariff</th>\n",
       "      <th>city</th>\n",
       "    </tr>\n",
       "  </thead>\n",
       "  <tbody>\n",
       "    <tr>\n",
       "      <th>0</th>\n",
       "      <td>1000</td>\n",
       "      <td>2018-06-01</td>\n",
       "      <td>43.0</td>\n",
       "      <td>172.0</td>\n",
       "      <td>0.0</td>\n",
       "      <td>60.0</td>\n",
       "      <td>0.0</td>\n",
       "      <td>23234.0</td>\n",
       "      <td>0.0</td>\n",
       "      <td>ultra</td>\n",
       "      <td>Краснодар</td>\n",
       "    </tr>\n",
       "    <tr>\n",
       "      <th>1</th>\n",
       "      <td>1000</td>\n",
       "      <td>2018-07-01</td>\n",
       "      <td>47.0</td>\n",
       "      <td>340.0</td>\n",
       "      <td>0.0</td>\n",
       "      <td>75.0</td>\n",
       "      <td>0.0</td>\n",
       "      <td>14004.0</td>\n",
       "      <td>0.0</td>\n",
       "      <td>ultra</td>\n",
       "      <td>Краснодар</td>\n",
       "    </tr>\n",
       "    <tr>\n",
       "      <th>2</th>\n",
       "      <td>1000</td>\n",
       "      <td>2018-08-01</td>\n",
       "      <td>52.0</td>\n",
       "      <td>408.0</td>\n",
       "      <td>0.0</td>\n",
       "      <td>81.0</td>\n",
       "      <td>0.0</td>\n",
       "      <td>14056.0</td>\n",
       "      <td>0.0</td>\n",
       "      <td>ultra</td>\n",
       "      <td>Краснодар</td>\n",
       "    </tr>\n",
       "    <tr>\n",
       "      <th>3</th>\n",
       "      <td>1000</td>\n",
       "      <td>2018-09-01</td>\n",
       "      <td>58.0</td>\n",
       "      <td>466.0</td>\n",
       "      <td>0.0</td>\n",
       "      <td>57.0</td>\n",
       "      <td>0.0</td>\n",
       "      <td>14569.0</td>\n",
       "      <td>0.0</td>\n",
       "      <td>ultra</td>\n",
       "      <td>Краснодар</td>\n",
       "    </tr>\n",
       "    <tr>\n",
       "      <th>4</th>\n",
       "      <td>1000</td>\n",
       "      <td>2018-10-01</td>\n",
       "      <td>57.0</td>\n",
       "      <td>350.0</td>\n",
       "      <td>0.0</td>\n",
       "      <td>73.0</td>\n",
       "      <td>0.0</td>\n",
       "      <td>14703.0</td>\n",
       "      <td>0.0</td>\n",
       "      <td>ultra</td>\n",
       "      <td>Краснодар</td>\n",
       "    </tr>\n",
       "  </tbody>\n",
       "</table>\n",
       "</div>"
      ],
      "text/plain": [
       "   user_id      month  calls  minutes  minutes_income  messages  \\\n",
       "0     1000 2018-06-01   43.0    172.0             0.0      60.0   \n",
       "1     1000 2018-07-01   47.0    340.0             0.0      75.0   \n",
       "2     1000 2018-08-01   52.0    408.0             0.0      81.0   \n",
       "3     1000 2018-09-01   58.0    466.0             0.0      57.0   \n",
       "4     1000 2018-10-01   57.0    350.0             0.0      73.0   \n",
       "\n",
       "   messages_income  mb_used  internet_income tariff       city  \n",
       "0              0.0  23234.0              0.0  ultra  Краснодар  \n",
       "1              0.0  14004.0              0.0  ultra  Краснодар  \n",
       "2              0.0  14056.0              0.0  ultra  Краснодар  \n",
       "3              0.0  14569.0              0.0  ultra  Краснодар  \n",
       "4              0.0  14703.0              0.0  ultra  Краснодар  "
      ]
     },
     "execution_count": 51,
     "metadata": {},
     "output_type": "execute_result"
    }
   ],
   "source": [
    "used_per_month = used_per_month.fillna(99999)\n",
    "used_per_month.head()"
   ]
  },
  {
   "cell_type": "markdown",
   "id": "ed897936-6e9f-4fe3-9fc0-d34a565a128d",
   "metadata": {},
   "source": [
    "Создадим процедуру calc_total_income, которая посчитает общий доход, не учитывая значения 99999."
   ]
  },
  {
   "cell_type": "code",
   "execution_count": 52,
   "id": "ba728bec-93a3-48e5-a6a5-cf0095f0f709",
   "metadata": {},
   "outputs": [],
   "source": [
    "def calc_total_income(row):\n",
    "    total_income = 0\n",
    "    if row['minutes_income'] != 99999:\n",
    "        total_income += row['minutes_income']\n",
    "    if row['messages_income'] != 99999:\n",
    "        total_income += row['messages_income']\n",
    "    if row['internet_income'] != 99999:\n",
    "        total_income += row['internet_income']\n",
    "    return total_income"
   ]
  },
  {
   "cell_type": "markdown",
   "id": "02763153-6965-4c69-8727-a6b2ea183c79",
   "metadata": {},
   "source": [
    "В колонку 'total_income' поместим общий доход с пользователя, который посчитаем с помощью функции calc_total_income."
   ]
  },
  {
   "cell_type": "code",
   "execution_count": 53,
   "id": "1c51ab41-f878-400e-b7cf-b6299a53f5f6",
   "metadata": {},
   "outputs": [
    {
     "data": {
      "text/html": [
       "<div>\n",
       "<style scoped>\n",
       "    .dataframe tbody tr th:only-of-type {\n",
       "        vertical-align: middle;\n",
       "    }\n",
       "\n",
       "    .dataframe tbody tr th {\n",
       "        vertical-align: top;\n",
       "    }\n",
       "\n",
       "    .dataframe thead th {\n",
       "        text-align: right;\n",
       "    }\n",
       "</style>\n",
       "<table border=\"1\" class=\"dataframe\">\n",
       "  <thead>\n",
       "    <tr style=\"text-align: right;\">\n",
       "      <th></th>\n",
       "      <th>user_id</th>\n",
       "      <th>month</th>\n",
       "      <th>calls</th>\n",
       "      <th>minutes</th>\n",
       "      <th>minutes_income</th>\n",
       "      <th>messages</th>\n",
       "      <th>messages_income</th>\n",
       "      <th>mb_used</th>\n",
       "      <th>internet_income</th>\n",
       "      <th>tariff</th>\n",
       "      <th>city</th>\n",
       "      <th>total_income</th>\n",
       "    </tr>\n",
       "  </thead>\n",
       "  <tbody>\n",
       "    <tr>\n",
       "      <th>0</th>\n",
       "      <td>1000</td>\n",
       "      <td>2018-06-01</td>\n",
       "      <td>43.0</td>\n",
       "      <td>172.0</td>\n",
       "      <td>0.0</td>\n",
       "      <td>60.0</td>\n",
       "      <td>0.0</td>\n",
       "      <td>23234.0</td>\n",
       "      <td>0.0</td>\n",
       "      <td>ultra</td>\n",
       "      <td>Краснодар</td>\n",
       "      <td>0.0</td>\n",
       "    </tr>\n",
       "    <tr>\n",
       "      <th>1</th>\n",
       "      <td>1000</td>\n",
       "      <td>2018-07-01</td>\n",
       "      <td>47.0</td>\n",
       "      <td>340.0</td>\n",
       "      <td>0.0</td>\n",
       "      <td>75.0</td>\n",
       "      <td>0.0</td>\n",
       "      <td>14004.0</td>\n",
       "      <td>0.0</td>\n",
       "      <td>ultra</td>\n",
       "      <td>Краснодар</td>\n",
       "      <td>0.0</td>\n",
       "    </tr>\n",
       "    <tr>\n",
       "      <th>2</th>\n",
       "      <td>1000</td>\n",
       "      <td>2018-08-01</td>\n",
       "      <td>52.0</td>\n",
       "      <td>408.0</td>\n",
       "      <td>0.0</td>\n",
       "      <td>81.0</td>\n",
       "      <td>0.0</td>\n",
       "      <td>14056.0</td>\n",
       "      <td>0.0</td>\n",
       "      <td>ultra</td>\n",
       "      <td>Краснодар</td>\n",
       "      <td>0.0</td>\n",
       "    </tr>\n",
       "    <tr>\n",
       "      <th>3</th>\n",
       "      <td>1000</td>\n",
       "      <td>2018-09-01</td>\n",
       "      <td>58.0</td>\n",
       "      <td>466.0</td>\n",
       "      <td>0.0</td>\n",
       "      <td>57.0</td>\n",
       "      <td>0.0</td>\n",
       "      <td>14569.0</td>\n",
       "      <td>0.0</td>\n",
       "      <td>ultra</td>\n",
       "      <td>Краснодар</td>\n",
       "      <td>0.0</td>\n",
       "    </tr>\n",
       "    <tr>\n",
       "      <th>4</th>\n",
       "      <td>1000</td>\n",
       "      <td>2018-10-01</td>\n",
       "      <td>57.0</td>\n",
       "      <td>350.0</td>\n",
       "      <td>0.0</td>\n",
       "      <td>73.0</td>\n",
       "      <td>0.0</td>\n",
       "      <td>14703.0</td>\n",
       "      <td>0.0</td>\n",
       "      <td>ultra</td>\n",
       "      <td>Краснодар</td>\n",
       "      <td>0.0</td>\n",
       "    </tr>\n",
       "  </tbody>\n",
       "</table>\n",
       "</div>"
      ],
      "text/plain": [
       "   user_id      month  calls  minutes  minutes_income  messages  \\\n",
       "0     1000 2018-06-01   43.0    172.0             0.0      60.0   \n",
       "1     1000 2018-07-01   47.0    340.0             0.0      75.0   \n",
       "2     1000 2018-08-01   52.0    408.0             0.0      81.0   \n",
       "3     1000 2018-09-01   58.0    466.0             0.0      57.0   \n",
       "4     1000 2018-10-01   57.0    350.0             0.0      73.0   \n",
       "\n",
       "   messages_income  mb_used  internet_income tariff       city  total_income  \n",
       "0              0.0  23234.0              0.0  ultra  Краснодар           0.0  \n",
       "1              0.0  14004.0              0.0  ultra  Краснодар           0.0  \n",
       "2              0.0  14056.0              0.0  ultra  Краснодар           0.0  \n",
       "3              0.0  14569.0              0.0  ultra  Краснодар           0.0  \n",
       "4              0.0  14703.0              0.0  ultra  Краснодар           0.0  "
      ]
     },
     "execution_count": 53,
     "metadata": {},
     "output_type": "execute_result"
    }
   ],
   "source": [
    "used_per_month['total_income'] = used_per_month.apply(calc_total_income, axis = 1)\n",
    "used_per_month.head()"
   ]
  },
  {
   "cell_type": "markdown",
   "id": "d8ed9df1",
   "metadata": {},
   "source": [
    "## 4. Анализ данных"
   ]
  },
  {
   "cell_type": "markdown",
   "id": "43bb5db5-b7e3-4cf4-95c0-9bc524eaa1e8",
   "metadata": {},
   "source": [
    "Для анализа данных создадим датафреймы:\n",
    "* used_per_month_ultra - для анализа пользователей тарифа \"Ультра\";\n",
    "* used_per_month_smart - для анализа пользователей тарифа \"Смарт\";\n",
    "* used_per_month_moscow - для анализа пользователей из Москвы;\n",
    "* used_per_month_regions - для анализа пользователей из регионов."
   ]
  },
  {
   "cell_type": "code",
   "execution_count": 54,
   "id": "643f4304-55f3-49df-977f-5b895b56ed65",
   "metadata": {},
   "outputs": [],
   "source": [
    "used_per_month_ultra = used_per_month.query('tariff == \"ultra\"')\n",
    "used_per_month_smart = used_per_month.query('tariff == \"smart\"')\n",
    "used_per_month_moscow = used_per_month.query('city == \"Москва\"')\n",
    "used_per_month_regions = used_per_month.query('city != \"Москва\"')"
   ]
  },
  {
   "cell_type": "markdown",
   "id": "2aa451b3-231b-404c-b58c-0d7a7b42c9e5",
   "metadata": {
    "tags": []
   },
   "source": [
    "### 4.1. Анализ данных пользователей тарифов \"Смарт\" и \"Ультра\""
   ]
  },
  {
   "cell_type": "markdown",
   "id": "bbd317c7-9bf3-46f1-a90d-3b02227cdc45",
   "metadata": {},
   "source": [
    "Для построения графиков напишем функцию plots, которая построит гистограммы для двух датафреймов с помощью метода subplots() так, чтобы в одной колонке отображались графики одного датафрейма, а в другой - другого."
   ]
  },
  {
   "cell_type": "markdown",
   "id": "13595331",
   "metadata": {},
   "source": [
    "Построим гистограммы распределения средних величин для количества звонков (calls), использованных минут (minutes), сообщений (messages) и мегабайт интернета (mb_used) пользователей обоих тарифов."
   ]
  },
  {
   "cell_type": "code",
   "execution_count": 55,
   "id": "0a4ce01e",
   "metadata": {},
   "outputs": [],
   "source": [
    "def histplots(df1, df2 , columns, titles, label1, label2, prefix):\n",
    "    for column,title in zip(columns, titles):\n",
    "        plt.figure(figsize=(16, 7))\n",
    "        sns.set_style('darkgrid') \n",
    "\n",
    "        sns.set_palette('PRGn')\n",
    "        sns.histplot(df1[df1[column]<99999], x = column, label = label1, alpha = 0.5)\n",
    "\n",
    "        sns.set_palette('coolwarm')\n",
    "        sns.histplot(df2[df2[column]<99999], x = column, label = label2, alpha = 0.5)\n",
    "\n",
    "        plt.title(f'Гистограмма распределения: ' + prefix + title,fontsize = 18)\n",
    "        plt.legend(fontsize=12)\n",
    "        plt.xticks(rotation = 0,fontsize=12)\n",
    "        plt.xlabel(prefix + title,fontsize=15)\n",
    "        plt.ylabel('частота',fontsize=15)\n",
    "        plt.show()"
   ]
  },
  {
   "cell_type": "code",
   "execution_count": 96,
   "id": "1c09be8a",
   "metadata": {},
   "outputs": [
    {
     "data": {
      "image/png": "[encoded data removed]",
      "text/plain": [
       "<Figure size 1152x504 with 1 Axes>"
      ]
     },
     "metadata": {},
     "output_type": "display_data"
    },
    {
     "data": {
      "image/png": "[encoded data removed]",
      "text/plain": [
       "<Figure size 1152x504 with 1 Axes>"
      ]
     },
     "metadata": {},
     "output_type": "display_data"
    },
    {
     "data": {
      "image/png": "[encoded data removed]",
      "text/plain": [
       "<Figure size 1152x504 with 1 Axes>"
      ]
     },
     "metadata": {},
     "output_type": "display_data"
    },
    {
     "data": {
      "image/png": "[encoded data removed]",
      "text/plain": [
       "<Figure size 1152x504 with 1 Axes>"
      ]
     },
     "metadata": {},
     "output_type": "display_data"
    }
   ],
   "source": [
    "histplots(used_per_month_smart,used_per_month_ultra,['calls','minutes','messages','mb_used'],\\\n",
    "          ['звонков','минут','сообщений','Мб'],'SMART: ','ULTRA: ', 'количество ')"
   ]
  },
  {
   "cell_type": "markdown",
   "id": "e773da2a-5005-4711-abbf-f84e87562183",
   "metadata": {},
   "source": [
    "По графикам можно сказать, что у всех показателей обоих тарифов распределение близкое к нормальному, но у смс-сообщениий есть скос вправо у обоих тарифов.\n",
    "Разброс значений больше у показателей тарифа 'Ультра'."
   ]
  },
  {
   "cell_type": "markdown",
   "id": "09bb9ed9-a7a6-4303-bc35-bb3cbb9dda3e",
   "metadata": {},
   "source": [
    "Теперь построим гистограммы распределения среднемесячной выручки от использования сверх лимита минут, сообщений и интернет-траффика, а также общей выручки с пользователей обоих тарифов."
   ]
  },
  {
   "cell_type": "code",
   "execution_count": 95,
   "id": "afa39291",
   "metadata": {},
   "outputs": [
    {
     "data": {
      "image/png": "[encoded data removed]",
      "text/plain": [
       "<Figure size 1152x504 with 1 Axes>"
      ]
     },
     "metadata": {},
     "output_type": "display_data"
    },
    {
     "data": {
      "image/png": "[encoded data removed]",
      "text/plain": [
       "<Figure size 1152x504 with 1 Axes>"
      ]
     },
     "metadata": {},
     "output_type": "display_data"
    },
    {
     "data": {
      "image/png": "[encoded data removed]",
      "text/plain": [
       "<Figure size 1152x504 with 1 Axes>"
      ]
     },
     "metadata": {},
     "output_type": "display_data"
    },
    {
     "data": {
      "image/png": "[encoded data removed]",
      "text/plain": [
       "<Figure size 1152x504 with 1 Axes>"
      ]
     },
     "metadata": {},
     "output_type": "display_data"
    }
   ],
   "source": [
    "columns = ['minutes_income','messages_income','internet_income','total_income']\n",
    "titles = ['минут','сообщений','интернет-траффика','общая']\n",
    "histplots(used_per_month_smart, used_per_month_ultra, columns, titles,'SMART: ', 'ULTRA: ', 'стоимость ')"
   ]
  },
  {
   "cell_type": "markdown",
   "id": "b4258b6f-4fff-4172-9a9e-ac7c862e6999",
   "metadata": {},
   "source": [
    "Из графиков видно, что пользователи тарифа \"Смарт\" приносят больше выручки. Причем, больше всего выручки приносит интернет.\n",
    "\n",
    "У тарифа \"Ультра\" совсем нет прибыли от разговоров и сообщений, и незначительная по сравнению с тарифом \"Смарт\" выручка от использования интернета."
   ]
  },
  {
   "cell_type": "markdown",
   "id": "57021883-aaca-46b1-a169-a31ccc73f9f5",
   "metadata": {},
   "source": [
    "Напишем функцию analysis, которая рассчитает среднее, дисперсию и стандартное отклонение для двух датафремов для определенного параметра, чтобы сравнить показатели датафреймов."
   ]
  },
  {
   "cell_type": "code",
   "execution_count": null,
   "id": "20b65a8c",
   "metadata": {},
   "outputs": [],
   "source": [
    "# df1 и df2 - сравниваемые датафреймы\n",
    "# name1,name2 - названия для различия датафреймов\n",
    "# parameter - название колонки, показатели которой сравниваем\n",
    "def analysis(df1,df2,name1,name2,parameter):\n",
    "    print('Среднее значение',parameter,'в месяц:')\n",
    "    print(name1,' :',round(df1[df1[parameter]<99999][parameter].mean(),2))\n",
    "    print(name2,' :',round(df2[df2[parameter]<99999][parameter].mean(),2))\n",
    "    print()\n",
    "    print('Дисперсия',parameter,'в месяц:')\n",
    "    print(name1,' :',round(np.var(df1[df1[parameter]<99999][parameter]),2))\n",
    "    print(name2,' :',round(np.var(df2[df2[parameter]<99999][parameter]),2))\n",
    "    print()\n",
    "    print('Стандартное отклонение',parameter,'в месяц:')\n",
    "    print(name1,' :',round(np.std(df1[df1[parameter]<99999][parameter]),2))\n",
    "    print(name2,' :',round(np.std(df2[df2[parameter]<99999][parameter]),2))"
   ]
  },
  {
   "cell_type": "markdown",
   "id": "2e047735-ea13-41d3-a6b5-6fbfdc9e5bc7",
   "metadata": {},
   "source": [
    "Сравним описвтельную статистику пользователей двух тарифов."
   ]
  },
  {
   "cell_type": "code",
   "execution_count": 98,
   "id": "cc472358-3913-4fa6-93e0-34987594efcc",
   "metadata": {},
   "outputs": [],
   "source": [
    "def analysis1(df,colunms):\n",
    "    for column in colunms:\n",
    "        display(df[df[column]!=99999].pivot_table(index= 'tariff', values = column, \\\n",
    "                                                  aggfunc= ['mean', 'var','std', 'median']))"
   ]
  },
  {
   "cell_type": "code",
   "execution_count": 99,
   "id": "274f9172-eecc-47e3-9e9e-efde424a591a",
   "metadata": {},
   "outputs": [
    {
     "data": {
      "text/html": [
       "<div>\n",
       "<style scoped>\n",
       "    .dataframe tbody tr th:only-of-type {\n",
       "        vertical-align: middle;\n",
       "    }\n",
       "\n",
       "    .dataframe tbody tr th {\n",
       "        vertical-align: top;\n",
       "    }\n",
       "\n",
       "    .dataframe thead tr th {\n",
       "        text-align: left;\n",
       "    }\n",
       "\n",
       "    .dataframe thead tr:last-of-type th {\n",
       "        text-align: right;\n",
       "    }\n",
       "</style>\n",
       "<table border=\"1\" class=\"dataframe\">\n",
       "  <thead>\n",
       "    <tr>\n",
       "      <th></th>\n",
       "      <th>mean</th>\n",
       "      <th>var</th>\n",
       "      <th>std</th>\n",
       "      <th>median</th>\n",
       "    </tr>\n",
       "    <tr>\n",
       "      <th></th>\n",
       "      <th>calls</th>\n",
       "      <th>calls</th>\n",
       "      <th>calls</th>\n",
       "      <th>calls</th>\n",
       "    </tr>\n",
       "    <tr>\n",
       "      <th>tariff</th>\n",
       "      <th></th>\n",
       "      <th></th>\n",
       "      <th></th>\n",
       "      <th></th>\n",
       "    </tr>\n",
       "  </thead>\n",
       "  <tbody>\n",
       "    <tr>\n",
       "      <th>smart</th>\n",
       "      <td>63.096992</td>\n",
       "      <td>554.190380</td>\n",
       "      <td>23.541248</td>\n",
       "      <td>64.0</td>\n",
       "    </tr>\n",
       "    <tr>\n",
       "      <th>ultra</th>\n",
       "      <td>82.507282</td>\n",
       "      <td>1638.359607</td>\n",
       "      <td>40.476655</td>\n",
       "      <td>81.0</td>\n",
       "    </tr>\n",
       "  </tbody>\n",
       "</table>\n",
       "</div>"
      ],
      "text/plain": [
       "             mean          var        std median\n",
       "            calls        calls      calls  calls\n",
       "tariff                                          \n",
       "smart   63.096992   554.190380  23.541248   64.0\n",
       "ultra   82.507282  1638.359607  40.476655   81.0"
      ]
     },
     "metadata": {},
     "output_type": "display_data"
    },
    {
     "data": {
      "text/html": [
       "<div>\n",
       "<style scoped>\n",
       "    .dataframe tbody tr th:only-of-type {\n",
       "        vertical-align: middle;\n",
       "    }\n",
       "\n",
       "    .dataframe tbody tr th {\n",
       "        vertical-align: top;\n",
       "    }\n",
       "\n",
       "    .dataframe thead tr th {\n",
       "        text-align: left;\n",
       "    }\n",
       "\n",
       "    .dataframe thead tr:last-of-type th {\n",
       "        text-align: right;\n",
       "    }\n",
       "</style>\n",
       "<table border=\"1\" class=\"dataframe\">\n",
       "  <thead>\n",
       "    <tr>\n",
       "      <th></th>\n",
       "      <th>mean</th>\n",
       "      <th>var</th>\n",
       "      <th>std</th>\n",
       "      <th>median</th>\n",
       "    </tr>\n",
       "    <tr>\n",
       "      <th></th>\n",
       "      <th>minutes</th>\n",
       "      <th>minutes</th>\n",
       "      <th>minutes</th>\n",
       "      <th>minutes</th>\n",
       "    </tr>\n",
       "    <tr>\n",
       "      <th>tariff</th>\n",
       "      <th></th>\n",
       "      <th></th>\n",
       "      <th></th>\n",
       "      <th></th>\n",
       "    </tr>\n",
       "  </thead>\n",
       "  <tbody>\n",
       "    <tr>\n",
       "      <th>smart</th>\n",
       "      <td>450.854772</td>\n",
       "      <td>30389.917663</td>\n",
       "      <td>174.327042</td>\n",
       "      <td>451.0</td>\n",
       "    </tr>\n",
       "    <tr>\n",
       "      <th>ultra</th>\n",
       "      <td>591.677184</td>\n",
       "      <td>86083.713403</td>\n",
       "      <td>293.400261</td>\n",
       "      <td>569.0</td>\n",
       "    </tr>\n",
       "  </tbody>\n",
       "</table>\n",
       "</div>"
      ],
      "text/plain": [
       "              mean           var         std  median\n",
       "           minutes       minutes     minutes minutes\n",
       "tariff                                              \n",
       "smart   450.854772  30389.917663  174.327042   451.0\n",
       "ultra   591.677184  86083.713403  293.400261   569.0"
      ]
     },
     "metadata": {},
     "output_type": "display_data"
    },
    {
     "data": {
      "text/html": [
       "<div>\n",
       "<style scoped>\n",
       "    .dataframe tbody tr th:only-of-type {\n",
       "        vertical-align: middle;\n",
       "    }\n",
       "\n",
       "    .dataframe tbody tr th {\n",
       "        vertical-align: top;\n",
       "    }\n",
       "\n",
       "    .dataframe thead tr th {\n",
       "        text-align: left;\n",
       "    }\n",
       "\n",
       "    .dataframe thead tr:last-of-type th {\n",
       "        text-align: right;\n",
       "    }\n",
       "</style>\n",
       "<table border=\"1\" class=\"dataframe\">\n",
       "  <thead>\n",
       "    <tr>\n",
       "      <th></th>\n",
       "      <th>mean</th>\n",
       "      <th>var</th>\n",
       "      <th>std</th>\n",
       "      <th>median</th>\n",
       "    </tr>\n",
       "    <tr>\n",
       "      <th></th>\n",
       "      <th>messages</th>\n",
       "      <th>messages</th>\n",
       "      <th>messages</th>\n",
       "      <th>messages</th>\n",
       "    </tr>\n",
       "    <tr>\n",
       "      <th>tariff</th>\n",
       "      <th></th>\n",
       "      <th></th>\n",
       "      <th></th>\n",
       "      <th></th>\n",
       "    </tr>\n",
       "  </thead>\n",
       "  <tbody>\n",
       "    <tr>\n",
       "      <th>smart</th>\n",
       "      <td>41.532143</td>\n",
       "      <td>712.850664</td>\n",
       "      <td>26.699263</td>\n",
       "      <td>38.0</td>\n",
       "    </tr>\n",
       "    <tr>\n",
       "      <th>ultra</th>\n",
       "      <td>65.662338</td>\n",
       "      <td>2141.920501</td>\n",
       "      <td>46.280887</td>\n",
       "      <td>55.0</td>\n",
       "    </tr>\n",
       "  </tbody>\n",
       "</table>\n",
       "</div>"
      ],
      "text/plain": [
       "             mean          var        std   median\n",
       "         messages     messages   messages messages\n",
       "tariff                                            \n",
       "smart   41.532143   712.850664  26.699263     38.0\n",
       "ultra   65.662338  2141.920501  46.280887     55.0"
      ]
     },
     "metadata": {},
     "output_type": "display_data"
    },
    {
     "data": {
      "text/html": [
       "<div>\n",
       "<style scoped>\n",
       "    .dataframe tbody tr th:only-of-type {\n",
       "        vertical-align: middle;\n",
       "    }\n",
       "\n",
       "    .dataframe tbody tr th {\n",
       "        vertical-align: top;\n",
       "    }\n",
       "\n",
       "    .dataframe thead tr th {\n",
       "        text-align: left;\n",
       "    }\n",
       "\n",
       "    .dataframe thead tr:last-of-type th {\n",
       "        text-align: right;\n",
       "    }\n",
       "</style>\n",
       "<table border=\"1\" class=\"dataframe\">\n",
       "  <thead>\n",
       "    <tr>\n",
       "      <th></th>\n",
       "      <th>mean</th>\n",
       "      <th>var</th>\n",
       "      <th>std</th>\n",
       "      <th>median</th>\n",
       "    </tr>\n",
       "    <tr>\n",
       "      <th></th>\n",
       "      <th>mb_used</th>\n",
       "      <th>mb_used</th>\n",
       "      <th>mb_used</th>\n",
       "      <th>mb_used</th>\n",
       "    </tr>\n",
       "    <tr>\n",
       "      <th>tariff</th>\n",
       "      <th></th>\n",
       "      <th></th>\n",
       "      <th></th>\n",
       "      <th></th>\n",
       "    </tr>\n",
       "  </thead>\n",
       "  <tbody>\n",
       "    <tr>\n",
       "      <th>smart</th>\n",
       "      <td>17464.557682</td>\n",
       "      <td>2.384095e+07</td>\n",
       "      <td>4882.719359</td>\n",
       "      <td>17251.0</td>\n",
       "    </tr>\n",
       "    <tr>\n",
       "      <th>ultra</th>\n",
       "      <td>21246.786052</td>\n",
       "      <td>8.662636e+07</td>\n",
       "      <td>9307.328491</td>\n",
       "      <td>20764.5</td>\n",
       "    </tr>\n",
       "  </tbody>\n",
       "</table>\n",
       "</div>"
      ],
      "text/plain": [
       "                mean           var          std   median\n",
       "             mb_used       mb_used      mb_used  mb_used\n",
       "tariff                                                  \n",
       "smart   17464.557682  2.384095e+07  4882.719359  17251.0\n",
       "ultra   21246.786052  8.662636e+07  9307.328491  20764.5"
      ]
     },
     "metadata": {},
     "output_type": "display_data"
    },
    {
     "data": {
      "text/html": [
       "<div>\n",
       "<style scoped>\n",
       "    .dataframe tbody tr th:only-of-type {\n",
       "        vertical-align: middle;\n",
       "    }\n",
       "\n",
       "    .dataframe tbody tr th {\n",
       "        vertical-align: top;\n",
       "    }\n",
       "\n",
       "    .dataframe thead tr th {\n",
       "        text-align: left;\n",
       "    }\n",
       "\n",
       "    .dataframe thead tr:last-of-type th {\n",
       "        text-align: right;\n",
       "    }\n",
       "</style>\n",
       "<table border=\"1\" class=\"dataframe\">\n",
       "  <thead>\n",
       "    <tr>\n",
       "      <th></th>\n",
       "      <th>mean</th>\n",
       "      <th>var</th>\n",
       "      <th>std</th>\n",
       "      <th>median</th>\n",
       "    </tr>\n",
       "    <tr>\n",
       "      <th></th>\n",
       "      <th>total_income</th>\n",
       "      <th>total_income</th>\n",
       "      <th>total_income</th>\n",
       "      <th>total_income</th>\n",
       "    </tr>\n",
       "    <tr>\n",
       "      <th>tariff</th>\n",
       "      <th></th>\n",
       "      <th></th>\n",
       "      <th></th>\n",
       "      <th></th>\n",
       "    </tr>\n",
       "  </thead>\n",
       "  <tbody>\n",
       "    <tr>\n",
       "      <th>smart</th>\n",
       "      <td>839.662183</td>\n",
       "      <td>682172.181369</td>\n",
       "      <td>825.937153</td>\n",
       "      <td>600.0</td>\n",
       "    </tr>\n",
       "    <tr>\n",
       "      <th>ultra</th>\n",
       "      <td>138.745604</td>\n",
       "      <td>160859.105394</td>\n",
       "      <td>401.072444</td>\n",
       "      <td>0.0</td>\n",
       "    </tr>\n",
       "  </tbody>\n",
       "</table>\n",
       "</div>"
      ],
      "text/plain": [
       "               mean            var          std       median\n",
       "       total_income   total_income total_income total_income\n",
       "tariff                                                      \n",
       "smart    839.662183  682172.181369   825.937153        600.0\n",
       "ultra    138.745604  160859.105394   401.072444          0.0"
      ]
     },
     "metadata": {},
     "output_type": "display_data"
    }
   ],
   "source": [
    "analysis1(used_per_month,['calls','minutes','messages','mb_used','total_income'])"
   ]
  },
  {
   "cell_type": "markdown",
   "id": "49266798-b7c3-45c6-b082-aa8652c55d10",
   "metadata": {},
   "source": [
    "Пользователи тарифа \"Ультра\" совершают больше звонков и больше по времени говорят по телефону, чем пользователи тарифа \"Смарт\"."
   ]
  },
  {
   "cell_type": "markdown",
   "id": "8238426f-2c5d-4049-a952-c303dc6f0b46",
   "metadata": {},
   "source": [
    "Также пользователи тарифа \"Ультра\" отправляют больше сообщений и активнее пользуются интернетом."
   ]
  },
  {
   "cell_type": "markdown",
   "id": "6fd07b91-6a67-44a2-9a25-3513e91a33a6",
   "metadata": {},
   "source": [
    "Теперь сравним общий доход с пользователей обоих тарифов: доход больше приносят пользователи тарифа \"Смарт\". ."
   ]
  },
  {
   "cell_type": "markdown",
   "id": "5fd0c80e-cf42-4b72-bba2-21c2bcdaf59d",
   "metadata": {},
   "source": [
    "Дисперсии средних значений дохода с пользователей тоже не равны - у \"Смарт\" она в 4 раза больше дисперсии \"Ультра\"."
   ]
  },
  {
   "cell_type": "markdown",
   "id": "e0d8c9a5-e6cb-45f3-989e-5ab6381b3875",
   "metadata": {
    "tags": []
   },
   "source": [
    "#### Вывод \n",
    "Пользователи тарифа \"Ультра\" активнее говорят по телефону, отправляют смс-сообщения и пользуются интернетом, чем пользователи тарифа \"Смарт\".\n",
    "\n",
    "Но прибыль больше приносят пользователи тарифа \"Смарт\". Причем большая часть прибыли - от использования интернета."
   ]
  },
  {
   "cell_type": "markdown",
   "id": "a7f3dda3-85e1-4a15-b1b6-57f5998488bd",
   "metadata": {
    "tags": []
   },
   "source": [
    "### 4.2. Анализ данных пользователей Москвы и регионов"
   ]
  },
  {
   "cell_type": "markdown",
   "id": "b38c25cb",
   "metadata": {},
   "source": [
    "Сравним количество минут разговора, смс-сообщений и интернет-траффика пользователей из Москвы и регионов."
   ]
  },
  {
   "cell_type": "code",
   "execution_count": 94,
   "id": "e6577965",
   "metadata": {},
   "outputs": [
    {
     "data": {
      "image/png": "[encoded data removed]",
      "text/plain": [
       "<Figure size 1152x504 with 1 Axes>"
      ]
     },
     "metadata": {},
     "output_type": "display_data"
    },
    {
     "data": {
      "image/png": "[encoded data removed]",
      "text/plain": [
       "<Figure size 1152x504 with 1 Axes>"
      ]
     },
     "metadata": {},
     "output_type": "display_data"
    },
    {
     "data": {
      "image/png": "[encoded data removed]",
      "text/plain": [
       "<Figure size 1152x504 with 1 Axes>"
      ]
     },
     "metadata": {},
     "output_type": "display_data"
    }
   ],
   "source": [
    "columns = ['minutes','messages','mb_used']\n",
    "titles = ['минут', 'сообщений', 'интернет-траффика']\n",
    "histplots(used_per_month_regions,used_per_month_moscow,columns,titles,'Регионы: ', 'Москва: ', 'количество ')"
   ]
  },
  {
   "cell_type": "markdown",
   "id": "748f66cc",
   "metadata": {},
   "source": [
    "Все количественные показатели выше у регионов."
   ]
  },
  {
   "cell_type": "markdown",
   "id": "14eb500a-a01d-4536-af18-37fce2a076c5",
   "metadata": {},
   "source": [
    "Сравним выручки с пользователей из Москвы и пользователей из других регионов.\n",
    "\n",
    "Построим графики распределения средних величин дохода от использованных минут рзговора, отправленных смс-сообщений и использованного интернет-траффика, а также общего дохода пользователей Москвы и регионов."
   ]
  },
  {
   "cell_type": "code",
   "execution_count": 62,
   "id": "807fdb9b",
   "metadata": {},
   "outputs": [
    {
     "data": {
      "image/png": "[encoded data removed]",
      "text/plain": [
       "<Figure size 1152x504 with 1 Axes>"
      ]
     },
     "metadata": {},
     "output_type": "display_data"
    },
    {
     "data": {
      "image/png": "[encoded data removed]",
      "text/plain": [
       "<Figure size 1152x504 with 1 Axes>"
      ]
     },
     "metadata": {},
     "output_type": "display_data"
    },
    {
     "data": {
      "image/png": "[encoded data removed]",
      "text/plain": [
       "<Figure size 1152x504 with 1 Axes>"
      ]
     },
     "metadata": {},
     "output_type": "display_data"
    },
    {
     "data": {
      "image/png": "[encoded data removed]",
      "text/plain": [
       "<Figure size 1152x504 with 1 Axes>"
      ]
     },
     "metadata": {},
     "output_type": "display_data"
    }
   ],
   "source": [
    "columns = ['minutes_income','messages_income','internet_income','total_income']\n",
    "titles = ['минут', 'сообщений', 'интернет-траффика', 'общая']\n",
    "histplots(used_per_month_moscow,used_per_month_regions,columns,titles,'Москва: ','Регионы: ','стоимость ')"
   ]
  },
  {
   "cell_type": "markdown",
   "id": "541f8bf6-b538-4384-be9e-921918a2448c",
   "metadata": {},
   "source": [
    "По графикам видно, что абоненты Москвы приносят больше дохода от использования минут и сообщений, но доход от использования интернета выше у абонентов из регионов.\n",
    "\n",
    "По графику общей прибыли можно сделать вывод, что доход выше от абонентов из регионов. "
   ]
  },
  {
   "cell_type": "code",
   "execution_count": 63,
   "id": "2e60bd4b",
   "metadata": {},
   "outputs": [
    {
     "data": {
      "text/html": [
       "<div>\n",
       "<style scoped>\n",
       "    .dataframe tbody tr th:only-of-type {\n",
       "        vertical-align: middle;\n",
       "    }\n",
       "\n",
       "    .dataframe tbody tr th {\n",
       "        vertical-align: top;\n",
       "    }\n",
       "\n",
       "    .dataframe thead th {\n",
       "        text-align: right;\n",
       "    }\n",
       "</style>\n",
       "<table border=\"1\" class=\"dataframe\">\n",
       "  <thead>\n",
       "    <tr style=\"text-align: right;\">\n",
       "      <th></th>\n",
       "      <th>tariff</th>\n",
       "      <th>moscow_users</th>\n",
       "    </tr>\n",
       "  </thead>\n",
       "  <tbody>\n",
       "    <tr>\n",
       "      <th>0</th>\n",
       "      <td>smart</td>\n",
       "      <td>62</td>\n",
       "    </tr>\n",
       "    <tr>\n",
       "      <th>1</th>\n",
       "      <td>ultra</td>\n",
       "      <td>32</td>\n",
       "    </tr>\n",
       "    <tr>\n",
       "      <th>2</th>\n",
       "      <td>All</td>\n",
       "      <td>94</td>\n",
       "    </tr>\n",
       "  </tbody>\n",
       "</table>\n",
       "</div>"
      ],
      "text/plain": [
       "  tariff  moscow_users\n",
       "0  smart            62\n",
       "1  ultra            32\n",
       "2    All            94"
      ]
     },
     "execution_count": 63,
     "metadata": {},
     "output_type": "execute_result"
    }
   ],
   "source": [
    "tarifs_moscow = used_per_month_moscow.pivot_table(index = 'tariff', values = 'user_id', aggfunc = 'nunique', margins = True)\\\n",
    "                                     .reset_index().rename(columns = {'user_id': 'moscow_users'})\n",
    "tarifs_moscow"
   ]
  },
  {
   "cell_type": "code",
   "execution_count": 64,
   "id": "99dff2a0",
   "metadata": {},
   "outputs": [
    {
     "data": {
      "text/html": [
       "<div>\n",
       "<style scoped>\n",
       "    .dataframe tbody tr th:only-of-type {\n",
       "        vertical-align: middle;\n",
       "    }\n",
       "\n",
       "    .dataframe tbody tr th {\n",
       "        vertical-align: top;\n",
       "    }\n",
       "\n",
       "    .dataframe thead th {\n",
       "        text-align: right;\n",
       "    }\n",
       "</style>\n",
       "<table border=\"1\" class=\"dataframe\">\n",
       "  <thead>\n",
       "    <tr style=\"text-align: right;\">\n",
       "      <th></th>\n",
       "      <th>tariff</th>\n",
       "      <th>regions_users</th>\n",
       "    </tr>\n",
       "  </thead>\n",
       "  <tbody>\n",
       "    <tr>\n",
       "      <th>0</th>\n",
       "      <td>smart</td>\n",
       "      <td>266</td>\n",
       "    </tr>\n",
       "    <tr>\n",
       "      <th>1</th>\n",
       "      <td>ultra</td>\n",
       "      <td>110</td>\n",
       "    </tr>\n",
       "    <tr>\n",
       "      <th>2</th>\n",
       "      <td>All</td>\n",
       "      <td>376</td>\n",
       "    </tr>\n",
       "  </tbody>\n",
       "</table>\n",
       "</div>"
      ],
      "text/plain": [
       "  tariff  regions_users\n",
       "0  smart            266\n",
       "1  ultra            110\n",
       "2    All            376"
      ]
     },
     "execution_count": 64,
     "metadata": {},
     "output_type": "execute_result"
    }
   ],
   "source": [
    "tarifs_regions = used_per_month_regions.pivot_table(index = 'tariff', values = 'user_id', aggfunc = 'nunique', margins = True)\\\n",
    "                                       .reset_index().rename(columns = {'user_id': 'regions_users'})\n",
    "tarifs_regions"
   ]
  },
  {
   "cell_type": "code",
   "execution_count": 65,
   "id": "9e396288",
   "metadata": {},
   "outputs": [
    {
     "data": {
      "text/html": [
       "<div>\n",
       "<style scoped>\n",
       "    .dataframe tbody tr th:only-of-type {\n",
       "        vertical-align: middle;\n",
       "    }\n",
       "\n",
       "    .dataframe tbody tr th {\n",
       "        vertical-align: top;\n",
       "    }\n",
       "\n",
       "    .dataframe thead th {\n",
       "        text-align: right;\n",
       "    }\n",
       "</style>\n",
       "<table border=\"1\" class=\"dataframe\">\n",
       "  <thead>\n",
       "    <tr style=\"text-align: right;\">\n",
       "      <th></th>\n",
       "      <th>tariff</th>\n",
       "      <th>moscow_users</th>\n",
       "      <th>regions_users</th>\n",
       "    </tr>\n",
       "  </thead>\n",
       "  <tbody>\n",
       "    <tr>\n",
       "      <th>0</th>\n",
       "      <td>smart</td>\n",
       "      <td>62</td>\n",
       "      <td>266</td>\n",
       "    </tr>\n",
       "    <tr>\n",
       "      <th>1</th>\n",
       "      <td>ultra</td>\n",
       "      <td>32</td>\n",
       "      <td>110</td>\n",
       "    </tr>\n",
       "    <tr>\n",
       "      <th>2</th>\n",
       "      <td>All</td>\n",
       "      <td>94</td>\n",
       "      <td>376</td>\n",
       "    </tr>\n",
       "  </tbody>\n",
       "</table>\n",
       "</div>"
      ],
      "text/plain": [
       "  tariff  moscow_users  regions_users\n",
       "0  smart            62            266\n",
       "1  ultra            32            110\n",
       "2    All            94            376"
      ]
     },
     "execution_count": 65,
     "metadata": {},
     "output_type": "execute_result"
    }
   ],
   "source": [
    "tarifs = tarifs_moscow.merge(tarifs_regions, on = 'tariff')\n",
    "tarifs"
   ]
  },
  {
   "cell_type": "code",
   "execution_count": 79,
   "id": "369bfa95",
   "metadata": {},
   "outputs": [
    {
     "data": {
      "text/html": [
       "<div>\n",
       "<style scoped>\n",
       "    .dataframe tbody tr th:only-of-type {\n",
       "        vertical-align: middle;\n",
       "    }\n",
       "\n",
       "    .dataframe tbody tr th {\n",
       "        vertical-align: top;\n",
       "    }\n",
       "\n",
       "    .dataframe thead th {\n",
       "        text-align: right;\n",
       "    }\n",
       "</style>\n",
       "<table border=\"1\" class=\"dataframe\">\n",
       "  <thead>\n",
       "    <tr style=\"text-align: right;\">\n",
       "      <th></th>\n",
       "      <th>tariff</th>\n",
       "      <th>moscow_users</th>\n",
       "      <th>regions_users</th>\n",
       "      <th>moscow_share</th>\n",
       "      <th>regions_share</th>\n",
       "    </tr>\n",
       "  </thead>\n",
       "  <tbody>\n",
       "    <tr>\n",
       "      <th>0</th>\n",
       "      <td>smart</td>\n",
       "      <td>62</td>\n",
       "      <td>266</td>\n",
       "      <td>0.66</td>\n",
       "      <td>0.71</td>\n",
       "    </tr>\n",
       "    <tr>\n",
       "      <th>1</th>\n",
       "      <td>ultra</td>\n",
       "      <td>32</td>\n",
       "      <td>110</td>\n",
       "      <td>0.34</td>\n",
       "      <td>0.29</td>\n",
       "    </tr>\n",
       "    <tr>\n",
       "      <th>2</th>\n",
       "      <td>All</td>\n",
       "      <td>94</td>\n",
       "      <td>376</td>\n",
       "      <td>1.00</td>\n",
       "      <td>1.00</td>\n",
       "    </tr>\n",
       "  </tbody>\n",
       "</table>\n",
       "</div>"
      ],
      "text/plain": [
       "  tariff  moscow_users  regions_users  moscow_share  regions_share\n",
       "0  smart            62            266          0.66           0.71\n",
       "1  ultra            32            110          0.34           0.29\n",
       "2    All            94            376          1.00           1.00"
      ]
     },
     "execution_count": 79,
     "metadata": {},
     "output_type": "execute_result"
    }
   ],
   "source": [
    "tarifs['moscow_share'] = round(tarifs['moscow_users'] / tarifs.loc[2,'moscow_users'],2)\n",
    "tarifs['regions_share'] = round(tarifs['regions_users'] / tarifs.loc[2,'regions_users'],2)\n",
    "tarifs"
   ]
  },
  {
   "cell_type": "markdown",
   "id": "3607886a",
   "metadata": {},
   "source": [
    "Тариф \"Смарт\" популярнее тарифа \"Ультра\" и в Москве и в регионах, но в Москве доля тарифа \"Ультра\" чуть выше."
   ]
  },
  {
   "cell_type": "markdown",
   "id": "8165d644-e2c9-49e4-85b2-7a0d7b880c01",
   "metadata": {},
   "source": [
    "Сравним общий доход московских и региональных пользователей."
   ]
  },
  {
   "cell_type": "code",
   "execution_count": 67,
   "id": "044daf02-8b91-46e0-ad06-554a96ccfbd7",
   "metadata": {},
   "outputs": [
    {
     "name": "stdout",
     "output_type": "stream",
     "text": [
      "Среднее значение total_income в месяц:\n",
      "Москва  : 548.34\n",
      "регионы  : 642.92\n",
      "\n",
      "Дисперсия total_income в месяц:\n",
      "Москва  : 509929.92\n",
      "регионы  : 652091.87\n",
      "\n",
      "Стандартное отклонение total_income в месяц:\n",
      "Москва  : 714.09\n",
      "регионы  : 807.52\n"
     ]
    }
   ],
   "source": [
    "analysis(used_per_month_moscow,used_per_month_regions,'Москва','регионы','total_income')"
   ]
  },
  {
   "cell_type": "markdown",
   "id": "672d9c61-f184-48e8-ab3c-c180d58e8950",
   "metadata": {
    "tags": []
   },
   "source": [
    "#### Вывод\n",
    "* Пользователи из регионов приносят больше выручки, чем пользователи Москвы.\n",
    "* Тариф \"Смарт\" популярнее тарифа \"Ультра\" и в Москве и в регионах.\n",
    "* В Москве доля тарифа \"Ультра\" чуть выше."
   ]
  },
  {
   "cell_type": "markdown",
   "id": "ea478f8f-bb15-458a-b4f8-2c2a76bc8127",
   "metadata": {
    "tags": []
   },
   "source": [
    "## 5. Проверка гипотез"
   ]
  },
  {
   "cell_type": "markdown",
   "id": "0ebb50f1-6b46-4c42-856e-38c4b03c2d49",
   "metadata": {
    "tags": []
   },
   "source": [
    "### 5.1. Проверка гипотезы \"Средняя выручка пользователей тарифов «Ультра» и «Смарт» различаются\""
   ]
  },
  {
   "cell_type": "markdown",
   "id": "f5daa54f-27b7-414c-a6dc-363c88ace1e2",
   "metadata": {},
   "source": [
    "Нужно проверить гипотезу \"Средняя выручка пользователей тарифов «Ультра» и «Смарт» различаются\".\n",
    "\n",
    "Так как нулевая гипотеза формулируется исходя из равенства значений, то сформулируем ее так:\n",
    "\n",
    "<b>Н0: \"Средняя выручка с пользователей тарифов «Ультра» равна средней выручке пользователей тарифа «Смарт»\".</b>"
   ]
  },
  {
   "cell_type": "markdown",
   "id": "5177f7e8-b8a1-4b2b-b4a5-7581789d2976",
   "metadata": {},
   "source": [
    "Альтернативная гипотеза будет такой:\n",
    "\n",
    "<b>Н1: \"Средняя выручка с пользователей тарифа «Ультра» меньше средней выручки с пользователей тарифа \"Смарт\".</b>"
   ]
  },
  {
   "cell_type": "markdown",
   "id": "ae8b0b48-9b6c-4290-84a8-d1608b8a4847",
   "metadata": {},
   "source": [
    "Анализ показал, что средние доходы с пользователей тарифа \"Ультра\" меньше средних доходов с пользователей \"Смарт\", поэтому альтернативная гипотеза будет односторонней."
   ]
  },
  {
   "cell_type": "markdown",
   "id": "a3890471",
   "metadata": {},
   "source": [
    "Напишем функции для статистических исследований."
   ]
  },
  {
   "cell_type": "code",
   "execution_count": 85,
   "id": "24d07688",
   "metadata": {},
   "outputs": [],
   "source": [
    "#Функция для проверки, является ли распределение датафрейма df[column] нормальным\n",
    "def shapiro_test(df,column,text):    \n",
    "    result = st.shapiro(df[column])\n",
    "    print(f'p-value для {text}: {result.pvalue:.10f}')\n",
    "    if result.pvalue < alpha:\n",
    "        print('Распределение не является нормальным')\n",
    "    else: print('Распределение близко к нормальному')\n",
    "        \n",
    "# Функция для проверки на равенство дисперсий двух выборок df1[column] и df2[column] методом Левене\n",
    "def levene_test(df1,df2,column):\n",
    "    result = st.levene(df1[column], df2[column], center='mean', proportiontocut=0.05)\n",
    "    print(f'p_value = {result.pvalue:.10f}')\n",
    "    if result.pvalue < alpha:\n",
    "        print('Дисперсии выборок не равны')\n",
    "    else: print('Дисперсии выборок равны')\n",
    "        \n",
    "# Функция для проверки на равенство дисперсий двух выборок df1[column] и df2[column] методом Бартлетта        \n",
    "def bartlett_test(df1,df2,column):\n",
    "    result = st.bartlett(df1[column], df2[column], center='mean', proportiontocut=0.05)\n",
    "    print(f'p_value = {result.pvalue:.10f}')\n",
    "    if result.pvalue < alpha:\n",
    "        print('Дисперсии выборок не равны')\n",
    "    else: print('Дисперсии выборок равны')    \n",
    "\n",
    "class color:\n",
    "   BOLD = '\\033[1m'\n",
    "   END = '\\033[0m'\n",
    "\n",
    "# функция проверки статистических гипотез\n",
    "# is_hyp2 - признак двусторонней гипотезы (True - гипотеза двусторонняя; False - односторонняя)\n",
    "def hipothesis(df1,df2,parameter,is_hyp2):\n",
    "    results = st.ttest_ind(df1[parameter],df2[parameter],equal_var = False)\n",
    "    alpha = 0.05\n",
    "    if is_hyp2:\n",
    "        p_value = results.pvalue\n",
    "    else:\n",
    "        p_value = results.pvalue/2\n",
    "    if p_value < alpha:\n",
    "        print(color.BOLD + \"Недостаточно оснований для принятия нулевой гипотезы. Принимаем альтернативную.\" + color.END)\n",
    "    else:\n",
    "        print(color.BOLD + \"Недостаточно оснований для того, чтобы отвергнуть нулевую гипотезу.\" + color.END) \n"
   ]
  },
  {
   "cell_type": "markdown",
   "id": "7f123889",
   "metadata": {},
   "source": [
    "На графиках распределение средних доходов абонентов обоих тарифов отличаются от нормального. Проверим выборки на нормальность с помощью теста Шапиро-Уилка. Уровень значимости возьмем 0.05."
   ]
  },
  {
   "cell_type": "code",
   "execution_count": 86,
   "id": "9d7b6609",
   "metadata": {
    "scrolled": false
   },
   "outputs": [
    {
     "name": "stdout",
     "output_type": "stream",
     "text": [
      "p-value для ULTRA: 0.0000000000\n",
      "Распределение не является нормальным\n",
      "\n",
      "p-value для SMART: 0.0000000000\n",
      "Распределение не является нормальным\n"
     ]
    }
   ],
   "source": [
    "alpha = 0.05\n",
    "shapiro_test(used_per_month_ultra,'total_income','ULTRA')\n",
    "print()\n",
    "shapiro_test(used_per_month_smart,'total_income','SMART')"
   ]
  },
  {
   "cell_type": "markdown",
   "id": "50dd2915",
   "metadata": {},
   "source": [
    "Проверим выборки на равенство дисперсий. Т.к. их распределения выборок не являются нормальными, проверять будем с помощью теста Левене. Уровень значимости возьмем 0.05."
   ]
  },
  {
   "cell_type": "code",
   "execution_count": 87,
   "id": "1ed55c05",
   "metadata": {},
   "outputs": [
    {
     "name": "stdout",
     "output_type": "stream",
     "text": [
      "p_value = 0.0000000000\n",
      "Дисперсии выборок не равны\n"
     ]
    }
   ],
   "source": [
    "levene_test(used_per_month_ultra, used_per_month_smart, 'total_income')"
   ]
  },
  {
   "cell_type": "markdown",
   "id": "22e01c46-5cab-4e17-9545-91538ea417df",
   "metadata": {},
   "source": [
    "Проверим размеры датафреймов."
   ]
  },
  {
   "cell_type": "code",
   "execution_count": 88,
   "id": "c98394b9-8801-4861-8b17-583a5beb15d1",
   "metadata": {},
   "outputs": [
    {
     "name": "stdout",
     "output_type": "stream",
     "text": [
      "Количество пользователей \"Ультра\": 853\n",
      "Количество пользователей \"Смарт\": 1933\n"
     ]
    }
   ],
   "source": [
    "print('Количество пользователей \"Ультра\":',used_per_month_ultra['user_id'].count())\n",
    "print('Количество пользователей \"Смарт\":',used_per_month_smart['user_id'].count())"
   ]
  },
  {
   "cell_type": "markdown",
   "id": "3634f8e5-629c-46b0-b252-485cd21439c0",
   "metadata": {},
   "source": [
    "Дисперсии и размеры исследуемых выборок отличаются.\n",
    "\n",
    "Поэтому при проверке гипотезы будем использовать значение параметра equal_var = False.\n",
    "\n",
    "Уровень значимости возьмем 0.05."
   ]
  },
  {
   "cell_type": "code",
   "execution_count": 89,
   "id": "0ddc348a-f258-48f3-a860-d8818ffbf143",
   "metadata": {},
   "outputs": [
    {
     "name": "stdout",
     "output_type": "stream",
     "text": [
      "\u001b[1mНедостаточно оснований для принятия нулевой гипотезы. Принимаем альтернативную.\u001b[0m\n"
     ]
    }
   ],
   "source": [
    "hipothesis(used_per_month_ultra,used_per_month_smart,'total_income',False)"
   ]
  },
  {
   "cell_type": "markdown",
   "id": "82c2edf3-436e-4a35-8836-fd33eea8ed89",
   "metadata": {
    "tags": []
   },
   "source": [
    "#### Вывод\n",
    "В результате исследования была принята альтернативная гипотеза: \"Средняя выручка с пользователей тарифа «Ультра» меньше средней выручки с пользователей тарифа \"Смарт\"."
   ]
  },
  {
   "cell_type": "markdown",
   "id": "d8e3c61b-f054-4c4f-aab7-58e938bcd637",
   "metadata": {
    "tags": []
   },
   "source": [
    "### 5.2. Проверка гипотезы \"Средняя выручка пользователей из Москвы отличается от выручки пользователей из других регионов\""
   ]
  },
  {
   "cell_type": "markdown",
   "id": "e083b76c-942c-48c9-a7c2-47a9ab2a22e0",
   "metadata": {},
   "source": [
    "Нужно проверить гипотезу \"Средняя выручка пользователей из Москвы отличается от выручки пользователей из других регионов\".\n",
    "\n",
    "Так как нулевая гипотеза формулируется исходя из равенства значений, то сформулируем ее так:\n",
    "\n",
    "<b>Н0: \"Cредняя выручка пользователей из Москвы равна средней выручке пользователей из других регионов\".</b>"
   ]
  },
  {
   "cell_type": "markdown",
   "id": "53bce6c1-5afd-47e8-ada9-5488b3714ad1",
   "metadata": {},
   "source": [
    "Альтернативная гипотеза будет такой:\n",
    "\n",
    "<b>Н1: \"Cредняя выручка пользователей из Москвы меньше средней выручки пользователей из других регионов\".</b>"
   ]
  },
  {
   "cell_type": "markdown",
   "id": "44242e33-c3ec-4f0a-9f31-f42a2c111b69",
   "metadata": {},
   "source": [
    "Альтернативная гипотеза в этом случае односторонняя."
   ]
  },
  {
   "cell_type": "markdown",
   "id": "0f2c1a3e",
   "metadata": {},
   "source": [
    "На графике распределения средней выручки абонентов Москвы и регионов не являются нормальными.\n",
    "\n",
    "Проверим распределения на нормальность с помощиью теста Шапиро-Уилка. Уровень значимости выберем 0.05."
   ]
  },
  {
   "cell_type": "code",
   "execution_count": 90,
   "id": "ada80c82",
   "metadata": {
    "scrolled": true
   },
   "outputs": [
    {
     "name": "stdout",
     "output_type": "stream",
     "text": [
      "p-value для Москвы: 0.0000000000\n",
      "Распределение не является нормальным\n",
      "\n",
      "p-value для регионов: 0.0000000000\n",
      "Распределение не является нормальным\n"
     ]
    }
   ],
   "source": [
    "alpha = 0.05\n",
    "shapiro_test(used_per_month_moscow,'total_income','Москвы')\n",
    "print()\n",
    "shapiro_test(used_per_month_regions,'total_income','регионов')"
   ]
  },
  {
   "cell_type": "markdown",
   "id": "6b829081",
   "metadata": {},
   "source": [
    "Теперь проверим выборки на равенство дисперсий. Т.к. распределение в выборках не является нормальным, проверку будем делать с помощью теста Левене. Уровень значимости возьмем 0.05."
   ]
  },
  {
   "cell_type": "code",
   "execution_count": 91,
   "id": "7bf94e17",
   "metadata": {},
   "outputs": [
    {
     "name": "stdout",
     "output_type": "stream",
     "text": [
      "p_value = 0.0018957283\n",
      "Дисперсии выборок не равны\n"
     ]
    }
   ],
   "source": [
    "levene_test(used_per_month_moscow, used_per_month_regions, 'total_income')"
   ]
  },
  {
   "cell_type": "markdown",
   "id": "8c609e89",
   "metadata": {},
   "source": [
    "Проверим размеры датафреймов."
   ]
  },
  {
   "cell_type": "code",
   "execution_count": 92,
   "id": "9820ce45-a160-4fff-95ac-c9e72d56ab5b",
   "metadata": {},
   "outputs": [
    {
     "name": "stdout",
     "output_type": "stream",
     "text": [
      "Количество пользователей Москвы: 526\n",
      "Количество пользователей из регионов: 2260\n"
     ]
    }
   ],
   "source": [
    "print('Количество пользователей Москвы:',used_per_month_moscow['user_id'].count())\n",
    "print('Количество пользователей из регионов:',used_per_month_regions['user_id'].count())"
   ]
  },
  {
   "cell_type": "markdown",
   "id": "58273015-fda2-4e68-89d5-d900169f0549",
   "metadata": {},
   "source": [
    "Дисперсии и размеры исследуемых выборок отличаются.\n",
    "\n",
    "Поэтому при проверке гипотезы тоже будем использовать значение параметра equal_var = False.\n",
    "\n",
    "Уровень значимости возьмем 0.05."
   ]
  },
  {
   "cell_type": "code",
   "execution_count": 93,
   "id": "f6911400-b9df-4db1-aee0-29ecebdcd587",
   "metadata": {},
   "outputs": [
    {
     "name": "stdout",
     "output_type": "stream",
     "text": [
      "\u001b[1mНедостаточно оснований для принятия нулевой гипотезы. Принимаем альтернативную.\u001b[0m\n"
     ]
    }
   ],
   "source": [
    "hipothesis(used_per_month_moscow,used_per_month_regions,'total_income',True)"
   ]
  },
  {
   "cell_type": "markdown",
   "id": "4d0bdb01-831e-4d22-bc71-8379a3d49f6e",
   "metadata": {
    "tags": []
   },
   "source": [
    "#### Вывод\n",
    "В результате исследования была принята альтернативная гипотеза: \"Cредняя выручка пользователей из Москвы меньше средней выручки пользователей из других регионов\"."
   ]
  },
  {
   "cell_type": "markdown",
   "id": "8f7ed25c",
   "metadata": {},
   "source": [
    "## 6. Общий вывод:"
   ]
  },
  {
   "cell_type": "markdown",
   "id": "ab36a096",
   "metadata": {},
   "source": [
    "На основании проведенного анализа данных можно сделать следующие <b>выводы:</b>\n",
    "* Пользователи тарифа \"Ультра\" пользуются услугами оператора активнее пользователей тарифа \"Смарт\".\n",
    "* Прибыль больше приносят пользователи тарифа \"Смарт\". Причем большая часть прибыли - от использования интернета.\n",
    "* Выручка абонентов из регионов больше выручки московских абонентов.\n",
    "\n",
    "<b>Рекомендации:</b>\n",
    "* Тариф \"Смарт\" можно оставить для пользователей из регионов.\n",
    "* Для пользователей Москвы можно создать новый тариф, который по стоимости и пакету услуг будет промежуточным между  \"Ультра\" и \"Смарт\" ."
   ]
  }
 ],
 "metadata": {
  "ExecuteTimeLog": [
   {
    "duration": 1065,
    "start_time": "2022-05-09T16:23:42.218Z"
   },
   {
    "duration": 380,
    "start_time": "2022-05-09T16:23:43.285Z"
   },
   {
    "duration": 18,
    "start_time": "2022-05-09T16:23:43.667Z"
   },
   {
    "duration": 13,
    "start_time": "2022-05-09T16:23:43.687Z"
   },
   {
    "duration": 13,
    "start_time": "2022-05-09T16:23:43.702Z"
   },
   {
    "duration": 12,
    "start_time": "2022-05-09T16:23:43.716Z"
   },
   {
    "duration": 12,
    "start_time": "2022-05-09T16:23:43.730Z"
   },
   {
    "duration": 47,
    "start_time": "2022-05-09T16:23:43.744Z"
   },
   {
    "duration": 30,
    "start_time": "2022-05-09T16:23:43.793Z"
   },
   {
    "duration": 9,
    "start_time": "2022-05-09T16:23:43.825Z"
   },
   {
    "duration": 39,
    "start_time": "2022-05-09T16:23:43.835Z"
   },
   {
    "duration": 24,
    "start_time": "2022-05-09T16:23:43.876Z"
   },
   {
    "duration": 30,
    "start_time": "2022-05-09T16:23:43.902Z"
   },
   {
    "duration": 7,
    "start_time": "2022-05-09T16:23:43.936Z"
   },
   {
    "duration": 18,
    "start_time": "2022-05-09T16:23:43.973Z"
   },
   {
    "duration": 6,
    "start_time": "2022-05-09T16:23:43.993Z"
   },
   {
    "duration": 7,
    "start_time": "2022-05-09T16:23:44.000Z"
   },
   {
    "duration": 139,
    "start_time": "2022-05-09T16:23:44.008Z"
   },
   {
    "duration": 77,
    "start_time": "2022-05-09T16:23:44.148Z"
   },
   {
    "duration": 60,
    "start_time": "2022-05-09T16:23:44.226Z"
   },
   {
    "duration": 5,
    "start_time": "2022-05-09T16:23:44.288Z"
   },
   {
    "duration": 10,
    "start_time": "2022-05-09T16:23:44.295Z"
   },
   {
    "duration": 14,
    "start_time": "2022-05-09T16:23:44.307Z"
   },
   {
    "duration": 5,
    "start_time": "2022-05-09T16:23:44.323Z"
   },
   {
    "duration": 9,
    "start_time": "2022-05-09T16:23:44.330Z"
   },
   {
    "duration": 9,
    "start_time": "2022-05-09T16:23:44.341Z"
   },
   {
    "duration": 5,
    "start_time": "2022-05-09T16:23:44.374Z"
   },
   {
    "duration": 8,
    "start_time": "2022-05-09T16:23:44.381Z"
   },
   {
    "duration": 36,
    "start_time": "2022-05-09T16:23:44.390Z"
   },
   {
    "duration": 48,
    "start_time": "2022-05-09T16:23:44.428Z"
   },
   {
    "duration": 21,
    "start_time": "2022-05-09T16:23:44.478Z"
   },
   {
    "duration": 3,
    "start_time": "2022-05-09T16:23:44.500Z"
   },
   {
    "duration": 31,
    "start_time": "2022-05-09T16:23:44.505Z"
   },
   {
    "duration": 49,
    "start_time": "2022-05-09T16:23:44.538Z"
   },
   {
    "duration": 19,
    "start_time": "2022-05-09T16:23:44.589Z"
   },
   {
    "duration": 64,
    "start_time": "2022-05-09T16:23:44.610Z"
   },
   {
    "duration": 73,
    "start_time": "2022-05-09T16:23:44.676Z"
   },
   {
    "duration": 4,
    "start_time": "2022-05-09T16:23:44.750Z"
   },
   {
    "duration": 94,
    "start_time": "2022-05-09T16:23:44.756Z"
   },
   {
    "duration": 23,
    "start_time": "2022-05-09T16:23:44.852Z"
   },
   {
    "duration": 101,
    "start_time": "2022-05-09T16:23:44.879Z"
   },
   {
    "duration": 33,
    "start_time": "2022-05-09T16:23:44.982Z"
   },
   {
    "duration": 9,
    "start_time": "2022-05-09T16:23:45.017Z"
   },
   {
    "duration": 48,
    "start_time": "2022-05-09T16:23:45.027Z"
   },
   {
    "duration": 12,
    "start_time": "2022-05-09T16:23:45.077Z"
   },
   {
    "duration": 29,
    "start_time": "2022-05-09T16:23:45.090Z"
   },
   {
    "duration": 22,
    "start_time": "2022-05-09T16:23:45.121Z"
   },
   {
    "duration": 84,
    "start_time": "2022-05-09T16:23:45.144Z"
   },
   {
    "duration": 17,
    "start_time": "2022-05-09T16:23:45.230Z"
   },
   {
    "duration": 3,
    "start_time": "2022-05-09T16:23:45.249Z"
   },
   {
    "duration": 17,
    "start_time": "2022-05-09T16:23:45.273Z"
   },
   {
    "duration": 12,
    "start_time": "2022-05-09T16:23:45.291Z"
   },
   {
    "duration": 19,
    "start_time": "2022-05-09T16:23:45.305Z"
   },
   {
    "duration": 49,
    "start_time": "2022-05-09T16:23:45.325Z"
   },
   {
    "duration": 77,
    "start_time": "2022-05-09T16:23:45.376Z"
   },
   {
    "duration": 29,
    "start_time": "2022-05-09T16:23:45.455Z"
   },
   {
    "duration": 16,
    "start_time": "2022-05-09T16:23:45.486Z"
   },
   {
    "duration": 13,
    "start_time": "2022-05-09T16:23:45.503Z"
   },
   {
    "duration": 22,
    "start_time": "2022-05-09T16:23:45.518Z"
   },
   {
    "duration": 55,
    "start_time": "2022-05-09T16:23:45.542Z"
   },
   {
    "duration": 14,
    "start_time": "2022-05-09T16:23:45.599Z"
   },
   {
    "duration": 13,
    "start_time": "2022-05-09T16:23:45.614Z"
   },
   {
    "duration": 28,
    "start_time": "2022-05-09T16:23:45.628Z"
   },
   {
    "duration": 24,
    "start_time": "2022-05-09T16:23:45.658Z"
   },
   {
    "duration": 10,
    "start_time": "2022-05-09T16:23:45.684Z"
   },
   {
    "duration": 1412,
    "start_time": "2022-05-09T16:23:45.696Z"
   },
   {
    "duration": 1349,
    "start_time": "2022-05-09T16:23:47.109Z"
   },
   {
    "duration": 6,
    "start_time": "2022-05-09T16:23:48.460Z"
   },
   {
    "duration": 20,
    "start_time": "2022-05-09T16:23:48.473Z"
   },
   {
    "duration": 13,
    "start_time": "2022-05-09T16:23:48.494Z"
   },
   {
    "duration": 21,
    "start_time": "2022-05-09T16:23:48.508Z"
   },
   {
    "duration": 14,
    "start_time": "2022-05-09T16:23:48.531Z"
   },
   {
    "duration": 12,
    "start_time": "2022-05-09T16:23:48.574Z"
   },
   {
    "duration": 1437,
    "start_time": "2022-05-09T16:23:48.588Z"
   },
   {
    "duration": 14,
    "start_time": "2022-05-09T16:23:50.027Z"
   },
   {
    "duration": 10,
    "start_time": "2022-05-09T16:23:50.043Z"
   },
   {
    "duration": 4,
    "start_time": "2022-05-09T16:23:50.073Z"
   },
   {
    "duration": 9,
    "start_time": "2022-05-09T16:23:50.079Z"
   },
   {
    "duration": 8,
    "start_time": "2022-05-09T16:23:50.090Z"
   },
   {
    "duration": 5,
    "start_time": "2022-05-09T16:23:50.100Z"
   },
   {
    "duration": 20,
    "start_time": "2022-05-09T16:26:21.741Z"
   },
   {
    "duration": 12,
    "start_time": "2022-05-09T16:26:44.824Z"
   },
   {
    "duration": 12,
    "start_time": "2022-05-09T16:27:26.769Z"
   },
   {
    "duration": 19,
    "start_time": "2022-05-09T16:31:10.634Z"
   },
   {
    "duration": 12,
    "start_time": "2022-05-09T16:31:22.263Z"
   }
  ],
  "kernelspec": {
   "display_name": "Python 3 (ipykernel)",
   "language": "python",
   "name": "python3"
  },
  "language_info": {
   "codemirror_mode": {
    "name": "ipython",
    "version": 3
   },
   "file_extension": ".py",
   "mimetype": "text/x-python",
   "name": "python",
   "nbconvert_exporter": "python",
   "pygments_lexer": "ipython3",
   "version": "3.9.12"
  },
  "toc": {
   "base_numbering": 1,
   "nav_menu": {},
   "number_sections": false,
   "sideBar": true,
   "skip_h1_title": true,
   "title_cell": "Содержание",
   "title_sidebar": "Содержание",
   "toc_cell": false,
   "toc_position": {},
   "toc_section_display": true,
   "toc_window_display": true
  }
 },
 "nbformat": 4,
 "nbformat_minor": 5
}
