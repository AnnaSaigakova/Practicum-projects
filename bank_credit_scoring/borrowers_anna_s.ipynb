{
 "cells": [
  {
   "cell_type": "markdown",
   "id": "82894e09",
   "metadata": {},
   "source": [
    "# Проект \"Исследование надежности заемщиков\"."
   ]
  },
  {
   "cell_type": "markdown",
   "id": "77634f15",
   "metadata": {},
   "source": [
    "**Цель исследования:** выяснить, оказывает ли влияние семейное положение и количество детей клиента на факт погашения кредита в срок.\n",
    "\n",
    "**Задачи исследования:**\n",
    "*\tОпределить, есть ли зависимость между количеством детей и возвратом кредита в срок.\n",
    "*\tВыяснить, есть ли зависимость между семейным положением и возвратом кредита в срок.\n",
    "*\tОпределить, есть ли зависимость между уровнем дохода и возвратом кредита в срок?\n",
    "*\tОтветить на вопрос: как разные цели кредита влияют на его возврат в срок?"
   ]
  },
  {
   "cell_type": "markdown",
   "id": "4a98e8f2",
   "metadata": {},
   "source": [
    "### Шаг 1. Обзор данных"
   ]
  },
  {
   "cell_type": "markdown",
   "id": "49ad97c6",
   "metadata": {},
   "source": [
    "Импортируем библиотеку pandas, загрузим данные в переменную clients."
   ]
  },
  {
   "cell_type": "code",
   "execution_count": 1,
   "id": "4d71343e",
   "metadata": {},
   "outputs": [],
   "source": [
    "import pandas as pd"
   ]
  },
  {
   "cell_type": "code",
   "execution_count": 2,
   "id": "1d59d71f",
   "metadata": {},
   "outputs": [],
   "source": [
    "try:\n",
    "    clients = pd.read_csv('data.csv')\n",
    "except:\n",
    "    clients = pd.read_csv('/datasets/data.csv')"
   ]
  },
  {
   "cell_type": "code",
   "execution_count": 3,
   "id": "905653e8",
   "metadata": {},
   "outputs": [
    {
     "data": {
      "text/html": [
       "<div>\n",
       "<style scoped>\n",
       "    .dataframe tbody tr th:only-of-type {\n",
       "        vertical-align: middle;\n",
       "    }\n",
       "\n",
       "    .dataframe tbody tr th {\n",
       "        vertical-align: top;\n",
       "    }\n",
       "\n",
       "    .dataframe thead th {\n",
       "        text-align: right;\n",
       "    }\n",
       "</style>\n",
       "<table border=\"1\" class=\"dataframe\">\n",
       "  <thead>\n",
       "    <tr style=\"text-align: right;\">\n",
       "      <th></th>\n",
       "      <th>children</th>\n",
       "      <th>days_employed</th>\n",
       "      <th>dob_years</th>\n",
       "      <th>education</th>\n",
       "      <th>education_id</th>\n",
       "      <th>family_status</th>\n",
       "      <th>family_status_id</th>\n",
       "      <th>gender</th>\n",
       "      <th>income_type</th>\n",
       "      <th>debt</th>\n",
       "      <th>total_income</th>\n",
       "      <th>purpose</th>\n",
       "    </tr>\n",
       "  </thead>\n",
       "  <tbody>\n",
       "    <tr>\n",
       "      <th>0</th>\n",
       "      <td>1</td>\n",
       "      <td>-8437.673028</td>\n",
       "      <td>42</td>\n",
       "      <td>высшее</td>\n",
       "      <td>0</td>\n",
       "      <td>женат / замужем</td>\n",
       "      <td>0</td>\n",
       "      <td>F</td>\n",
       "      <td>сотрудник</td>\n",
       "      <td>0</td>\n",
       "      <td>253875.639453</td>\n",
       "      <td>покупка жилья</td>\n",
       "    </tr>\n",
       "    <tr>\n",
       "      <th>1</th>\n",
       "      <td>1</td>\n",
       "      <td>-4024.803754</td>\n",
       "      <td>36</td>\n",
       "      <td>среднее</td>\n",
       "      <td>1</td>\n",
       "      <td>женат / замужем</td>\n",
       "      <td>0</td>\n",
       "      <td>F</td>\n",
       "      <td>сотрудник</td>\n",
       "      <td>0</td>\n",
       "      <td>112080.014102</td>\n",
       "      <td>приобретение автомобиля</td>\n",
       "    </tr>\n",
       "    <tr>\n",
       "      <th>2</th>\n",
       "      <td>0</td>\n",
       "      <td>-5623.422610</td>\n",
       "      <td>33</td>\n",
       "      <td>Среднее</td>\n",
       "      <td>1</td>\n",
       "      <td>женат / замужем</td>\n",
       "      <td>0</td>\n",
       "      <td>M</td>\n",
       "      <td>сотрудник</td>\n",
       "      <td>0</td>\n",
       "      <td>145885.952297</td>\n",
       "      <td>покупка жилья</td>\n",
       "    </tr>\n",
       "    <tr>\n",
       "      <th>3</th>\n",
       "      <td>3</td>\n",
       "      <td>-4124.747207</td>\n",
       "      <td>32</td>\n",
       "      <td>среднее</td>\n",
       "      <td>1</td>\n",
       "      <td>женат / замужем</td>\n",
       "      <td>0</td>\n",
       "      <td>M</td>\n",
       "      <td>сотрудник</td>\n",
       "      <td>0</td>\n",
       "      <td>267628.550329</td>\n",
       "      <td>дополнительное образование</td>\n",
       "    </tr>\n",
       "    <tr>\n",
       "      <th>4</th>\n",
       "      <td>0</td>\n",
       "      <td>340266.072047</td>\n",
       "      <td>53</td>\n",
       "      <td>среднее</td>\n",
       "      <td>1</td>\n",
       "      <td>гражданский брак</td>\n",
       "      <td>1</td>\n",
       "      <td>F</td>\n",
       "      <td>пенсионер</td>\n",
       "      <td>0</td>\n",
       "      <td>158616.077870</td>\n",
       "      <td>сыграть свадьбу</td>\n",
       "    </tr>\n",
       "    <tr>\n",
       "      <th>5</th>\n",
       "      <td>0</td>\n",
       "      <td>-926.185831</td>\n",
       "      <td>27</td>\n",
       "      <td>высшее</td>\n",
       "      <td>0</td>\n",
       "      <td>гражданский брак</td>\n",
       "      <td>1</td>\n",
       "      <td>M</td>\n",
       "      <td>компаньон</td>\n",
       "      <td>0</td>\n",
       "      <td>255763.565419</td>\n",
       "      <td>покупка жилья</td>\n",
       "    </tr>\n",
       "    <tr>\n",
       "      <th>6</th>\n",
       "      <td>0</td>\n",
       "      <td>-2879.202052</td>\n",
       "      <td>43</td>\n",
       "      <td>высшее</td>\n",
       "      <td>0</td>\n",
       "      <td>женат / замужем</td>\n",
       "      <td>0</td>\n",
       "      <td>F</td>\n",
       "      <td>компаньон</td>\n",
       "      <td>0</td>\n",
       "      <td>240525.971920</td>\n",
       "      <td>операции с жильем</td>\n",
       "    </tr>\n",
       "    <tr>\n",
       "      <th>7</th>\n",
       "      <td>0</td>\n",
       "      <td>-152.779569</td>\n",
       "      <td>50</td>\n",
       "      <td>СРЕДНЕЕ</td>\n",
       "      <td>1</td>\n",
       "      <td>женат / замужем</td>\n",
       "      <td>0</td>\n",
       "      <td>M</td>\n",
       "      <td>сотрудник</td>\n",
       "      <td>0</td>\n",
       "      <td>135823.934197</td>\n",
       "      <td>образование</td>\n",
       "    </tr>\n",
       "    <tr>\n",
       "      <th>8</th>\n",
       "      <td>2</td>\n",
       "      <td>-6929.865299</td>\n",
       "      <td>35</td>\n",
       "      <td>ВЫСШЕЕ</td>\n",
       "      <td>0</td>\n",
       "      <td>гражданский брак</td>\n",
       "      <td>1</td>\n",
       "      <td>F</td>\n",
       "      <td>сотрудник</td>\n",
       "      <td>0</td>\n",
       "      <td>95856.832424</td>\n",
       "      <td>на проведение свадьбы</td>\n",
       "    </tr>\n",
       "    <tr>\n",
       "      <th>9</th>\n",
       "      <td>0</td>\n",
       "      <td>-2188.756445</td>\n",
       "      <td>41</td>\n",
       "      <td>среднее</td>\n",
       "      <td>1</td>\n",
       "      <td>женат / замужем</td>\n",
       "      <td>0</td>\n",
       "      <td>M</td>\n",
       "      <td>сотрудник</td>\n",
       "      <td>0</td>\n",
       "      <td>144425.938277</td>\n",
       "      <td>покупка жилья для семьи</td>\n",
       "    </tr>\n",
       "  </tbody>\n",
       "</table>\n",
       "</div>"
      ],
      "text/plain": [
       "   children  days_employed  dob_years education  education_id  \\\n",
       "0         1   -8437.673028         42    высшее             0   \n",
       "1         1   -4024.803754         36   среднее             1   \n",
       "2         0   -5623.422610         33   Среднее             1   \n",
       "3         3   -4124.747207         32   среднее             1   \n",
       "4         0  340266.072047         53   среднее             1   \n",
       "5         0    -926.185831         27    высшее             0   \n",
       "6         0   -2879.202052         43    высшее             0   \n",
       "7         0    -152.779569         50   СРЕДНЕЕ             1   \n",
       "8         2   -6929.865299         35    ВЫСШЕЕ             0   \n",
       "9         0   -2188.756445         41   среднее             1   \n",
       "\n",
       "      family_status  family_status_id gender income_type  debt   total_income  \\\n",
       "0   женат / замужем                 0      F   сотрудник     0  253875.639453   \n",
       "1   женат / замужем                 0      F   сотрудник     0  112080.014102   \n",
       "2   женат / замужем                 0      M   сотрудник     0  145885.952297   \n",
       "3   женат / замужем                 0      M   сотрудник     0  267628.550329   \n",
       "4  гражданский брак                 1      F   пенсионер     0  158616.077870   \n",
       "5  гражданский брак                 1      M   компаньон     0  255763.565419   \n",
       "6   женат / замужем                 0      F   компаньон     0  240525.971920   \n",
       "7   женат / замужем                 0      M   сотрудник     0  135823.934197   \n",
       "8  гражданский брак                 1      F   сотрудник     0   95856.832424   \n",
       "9   женат / замужем                 0      M   сотрудник     0  144425.938277   \n",
       "\n",
       "                      purpose  \n",
       "0               покупка жилья  \n",
       "1     приобретение автомобиля  \n",
       "2               покупка жилья  \n",
       "3  дополнительное образование  \n",
       "4             сыграть свадьбу  \n",
       "5               покупка жилья  \n",
       "6           операции с жильем  \n",
       "7                 образование  \n",
       "8       на проведение свадьбы  \n",
       "9     покупка жилья для семьи  "
      ]
     },
     "execution_count": 3,
     "metadata": {},
     "output_type": "execute_result"
    }
   ],
   "source": [
    "clients.head(10)"
   ]
  },
  {
   "cell_type": "markdown",
   "id": "796e9150",
   "metadata": {},
   "source": [
    "Получим информацию о таблице."
   ]
  },
  {
   "cell_type": "code",
   "execution_count": 4,
   "id": "756fde3f",
   "metadata": {},
   "outputs": [
    {
     "name": "stdout",
     "output_type": "stream",
     "text": [
      "<class 'pandas.core.frame.DataFrame'>\n",
      "RangeIndex: 21525 entries, 0 to 21524\n",
      "Data columns (total 12 columns):\n",
      " #   Column            Non-Null Count  Dtype  \n",
      "---  ------            --------------  -----  \n",
      " 0   children          21525 non-null  int64  \n",
      " 1   days_employed     19351 non-null  float64\n",
      " 2   dob_years         21525 non-null  int64  \n",
      " 3   education         21525 non-null  object \n",
      " 4   education_id      21525 non-null  int64  \n",
      " 5   family_status     21525 non-null  object \n",
      " 6   family_status_id  21525 non-null  int64  \n",
      " 7   gender            21525 non-null  object \n",
      " 8   income_type       21525 non-null  object \n",
      " 9   debt              21525 non-null  int64  \n",
      " 10  total_income      19351 non-null  float64\n",
      " 11  purpose           21525 non-null  object \n",
      "dtypes: float64(2), int64(5), object(5)\n",
      "memory usage: 2.0+ MB\n"
     ]
    }
   ],
   "source": [
    "clients.info()"
   ]
  },
  {
   "cell_type": "markdown",
   "id": "53451db1",
   "metadata": {},
   "source": [
    "В таблице 12 колонок. Из них 5 колонок строкового типа ('education', 'family_status', 'gender', 'income_type', 'purpose'), 5 целочисленных ('children', 'dob_years', 'education_id', 'family_status_id', 'debt') и 2 колонки вещественного типа ('days_employed', 'total_income').\n",
    "\n",
    "\n",
    "Выведем названия колонок таблицы."
   ]
  },
  {
   "cell_type": "markdown",
   "id": "3426b92c",
   "metadata": {},
   "source": [
    "В таблице 12 колонок. Из них 5 колонок строкового типа ('education', 'family_status', 'gender', 'income_type', 'purpose'), 5 целочисленных ('children', 'dob_years', 'education_id', 'family_status_id', 'debt') и 2 колонки вещественного типа ('days_employed', 'total_income').\n",
    "\n",
    "\n",
    "Выведем названия колонок таблицы."
   ]
  },
  {
   "cell_type": "code",
   "execution_count": 5,
   "id": "8aa8b3c8",
   "metadata": {
    "scrolled": true
   },
   "outputs": [
    {
     "data": {
      "text/html": [
       "<div>\n",
       "<style scoped>\n",
       "    .dataframe tbody tr th:only-of-type {\n",
       "        vertical-align: middle;\n",
       "    }\n",
       "\n",
       "    .dataframe tbody tr th {\n",
       "        vertical-align: top;\n",
       "    }\n",
       "\n",
       "    .dataframe thead th {\n",
       "        text-align: right;\n",
       "    }\n",
       "</style>\n",
       "<table border=\"1\" class=\"dataframe\">\n",
       "  <thead>\n",
       "    <tr style=\"text-align: right;\">\n",
       "      <th></th>\n",
       "      <th>children</th>\n",
       "      <th>days_employed</th>\n",
       "      <th>dob_years</th>\n",
       "      <th>education_id</th>\n",
       "      <th>family_status_id</th>\n",
       "      <th>debt</th>\n",
       "      <th>total_income</th>\n",
       "    </tr>\n",
       "  </thead>\n",
       "  <tbody>\n",
       "    <tr>\n",
       "      <th>count</th>\n",
       "      <td>21525.000000</td>\n",
       "      <td>19351.000000</td>\n",
       "      <td>21525.000000</td>\n",
       "      <td>21525.000000</td>\n",
       "      <td>21525.000000</td>\n",
       "      <td>21525.000000</td>\n",
       "      <td>1.935100e+04</td>\n",
       "    </tr>\n",
       "    <tr>\n",
       "      <th>mean</th>\n",
       "      <td>0.538908</td>\n",
       "      <td>63046.497661</td>\n",
       "      <td>43.293380</td>\n",
       "      <td>0.817236</td>\n",
       "      <td>0.972544</td>\n",
       "      <td>0.080883</td>\n",
       "      <td>1.674223e+05</td>\n",
       "    </tr>\n",
       "    <tr>\n",
       "      <th>std</th>\n",
       "      <td>1.381587</td>\n",
       "      <td>140827.311974</td>\n",
       "      <td>12.574584</td>\n",
       "      <td>0.548138</td>\n",
       "      <td>1.420324</td>\n",
       "      <td>0.272661</td>\n",
       "      <td>1.029716e+05</td>\n",
       "    </tr>\n",
       "    <tr>\n",
       "      <th>min</th>\n",
       "      <td>-1.000000</td>\n",
       "      <td>-18388.949901</td>\n",
       "      <td>0.000000</td>\n",
       "      <td>0.000000</td>\n",
       "      <td>0.000000</td>\n",
       "      <td>0.000000</td>\n",
       "      <td>2.066726e+04</td>\n",
       "    </tr>\n",
       "    <tr>\n",
       "      <th>25%</th>\n",
       "      <td>0.000000</td>\n",
       "      <td>-2747.423625</td>\n",
       "      <td>33.000000</td>\n",
       "      <td>1.000000</td>\n",
       "      <td>0.000000</td>\n",
       "      <td>0.000000</td>\n",
       "      <td>1.030532e+05</td>\n",
       "    </tr>\n",
       "    <tr>\n",
       "      <th>50%</th>\n",
       "      <td>0.000000</td>\n",
       "      <td>-1203.369529</td>\n",
       "      <td>42.000000</td>\n",
       "      <td>1.000000</td>\n",
       "      <td>0.000000</td>\n",
       "      <td>0.000000</td>\n",
       "      <td>1.450179e+05</td>\n",
       "    </tr>\n",
       "    <tr>\n",
       "      <th>75%</th>\n",
       "      <td>1.000000</td>\n",
       "      <td>-291.095954</td>\n",
       "      <td>53.000000</td>\n",
       "      <td>1.000000</td>\n",
       "      <td>1.000000</td>\n",
       "      <td>0.000000</td>\n",
       "      <td>2.034351e+05</td>\n",
       "    </tr>\n",
       "    <tr>\n",
       "      <th>max</th>\n",
       "      <td>20.000000</td>\n",
       "      <td>401755.400475</td>\n",
       "      <td>75.000000</td>\n",
       "      <td>4.000000</td>\n",
       "      <td>4.000000</td>\n",
       "      <td>1.000000</td>\n",
       "      <td>2.265604e+06</td>\n",
       "    </tr>\n",
       "  </tbody>\n",
       "</table>\n",
       "</div>"
      ],
      "text/plain": [
       "           children  days_employed     dob_years  education_id  \\\n",
       "count  21525.000000   19351.000000  21525.000000  21525.000000   \n",
       "mean       0.538908   63046.497661     43.293380      0.817236   \n",
       "std        1.381587  140827.311974     12.574584      0.548138   \n",
       "min       -1.000000  -18388.949901      0.000000      0.000000   \n",
       "25%        0.000000   -2747.423625     33.000000      1.000000   \n",
       "50%        0.000000   -1203.369529     42.000000      1.000000   \n",
       "75%        1.000000    -291.095954     53.000000      1.000000   \n",
       "max       20.000000  401755.400475     75.000000      4.000000   \n",
       "\n",
       "       family_status_id          debt  total_income  \n",
       "count      21525.000000  21525.000000  1.935100e+04  \n",
       "mean           0.972544      0.080883  1.674223e+05  \n",
       "std            1.420324      0.272661  1.029716e+05  \n",
       "min            0.000000      0.000000  2.066726e+04  \n",
       "25%            0.000000      0.000000  1.030532e+05  \n",
       "50%            0.000000      0.000000  1.450179e+05  \n",
       "75%            1.000000      0.000000  2.034351e+05  \n",
       "max            4.000000      1.000000  2.265604e+06  "
      ]
     },
     "execution_count": 5,
     "metadata": {},
     "output_type": "execute_result"
    }
   ],
   "source": [
    "clients.describe()"
   ]
  },
  {
   "cell_type": "markdown",
   "id": "b2e32c30",
   "metadata": {},
   "source": [
    "Обнаружились аномальные значения количественных переменных:\n",
    "* в столбце 'children' - отрицательные значения и выброс - число 20\n",
    "* в столбце 'days_employed' отрицательные значения и большой выброс (401755)\n",
    "* значение 0 в столбце 'dob_years'.\n",
    "\n",
    "Теперь выведем названия колонок таблицы."
   ]
  },
  {
   "cell_type": "code",
   "execution_count": 6,
   "id": "1d1eb1de",
   "metadata": {},
   "outputs": [
    {
     "data": {
      "text/plain": [
       "Index(['children', 'days_employed', 'dob_years', 'education', 'education_id',\n",
       "       'family_status', 'family_status_id', 'gender', 'income_type', 'debt',\n",
       "       'total_income', 'purpose'],\n",
       "      dtype='object')"
      ]
     },
     "execution_count": 6,
     "metadata": {},
     "output_type": "execute_result"
    }
   ],
   "source": [
    "clients.columns"
   ]
  },
  {
   "cell_type": "markdown",
   "id": "328ccf16",
   "metadata": {},
   "source": [
    "Согласно документации к данным:\n",
    "*\t`children` — количество детей в семье;\n",
    "*\t`days_employed` — общий трудовой стаж в днях;\n",
    "*\t`dob_years` — возраст клиента в годах;\n",
    "*\t`education` — уровень образования клиента;\n",
    "*\t`education_id` — идентификатор уровня образования;\n",
    "*\t`family_status` — семейное положение;\n",
    "*\t`family_status_id` — идентификатор семейного положения;\n",
    "*\t`gender` — пол клиента;\n",
    "*\t`income_type` — тип занятости;\n",
    "*\t`debt` — имел ли задолженность по возврату кредитов;\n",
    "*\t`total_income` — ежемесячный доход;\n",
    "*\t`purpose` — цель получения кредита.\n",
    "\n",
    "Колонки, данные в которых имеют количественный характер:\n",
    "*   `children`;\n",
    "*   `days_employed`;\n",
    "*   `total_income`;\n",
    "*   `dob_years`.\n",
    "\n",
    "Колонки, данные в котрых относятся к категориальным:\n",
    "*\t`education` — уровень образования клиента;\n",
    "*\t`education_id` — идентификатор уровня образования;\n",
    "*\t`family_status` — семейное положение;\n",
    "*\t`family_status_id` — идентификатор семейного положения;\n",
    "*\t`gender` — пол клиента;\n",
    "*\t`income_type` — тип занятости;\n",
    "*\t`debt` — имел ли задолженность по возврату кредитов;\n",
    "*\t`purpose` — цель получения кредита.\n",
    "\n",
    "Названия колонок соответствуют описанию данных, нарушения стиля в названиях не выявлено.\n",
    "\n",
    "Количество значений в столбцах различается. Значит, в данных есть пропущенные значения.\n",
    "\n",
    "С первых строк выборки видны ошибки заполнения данных:\n",
    "* в данных есть аномалии: отрицательные значения в колонке 'days_employed' (трудовой стаж не может быть отрицательным).\n",
    "* буквы разного регистра в одних и тех же значениях столбца 'education'.\n",
    "\n",
    "Необходимо детально исследовать данные на пропуски и аномальные значения."
   ]
  },
  {
   "cell_type": "markdown",
   "id": "7aed0f0c",
   "metadata": {},
   "source": [
    "### Шаг 2  Предобработка данных\n"
   ]
  },
  {
   "cell_type": "markdown",
   "id": "a3dc2935",
   "metadata": {},
   "source": [
    "### Шаг 2.1 Заполнение пропусков"
   ]
  },
  {
   "cell_type": "markdown",
   "id": "5bfed4ae",
   "metadata": {},
   "source": [
    "\n"
   ]
  },
  {
   "cell_type": "markdown",
   "id": "8f556778",
   "metadata": {},
   "source": [
    "Посчитаем количество пропущенных значений."
   ]
  },
  {
   "cell_type": "code",
   "execution_count": 7,
   "id": "ad2ea8eb",
   "metadata": {
    "scrolled": true
   },
   "outputs": [
    {
     "data": {
      "text/plain": [
       "children               0\n",
       "days_employed       2174\n",
       "dob_years              0\n",
       "education              0\n",
       "education_id           0\n",
       "family_status          0\n",
       "family_status_id       0\n",
       "gender                 0\n",
       "income_type            0\n",
       "debt                   0\n",
       "total_income        2174\n",
       "purpose                0\n",
       "dtype: int64"
      ]
     },
     "execution_count": 7,
     "metadata": {},
     "output_type": "execute_result"
    }
   ],
   "source": [
    "clients.isna().sum()"
   ]
  },
  {
   "cell_type": "markdown",
   "id": "8022731d",
   "metadata": {},
   "source": [
    "Есть пропуски в колонках 'days_employed' и 'total_income'.\n",
    "\n",
    "Посчитаем долю пропусков по отношению ко всем данным."
   ]
  },
  {
   "cell_type": "code",
   "execution_count": 8,
   "id": "435d7ae3",
   "metadata": {},
   "outputs": [
    {
     "data": {
      "text/plain": [
       "children            0.000000\n",
       "days_employed       0.100999\n",
       "dob_years           0.000000\n",
       "education           0.000000\n",
       "education_id        0.000000\n",
       "family_status       0.000000\n",
       "family_status_id    0.000000\n",
       "gender              0.000000\n",
       "income_type         0.000000\n",
       "debt                0.000000\n",
       "total_income        0.100999\n",
       "purpose             0.000000\n",
       "dtype: float64"
      ]
     },
     "execution_count": 8,
     "metadata": {},
     "output_type": "execute_result"
    }
   ],
   "source": [
    "clients.isna().mean()"
   ]
  },
  {
   "cell_type": "markdown",
   "id": "2c101f63",
   "metadata": {},
   "source": [
    "Пропуски в столбцах 'days_employed' и 'total_income' имеют одинаковое количественное значение 2174 и составляют по 10% от всех данных в столбцах. Так как сумма пропусков в обоих столбцах одинаковая, предположим, что пропуски по этим столбцам находятся в одних и тех же строках."
   ]
  },
  {
   "cell_type": "code",
   "execution_count": 9,
   "id": "835528f2",
   "metadata": {
    "scrolled": true
   },
   "outputs": [
    {
     "data": {
      "text/html": [
       "<div>\n",
       "<style scoped>\n",
       "    .dataframe tbody tr th:only-of-type {\n",
       "        vertical-align: middle;\n",
       "    }\n",
       "\n",
       "    .dataframe tbody tr th {\n",
       "        vertical-align: top;\n",
       "    }\n",
       "\n",
       "    .dataframe thead th {\n",
       "        text-align: right;\n",
       "    }\n",
       "</style>\n",
       "<table border=\"1\" class=\"dataframe\">\n",
       "  <thead>\n",
       "    <tr style=\"text-align: right;\">\n",
       "      <th></th>\n",
       "      <th>children</th>\n",
       "      <th>days_employed</th>\n",
       "      <th>dob_years</th>\n",
       "      <th>education</th>\n",
       "      <th>education_id</th>\n",
       "      <th>family_status</th>\n",
       "      <th>family_status_id</th>\n",
       "      <th>gender</th>\n",
       "      <th>income_type</th>\n",
       "      <th>debt</th>\n",
       "      <th>total_income</th>\n",
       "      <th>purpose</th>\n",
       "    </tr>\n",
       "  </thead>\n",
       "  <tbody>\n",
       "    <tr>\n",
       "      <th>12</th>\n",
       "      <td>0</td>\n",
       "      <td>NaN</td>\n",
       "      <td>65</td>\n",
       "      <td>среднее</td>\n",
       "      <td>1</td>\n",
       "      <td>гражданский брак</td>\n",
       "      <td>1</td>\n",
       "      <td>M</td>\n",
       "      <td>пенсионер</td>\n",
       "      <td>0</td>\n",
       "      <td>NaN</td>\n",
       "      <td>сыграть свадьбу</td>\n",
       "    </tr>\n",
       "    <tr>\n",
       "      <th>26</th>\n",
       "      <td>0</td>\n",
       "      <td>NaN</td>\n",
       "      <td>41</td>\n",
       "      <td>среднее</td>\n",
       "      <td>1</td>\n",
       "      <td>женат / замужем</td>\n",
       "      <td>0</td>\n",
       "      <td>M</td>\n",
       "      <td>госслужащий</td>\n",
       "      <td>0</td>\n",
       "      <td>NaN</td>\n",
       "      <td>образование</td>\n",
       "    </tr>\n",
       "    <tr>\n",
       "      <th>29</th>\n",
       "      <td>0</td>\n",
       "      <td>NaN</td>\n",
       "      <td>63</td>\n",
       "      <td>среднее</td>\n",
       "      <td>1</td>\n",
       "      <td>Не женат / не замужем</td>\n",
       "      <td>4</td>\n",
       "      <td>F</td>\n",
       "      <td>пенсионер</td>\n",
       "      <td>0</td>\n",
       "      <td>NaN</td>\n",
       "      <td>строительство жилой недвижимости</td>\n",
       "    </tr>\n",
       "    <tr>\n",
       "      <th>41</th>\n",
       "      <td>0</td>\n",
       "      <td>NaN</td>\n",
       "      <td>50</td>\n",
       "      <td>среднее</td>\n",
       "      <td>1</td>\n",
       "      <td>женат / замужем</td>\n",
       "      <td>0</td>\n",
       "      <td>F</td>\n",
       "      <td>госслужащий</td>\n",
       "      <td>0</td>\n",
       "      <td>NaN</td>\n",
       "      <td>сделка с подержанным автомобилем</td>\n",
       "    </tr>\n",
       "    <tr>\n",
       "      <th>55</th>\n",
       "      <td>0</td>\n",
       "      <td>NaN</td>\n",
       "      <td>54</td>\n",
       "      <td>среднее</td>\n",
       "      <td>1</td>\n",
       "      <td>гражданский брак</td>\n",
       "      <td>1</td>\n",
       "      <td>F</td>\n",
       "      <td>пенсионер</td>\n",
       "      <td>1</td>\n",
       "      <td>NaN</td>\n",
       "      <td>сыграть свадьбу</td>\n",
       "    </tr>\n",
       "    <tr>\n",
       "      <th>65</th>\n",
       "      <td>0</td>\n",
       "      <td>NaN</td>\n",
       "      <td>21</td>\n",
       "      <td>среднее</td>\n",
       "      <td>1</td>\n",
       "      <td>Не женат / не замужем</td>\n",
       "      <td>4</td>\n",
       "      <td>M</td>\n",
       "      <td>компаньон</td>\n",
       "      <td>0</td>\n",
       "      <td>NaN</td>\n",
       "      <td>операции с коммерческой недвижимостью</td>\n",
       "    </tr>\n",
       "    <tr>\n",
       "      <th>67</th>\n",
       "      <td>0</td>\n",
       "      <td>NaN</td>\n",
       "      <td>52</td>\n",
       "      <td>высшее</td>\n",
       "      <td>0</td>\n",
       "      <td>женат / замужем</td>\n",
       "      <td>0</td>\n",
       "      <td>F</td>\n",
       "      <td>пенсионер</td>\n",
       "      <td>0</td>\n",
       "      <td>NaN</td>\n",
       "      <td>покупка жилья для семьи</td>\n",
       "    </tr>\n",
       "    <tr>\n",
       "      <th>72</th>\n",
       "      <td>1</td>\n",
       "      <td>NaN</td>\n",
       "      <td>32</td>\n",
       "      <td>высшее</td>\n",
       "      <td>0</td>\n",
       "      <td>женат / замужем</td>\n",
       "      <td>0</td>\n",
       "      <td>M</td>\n",
       "      <td>госслужащий</td>\n",
       "      <td>0</td>\n",
       "      <td>NaN</td>\n",
       "      <td>операции с коммерческой недвижимостью</td>\n",
       "    </tr>\n",
       "    <tr>\n",
       "      <th>82</th>\n",
       "      <td>2</td>\n",
       "      <td>NaN</td>\n",
       "      <td>50</td>\n",
       "      <td>высшее</td>\n",
       "      <td>0</td>\n",
       "      <td>женат / замужем</td>\n",
       "      <td>0</td>\n",
       "      <td>F</td>\n",
       "      <td>сотрудник</td>\n",
       "      <td>0</td>\n",
       "      <td>NaN</td>\n",
       "      <td>жилье</td>\n",
       "    </tr>\n",
       "    <tr>\n",
       "      <th>83</th>\n",
       "      <td>0</td>\n",
       "      <td>NaN</td>\n",
       "      <td>52</td>\n",
       "      <td>среднее</td>\n",
       "      <td>1</td>\n",
       "      <td>женат / замужем</td>\n",
       "      <td>0</td>\n",
       "      <td>M</td>\n",
       "      <td>сотрудник</td>\n",
       "      <td>0</td>\n",
       "      <td>NaN</td>\n",
       "      <td>жилье</td>\n",
       "    </tr>\n",
       "  </tbody>\n",
       "</table>\n",
       "</div>"
      ],
      "text/plain": [
       "    children  days_employed  dob_years education  education_id  \\\n",
       "12         0            NaN         65   среднее             1   \n",
       "26         0            NaN         41   среднее             1   \n",
       "29         0            NaN         63   среднее             1   \n",
       "41         0            NaN         50   среднее             1   \n",
       "55         0            NaN         54   среднее             1   \n",
       "65         0            NaN         21   среднее             1   \n",
       "67         0            NaN         52    высшее             0   \n",
       "72         1            NaN         32    высшее             0   \n",
       "82         2            NaN         50    высшее             0   \n",
       "83         0            NaN         52   среднее             1   \n",
       "\n",
       "            family_status  family_status_id gender  income_type  debt  \\\n",
       "12       гражданский брак                 1      M    пенсионер     0   \n",
       "26        женат / замужем                 0      M  госслужащий     0   \n",
       "29  Не женат / не замужем                 4      F    пенсионер     0   \n",
       "41        женат / замужем                 0      F  госслужащий     0   \n",
       "55       гражданский брак                 1      F    пенсионер     1   \n",
       "65  Не женат / не замужем                 4      M    компаньон     0   \n",
       "67        женат / замужем                 0      F    пенсионер     0   \n",
       "72        женат / замужем                 0      M  госслужащий     0   \n",
       "82        женат / замужем                 0      F    сотрудник     0   \n",
       "83        женат / замужем                 0      M    сотрудник     0   \n",
       "\n",
       "    total_income                                purpose  \n",
       "12           NaN                        сыграть свадьбу  \n",
       "26           NaN                            образование  \n",
       "29           NaN       строительство жилой недвижимости  \n",
       "41           NaN       сделка с подержанным автомобилем  \n",
       "55           NaN                        сыграть свадьбу  \n",
       "65           NaN  операции с коммерческой недвижимостью  \n",
       "67           NaN                покупка жилья для семьи  \n",
       "72           NaN  операции с коммерческой недвижимостью  \n",
       "82           NaN                                  жилье  \n",
       "83           NaN                                  жилье  "
      ]
     },
     "execution_count": 9,
     "metadata": {},
     "output_type": "execute_result"
    }
   ],
   "source": [
    "clients[clients['days_employed'].isna()].head(10)"
   ]
  },
  {
   "cell_type": "markdown",
   "id": "00cb985b",
   "metadata": {},
   "source": [
    "Посчитаем строки, где одновременно есть пропуски и в 'days_employed', и в 'total_income'."
   ]
  },
  {
   "cell_type": "code",
   "execution_count": 10,
   "id": "35a87523",
   "metadata": {},
   "outputs": [
    {
     "data": {
      "text/plain": [
       "2174"
      ]
     },
     "execution_count": 10,
     "metadata": {},
     "output_type": "execute_result"
    }
   ],
   "source": [
    "clients[clients['days_employed'].isna() & clients['total_income'].isna()]['children'].count()"
   ]
  },
  {
   "cell_type": "markdown",
   "id": "0a4b9d72",
   "metadata": {},
   "source": [
    "По количеству таких строк, действительно, видно, что пропуски в столбцах 'days_employed' и 'total_income' всегда в одной и той же строке. Значит, скорее всего, такие пропуски не случайны. Возможно, произошел сбой программы при загрузке данных о стаже и доходах некоторых клиентов."
   ]
  },
  {
   "cell_type": "markdown",
   "id": "6ffded7d",
   "metadata": {},
   "source": [
    "Выберем максимальное и минимальное значения в столбце 'total_income'."
   ]
  },
  {
   "cell_type": "code",
   "execution_count": 11,
   "id": "4da965fb",
   "metadata": {
    "scrolled": true
   },
   "outputs": [
    {
     "data": {
      "text/plain": [
       "2265604.028722744"
      ]
     },
     "execution_count": 11,
     "metadata": {},
     "output_type": "execute_result"
    }
   ],
   "source": [
    "clients['total_income'].max()"
   ]
  },
  {
   "cell_type": "code",
   "execution_count": 12,
   "id": "4514cb71",
   "metadata": {},
   "outputs": [
    {
     "data": {
      "text/plain": [
       "20667.26379327158"
      ]
     },
     "execution_count": 12,
     "metadata": {},
     "output_type": "execute_result"
    }
   ],
   "source": [
    "clients['total_income'].min()"
   ]
  },
  {
   "cell_type": "markdown",
   "id": "d2d7ea35",
   "metadata": {},
   "source": [
    "Между максимальным и минимальным значениями большая разница.\n",
    "\n",
    "Пропуски в количественных переменных лучше всего заполнять медианным значением по столбцу. Среднее значение некорректно характеризует данные, когда некоторые значения сильно выделяются среди большинства. Когда в выборке присутствуют выдающиеся значения, лучше использовать медиану.\n",
    "\n",
    "Заменим пропуски в столбце 'total_income' медианным значением по этому столбцу. Значение медианы поместим в переменную total_income_median, затем заменим пропуски на значение этой переменной."
   ]
  },
  {
   "cell_type": "code",
   "execution_count": 13,
   "id": "8d50854e",
   "metadata": {},
   "outputs": [
    {
     "name": "stdout",
     "output_type": "stream",
     "text": [
      "145017.93753253992\n"
     ]
    }
   ],
   "source": [
    "total_income_median = clients['total_income'].median()\n",
    "print(total_income_median)"
   ]
  },
  {
   "cell_type": "code",
   "execution_count": 14,
   "id": "9eb46162",
   "metadata": {},
   "outputs": [
    {
     "data": {
      "text/html": [
       "<div>\n",
       "<style scoped>\n",
       "    .dataframe tbody tr th:only-of-type {\n",
       "        vertical-align: middle;\n",
       "    }\n",
       "\n",
       "    .dataframe tbody tr th {\n",
       "        vertical-align: top;\n",
       "    }\n",
       "\n",
       "    .dataframe thead th {\n",
       "        text-align: right;\n",
       "    }\n",
       "</style>\n",
       "<table border=\"1\" class=\"dataframe\">\n",
       "  <thead>\n",
       "    <tr style=\"text-align: right;\">\n",
       "      <th></th>\n",
       "      <th>children</th>\n",
       "      <th>days_employed</th>\n",
       "      <th>dob_years</th>\n",
       "      <th>education</th>\n",
       "      <th>education_id</th>\n",
       "      <th>family_status</th>\n",
       "      <th>family_status_id</th>\n",
       "      <th>gender</th>\n",
       "      <th>income_type</th>\n",
       "      <th>debt</th>\n",
       "      <th>total_income</th>\n",
       "      <th>purpose</th>\n",
       "    </tr>\n",
       "  </thead>\n",
       "  <tbody>\n",
       "    <tr>\n",
       "      <th>0</th>\n",
       "      <td>1</td>\n",
       "      <td>-8437.673028</td>\n",
       "      <td>42</td>\n",
       "      <td>высшее</td>\n",
       "      <td>0</td>\n",
       "      <td>женат / замужем</td>\n",
       "      <td>0</td>\n",
       "      <td>F</td>\n",
       "      <td>сотрудник</td>\n",
       "      <td>0</td>\n",
       "      <td>253875.639453</td>\n",
       "      <td>покупка жилья</td>\n",
       "    </tr>\n",
       "    <tr>\n",
       "      <th>1</th>\n",
       "      <td>1</td>\n",
       "      <td>-4024.803754</td>\n",
       "      <td>36</td>\n",
       "      <td>среднее</td>\n",
       "      <td>1</td>\n",
       "      <td>женат / замужем</td>\n",
       "      <td>0</td>\n",
       "      <td>F</td>\n",
       "      <td>сотрудник</td>\n",
       "      <td>0</td>\n",
       "      <td>112080.014102</td>\n",
       "      <td>приобретение автомобиля</td>\n",
       "    </tr>\n",
       "    <tr>\n",
       "      <th>2</th>\n",
       "      <td>0</td>\n",
       "      <td>-5623.422610</td>\n",
       "      <td>33</td>\n",
       "      <td>Среднее</td>\n",
       "      <td>1</td>\n",
       "      <td>женат / замужем</td>\n",
       "      <td>0</td>\n",
       "      <td>M</td>\n",
       "      <td>сотрудник</td>\n",
       "      <td>0</td>\n",
       "      <td>145885.952297</td>\n",
       "      <td>покупка жилья</td>\n",
       "    </tr>\n",
       "    <tr>\n",
       "      <th>3</th>\n",
       "      <td>3</td>\n",
       "      <td>-4124.747207</td>\n",
       "      <td>32</td>\n",
       "      <td>среднее</td>\n",
       "      <td>1</td>\n",
       "      <td>женат / замужем</td>\n",
       "      <td>0</td>\n",
       "      <td>M</td>\n",
       "      <td>сотрудник</td>\n",
       "      <td>0</td>\n",
       "      <td>267628.550329</td>\n",
       "      <td>дополнительное образование</td>\n",
       "    </tr>\n",
       "    <tr>\n",
       "      <th>4</th>\n",
       "      <td>0</td>\n",
       "      <td>340266.072047</td>\n",
       "      <td>53</td>\n",
       "      <td>среднее</td>\n",
       "      <td>1</td>\n",
       "      <td>гражданский брак</td>\n",
       "      <td>1</td>\n",
       "      <td>F</td>\n",
       "      <td>пенсионер</td>\n",
       "      <td>0</td>\n",
       "      <td>158616.077870</td>\n",
       "      <td>сыграть свадьбу</td>\n",
       "    </tr>\n",
       "  </tbody>\n",
       "</table>\n",
       "</div>"
      ],
      "text/plain": [
       "   children  days_employed  dob_years education  education_id  \\\n",
       "0         1   -8437.673028         42    высшее             0   \n",
       "1         1   -4024.803754         36   среднее             1   \n",
       "2         0   -5623.422610         33   Среднее             1   \n",
       "3         3   -4124.747207         32   среднее             1   \n",
       "4         0  340266.072047         53   среднее             1   \n",
       "\n",
       "      family_status  family_status_id gender income_type  debt   total_income  \\\n",
       "0   женат / замужем                 0      F   сотрудник     0  253875.639453   \n",
       "1   женат / замужем                 0      F   сотрудник     0  112080.014102   \n",
       "2   женат / замужем                 0      M   сотрудник     0  145885.952297   \n",
       "3   женат / замужем                 0      M   сотрудник     0  267628.550329   \n",
       "4  гражданский брак                 1      F   пенсионер     0  158616.077870   \n",
       "\n",
       "                      purpose  \n",
       "0               покупка жилья  \n",
       "1     приобретение автомобиля  \n",
       "2               покупка жилья  \n",
       "3  дополнительное образование  \n",
       "4             сыграть свадьбу  "
      ]
     },
     "execution_count": 14,
     "metadata": {},
     "output_type": "execute_result"
    }
   ],
   "source": [
    "clients['total_income'] = clients['total_income'].fillna(clients.groupby('income_type')['total_income'].transform(\"median\"))\n",
    "clients.head()"
   ]
  },
  {
   "cell_type": "markdown",
   "id": "61894e8b",
   "metadata": {},
   "source": [
    "Пропуски в 'total_income' заменены медианными значениями.\n",
    "\n",
    "Теперь нужно исправить пропуски в столбце 'days_employed'. Это колонка с количественными данными, поэтому пропуски тоже лучше заполнять медианным значением по столбцу.\n",
    "\n",
    "При обзоре данных обнаружились отрицательные значения в столбце 'days_employed'. Посмотрим, какова доля таких данных."
   ]
  },
  {
   "cell_type": "code",
   "execution_count": 15,
   "id": "50247005",
   "metadata": {},
   "outputs": [
    {
     "data": {
      "text/plain": [
       "73.9"
      ]
     },
     "execution_count": 15,
     "metadata": {},
     "output_type": "execute_result"
    }
   ],
   "source": [
    "round(clients[clients['days_employed'] < 0]['days_employed'].count() / len(clients) * 100, 2)"
   ]
  },
  {
   "cell_type": "markdown",
   "id": "1bce7dcf",
   "metadata": {},
   "source": [
    "Доля таких данных очень большая. Скорее всего, такая ошибка произошла в результате программного сбоя при выгрузке данных.\n",
    "\n",
    "Прежде чем заполнять пропуски в этом столбце, нужно избавиться от отрицательных значений с помощью умножения этих значений на -1."
   ]
  },
  {
   "cell_type": "code",
   "execution_count": 16,
   "id": "2f248c6c",
   "metadata": {},
   "outputs": [],
   "source": [
    "clients.loc[clients['days_employed'] < 0,'days_employed'] *= (-1)"
   ]
  },
  {
   "cell_type": "markdown",
   "id": "07f8aa58",
   "metadata": {},
   "source": [
    "Убедимся в отсутствии отрицательных значений в столбце 'days_employed'."
   ]
  },
  {
   "cell_type": "code",
   "execution_count": 17,
   "id": "4aad49b6",
   "metadata": {
    "scrolled": true
   },
   "outputs": [
    {
     "data": {
      "text/plain": [
       "0"
      ]
     },
     "execution_count": 17,
     "metadata": {},
     "output_type": "execute_result"
    }
   ],
   "source": [
    "clients[clients['days_employed'] < 0]['days_employed'].count()"
   ]
  },
  {
   "cell_type": "code",
   "execution_count": 18,
   "id": "32590e7f",
   "metadata": {},
   "outputs": [
    {
     "data": {
      "text/html": [
       "<div>\n",
       "<style scoped>\n",
       "    .dataframe tbody tr th:only-of-type {\n",
       "        vertical-align: middle;\n",
       "    }\n",
       "\n",
       "    .dataframe tbody tr th {\n",
       "        vertical-align: top;\n",
       "    }\n",
       "\n",
       "    .dataframe thead th {\n",
       "        text-align: right;\n",
       "    }\n",
       "</style>\n",
       "<table border=\"1\" class=\"dataframe\">\n",
       "  <thead>\n",
       "    <tr style=\"text-align: right;\">\n",
       "      <th></th>\n",
       "      <th>children</th>\n",
       "      <th>days_employed</th>\n",
       "      <th>dob_years</th>\n",
       "      <th>education</th>\n",
       "      <th>education_id</th>\n",
       "      <th>family_status</th>\n",
       "      <th>family_status_id</th>\n",
       "      <th>gender</th>\n",
       "      <th>income_type</th>\n",
       "      <th>debt</th>\n",
       "      <th>total_income</th>\n",
       "      <th>purpose</th>\n",
       "    </tr>\n",
       "  </thead>\n",
       "  <tbody>\n",
       "    <tr>\n",
       "      <th>0</th>\n",
       "      <td>1</td>\n",
       "      <td>8437.673028</td>\n",
       "      <td>42</td>\n",
       "      <td>высшее</td>\n",
       "      <td>0</td>\n",
       "      <td>женат / замужем</td>\n",
       "      <td>0</td>\n",
       "      <td>F</td>\n",
       "      <td>сотрудник</td>\n",
       "      <td>0</td>\n",
       "      <td>253875.639453</td>\n",
       "      <td>покупка жилья</td>\n",
       "    </tr>\n",
       "    <tr>\n",
       "      <th>1</th>\n",
       "      <td>1</td>\n",
       "      <td>4024.803754</td>\n",
       "      <td>36</td>\n",
       "      <td>среднее</td>\n",
       "      <td>1</td>\n",
       "      <td>женат / замужем</td>\n",
       "      <td>0</td>\n",
       "      <td>F</td>\n",
       "      <td>сотрудник</td>\n",
       "      <td>0</td>\n",
       "      <td>112080.014102</td>\n",
       "      <td>приобретение автомобиля</td>\n",
       "    </tr>\n",
       "    <tr>\n",
       "      <th>2</th>\n",
       "      <td>0</td>\n",
       "      <td>5623.422610</td>\n",
       "      <td>33</td>\n",
       "      <td>Среднее</td>\n",
       "      <td>1</td>\n",
       "      <td>женат / замужем</td>\n",
       "      <td>0</td>\n",
       "      <td>M</td>\n",
       "      <td>сотрудник</td>\n",
       "      <td>0</td>\n",
       "      <td>145885.952297</td>\n",
       "      <td>покупка жилья</td>\n",
       "    </tr>\n",
       "    <tr>\n",
       "      <th>3</th>\n",
       "      <td>3</td>\n",
       "      <td>4124.747207</td>\n",
       "      <td>32</td>\n",
       "      <td>среднее</td>\n",
       "      <td>1</td>\n",
       "      <td>женат / замужем</td>\n",
       "      <td>0</td>\n",
       "      <td>M</td>\n",
       "      <td>сотрудник</td>\n",
       "      <td>0</td>\n",
       "      <td>267628.550329</td>\n",
       "      <td>дополнительное образование</td>\n",
       "    </tr>\n",
       "    <tr>\n",
       "      <th>4</th>\n",
       "      <td>0</td>\n",
       "      <td>340266.072047</td>\n",
       "      <td>53</td>\n",
       "      <td>среднее</td>\n",
       "      <td>1</td>\n",
       "      <td>гражданский брак</td>\n",
       "      <td>1</td>\n",
       "      <td>F</td>\n",
       "      <td>пенсионер</td>\n",
       "      <td>0</td>\n",
       "      <td>158616.077870</td>\n",
       "      <td>сыграть свадьбу</td>\n",
       "    </tr>\n",
       "  </tbody>\n",
       "</table>\n",
       "</div>"
      ],
      "text/plain": [
       "   children  days_employed  dob_years education  education_id  \\\n",
       "0         1    8437.673028         42    высшее             0   \n",
       "1         1    4024.803754         36   среднее             1   \n",
       "2         0    5623.422610         33   Среднее             1   \n",
       "3         3    4124.747207         32   среднее             1   \n",
       "4         0  340266.072047         53   среднее             1   \n",
       "\n",
       "      family_status  family_status_id gender income_type  debt   total_income  \\\n",
       "0   женат / замужем                 0      F   сотрудник     0  253875.639453   \n",
       "1   женат / замужем                 0      F   сотрудник     0  112080.014102   \n",
       "2   женат / замужем                 0      M   сотрудник     0  145885.952297   \n",
       "3   женат / замужем                 0      M   сотрудник     0  267628.550329   \n",
       "4  гражданский брак                 1      F   пенсионер     0  158616.077870   \n",
       "\n",
       "                      purpose  \n",
       "0               покупка жилья  \n",
       "1     приобретение автомобиля  \n",
       "2               покупка жилья  \n",
       "3  дополнительное образование  \n",
       "4             сыграть свадьбу  "
      ]
     },
     "execution_count": 18,
     "metadata": {},
     "output_type": "execute_result"
    }
   ],
   "source": [
    "clients.head()"
   ]
  },
  {
   "cell_type": "markdown",
   "id": "32285988",
   "metadata": {},
   "source": [
    "Отрицательных значений в столбце больше нет.\n",
    "\n",
    "Выберем максимальное и минимальное значения столбца 'days_employed'."
   ]
  },
  {
   "cell_type": "code",
   "execution_count": 19,
   "id": "936f2ebf",
   "metadata": {},
   "outputs": [
    {
     "data": {
      "text/plain": [
       "401755.40047533"
      ]
     },
     "execution_count": 19,
     "metadata": {},
     "output_type": "execute_result"
    }
   ],
   "source": [
    "clients['days_employed'].max()"
   ]
  },
  {
   "cell_type": "code",
   "execution_count": 20,
   "id": "f694619f",
   "metadata": {
    "scrolled": true
   },
   "outputs": [
    {
     "data": {
      "text/plain": [
       "24.14163324048118"
      ]
     },
     "execution_count": 20,
     "metadata": {},
     "output_type": "execute_result"
    }
   ],
   "source": [
    "clients['days_employed'].min()"
   ]
  },
  {
   "cell_type": "markdown",
   "id": "6bbbb4c2",
   "metadata": {},
   "source": [
    "Максимальное значение столбца 'days_employed' слишком велико. Посчитаем количество лет максимального значения стажа."
   ]
  },
  {
   "cell_type": "code",
   "execution_count": 21,
   "id": "5d5e63dd",
   "metadata": {},
   "outputs": [
    {
     "data": {
      "text/plain": [
       "1100.6997273296713"
      ]
     },
     "execution_count": 21,
     "metadata": {},
     "output_type": "execute_result"
    }
   ],
   "source": [
    "clients['days_employed'].max()/ 365"
   ]
  },
  {
   "cell_type": "markdown",
   "id": "afcbc30a",
   "metadata": {},
   "source": [
    "Получается, стаж работы около 1100 лет. Такое значение является аномальным.\n",
    "\n",
    "Определим максимальный трудовой стаж, который является корректным. Выведем последние данные из таблицы, отсортированной по убыванию стажа, ограничив стаж 50 годами."
   ]
  },
  {
   "cell_type": "code",
   "execution_count": 22,
   "id": "bd6a1b0a",
   "metadata": {},
   "outputs": [
    {
     "data": {
      "text/html": [
       "<div>\n",
       "<style scoped>\n",
       "    .dataframe tbody tr th:only-of-type {\n",
       "        vertical-align: middle;\n",
       "    }\n",
       "\n",
       "    .dataframe tbody tr th {\n",
       "        vertical-align: top;\n",
       "    }\n",
       "\n",
       "    .dataframe thead th {\n",
       "        text-align: right;\n",
       "    }\n",
       "</style>\n",
       "<table border=\"1\" class=\"dataframe\">\n",
       "  <thead>\n",
       "    <tr style=\"text-align: right;\">\n",
       "      <th></th>\n",
       "      <th>children</th>\n",
       "      <th>days_employed</th>\n",
       "      <th>dob_years</th>\n",
       "      <th>education</th>\n",
       "      <th>education_id</th>\n",
       "      <th>family_status</th>\n",
       "      <th>family_status_id</th>\n",
       "      <th>gender</th>\n",
       "      <th>income_type</th>\n",
       "      <th>debt</th>\n",
       "      <th>total_income</th>\n",
       "      <th>purpose</th>\n",
       "    </tr>\n",
       "  </thead>\n",
       "  <tbody>\n",
       "    <tr>\n",
       "      <th>14783</th>\n",
       "      <td>0</td>\n",
       "      <td>328795.726728</td>\n",
       "      <td>62</td>\n",
       "      <td>высшее</td>\n",
       "      <td>0</td>\n",
       "      <td>женат / замужем</td>\n",
       "      <td>0</td>\n",
       "      <td>F</td>\n",
       "      <td>пенсионер</td>\n",
       "      <td>0</td>\n",
       "      <td>79940.196752</td>\n",
       "      <td>на покупку своего автомобиля</td>\n",
       "    </tr>\n",
       "    <tr>\n",
       "      <th>17782</th>\n",
       "      <td>0</td>\n",
       "      <td>328771.341387</td>\n",
       "      <td>56</td>\n",
       "      <td>среднее</td>\n",
       "      <td>1</td>\n",
       "      <td>женат / замужем</td>\n",
       "      <td>0</td>\n",
       "      <td>F</td>\n",
       "      <td>пенсионер</td>\n",
       "      <td>0</td>\n",
       "      <td>68648.047062</td>\n",
       "      <td>операции с коммерческой недвижимостью</td>\n",
       "    </tr>\n",
       "    <tr>\n",
       "      <th>9328</th>\n",
       "      <td>2</td>\n",
       "      <td>328734.923996</td>\n",
       "      <td>41</td>\n",
       "      <td>высшее</td>\n",
       "      <td>0</td>\n",
       "      <td>женат / замужем</td>\n",
       "      <td>0</td>\n",
       "      <td>M</td>\n",
       "      <td>пенсионер</td>\n",
       "      <td>0</td>\n",
       "      <td>126997.497760</td>\n",
       "      <td>операции со своей недвижимостью</td>\n",
       "    </tr>\n",
       "    <tr>\n",
       "      <th>20444</th>\n",
       "      <td>0</td>\n",
       "      <td>328728.720605</td>\n",
       "      <td>72</td>\n",
       "      <td>среднее</td>\n",
       "      <td>1</td>\n",
       "      <td>вдовец / вдова</td>\n",
       "      <td>2</td>\n",
       "      <td>F</td>\n",
       "      <td>пенсионер</td>\n",
       "      <td>0</td>\n",
       "      <td>96519.339647</td>\n",
       "      <td>покупка жилья для семьи</td>\n",
       "    </tr>\n",
       "    <tr>\n",
       "      <th>16335</th>\n",
       "      <td>1</td>\n",
       "      <td>18388.949901</td>\n",
       "      <td>61</td>\n",
       "      <td>среднее</td>\n",
       "      <td>1</td>\n",
       "      <td>женат / замужем</td>\n",
       "      <td>0</td>\n",
       "      <td>F</td>\n",
       "      <td>сотрудник</td>\n",
       "      <td>0</td>\n",
       "      <td>186178.934089</td>\n",
       "      <td>операции с недвижимостью</td>\n",
       "    </tr>\n",
       "  </tbody>\n",
       "</table>\n",
       "</div>"
      ],
      "text/plain": [
       "       children  days_employed  dob_years education  education_id  \\\n",
       "14783         0  328795.726728         62    высшее             0   \n",
       "17782         0  328771.341387         56   среднее             1   \n",
       "9328          2  328734.923996         41    высшее             0   \n",
       "20444         0  328728.720605         72   среднее             1   \n",
       "16335         1   18388.949901         61   среднее             1   \n",
       "\n",
       "         family_status  family_status_id gender income_type  debt  \\\n",
       "14783  женат / замужем                 0      F   пенсионер     0   \n",
       "17782  женат / замужем                 0      F   пенсионер     0   \n",
       "9328   женат / замужем                 0      M   пенсионер     0   \n",
       "20444   вдовец / вдова                 2      F   пенсионер     0   \n",
       "16335  женат / замужем                 0      F   сотрудник     0   \n",
       "\n",
       "        total_income                                purpose  \n",
       "14783   79940.196752           на покупку своего автомобиля  \n",
       "17782   68648.047062  операции с коммерческой недвижимостью  \n",
       "9328   126997.497760        операции со своей недвижимостью  \n",
       "20444   96519.339647                покупка жилья для семьи  \n",
       "16335  186178.934089               операции с недвижимостью  "
      ]
     },
     "execution_count": 22,
     "metadata": {},
     "output_type": "execute_result"
    }
   ],
   "source": [
    "clients[(clients['days_employed'] / 365 >= 50)].sort_values(by = 'days_employed', ascending = False).tail()"
   ]
  },
  {
   "cell_type": "markdown",
   "id": "296c3bb9",
   "metadata": {},
   "source": [
    "Корректным является последнее значение 18388.95, это около 50.3 лет стажа.\n",
    "\n",
    "Посмотрим, сколько в таблице таких аномальных значений. Выберем клиентов со стажем не более 51 года."
   ]
  },
  {
   "cell_type": "code",
   "execution_count": 23,
   "id": "bb1bbd52",
   "metadata": {
    "scrolled": true
   },
   "outputs": [
    {
     "data": {
      "text/plain": [
       "3445"
      ]
     },
     "execution_count": 23,
     "metadata": {},
     "output_type": "execute_result"
    }
   ],
   "source": [
    "clients[(clients['days_employed'] / 365 >= 51)]['days_employed'].count()"
   ]
  },
  {
   "cell_type": "code",
   "execution_count": 24,
   "id": "84f5d76e",
   "metadata": {},
   "outputs": [
    {
     "data": {
      "text/plain": [
       "16.004645760743323"
      ]
     },
     "execution_count": 24,
     "metadata": {},
     "output_type": "execute_result"
    }
   ],
   "source": [
    " clients[(clients['days_employed'] / 365 >= 51)]['days_employed'].count() / clients['children'].count() * 100"
   ]
  },
  {
   "cell_type": "markdown",
   "id": "dd86ec57",
   "metadata": {},
   "source": [
    "Доля данных с аномальным значением трудового стажа составляет 16% от всех данных. Сделаем выборку строк таблицы с аномальными значениями стажа."
   ]
  },
  {
   "cell_type": "code",
   "execution_count": 25,
   "id": "e3aa7698",
   "metadata": {
    "scrolled": true
   },
   "outputs": [
    {
     "data": {
      "text/html": [
       "<div>\n",
       "<style scoped>\n",
       "    .dataframe tbody tr th:only-of-type {\n",
       "        vertical-align: middle;\n",
       "    }\n",
       "\n",
       "    .dataframe tbody tr th {\n",
       "        vertical-align: top;\n",
       "    }\n",
       "\n",
       "    .dataframe thead th {\n",
       "        text-align: right;\n",
       "    }\n",
       "</style>\n",
       "<table border=\"1\" class=\"dataframe\">\n",
       "  <thead>\n",
       "    <tr style=\"text-align: right;\">\n",
       "      <th></th>\n",
       "      <th>children</th>\n",
       "      <th>days_employed</th>\n",
       "      <th>dob_years</th>\n",
       "      <th>education</th>\n",
       "      <th>education_id</th>\n",
       "      <th>family_status</th>\n",
       "      <th>family_status_id</th>\n",
       "      <th>gender</th>\n",
       "      <th>income_type</th>\n",
       "      <th>debt</th>\n",
       "      <th>total_income</th>\n",
       "      <th>purpose</th>\n",
       "    </tr>\n",
       "  </thead>\n",
       "  <tbody>\n",
       "    <tr>\n",
       "      <th>4</th>\n",
       "      <td>0</td>\n",
       "      <td>340266.072047</td>\n",
       "      <td>53</td>\n",
       "      <td>среднее</td>\n",
       "      <td>1</td>\n",
       "      <td>гражданский брак</td>\n",
       "      <td>1</td>\n",
       "      <td>F</td>\n",
       "      <td>пенсионер</td>\n",
       "      <td>0</td>\n",
       "      <td>158616.077870</td>\n",
       "      <td>сыграть свадьбу</td>\n",
       "    </tr>\n",
       "    <tr>\n",
       "      <th>18</th>\n",
       "      <td>0</td>\n",
       "      <td>400281.136913</td>\n",
       "      <td>53</td>\n",
       "      <td>среднее</td>\n",
       "      <td>1</td>\n",
       "      <td>вдовец / вдова</td>\n",
       "      <td>2</td>\n",
       "      <td>F</td>\n",
       "      <td>пенсионер</td>\n",
       "      <td>0</td>\n",
       "      <td>56823.777243</td>\n",
       "      <td>на покупку подержанного автомобиля</td>\n",
       "    </tr>\n",
       "    <tr>\n",
       "      <th>24</th>\n",
       "      <td>1</td>\n",
       "      <td>338551.952911</td>\n",
       "      <td>57</td>\n",
       "      <td>среднее</td>\n",
       "      <td>1</td>\n",
       "      <td>Не женат / не замужем</td>\n",
       "      <td>4</td>\n",
       "      <td>F</td>\n",
       "      <td>пенсионер</td>\n",
       "      <td>0</td>\n",
       "      <td>290547.235997</td>\n",
       "      <td>операции с коммерческой недвижимостью</td>\n",
       "    </tr>\n",
       "    <tr>\n",
       "      <th>25</th>\n",
       "      <td>0</td>\n",
       "      <td>363548.489348</td>\n",
       "      <td>67</td>\n",
       "      <td>среднее</td>\n",
       "      <td>1</td>\n",
       "      <td>женат / замужем</td>\n",
       "      <td>0</td>\n",
       "      <td>M</td>\n",
       "      <td>пенсионер</td>\n",
       "      <td>0</td>\n",
       "      <td>55112.757732</td>\n",
       "      <td>покупка недвижимости</td>\n",
       "    </tr>\n",
       "    <tr>\n",
       "      <th>30</th>\n",
       "      <td>1</td>\n",
       "      <td>335581.668515</td>\n",
       "      <td>62</td>\n",
       "      <td>среднее</td>\n",
       "      <td>1</td>\n",
       "      <td>женат / замужем</td>\n",
       "      <td>0</td>\n",
       "      <td>F</td>\n",
       "      <td>пенсионер</td>\n",
       "      <td>0</td>\n",
       "      <td>171456.067993</td>\n",
       "      <td>операции с коммерческой недвижимостью</td>\n",
       "    </tr>\n",
       "    <tr>\n",
       "      <th>35</th>\n",
       "      <td>0</td>\n",
       "      <td>394021.072184</td>\n",
       "      <td>68</td>\n",
       "      <td>среднее</td>\n",
       "      <td>1</td>\n",
       "      <td>гражданский брак</td>\n",
       "      <td>1</td>\n",
       "      <td>M</td>\n",
       "      <td>пенсионер</td>\n",
       "      <td>0</td>\n",
       "      <td>77805.677436</td>\n",
       "      <td>на проведение свадьбы</td>\n",
       "    </tr>\n",
       "    <tr>\n",
       "      <th>50</th>\n",
       "      <td>0</td>\n",
       "      <td>353731.432338</td>\n",
       "      <td>63</td>\n",
       "      <td>среднее</td>\n",
       "      <td>1</td>\n",
       "      <td>женат / замужем</td>\n",
       "      <td>0</td>\n",
       "      <td>F</td>\n",
       "      <td>пенсионер</td>\n",
       "      <td>0</td>\n",
       "      <td>92342.730612</td>\n",
       "      <td>автомобили</td>\n",
       "    </tr>\n",
       "    <tr>\n",
       "      <th>56</th>\n",
       "      <td>0</td>\n",
       "      <td>370145.087237</td>\n",
       "      <td>64</td>\n",
       "      <td>среднее</td>\n",
       "      <td>1</td>\n",
       "      <td>вдовец / вдова</td>\n",
       "      <td>2</td>\n",
       "      <td>F</td>\n",
       "      <td>пенсионер</td>\n",
       "      <td>0</td>\n",
       "      <td>149141.043533</td>\n",
       "      <td>образование</td>\n",
       "    </tr>\n",
       "    <tr>\n",
       "      <th>71</th>\n",
       "      <td>0</td>\n",
       "      <td>338113.529892</td>\n",
       "      <td>62</td>\n",
       "      <td>среднее</td>\n",
       "      <td>1</td>\n",
       "      <td>женат / замужем</td>\n",
       "      <td>0</td>\n",
       "      <td>F</td>\n",
       "      <td>пенсионер</td>\n",
       "      <td>0</td>\n",
       "      <td>43929.696397</td>\n",
       "      <td>автомобили</td>\n",
       "    </tr>\n",
       "    <tr>\n",
       "      <th>78</th>\n",
       "      <td>0</td>\n",
       "      <td>359722.945074</td>\n",
       "      <td>61</td>\n",
       "      <td>высшее</td>\n",
       "      <td>0</td>\n",
       "      <td>женат / замужем</td>\n",
       "      <td>0</td>\n",
       "      <td>M</td>\n",
       "      <td>пенсионер</td>\n",
       "      <td>0</td>\n",
       "      <td>175127.646000</td>\n",
       "      <td>сделка с автомобилем</td>\n",
       "    </tr>\n",
       "  </tbody>\n",
       "</table>\n",
       "</div>"
      ],
      "text/plain": [
       "    children  days_employed  dob_years education  education_id  \\\n",
       "4          0  340266.072047         53   среднее             1   \n",
       "18         0  400281.136913         53   среднее             1   \n",
       "24         1  338551.952911         57   среднее             1   \n",
       "25         0  363548.489348         67   среднее             1   \n",
       "30         1  335581.668515         62   среднее             1   \n",
       "35         0  394021.072184         68   среднее             1   \n",
       "50         0  353731.432338         63   среднее             1   \n",
       "56         0  370145.087237         64   среднее             1   \n",
       "71         0  338113.529892         62   среднее             1   \n",
       "78         0  359722.945074         61    высшее             0   \n",
       "\n",
       "            family_status  family_status_id gender income_type  debt  \\\n",
       "4        гражданский брак                 1      F   пенсионер     0   \n",
       "18         вдовец / вдова                 2      F   пенсионер     0   \n",
       "24  Не женат / не замужем                 4      F   пенсионер     0   \n",
       "25        женат / замужем                 0      M   пенсионер     0   \n",
       "30        женат / замужем                 0      F   пенсионер     0   \n",
       "35       гражданский брак                 1      M   пенсионер     0   \n",
       "50        женат / замужем                 0      F   пенсионер     0   \n",
       "56         вдовец / вдова                 2      F   пенсионер     0   \n",
       "71        женат / замужем                 0      F   пенсионер     0   \n",
       "78        женат / замужем                 0      M   пенсионер     0   \n",
       "\n",
       "     total_income                                purpose  \n",
       "4   158616.077870                        сыграть свадьбу  \n",
       "18   56823.777243     на покупку подержанного автомобиля  \n",
       "24  290547.235997  операции с коммерческой недвижимостью  \n",
       "25   55112.757732                   покупка недвижимости  \n",
       "30  171456.067993  операции с коммерческой недвижимостью  \n",
       "35   77805.677436                  на проведение свадьбы  \n",
       "50   92342.730612                             автомобили  \n",
       "56  149141.043533                            образование  \n",
       "71   43929.696397                             автомобили  \n",
       "78  175127.646000                   сделка с автомобилем  "
      ]
     },
     "execution_count": 25,
     "metadata": {},
     "output_type": "execute_result"
    }
   ],
   "source": [
    "clients[clients['days_employed'] / 365 >= 51].head(10)"
   ]
  },
  {
   "cell_type": "markdown",
   "id": "5410c6a5",
   "metadata": {},
   "source": [
    "В первых 10 строках выборки при аномальных значениях столбца 'days_employed' в столбце 'income_type' значение 'пенсионер'. Проверим, сколько в таблице пенсионеров с аномальными значениями 'days_employed'."
   ]
  },
  {
   "cell_type": "code",
   "execution_count": 26,
   "id": "3785180e",
   "metadata": {},
   "outputs": [
    {
     "data": {
      "text/plain": [
       "3443"
      ]
     },
     "execution_count": 26,
     "metadata": {},
     "output_type": "execute_result"
    }
   ],
   "source": [
    "clients[(clients['days_employed'] / 365 >= 51) & (clients['income_type'] == 'пенсионер')]['days_employed'].count()"
   ]
  },
  {
   "cell_type": "markdown",
   "id": "5f295c3d",
   "metadata": {},
   "source": [
    "Теперь посмотрим, сколько всего пенсионеров."
   ]
  },
  {
   "cell_type": "code",
   "execution_count": 27,
   "id": "abf9ae7f",
   "metadata": {
    "scrolled": true
   },
   "outputs": [
    {
     "data": {
      "text/plain": [
       "3856"
      ]
     },
     "execution_count": 27,
     "metadata": {},
     "output_type": "execute_result"
    }
   ],
   "source": [
    "clients[(clients['income_type'] == 'пенсионер')]['income_type'].count()"
   ]
  },
  {
   "cell_type": "markdown",
   "id": "97404e41",
   "metadata": {},
   "source": [
    "Из 3445 аномальных значений 3443 приходится на пенсионеров. (Всего пенсионеров 3856, большая часть из которых с аномальным трудовым стажем) Посмотрим, на клиентов с каким источником дохода приходятся два других аномальных значения."
   ]
  },
  {
   "cell_type": "code",
   "execution_count": 28,
   "id": "a229cd2b",
   "metadata": {},
   "outputs": [
    {
     "data": {
      "text/html": [
       "<div>\n",
       "<style scoped>\n",
       "    .dataframe tbody tr th:only-of-type {\n",
       "        vertical-align: middle;\n",
       "    }\n",
       "\n",
       "    .dataframe tbody tr th {\n",
       "        vertical-align: top;\n",
       "    }\n",
       "\n",
       "    .dataframe thead th {\n",
       "        text-align: right;\n",
       "    }\n",
       "</style>\n",
       "<table border=\"1\" class=\"dataframe\">\n",
       "  <thead>\n",
       "    <tr style=\"text-align: right;\">\n",
       "      <th></th>\n",
       "      <th>children</th>\n",
       "      <th>days_employed</th>\n",
       "      <th>dob_years</th>\n",
       "      <th>education</th>\n",
       "      <th>education_id</th>\n",
       "      <th>family_status</th>\n",
       "      <th>family_status_id</th>\n",
       "      <th>gender</th>\n",
       "      <th>income_type</th>\n",
       "      <th>debt</th>\n",
       "      <th>total_income</th>\n",
       "      <th>purpose</th>\n",
       "    </tr>\n",
       "  </thead>\n",
       "  <tbody>\n",
       "    <tr>\n",
       "      <th>3133</th>\n",
       "      <td>1</td>\n",
       "      <td>337524.466835</td>\n",
       "      <td>31</td>\n",
       "      <td>среднее</td>\n",
       "      <td>1</td>\n",
       "      <td>женат / замужем</td>\n",
       "      <td>0</td>\n",
       "      <td>M</td>\n",
       "      <td>безработный</td>\n",
       "      <td>1</td>\n",
       "      <td>59956.991984</td>\n",
       "      <td>покупка жилья для сдачи</td>\n",
       "    </tr>\n",
       "    <tr>\n",
       "      <th>14798</th>\n",
       "      <td>0</td>\n",
       "      <td>395302.838654</td>\n",
       "      <td>45</td>\n",
       "      <td>Высшее</td>\n",
       "      <td>0</td>\n",
       "      <td>гражданский брак</td>\n",
       "      <td>1</td>\n",
       "      <td>F</td>\n",
       "      <td>безработный</td>\n",
       "      <td>0</td>\n",
       "      <td>202722.511368</td>\n",
       "      <td>ремонт жилью</td>\n",
       "    </tr>\n",
       "  </tbody>\n",
       "</table>\n",
       "</div>"
      ],
      "text/plain": [
       "       children  days_employed  dob_years education  education_id  \\\n",
       "3133          1  337524.466835         31   среднее             1   \n",
       "14798         0  395302.838654         45    Высшее             0   \n",
       "\n",
       "          family_status  family_status_id gender  income_type  debt  \\\n",
       "3133    женат / замужем                 0      M  безработный     1   \n",
       "14798  гражданский брак                 1      F  безработный     0   \n",
       "\n",
       "        total_income                  purpose  \n",
       "3133    59956.991984  покупка жилья для сдачи  \n",
       "14798  202722.511368             ремонт жилью  "
      ]
     },
     "execution_count": 28,
     "metadata": {},
     "output_type": "execute_result"
    }
   ],
   "source": [
    "clients[(clients['days_employed'] / 365 >= 51)&(clients['income_type'] != 'пенсионер')].head(10)"
   ]
  },
  {
   "cell_type": "markdown",
   "id": "f983f192",
   "metadata": {},
   "source": [
    "Аномальные значениия также у безработных. Посмотрим, сколько  безработных клиентов в таблице."
   ]
  },
  {
   "cell_type": "code",
   "execution_count": 29,
   "id": "858c7868",
   "metadata": {
    "scrolled": true
   },
   "outputs": [
    {
     "data": {
      "text/plain": [
       "2"
      ]
     },
     "execution_count": 29,
     "metadata": {},
     "output_type": "execute_result"
    }
   ],
   "source": [
    "clients[(clients['income_type'] == 'безработный')]['income_type'].count()"
   ]
  },
  {
   "cell_type": "markdown",
   "id": "c9dd7053",
   "metadata": {},
   "source": [
    "Получается, что аномальные значения столбца 'days_employed' у большинства клиентов со статусом 'пенсионер' и у всех клиентов со статусом 'безработный'. Возможно, эти ошибки появились в результате сбоя программы при загрузке данных о клиентах с такими статусами. "
   ]
  },
  {
   "cell_type": "markdown",
   "id": "e2386561",
   "metadata": {},
   "source": [
    "Посмотрим, есть ли среди пенсионеров клиенты с допустимым значением столбца 'days_employed' (со стажем меньше 51 года)."
   ]
  },
  {
   "cell_type": "code",
   "execution_count": 30,
   "id": "3210f530",
   "metadata": {},
   "outputs": [
    {
     "data": {
      "text/plain": [
       "0"
      ]
     },
     "execution_count": 30,
     "metadata": {},
     "output_type": "execute_result"
    }
   ],
   "source": [
    "clients[(clients['days_employed'] / 365 < 51) & (clients['income_type'] == 'пенсионер')]['income_type'].count()"
   ]
  },
  {
   "cell_type": "markdown",
   "id": "98a69a27",
   "metadata": {},
   "source": [
    "Пенсионеров с корректным стажем в таблице нет. Значит, скорее всего, у остальных пенсионеров стаж не заполнен. Проверим это."
   ]
  },
  {
   "cell_type": "code",
   "execution_count": 31,
   "id": "aba9c465",
   "metadata": {},
   "outputs": [
    {
     "data": {
      "text/plain": [
       "413"
      ]
     },
     "execution_count": 31,
     "metadata": {},
     "output_type": "execute_result"
    }
   ],
   "source": [
    "clients[(clients['days_employed'].isna()) & (clients['income_type'] == 'пенсионер')]['income_type'].count()"
   ]
  },
  {
   "cell_type": "markdown",
   "id": "2de824da",
   "metadata": {},
   "source": [
    "Действительно, в таблице всего 3856 пенсионеров, из них 3443 пенсионера с аномальным значением стажа и 413 - с пропущенным стажем. Можно было бы заменить аномальные значения и пропуски на медианные значения стажа среди пенсионеров, но корректных значений стажа для пенсионеров в таблице нет, как и для безработных.\n",
    "\n",
    "Стаж для пенсионеров можно приблизительно рассчитать исходя из возраста, пола и уровня образования клиентов. Для этого нужно исследовать информацию в соответствующих столбцах таблицы: 'dob_years','gender' и 'education'. "
   ]
  },
  {
   "cell_type": "markdown",
   "id": "992061b2",
   "metadata": {},
   "source": [
    "В столбце 'dob_years' при обзоре данных ошибок не обнаружено. Проверим его на аномалии, посмотрим какими будут максимальное и минимальное значения."
   ]
  },
  {
   "cell_type": "code",
   "execution_count": 32,
   "id": "ef0e6d19",
   "metadata": {},
   "outputs": [
    {
     "data": {
      "text/plain": [
       "0"
      ]
     },
     "execution_count": 32,
     "metadata": {},
     "output_type": "execute_result"
    }
   ],
   "source": [
    "clients['dob_years'].min()"
   ]
  },
  {
   "cell_type": "code",
   "execution_count": 33,
   "id": "00e9dce1",
   "metadata": {
    "scrolled": true
   },
   "outputs": [
    {
     "data": {
      "text/plain": [
       "75"
      ]
     },
     "execution_count": 33,
     "metadata": {},
     "output_type": "execute_result"
    }
   ],
   "source": [
    "clients['dob_years'].max()"
   ]
  },
  {
   "cell_type": "markdown",
   "id": "73a6ea65",
   "metadata": {},
   "source": [
    "Максимальное значение столбца 'dob_years' в пределах нормы, минимальное равно 0, такого возраста быть не может."
   ]
  },
  {
   "cell_type": "markdown",
   "id": "7ce0e820",
   "metadata": {},
   "source": [
    "Проверим, есть ли еще значения возраста меньше 18 лет, т.к. кредит могут дать только лицам старше 18."
   ]
  },
  {
   "cell_type": "code",
   "execution_count": 34,
   "id": "aa9291af",
   "metadata": {},
   "outputs": [
    {
     "data": {
      "text/plain": [
       "0    101\n",
       "Name: dob_years, dtype: int64"
      ]
     },
     "execution_count": 34,
     "metadata": {},
     "output_type": "execute_result"
    }
   ],
   "source": [
    "clients[clients['dob_years'] < 18]['dob_years'].value_counts()"
   ]
  },
  {
   "cell_type": "markdown",
   "id": "910f6693",
   "metadata": {},
   "source": [
    "Обнаружены только нулевые значения. Возможно, возраст просто не был указан, и по умолчанию в числовое поле попал 0. "
   ]
  },
  {
   "cell_type": "code",
   "execution_count": 35,
   "id": "3e0ef122",
   "metadata": {},
   "outputs": [
    {
     "data": {
      "text/plain": [
       "0    101\n",
       "Name: dob_years, dtype: int64"
      ]
     },
     "execution_count": 35,
     "metadata": {},
     "output_type": "execute_result"
    }
   ],
   "source": [
    "clients[clients['dob_years'] < 18]['dob_years'].value_counts()"
   ]
  },
  {
   "cell_type": "code",
   "execution_count": 36,
   "id": "3ce7bd82",
   "metadata": {
    "scrolled": true
   },
   "outputs": [
    {
     "data": {
      "text/plain": [
       "0.47"
      ]
     },
     "execution_count": 36,
     "metadata": {},
     "output_type": "execute_result"
    }
   ],
   "source": [
    "round(clients[clients['dob_years'] < 18]['dob_years'].count() * 100 / len(clients),2)"
   ]
  },
  {
   "cell_type": "markdown",
   "id": "937ac1a1",
   "metadata": {},
   "source": [
    "Данных с возрастом 0 меньше 1%, их лучше удалить."
   ]
  },
  {
   "cell_type": "code",
   "execution_count": 89,
   "id": "533e28ab",
   "metadata": {
    "scrolled": true
   },
   "outputs": [
    {
     "data": {
      "text/plain": [
       "0"
      ]
     },
     "execution_count": 89,
     "metadata": {},
     "output_type": "execute_result"
    }
   ],
   "source": [
    "clients = clients.loc[clients['dob_years'] > 0]\n",
    "clients[clients['dob_years'] == 0]['dob_years'].count()"
   ]
  },
  {
   "cell_type": "markdown",
   "id": "fead0fa6",
   "metadata": {},
   "source": [
    "Клиентов с возрастом 0 больше нет в данных."
   ]
  },
  {
   "cell_type": "markdown",
   "id": "ea6a422c",
   "metadata": {},
   "source": [
    "Проверим данные в столбце 'education'."
   ]
  },
  {
   "cell_type": "code",
   "execution_count": 39,
   "id": "558b184d",
   "metadata": {},
   "outputs": [
    {
     "data": {
      "text/plain": [
       "среднее                13691\n",
       "высшее                  4686\n",
       "СРЕДНЕЕ                  770\n",
       "Среднее                  708\n",
       "неоконченное высшее      666\n",
       "ВЫСШЕЕ                   273\n",
       "Высшее                   266\n",
       "начальное                250\n",
       "Неоконченное высшее       47\n",
       "НЕОКОНЧЕННОЕ ВЫСШЕЕ       29\n",
       "НАЧАЛЬНОЕ                 17\n",
       "Начальное                 15\n",
       "ученая степень             4\n",
       "Ученая степень             1\n",
       "УЧЕНАЯ СТЕПЕНЬ             1\n",
       "Name: education, dtype: int64"
      ]
     },
     "execution_count": 39,
     "metadata": {},
     "output_type": "execute_result"
    }
   ],
   "source": [
    "clients['education'].value_counts()"
   ]
  },
  {
   "cell_type": "markdown",
   "id": "27d799ec",
   "metadata": {},
   "source": [
    "Выяснилось, что в столбце 'education' есть неявные дубликаты: одни и те же значения, но записанные по-разному, с использованием заглавных и строчных букв. Их нужно привести их к одному регистру. "
   ]
  },
  {
   "cell_type": "markdown",
   "id": "0b0b4425",
   "metadata": {},
   "source": [
    "Приведем значения столбца 'education' к нижнему регистру."
   ]
  },
  {
   "cell_type": "code",
   "execution_count": 40,
   "id": "ad2080f5",
   "metadata": {
    "scrolled": true
   },
   "outputs": [],
   "source": [
    "clients['education'] = clients['education'].str.lower()"
   ]
  },
  {
   "cell_type": "markdown",
   "id": "9acc0300",
   "metadata": {},
   "source": [
    "Проверим изменения."
   ]
  },
  {
   "cell_type": "code",
   "execution_count": 41,
   "id": "ea0fe1a6",
   "metadata": {
    "scrolled": true
   },
   "outputs": [
    {
     "data": {
      "text/plain": [
       "среднее                15169\n",
       "высшее                  5225\n",
       "неоконченное высшее      742\n",
       "начальное                282\n",
       "ученая степень             6\n",
       "Name: education, dtype: int64"
      ]
     },
     "execution_count": 41,
     "metadata": {},
     "output_type": "execute_result"
    }
   ],
   "source": [
    "clients['education'].value_counts()"
   ]
  },
  {
   "cell_type": "markdown",
   "id": "2732e7e8",
   "metadata": {},
   "source": [
    "Получилось 5 уровней образования:\n",
    "*  среднее                \n",
    "*  высшее                 \n",
    "*  начальное               \n",
    "*  неоконченное высшее      \n",
    "*  ученая степень       \n"
   ]
  },
  {
   "cell_type": "markdown",
   "id": "0db9d8f1",
   "metadata": {},
   "source": [
    "Проверим значения столбца 'gender'."
   ]
  },
  {
   "cell_type": "code",
   "execution_count": 42,
   "id": "fb25272f",
   "metadata": {
    "scrolled": true
   },
   "outputs": [
    {
     "data": {
      "text/plain": [
       "F      14164\n",
       "M       7259\n",
       "XNA        1\n",
       "Name: gender, dtype: int64"
      ]
     },
     "execution_count": 42,
     "metadata": {},
     "output_type": "execute_result"
    }
   ],
   "source": [
    "clients['gender'].value_counts()"
   ]
  },
  {
   "cell_type": "markdown",
   "id": "0df66172",
   "metadata": {},
   "source": [
    "Неявных дубликатов в столбце нет.\n",
    "\n",
    "Есть одно аномальное значение 'XNA'. Т.к. оно в единственном числе, удалим его."
   ]
  },
  {
   "cell_type": "code",
   "execution_count": 43,
   "id": "961716bd",
   "metadata": {
    "scrolled": true
   },
   "outputs": [
    {
     "data": {
      "text/plain": [
       "F    14164\n",
       "M     7259\n",
       "Name: gender, dtype: int64"
      ]
     },
     "execution_count": 43,
     "metadata": {},
     "output_type": "execute_result"
    }
   ],
   "source": [
    "clients = clients[clients['gender'] != 'XNA']\n",
    "clients['gender'].value_counts()"
   ]
  },
  {
   "cell_type": "markdown",
   "id": "e77e0e00",
   "metadata": {},
   "source": [
    "Аномалия устранена."
   ]
  },
  {
   "cell_type": "markdown",
   "id": "97596c82",
   "metadata": {},
   "source": [
    "Напишем функцию, которая рассчитает приблизительный стаж пенсионера исходя из возраста, пола и уровня образования."
   ]
  },
  {
   "cell_type": "code",
   "execution_count": 44,
   "id": "7f3fe65d",
   "metadata": {},
   "outputs": [],
   "source": [
    "def calc_days_employed(row):\n",
    "    # начало карьеры определим исходя из уровня образования\n",
    "    if row['education'] == 'начальное':\n",
    "         start_career = 16\n",
    "    elif row['education'] == 'среднее':\n",
    "         start_career = 18\n",
    "    elif row['education'] == 'неоконченное высшее':\n",
    "        start_career = 21\n",
    "    else:\n",
    "        start_career =22\n",
    "    #определим возраст выхода на пенсию исходя из гендерных данных    \n",
    "    if row['gender'] == 'M':\n",
    "        end_career = 65\n",
    "    else:\n",
    "        end_career = 60\n",
    "    #если клиент вышел на пенсию до достижения пенсионного возраста, исправим переменную end_career\n",
    "    if row['dob_years'] < end_career:\n",
    "        end_career = row['dob_years']\n",
    "    #вычислим количество отработанных дней     \n",
    "    return (end_career - start_career) * 365"
   ]
  },
  {
   "cell_type": "markdown",
   "id": "ad4c41af",
   "metadata": {},
   "source": [
    "Применим функцию calc_days_employed к столбцу 'days_employed' для клиентов-пенсионеров."
   ]
  },
  {
   "cell_type": "code",
   "execution_count": 45,
   "id": "4ba38b6c",
   "metadata": {},
   "outputs": [
    {
     "data": {
      "text/html": [
       "<div>\n",
       "<style scoped>\n",
       "    .dataframe tbody tr th:only-of-type {\n",
       "        vertical-align: middle;\n",
       "    }\n",
       "\n",
       "    .dataframe tbody tr th {\n",
       "        vertical-align: top;\n",
       "    }\n",
       "\n",
       "    .dataframe thead th {\n",
       "        text-align: right;\n",
       "    }\n",
       "</style>\n",
       "<table border=\"1\" class=\"dataframe\">\n",
       "  <thead>\n",
       "    <tr style=\"text-align: right;\">\n",
       "      <th></th>\n",
       "      <th>children</th>\n",
       "      <th>days_employed</th>\n",
       "      <th>dob_years</th>\n",
       "      <th>education</th>\n",
       "      <th>education_id</th>\n",
       "      <th>family_status</th>\n",
       "      <th>family_status_id</th>\n",
       "      <th>gender</th>\n",
       "      <th>income_type</th>\n",
       "      <th>debt</th>\n",
       "      <th>total_income</th>\n",
       "      <th>purpose</th>\n",
       "    </tr>\n",
       "  </thead>\n",
       "  <tbody>\n",
       "    <tr>\n",
       "      <th>4</th>\n",
       "      <td>0</td>\n",
       "      <td>12775.0</td>\n",
       "      <td>53</td>\n",
       "      <td>среднее</td>\n",
       "      <td>1</td>\n",
       "      <td>гражданский брак</td>\n",
       "      <td>1</td>\n",
       "      <td>F</td>\n",
       "      <td>пенсионер</td>\n",
       "      <td>0</td>\n",
       "      <td>158616.077870</td>\n",
       "      <td>сыграть свадьбу</td>\n",
       "    </tr>\n",
       "    <tr>\n",
       "      <th>12</th>\n",
       "      <td>0</td>\n",
       "      <td>17155.0</td>\n",
       "      <td>65</td>\n",
       "      <td>среднее</td>\n",
       "      <td>1</td>\n",
       "      <td>гражданский брак</td>\n",
       "      <td>1</td>\n",
       "      <td>M</td>\n",
       "      <td>пенсионер</td>\n",
       "      <td>0</td>\n",
       "      <td>118514.486412</td>\n",
       "      <td>сыграть свадьбу</td>\n",
       "    </tr>\n",
       "    <tr>\n",
       "      <th>18</th>\n",
       "      <td>0</td>\n",
       "      <td>12775.0</td>\n",
       "      <td>53</td>\n",
       "      <td>среднее</td>\n",
       "      <td>1</td>\n",
       "      <td>вдовец / вдова</td>\n",
       "      <td>2</td>\n",
       "      <td>F</td>\n",
       "      <td>пенсионер</td>\n",
       "      <td>0</td>\n",
       "      <td>56823.777243</td>\n",
       "      <td>на покупку подержанного автомобиля</td>\n",
       "    </tr>\n",
       "    <tr>\n",
       "      <th>24</th>\n",
       "      <td>1</td>\n",
       "      <td>14235.0</td>\n",
       "      <td>57</td>\n",
       "      <td>среднее</td>\n",
       "      <td>1</td>\n",
       "      <td>Не женат / не замужем</td>\n",
       "      <td>4</td>\n",
       "      <td>F</td>\n",
       "      <td>пенсионер</td>\n",
       "      <td>0</td>\n",
       "      <td>290547.235997</td>\n",
       "      <td>операции с коммерческой недвижимостью</td>\n",
       "    </tr>\n",
       "    <tr>\n",
       "      <th>25</th>\n",
       "      <td>0</td>\n",
       "      <td>17155.0</td>\n",
       "      <td>67</td>\n",
       "      <td>среднее</td>\n",
       "      <td>1</td>\n",
       "      <td>женат / замужем</td>\n",
       "      <td>0</td>\n",
       "      <td>M</td>\n",
       "      <td>пенсионер</td>\n",
       "      <td>0</td>\n",
       "      <td>55112.757732</td>\n",
       "      <td>покупка недвижимости</td>\n",
       "    </tr>\n",
       "  </tbody>\n",
       "</table>\n",
       "</div>"
      ],
      "text/plain": [
       "    children  days_employed  dob_years education  education_id  \\\n",
       "4          0        12775.0         53   среднее             1   \n",
       "12         0        17155.0         65   среднее             1   \n",
       "18         0        12775.0         53   среднее             1   \n",
       "24         1        14235.0         57   среднее             1   \n",
       "25         0        17155.0         67   среднее             1   \n",
       "\n",
       "            family_status  family_status_id gender income_type  debt  \\\n",
       "4        гражданский брак                 1      F   пенсионер     0   \n",
       "12       гражданский брак                 1      M   пенсионер     0   \n",
       "18         вдовец / вдова                 2      F   пенсионер     0   \n",
       "24  Не женат / не замужем                 4      F   пенсионер     0   \n",
       "25        женат / замужем                 0      M   пенсионер     0   \n",
       "\n",
       "     total_income                                purpose  \n",
       "4   158616.077870                        сыграть свадьбу  \n",
       "12  118514.486412                        сыграть свадьбу  \n",
       "18   56823.777243     на покупку подержанного автомобиля  \n",
       "24  290547.235997  операции с коммерческой недвижимостью  \n",
       "25   55112.757732                   покупка недвижимости  "
      ]
     },
     "metadata": {},
     "output_type": "display_data"
    }
   ],
   "source": [
    "clients.loc[clients['income_type'] == 'пенсионер','days_employed']=clients.apply(calc_days_employed, axis=1)\n",
    "display(clients[(clients['income_type'] == 'пенсионер')].head())"
   ]
  },
  {
   "cell_type": "markdown",
   "id": "4acdad24",
   "metadata": {},
   "source": [
    "Проверим, сколько остальсь аномальных значений в столбце 'days_employed'."
   ]
  },
  {
   "cell_type": "code",
   "execution_count": 46,
   "id": "d092493e",
   "metadata": {
    "scrolled": true
   },
   "outputs": [
    {
     "data": {
      "text/plain": [
       "2"
      ]
     },
     "execution_count": 46,
     "metadata": {},
     "output_type": "execute_result"
    }
   ],
   "source": [
    "clients[(clients['days_employed'] / 365 >= 51)]['days_employed'].count()"
   ]
  },
  {
   "cell_type": "markdown",
   "id": "4d9dc102",
   "metadata": {},
   "source": [
    "Осталось два аномальных значения стажа у безработных клиентов. Теперь исправим эту ошибку заменой стажа медианным значением по таблице без учета аномалий. Медиану стажа поместим в переменную days_employed_median."
   ]
  },
  {
   "cell_type": "code",
   "execution_count": 47,
   "id": "5f26ee90",
   "metadata": {
    "scrolled": true
   },
   "outputs": [
    {
     "name": "stdout",
     "output_type": "stream",
     "text": [
      "2269.310012807389\n"
     ]
    }
   ],
   "source": [
    "days_employed_median = clients[(clients['days_employed'] / 365 < 51)]['days_employed'].median()\n",
    "print(days_employed_median)"
   ]
  },
  {
   "cell_type": "markdown",
   "id": "1e63d8a9",
   "metadata": {},
   "source": [
    "Заменим оставшиеся аномальные значения медианой."
   ]
  },
  {
   "cell_type": "code",
   "execution_count": 48,
   "id": "45fdd417",
   "metadata": {
    "scrolled": true
   },
   "outputs": [],
   "source": [
    "clients.loc[(clients['days_employed'] / 365) >= 51,'days_employed'] = days_employed_median"
   ]
  },
  {
   "cell_type": "markdown",
   "id": "4156c421",
   "metadata": {},
   "source": [
    "Проверим столбец 'days_employed' на аномальные значения."
   ]
  },
  {
   "cell_type": "code",
   "execution_count": 49,
   "id": "2892b267",
   "metadata": {},
   "outputs": [
    {
     "data": {
      "text/plain": [
       "0"
      ]
     },
     "execution_count": 49,
     "metadata": {},
     "output_type": "execute_result"
    }
   ],
   "source": [
    "clients.loc[(clients['days_employed'] / 365) >= 51,'days_employed'].count()"
   ]
  },
  {
   "cell_type": "markdown",
   "id": "33ae9bac",
   "metadata": {},
   "source": [
    "Аномальных значений в столбце 'days_employed' больше нет.\n",
    "\n",
    "Теперь заполним пропуски в столбце 'days_employed' на медиану по столбцу."
   ]
  },
  {
   "cell_type": "code",
   "execution_count": 50,
   "id": "ecb7e347",
   "metadata": {
    "scrolled": true
   },
   "outputs": [],
   "source": [
    "clients['days_employed'] = clients['days_employed'].fillna(days_employed_median)"
   ]
  },
  {
   "cell_type": "markdown",
   "id": "9f5d5576",
   "metadata": {},
   "source": [
    "Проверим все данные на отсутствие пропусков."
   ]
  },
  {
   "cell_type": "code",
   "execution_count": 51,
   "id": "0a955baf",
   "metadata": {
    "scrolled": true
   },
   "outputs": [
    {
     "data": {
      "text/plain": [
       "children            0\n",
       "days_employed       0\n",
       "dob_years           0\n",
       "education           0\n",
       "education_id        0\n",
       "family_status       0\n",
       "family_status_id    0\n",
       "gender              0\n",
       "income_type         0\n",
       "debt                0\n",
       "total_income        0\n",
       "purpose             0\n",
       "dtype: int64"
      ]
     },
     "execution_count": 51,
     "metadata": {},
     "output_type": "execute_result"
    }
   ],
   "source": [
    "clients.isna().sum()"
   ]
  },
  {
   "cell_type": "markdown",
   "id": "4afe395d",
   "metadata": {},
   "source": [
    "Пропусков больше нет."
   ]
  },
  {
   "cell_type": "markdown",
   "id": "e50e1182",
   "metadata": {},
   "source": [
    "### Шаг 2.2 Проверка данных на аномалии и исправления."
   ]
  },
  {
   "cell_type": "markdown",
   "id": "18d9fa41",
   "metadata": {},
   "source": [
    "Проверим столбец 'children'. \n",
    "Посмотрим, какие значения принимают данные из этого столбца."
   ]
  },
  {
   "cell_type": "code",
   "execution_count": 52,
   "id": "ba7e6b78",
   "metadata": {},
   "outputs": [
    {
     "data": {
      "text/plain": [
       " 0     14079\n",
       " 1      4802\n",
       " 2      2042\n",
       " 3       328\n",
       " 20       75\n",
       "-1        47\n",
       " 4        41\n",
       " 5         9\n",
       "Name: children, dtype: int64"
      ]
     },
     "execution_count": 52,
     "metadata": {},
     "output_type": "execute_result"
    }
   ],
   "source": [
    "clients['children'].value_counts()"
   ]
  },
  {
   "cell_type": "markdown",
   "id": "98d47645",
   "metadata": {},
   "source": [
    "Обнаружны отрицательные значения (количество детей не может быть <0). Возможная причина такой аномалии - случайная ошибка ввода данных (человеческий фактор)."
   ]
  },
  {
   "cell_type": "markdown",
   "id": "f19c9476",
   "metadata": {},
   "source": [
    "\n",
    "Исправим ошибку умножением отрицательных значений в столбце на -1."
   ]
  },
  {
   "cell_type": "code",
   "execution_count": 53,
   "id": "51bd38b4",
   "metadata": {},
   "outputs": [],
   "source": [
    "clients.loc[clients['children'] < 0,'children'] *= (-1)"
   ]
  },
  {
   "cell_type": "markdown",
   "id": "c270a0d1",
   "metadata": {},
   "source": [
    "Также странным кажется количество детей 20 у 75 клиентов. Причем отсутствуют промежуточные значения между количеством детей 5 и 20. Поэтому, скорее всего, 20 -  ошибка ввода (ввели 20 вместо 2), и количество 20 лучше исправить на 2."
   ]
  },
  {
   "cell_type": "code",
   "execution_count": 54,
   "id": "f38b646e",
   "metadata": {
    "scrolled": true
   },
   "outputs": [],
   "source": [
    "clients.loc[clients['children'] == 20,'children']=2"
   ]
  },
  {
   "cell_type": "markdown",
   "id": "7762b8e2",
   "metadata": {},
   "source": [
    "Проверим результат."
   ]
  },
  {
   "cell_type": "code",
   "execution_count": 55,
   "id": "80d6a459",
   "metadata": {
    "scrolled": true
   },
   "outputs": [
    {
     "data": {
      "text/plain": [
       "0    14079\n",
       "1     4849\n",
       "2     2117\n",
       "3      328\n",
       "4       41\n",
       "5        9\n",
       "Name: children, dtype: int64"
      ]
     },
     "execution_count": 55,
     "metadata": {},
     "output_type": "execute_result"
    }
   ],
   "source": [
    "clients['children'].value_counts()"
   ]
  },
  {
   "cell_type": "markdown",
   "id": "b1ce5e64",
   "metadata": {},
   "source": [
    "Ошибки в столбце 'children' исправлены - отрицательных значений нет. "
   ]
  },
  {
   "cell_type": "markdown",
   "id": "4ed76507",
   "metadata": {},
   "source": [
    "Столбцы 'education','gender' и 'dob_years' были проверены ранее.\n",
    "\n",
    "Проверим столбец 'education_id'."
   ]
  },
  {
   "cell_type": "code",
   "execution_count": 56,
   "id": "2797996c",
   "metadata": {},
   "outputs": [
    {
     "data": {
      "text/plain": [
       "1    15169\n",
       "0     5225\n",
       "2      741\n",
       "3      282\n",
       "4        6\n",
       "Name: education_id, dtype: int64"
      ]
     },
     "execution_count": 56,
     "metadata": {},
     "output_type": "execute_result"
    }
   ],
   "source": [
    "clients['education_id'].value_counts()"
   ]
  },
  {
   "cell_type": "markdown",
   "id": "b3cdff49",
   "metadata": {},
   "source": [
    "Столбец 'education_id' - идентификатор столбца 'education'. Исходя из полученных данных, идентификатор принимает значения 0,1,2,3,4 в соответствии с уровнем образования."
   ]
  },
  {
   "cell_type": "markdown",
   "id": "87e86ea5",
   "metadata": {},
   "source": [
    "Проверим столбец 'family_status'."
   ]
  },
  {
   "cell_type": "code",
   "execution_count": 57,
   "id": "dd26964c",
   "metadata": {
    "scrolled": true
   },
   "outputs": [
    {
     "data": {
      "text/plain": [
       "женат / замужем          12331\n",
       "гражданский брак          4155\n",
       "Не женат / не замужем     2797\n",
       "в разводе                 1185\n",
       "вдовец / вдова             955\n",
       "Name: family_status, dtype: int64"
      ]
     },
     "execution_count": 57,
     "metadata": {},
     "output_type": "execute_result"
    }
   ],
   "source": [
    "clients['family_status'].value_counts()"
   ]
  },
  {
   "cell_type": "markdown",
   "id": "039fd88a",
   "metadata": {},
   "source": [
    "Здесь нет неявных дубликатов."
   ]
  },
  {
   "cell_type": "markdown",
   "id": "8ff7b697",
   "metadata": {},
   "source": [
    "Проверим значения столбца 'family_status_id'."
   ]
  },
  {
   "cell_type": "code",
   "execution_count": 58,
   "id": "3724ba2e",
   "metadata": {
    "scrolled": true
   },
   "outputs": [
    {
     "data": {
      "text/plain": [
       "0    12331\n",
       "1     4155\n",
       "4     2797\n",
       "3     1185\n",
       "2      955\n",
       "Name: family_status_id, dtype: int64"
      ]
     },
     "execution_count": 58,
     "metadata": {},
     "output_type": "execute_result"
    }
   ],
   "source": [
    "clients['family_status_id'].value_counts()"
   ]
  },
  {
   "cell_type": "markdown",
   "id": "57ef70e7",
   "metadata": {},
   "source": [
    "Столбец 'family_status_id' - идентификатор столбца 'family_status'. Исходя из полученных данных, идентификатор принимает значения 0,1,2,3,4 в соответствии с семейным положением.\n",
    "\n",
    "Проверим значения столбца 'income_type'."
   ]
  },
  {
   "cell_type": "code",
   "execution_count": 59,
   "id": "a943e0e6",
   "metadata": {
    "scrolled": true
   },
   "outputs": [
    {
     "data": {
      "text/plain": [
       "сотрудник          11064\n",
       "компаньон           5064\n",
       "пенсионер           3836\n",
       "госслужащий         1453\n",
       "безработный            2\n",
       "предприниматель        2\n",
       "студент                1\n",
       "в декрете              1\n",
       "Name: income_type, dtype: int64"
      ]
     },
     "execution_count": 59,
     "metadata": {},
     "output_type": "execute_result"
    }
   ],
   "source": [
    "clients['income_type'].value_counts()"
   ]
  },
  {
   "cell_type": "markdown",
   "id": "158414ad",
   "metadata": {},
   "source": [
    "Неявных дубликатов в столбце 'income_type' нет."
   ]
  },
  {
   "cell_type": "markdown",
   "id": "54abc2ef",
   "metadata": {},
   "source": [
    "\n",
    "Проверим значения столбца 'purpose'."
   ]
  },
  {
   "cell_type": "code",
   "execution_count": 60,
   "id": "89354ee1",
   "metadata": {
    "scrolled": true
   },
   "outputs": [
    {
     "data": {
      "text/plain": [
       "свадьба                                   792\n",
       "на проведение свадьбы                     773\n",
       "сыграть свадьбу                           769\n",
       "операции с недвижимостью                  673\n",
       "покупка коммерческой недвижимости         661\n",
       "покупка жилья для сдачи                   651\n",
       "операции с коммерческой недвижимостью     649\n",
       "операции с жильем                         647\n",
       "покупка жилья                             641\n",
       "жилье                                     641\n",
       "покупка жилья для семьи                   640\n",
       "строительство собственной недвижимости    633\n",
       "операции со своей недвижимостью           630\n",
       "недвижимость                              630\n",
       "строительство жилой недвижимости          623\n",
       "строительство недвижимости                620\n",
       "покупка недвижимости                      620\n",
       "покупка своего жилья                      619\n",
       "ремонт жилью                              610\n",
       "покупка жилой недвижимости                604\n",
       "на покупку своего автомобиля              502\n",
       "заняться высшим образованием              493\n",
       "автомобиль                                491\n",
       "сделка с подержанным автомобилем          487\n",
       "на покупку подержанного автомобиля        479\n",
       "свой автомобиль                           477\n",
       "автомобили                                476\n",
       "на покупку автомобиля                     467\n",
       "приобретение автомобиля                   460\n",
       "дополнительное образование                460\n",
       "сделка с автомобилем                      454\n",
       "высшее образование                        450\n",
       "получение дополнительного образования     445\n",
       "образование                               444\n",
       "получение образования                     442\n",
       "профильное образование                    435\n",
       "получение высшего образования             424\n",
       "заняться образованием                     411\n",
       "Name: purpose, dtype: int64"
      ]
     },
     "execution_count": 60,
     "metadata": {},
     "output_type": "execute_result"
    }
   ],
   "source": [
    "clients['purpose'].value_counts()"
   ]
  },
  {
   "cell_type": "markdown",
   "id": "bae7dd03",
   "metadata": {},
   "source": [
    "Изучив цели кредита можно выделить из низ 4 основные:\n",
    "*\t`операции с автомобилем`,\n",
    "*\t`операции с недвижимостью`,\n",
    "*\t`проведение свадьбы`,\n",
    "*\t`получение образования`.\n",
    "\n",
    "На этапе категоризации данных можно разделить клиентов по цели кредита на 4 основных категории."
   ]
  },
  {
   "cell_type": "markdown",
   "id": "a07344c4",
   "metadata": {},
   "source": [
    "Проверим столбец 'debt'."
   ]
  },
  {
   "cell_type": "code",
   "execution_count": 61,
   "id": "1a330437",
   "metadata": {
    "scrolled": true
   },
   "outputs": [
    {
     "data": {
      "text/plain": [
       "0    19690\n",
       "1     1733\n",
       "Name: debt, dtype: int64"
      ]
     },
     "execution_count": 61,
     "metadata": {},
     "output_type": "execute_result"
    }
   ],
   "source": [
    "clients['debt'].value_counts()"
   ]
  },
  {
   "cell_type": "markdown",
   "id": "439a9d5b",
   "metadata": {},
   "source": [
    "Столбец 'debt' содержит данные о задолженности по возврату кредитов. Значения этого столбца принимают 1 или 0 (1 - задолженность есть, 0 - задолженности нет). То есть, это категориальная переменная логического типа."
   ]
  },
  {
   "cell_type": "markdown",
   "id": "b0ed1ace",
   "metadata": {},
   "source": [
    "Аномалии выявлены и исправлены в тех данных, которые понадобятся для исследования."
   ]
  },
  {
   "cell_type": "markdown",
   "id": "3d87afb1",
   "metadata": {},
   "source": [
    "### Шаг 2.3. Изменение типов данных."
   ]
  },
  {
   "cell_type": "markdown",
   "id": "8d05da60",
   "metadata": {},
   "source": [
    "Чтобы проще было определить зависимость между уровнем дохода и возвратом кредита в срок заменим вещественный тип данных в столбце 'total_income' на целочисленный."
   ]
  },
  {
   "cell_type": "code",
   "execution_count": 62,
   "id": "1c8a9258",
   "metadata": {},
   "outputs": [
    {
     "data": {
      "text/html": [
       "<div>\n",
       "<style scoped>\n",
       "    .dataframe tbody tr th:only-of-type {\n",
       "        vertical-align: middle;\n",
       "    }\n",
       "\n",
       "    .dataframe tbody tr th {\n",
       "        vertical-align: top;\n",
       "    }\n",
       "\n",
       "    .dataframe thead th {\n",
       "        text-align: right;\n",
       "    }\n",
       "</style>\n",
       "<table border=\"1\" class=\"dataframe\">\n",
       "  <thead>\n",
       "    <tr style=\"text-align: right;\">\n",
       "      <th></th>\n",
       "      <th>children</th>\n",
       "      <th>days_employed</th>\n",
       "      <th>dob_years</th>\n",
       "      <th>education</th>\n",
       "      <th>education_id</th>\n",
       "      <th>family_status</th>\n",
       "      <th>family_status_id</th>\n",
       "      <th>gender</th>\n",
       "      <th>income_type</th>\n",
       "      <th>debt</th>\n",
       "      <th>total_income</th>\n",
       "      <th>purpose</th>\n",
       "    </tr>\n",
       "  </thead>\n",
       "  <tbody>\n",
       "    <tr>\n",
       "      <th>0</th>\n",
       "      <td>1</td>\n",
       "      <td>8437.673028</td>\n",
       "      <td>42</td>\n",
       "      <td>высшее</td>\n",
       "      <td>0</td>\n",
       "      <td>женат / замужем</td>\n",
       "      <td>0</td>\n",
       "      <td>F</td>\n",
       "      <td>сотрудник</td>\n",
       "      <td>0</td>\n",
       "      <td>253875</td>\n",
       "      <td>покупка жилья</td>\n",
       "    </tr>\n",
       "    <tr>\n",
       "      <th>1</th>\n",
       "      <td>1</td>\n",
       "      <td>4024.803754</td>\n",
       "      <td>36</td>\n",
       "      <td>среднее</td>\n",
       "      <td>1</td>\n",
       "      <td>женат / замужем</td>\n",
       "      <td>0</td>\n",
       "      <td>F</td>\n",
       "      <td>сотрудник</td>\n",
       "      <td>0</td>\n",
       "      <td>112080</td>\n",
       "      <td>приобретение автомобиля</td>\n",
       "    </tr>\n",
       "    <tr>\n",
       "      <th>2</th>\n",
       "      <td>0</td>\n",
       "      <td>5623.422610</td>\n",
       "      <td>33</td>\n",
       "      <td>среднее</td>\n",
       "      <td>1</td>\n",
       "      <td>женат / замужем</td>\n",
       "      <td>0</td>\n",
       "      <td>M</td>\n",
       "      <td>сотрудник</td>\n",
       "      <td>0</td>\n",
       "      <td>145885</td>\n",
       "      <td>покупка жилья</td>\n",
       "    </tr>\n",
       "    <tr>\n",
       "      <th>3</th>\n",
       "      <td>3</td>\n",
       "      <td>4124.747207</td>\n",
       "      <td>32</td>\n",
       "      <td>среднее</td>\n",
       "      <td>1</td>\n",
       "      <td>женат / замужем</td>\n",
       "      <td>0</td>\n",
       "      <td>M</td>\n",
       "      <td>сотрудник</td>\n",
       "      <td>0</td>\n",
       "      <td>267628</td>\n",
       "      <td>дополнительное образование</td>\n",
       "    </tr>\n",
       "    <tr>\n",
       "      <th>4</th>\n",
       "      <td>0</td>\n",
       "      <td>12775.000000</td>\n",
       "      <td>53</td>\n",
       "      <td>среднее</td>\n",
       "      <td>1</td>\n",
       "      <td>гражданский брак</td>\n",
       "      <td>1</td>\n",
       "      <td>F</td>\n",
       "      <td>пенсионер</td>\n",
       "      <td>0</td>\n",
       "      <td>158616</td>\n",
       "      <td>сыграть свадьбу</td>\n",
       "    </tr>\n",
       "  </tbody>\n",
       "</table>\n",
       "</div>"
      ],
      "text/plain": [
       "   children  days_employed  dob_years education  education_id  \\\n",
       "0         1    8437.673028         42    высшее             0   \n",
       "1         1    4024.803754         36   среднее             1   \n",
       "2         0    5623.422610         33   среднее             1   \n",
       "3         3    4124.747207         32   среднее             1   \n",
       "4         0   12775.000000         53   среднее             1   \n",
       "\n",
       "      family_status  family_status_id gender income_type  debt  total_income  \\\n",
       "0   женат / замужем                 0      F   сотрудник     0        253875   \n",
       "1   женат / замужем                 0      F   сотрудник     0        112080   \n",
       "2   женат / замужем                 0      M   сотрудник     0        145885   \n",
       "3   женат / замужем                 0      M   сотрудник     0        267628   \n",
       "4  гражданский брак                 1      F   пенсионер     0        158616   \n",
       "\n",
       "                      purpose  \n",
       "0               покупка жилья  \n",
       "1     приобретение автомобиля  \n",
       "2               покупка жилья  \n",
       "3  дополнительное образование  \n",
       "4             сыграть свадьбу  "
      ]
     },
     "execution_count": 62,
     "metadata": {},
     "output_type": "execute_result"
    }
   ],
   "source": [
    "clients['total_income'] = clients['total_income'].astype('int')\n",
    "clients.head()"
   ]
  },
  {
   "cell_type": "code",
   "execution_count": 63,
   "id": "5a1f3210",
   "metadata": {},
   "outputs": [
    {
     "name": "stdout",
     "output_type": "stream",
     "text": [
      "<class 'pandas.core.frame.DataFrame'>\n",
      "Int64Index: 21423 entries, 0 to 21524\n",
      "Data columns (total 12 columns):\n",
      " #   Column            Non-Null Count  Dtype  \n",
      "---  ------            --------------  -----  \n",
      " 0   children          21423 non-null  int64  \n",
      " 1   days_employed     21423 non-null  float64\n",
      " 2   dob_years         21423 non-null  int64  \n",
      " 3   education         21423 non-null  object \n",
      " 4   education_id      21423 non-null  int64  \n",
      " 5   family_status     21423 non-null  object \n",
      " 6   family_status_id  21423 non-null  int64  \n",
      " 7   gender            21423 non-null  object \n",
      " 8   income_type       21423 non-null  object \n",
      " 9   debt              21423 non-null  int64  \n",
      " 10  total_income      21423 non-null  int32  \n",
      " 11  purpose           21423 non-null  object \n",
      "dtypes: float64(1), int32(1), int64(5), object(5)\n",
      "memory usage: 2.5+ MB\n"
     ]
    }
   ],
   "source": [
    "clients.info()"
   ]
  },
  {
   "cell_type": "markdown",
   "id": "46a10a03",
   "metadata": {},
   "source": [
    "Данные в столбце 'total_income' приведены к целочисленному виду."
   ]
  },
  {
   "cell_type": "markdown",
   "id": "a71f478d",
   "metadata": {},
   "source": [
    "### Шаг 2.4. Удаление дубликатов."
   ]
  },
  {
   "cell_type": "markdown",
   "id": "83db2dad",
   "metadata": {},
   "source": [
    "Проверим данные на наличие явных дубликатов."
   ]
  },
  {
   "cell_type": "code",
   "execution_count": 64,
   "id": "f49c68cc",
   "metadata": {},
   "outputs": [
    {
     "data": {
      "text/plain": [
       "71"
      ]
     },
     "execution_count": 64,
     "metadata": {},
     "output_type": "execute_result"
    }
   ],
   "source": [
    "clients.duplicated().sum()"
   ]
  },
  {
   "cell_type": "markdown",
   "id": "4574dfc1",
   "metadata": {},
   "source": [
    "Посмотрим, какова доля дубликатов по отношению ко всем данным."
   ]
  },
  {
   "cell_type": "code",
   "execution_count": 65,
   "id": "da6fd15c",
   "metadata": {},
   "outputs": [
    {
     "data": {
      "text/plain": [
       "0.33"
      ]
     },
     "execution_count": 65,
     "metadata": {},
     "output_type": "execute_result"
    }
   ],
   "source": [
    "round(clients.duplicated().sum() * 100 / len(clients),2) "
   ]
  },
  {
   "cell_type": "markdown",
   "id": "21b54f7a",
   "metadata": {},
   "source": [
    "Явные дубликаты скорее всего появляются в результате программного сбоя.\n",
    "\n",
    "Доля меньше 1%, поэтому удалим явные дубликаты с обновлением индексов."
   ]
  },
  {
   "cell_type": "code",
   "execution_count": 66,
   "id": "0472d44b",
   "metadata": {},
   "outputs": [
    {
     "data": {
      "text/plain": [
       "0"
      ]
     },
     "execution_count": 66,
     "metadata": {},
     "output_type": "execute_result"
    }
   ],
   "source": [
    "clients = clients.drop_duplicates().reset_index(drop = True)\n",
    "clients.duplicated().sum()"
   ]
  },
  {
   "cell_type": "markdown",
   "id": "eafa1783",
   "metadata": {},
   "source": [
    "Дубликатов больше нет."
   ]
  },
  {
   "cell_type": "markdown",
   "id": "cb838f9a",
   "metadata": {},
   "source": [
    "### Шаг 2.5. Формирование дополнительных датафреймов словарей, декомпозиция исходного датафрейма."
   ]
  },
  {
   "cell_type": "markdown",
   "id": "436ee51f",
   "metadata": {},
   "source": [
    "В таблице clients хранятся данные об образовании и семейном положении ('education' и 'family_status'), а также их идентификаторы  (столбцы 'education_id' и 'family_status_id'). Чтобы сократить размер файла с данными можно в таблице clients оставить только идентификаторы и создать два датафрейма-словаря, в которых:\n",
    "*\tкаждому уникальному значению из education соответствует уникальное значение education_id — в первом;\n",
    "*\tкаждому уникальному значению из family_status соответствует уникальное значение family_status_id — во втором."
   ]
  },
  {
   "cell_type": "code",
   "execution_count": 67,
   "id": "edd6c070",
   "metadata": {},
   "outputs": [
    {
     "data": {
      "text/html": [
       "<div>\n",
       "<style scoped>\n",
       "    .dataframe tbody tr th:only-of-type {\n",
       "        vertical-align: middle;\n",
       "    }\n",
       "\n",
       "    .dataframe tbody tr th {\n",
       "        vertical-align: top;\n",
       "    }\n",
       "\n",
       "    .dataframe thead th {\n",
       "        text-align: right;\n",
       "    }\n",
       "</style>\n",
       "<table border=\"1\" class=\"dataframe\">\n",
       "  <thead>\n",
       "    <tr style=\"text-align: right;\">\n",
       "      <th></th>\n",
       "      <th>education_id</th>\n",
       "      <th>education</th>\n",
       "    </tr>\n",
       "  </thead>\n",
       "  <tbody>\n",
       "    <tr>\n",
       "      <th>0</th>\n",
       "      <td>0</td>\n",
       "      <td>высшее</td>\n",
       "    </tr>\n",
       "    <tr>\n",
       "      <th>1</th>\n",
       "      <td>1</td>\n",
       "      <td>среднее</td>\n",
       "    </tr>\n",
       "    <tr>\n",
       "      <th>2</th>\n",
       "      <td>2</td>\n",
       "      <td>неоконченное высшее</td>\n",
       "    </tr>\n",
       "    <tr>\n",
       "      <th>3</th>\n",
       "      <td>3</td>\n",
       "      <td>начальное</td>\n",
       "    </tr>\n",
       "    <tr>\n",
       "      <th>4</th>\n",
       "      <td>4</td>\n",
       "      <td>ученая степень</td>\n",
       "    </tr>\n",
       "  </tbody>\n",
       "</table>\n",
       "</div>"
      ],
      "text/plain": [
       "   education_id            education\n",
       "0             0               высшее\n",
       "1             1              среднее\n",
       "2             2  неоконченное высшее\n",
       "3             3            начальное\n",
       "4             4       ученая степень"
      ]
     },
     "metadata": {},
     "output_type": "display_data"
    }
   ],
   "source": [
    "#Создадим датафрейм education, куда включим столбцы 'education' и 'education_id'\n",
    "education = pd.DataFrame({'education_id': clients['education_id'], 'education': clients['education']})\n",
    "# Удалим дубликаты, чтобы записи были уникальными\n",
    "education = education.drop_duplicates().reset_index(drop = True)\n",
    "display(education)"
   ]
  },
  {
   "cell_type": "code",
   "execution_count": 68,
   "id": "b08bf0ad",
   "metadata": {
    "scrolled": true
   },
   "outputs": [
    {
     "data": {
      "text/html": [
       "<div>\n",
       "<style scoped>\n",
       "    .dataframe tbody tr th:only-of-type {\n",
       "        vertical-align: middle;\n",
       "    }\n",
       "\n",
       "    .dataframe tbody tr th {\n",
       "        vertical-align: top;\n",
       "    }\n",
       "\n",
       "    .dataframe thead th {\n",
       "        text-align: right;\n",
       "    }\n",
       "</style>\n",
       "<table border=\"1\" class=\"dataframe\">\n",
       "  <thead>\n",
       "    <tr style=\"text-align: right;\">\n",
       "      <th></th>\n",
       "      <th>family_status_id</th>\n",
       "      <th>family_status</th>\n",
       "    </tr>\n",
       "  </thead>\n",
       "  <tbody>\n",
       "    <tr>\n",
       "      <th>0</th>\n",
       "      <td>0</td>\n",
       "      <td>женат / замужем</td>\n",
       "    </tr>\n",
       "    <tr>\n",
       "      <th>1</th>\n",
       "      <td>1</td>\n",
       "      <td>гражданский брак</td>\n",
       "    </tr>\n",
       "    <tr>\n",
       "      <th>2</th>\n",
       "      <td>2</td>\n",
       "      <td>вдовец / вдова</td>\n",
       "    </tr>\n",
       "    <tr>\n",
       "      <th>3</th>\n",
       "      <td>3</td>\n",
       "      <td>в разводе</td>\n",
       "    </tr>\n",
       "    <tr>\n",
       "      <th>4</th>\n",
       "      <td>4</td>\n",
       "      <td>Не женат / не замужем</td>\n",
       "    </tr>\n",
       "  </tbody>\n",
       "</table>\n",
       "</div>"
      ],
      "text/plain": [
       "   family_status_id          family_status\n",
       "0                 0        женат / замужем\n",
       "1                 1       гражданский брак\n",
       "2                 2         вдовец / вдова\n",
       "3                 3              в разводе\n",
       "4                 4  Не женат / не замужем"
      ]
     },
     "metadata": {},
     "output_type": "display_data"
    }
   ],
   "source": [
    "#Создадим датафрейм family_status, куда включим столбцы 'family_status' и 'family_status_id'\n",
    "family_status = pd.DataFrame({'family_status_id': clients['family_status_id'],'family_status': clients['family_status']})\n",
    "# Удалим дубликаты, чтобы записи были уникальными\n",
    "family_status = family_status.drop_duplicates().reset_index(drop = True)\n",
    "display(family_status)"
   ]
  },
  {
   "cell_type": "markdown",
   "id": "81bbe564",
   "metadata": {},
   "source": [
    "Удалим теперь лишнюю информацию из основного датафрейма clients (столбцы 'education' и 'family_status')."
   ]
  },
  {
   "cell_type": "code",
   "execution_count": 69,
   "id": "93fa252c",
   "metadata": {
    "scrolled": true
   },
   "outputs": [
    {
     "data": {
      "text/html": [
       "<div>\n",
       "<style scoped>\n",
       "    .dataframe tbody tr th:only-of-type {\n",
       "        vertical-align: middle;\n",
       "    }\n",
       "\n",
       "    .dataframe tbody tr th {\n",
       "        vertical-align: top;\n",
       "    }\n",
       "\n",
       "    .dataframe thead th {\n",
       "        text-align: right;\n",
       "    }\n",
       "</style>\n",
       "<table border=\"1\" class=\"dataframe\">\n",
       "  <thead>\n",
       "    <tr style=\"text-align: right;\">\n",
       "      <th></th>\n",
       "      <th>children</th>\n",
       "      <th>days_employed</th>\n",
       "      <th>dob_years</th>\n",
       "      <th>education_id</th>\n",
       "      <th>family_status_id</th>\n",
       "      <th>gender</th>\n",
       "      <th>income_type</th>\n",
       "      <th>debt</th>\n",
       "      <th>total_income</th>\n",
       "      <th>purpose</th>\n",
       "    </tr>\n",
       "  </thead>\n",
       "  <tbody>\n",
       "    <tr>\n",
       "      <th>0</th>\n",
       "      <td>1</td>\n",
       "      <td>8437.673028</td>\n",
       "      <td>42</td>\n",
       "      <td>0</td>\n",
       "      <td>0</td>\n",
       "      <td>F</td>\n",
       "      <td>сотрудник</td>\n",
       "      <td>0</td>\n",
       "      <td>253875</td>\n",
       "      <td>покупка жилья</td>\n",
       "    </tr>\n",
       "    <tr>\n",
       "      <th>1</th>\n",
       "      <td>1</td>\n",
       "      <td>4024.803754</td>\n",
       "      <td>36</td>\n",
       "      <td>1</td>\n",
       "      <td>0</td>\n",
       "      <td>F</td>\n",
       "      <td>сотрудник</td>\n",
       "      <td>0</td>\n",
       "      <td>112080</td>\n",
       "      <td>приобретение автомобиля</td>\n",
       "    </tr>\n",
       "    <tr>\n",
       "      <th>2</th>\n",
       "      <td>0</td>\n",
       "      <td>5623.422610</td>\n",
       "      <td>33</td>\n",
       "      <td>1</td>\n",
       "      <td>0</td>\n",
       "      <td>M</td>\n",
       "      <td>сотрудник</td>\n",
       "      <td>0</td>\n",
       "      <td>145885</td>\n",
       "      <td>покупка жилья</td>\n",
       "    </tr>\n",
       "    <tr>\n",
       "      <th>3</th>\n",
       "      <td>3</td>\n",
       "      <td>4124.747207</td>\n",
       "      <td>32</td>\n",
       "      <td>1</td>\n",
       "      <td>0</td>\n",
       "      <td>M</td>\n",
       "      <td>сотрудник</td>\n",
       "      <td>0</td>\n",
       "      <td>267628</td>\n",
       "      <td>дополнительное образование</td>\n",
       "    </tr>\n",
       "    <tr>\n",
       "      <th>4</th>\n",
       "      <td>0</td>\n",
       "      <td>12775.000000</td>\n",
       "      <td>53</td>\n",
       "      <td>1</td>\n",
       "      <td>1</td>\n",
       "      <td>F</td>\n",
       "      <td>пенсионер</td>\n",
       "      <td>0</td>\n",
       "      <td>158616</td>\n",
       "      <td>сыграть свадьбу</td>\n",
       "    </tr>\n",
       "  </tbody>\n",
       "</table>\n",
       "</div>"
      ],
      "text/plain": [
       "   children  days_employed  dob_years  education_id  family_status_id gender  \\\n",
       "0         1    8437.673028         42             0                 0      F   \n",
       "1         1    4024.803754         36             1                 0      F   \n",
       "2         0    5623.422610         33             1                 0      M   \n",
       "3         3    4124.747207         32             1                 0      M   \n",
       "4         0   12775.000000         53             1                 1      F   \n",
       "\n",
       "  income_type  debt  total_income                     purpose  \n",
       "0   сотрудник     0        253875               покупка жилья  \n",
       "1   сотрудник     0        112080     приобретение автомобиля  \n",
       "2   сотрудник     0        145885               покупка жилья  \n",
       "3   сотрудник     0        267628  дополнительное образование  \n",
       "4   пенсионер     0        158616             сыграть свадьбу  "
      ]
     },
     "metadata": {},
     "output_type": "display_data"
    }
   ],
   "source": [
    "clients = clients.drop(['education','family_status'],axis=1)\n",
    "display(clients.head())"
   ]
  },
  {
   "cell_type": "markdown",
   "id": "badeda2e",
   "metadata": {},
   "source": [
    "Теперь информация об образовании и семейном положении вынесена из основного датафрейма по клиентам в два датафрейма-словаря, из которых можно по идентификатору найти уровень образования и семейный статус."
   ]
  },
  {
   "cell_type": "markdown",
   "id": "7042bc49",
   "metadata": {},
   "source": [
    "### Шаг 2.6. Категоризация дохода."
   ]
  },
  {
   "cell_type": "markdown",
   "id": "63b447a1",
   "metadata": {},
   "source": [
    "Для исследования зависимости между уровнем дохода и возвратом кредита в срок разделим клиентов на категории по уровню дохода. Создадим столбец total_income_category со следующим соответствием 'доход-категория':\n",
    "*\t0–30000 — 'E';\n",
    "*\t30001–50000 — 'D';\n",
    "*\t50001–200000 — 'C';\n",
    "*\t200001–1000000 — 'B';\n",
    "*\t1000001 и выше — 'A'.\n"
   ]
  },
  {
   "cell_type": "code",
   "execution_count": 70,
   "id": "ebdaad26",
   "metadata": {},
   "outputs": [
    {
     "data": {
      "text/html": [
       "<div>\n",
       "<style scoped>\n",
       "    .dataframe tbody tr th:only-of-type {\n",
       "        vertical-align: middle;\n",
       "    }\n",
       "\n",
       "    .dataframe tbody tr th {\n",
       "        vertical-align: top;\n",
       "    }\n",
       "\n",
       "    .dataframe thead th {\n",
       "        text-align: right;\n",
       "    }\n",
       "</style>\n",
       "<table border=\"1\" class=\"dataframe\">\n",
       "  <thead>\n",
       "    <tr style=\"text-align: right;\">\n",
       "      <th></th>\n",
       "      <th>children</th>\n",
       "      <th>days_employed</th>\n",
       "      <th>dob_years</th>\n",
       "      <th>education_id</th>\n",
       "      <th>family_status_id</th>\n",
       "      <th>gender</th>\n",
       "      <th>income_type</th>\n",
       "      <th>debt</th>\n",
       "      <th>total_income</th>\n",
       "      <th>purpose</th>\n",
       "      <th>total_income_category</th>\n",
       "    </tr>\n",
       "  </thead>\n",
       "  <tbody>\n",
       "    <tr>\n",
       "      <th>0</th>\n",
       "      <td>1</td>\n",
       "      <td>8437.673028</td>\n",
       "      <td>42</td>\n",
       "      <td>0</td>\n",
       "      <td>0</td>\n",
       "      <td>F</td>\n",
       "      <td>сотрудник</td>\n",
       "      <td>0</td>\n",
       "      <td>253875</td>\n",
       "      <td>покупка жилья</td>\n",
       "      <td>B</td>\n",
       "    </tr>\n",
       "    <tr>\n",
       "      <th>1</th>\n",
       "      <td>1</td>\n",
       "      <td>4024.803754</td>\n",
       "      <td>36</td>\n",
       "      <td>1</td>\n",
       "      <td>0</td>\n",
       "      <td>F</td>\n",
       "      <td>сотрудник</td>\n",
       "      <td>0</td>\n",
       "      <td>112080</td>\n",
       "      <td>приобретение автомобиля</td>\n",
       "      <td>C</td>\n",
       "    </tr>\n",
       "    <tr>\n",
       "      <th>2</th>\n",
       "      <td>0</td>\n",
       "      <td>5623.422610</td>\n",
       "      <td>33</td>\n",
       "      <td>1</td>\n",
       "      <td>0</td>\n",
       "      <td>M</td>\n",
       "      <td>сотрудник</td>\n",
       "      <td>0</td>\n",
       "      <td>145885</td>\n",
       "      <td>покупка жилья</td>\n",
       "      <td>C</td>\n",
       "    </tr>\n",
       "    <tr>\n",
       "      <th>3</th>\n",
       "      <td>3</td>\n",
       "      <td>4124.747207</td>\n",
       "      <td>32</td>\n",
       "      <td>1</td>\n",
       "      <td>0</td>\n",
       "      <td>M</td>\n",
       "      <td>сотрудник</td>\n",
       "      <td>0</td>\n",
       "      <td>267628</td>\n",
       "      <td>дополнительное образование</td>\n",
       "      <td>B</td>\n",
       "    </tr>\n",
       "    <tr>\n",
       "      <th>4</th>\n",
       "      <td>0</td>\n",
       "      <td>12775.000000</td>\n",
       "      <td>53</td>\n",
       "      <td>1</td>\n",
       "      <td>1</td>\n",
       "      <td>F</td>\n",
       "      <td>пенсионер</td>\n",
       "      <td>0</td>\n",
       "      <td>158616</td>\n",
       "      <td>сыграть свадьбу</td>\n",
       "      <td>C</td>\n",
       "    </tr>\n",
       "  </tbody>\n",
       "</table>\n",
       "</div>"
      ],
      "text/plain": [
       "   children  days_employed  dob_years  education_id  family_status_id gender  \\\n",
       "0         1    8437.673028         42             0                 0      F   \n",
       "1         1    4024.803754         36             1                 0      F   \n",
       "2         0    5623.422610         33             1                 0      M   \n",
       "3         3    4124.747207         32             1                 0      M   \n",
       "4         0   12775.000000         53             1                 1      F   \n",
       "\n",
       "  income_type  debt  total_income                     purpose  \\\n",
       "0   сотрудник     0        253875               покупка жилья   \n",
       "1   сотрудник     0        112080     приобретение автомобиля   \n",
       "2   сотрудник     0        145885               покупка жилья   \n",
       "3   сотрудник     0        267628  дополнительное образование   \n",
       "4   пенсионер     0        158616             сыграть свадьбу   \n",
       "\n",
       "  total_income_category  \n",
       "0                     B  \n",
       "1                     C  \n",
       "2                     C  \n",
       "3                     B  \n",
       "4                     C  "
      ]
     },
     "metadata": {},
     "output_type": "display_data"
    }
   ],
   "source": [
    "#создадим функцию, которая принимает на входе размер дохода и возвращает соответствующую категорию\n",
    "def income_category(income):\n",
    "    if (income >=0) & (income <= 30000):\n",
    "        return 'E'\n",
    "    if (income >= 30001) & (income <= 50000):\n",
    "        return 'D'\n",
    "    if (income >= 50001) & (income <= 200000):\n",
    "        return 'C'\n",
    "    if (income >=200001) & (income <= 1000000):\n",
    "        return 'B'\n",
    "    if income >= 1000001:\n",
    "        return 'A'\n",
    "#применим функцию к столбцу с общим доходом    \n",
    "clients['total_income_category'] = clients['total_income'].apply(income_category)  \n",
    "display(clients.head())"
   ]
  },
  {
   "cell_type": "code",
   "execution_count": 71,
   "id": "1a2c2557",
   "metadata": {},
   "outputs": [
    {
     "data": {
      "text/plain": [
       "C    15942\n",
       "B     5015\n",
       "D      348\n",
       "A       25\n",
       "E       22\n",
       "Name: total_income_category, dtype: int64"
      ]
     },
     "execution_count": 71,
     "metadata": {},
     "output_type": "execute_result"
    }
   ],
   "source": [
    "clients['total_income_category'].value_counts()"
   ]
  },
  {
   "cell_type": "markdown",
   "id": "cb1352f1",
   "metadata": {},
   "source": [
    "Клиенты теперь разделены на категории по уровню дохода."
   ]
  },
  {
   "cell_type": "markdown",
   "id": "d8ed9df1",
   "metadata": {},
   "source": [
    "### Шаг 2.7. Категоризация целей кредита."
   ]
  },
  {
   "cell_type": "markdown",
   "id": "b5058652",
   "metadata": {},
   "source": [
    "Теперь нужно разделить клиентов на категории по целям кредита. "
   ]
  },
  {
   "cell_type": "code",
   "execution_count": 72,
   "id": "cb99a1f4",
   "metadata": {
    "scrolled": true
   },
   "outputs": [
    {
     "data": {
      "text/plain": [
       "свадьба                                   786\n",
       "на проведение свадьбы                     764\n",
       "сыграть свадьбу                           760\n",
       "операции с недвижимостью                  672\n",
       "покупка коммерческой недвижимости         658\n",
       "покупка жилья для сдачи                   649\n",
       "операции с коммерческой недвижимостью     648\n",
       "операции с жильем                         646\n",
       "покупка жилья                             640\n",
       "жилье                                     640\n",
       "покупка жилья для семьи                   637\n",
       "строительство собственной недвижимости    633\n",
       "недвижимость                              629\n",
       "операции со своей недвижимостью           627\n",
       "строительство жилой недвижимости          621\n",
       "строительство недвижимости                619\n",
       "покупка своего жилья                      619\n",
       "покупка недвижимости                      617\n",
       "ремонт жилью                              605\n",
       "покупка жилой недвижимости                603\n",
       "на покупку своего автомобиля              502\n",
       "заняться высшим образованием              493\n",
       "автомобиль                                490\n",
       "сделка с подержанным автомобилем          484\n",
       "на покупку подержанного автомобиля        478\n",
       "автомобили                                476\n",
       "свой автомобиль                           475\n",
       "на покупку автомобиля                     466\n",
       "приобретение автомобиля                   459\n",
       "дополнительное образование                458\n",
       "сделка с автомобилем                      454\n",
       "высшее образование                        449\n",
       "образование                               444\n",
       "получение дополнительного образования     444\n",
       "получение образования                     441\n",
       "профильное образование                    435\n",
       "получение высшего образования             424\n",
       "заняться образованием                     407\n",
       "Name: purpose, dtype: int64"
      ]
     },
     "execution_count": 72,
     "metadata": {},
     "output_type": "execute_result"
    }
   ],
   "source": [
    "clients['purpose'].value_counts()"
   ]
  },
  {
   "cell_type": "markdown",
   "id": "3ba4c04f",
   "metadata": {},
   "source": [
    "Изучив цели кредита можно выделить из низ 4 основные:\n",
    "*\t`операции с автомобилем`,\n",
    "*\t`операции с недвижимостью`,\n",
    "*\t`проведение свадьбы`,\n",
    "*\t`получение образования`."
   ]
  },
  {
   "cell_type": "code",
   "execution_count": 73,
   "id": "40329c02",
   "metadata": {
    "scrolled": true
   },
   "outputs": [
    {
     "data": {
      "text/html": [
       "<div>\n",
       "<style scoped>\n",
       "    .dataframe tbody tr th:only-of-type {\n",
       "        vertical-align: middle;\n",
       "    }\n",
       "\n",
       "    .dataframe tbody tr th {\n",
       "        vertical-align: top;\n",
       "    }\n",
       "\n",
       "    .dataframe thead th {\n",
       "        text-align: right;\n",
       "    }\n",
       "</style>\n",
       "<table border=\"1\" class=\"dataframe\">\n",
       "  <thead>\n",
       "    <tr style=\"text-align: right;\">\n",
       "      <th></th>\n",
       "      <th>children</th>\n",
       "      <th>days_employed</th>\n",
       "      <th>dob_years</th>\n",
       "      <th>education_id</th>\n",
       "      <th>family_status_id</th>\n",
       "      <th>gender</th>\n",
       "      <th>income_type</th>\n",
       "      <th>debt</th>\n",
       "      <th>total_income</th>\n",
       "      <th>purpose</th>\n",
       "      <th>total_income_category</th>\n",
       "      <th>purpose_category</th>\n",
       "    </tr>\n",
       "  </thead>\n",
       "  <tbody>\n",
       "    <tr>\n",
       "      <th>0</th>\n",
       "      <td>1</td>\n",
       "      <td>8437.673028</td>\n",
       "      <td>42</td>\n",
       "      <td>0</td>\n",
       "      <td>0</td>\n",
       "      <td>F</td>\n",
       "      <td>сотрудник</td>\n",
       "      <td>0</td>\n",
       "      <td>253875</td>\n",
       "      <td>покупка жилья</td>\n",
       "      <td>B</td>\n",
       "      <td>операции с недвижимостью</td>\n",
       "    </tr>\n",
       "    <tr>\n",
       "      <th>1</th>\n",
       "      <td>1</td>\n",
       "      <td>4024.803754</td>\n",
       "      <td>36</td>\n",
       "      <td>1</td>\n",
       "      <td>0</td>\n",
       "      <td>F</td>\n",
       "      <td>сотрудник</td>\n",
       "      <td>0</td>\n",
       "      <td>112080</td>\n",
       "      <td>приобретение автомобиля</td>\n",
       "      <td>C</td>\n",
       "      <td>операции с автомобилем</td>\n",
       "    </tr>\n",
       "    <tr>\n",
       "      <th>2</th>\n",
       "      <td>0</td>\n",
       "      <td>5623.422610</td>\n",
       "      <td>33</td>\n",
       "      <td>1</td>\n",
       "      <td>0</td>\n",
       "      <td>M</td>\n",
       "      <td>сотрудник</td>\n",
       "      <td>0</td>\n",
       "      <td>145885</td>\n",
       "      <td>покупка жилья</td>\n",
       "      <td>C</td>\n",
       "      <td>операции с недвижимостью</td>\n",
       "    </tr>\n",
       "    <tr>\n",
       "      <th>3</th>\n",
       "      <td>3</td>\n",
       "      <td>4124.747207</td>\n",
       "      <td>32</td>\n",
       "      <td>1</td>\n",
       "      <td>0</td>\n",
       "      <td>M</td>\n",
       "      <td>сотрудник</td>\n",
       "      <td>0</td>\n",
       "      <td>267628</td>\n",
       "      <td>дополнительное образование</td>\n",
       "      <td>B</td>\n",
       "      <td>получение образования</td>\n",
       "    </tr>\n",
       "    <tr>\n",
       "      <th>4</th>\n",
       "      <td>0</td>\n",
       "      <td>12775.000000</td>\n",
       "      <td>53</td>\n",
       "      <td>1</td>\n",
       "      <td>1</td>\n",
       "      <td>F</td>\n",
       "      <td>пенсионер</td>\n",
       "      <td>0</td>\n",
       "      <td>158616</td>\n",
       "      <td>сыграть свадьбу</td>\n",
       "      <td>C</td>\n",
       "      <td>проведение свадьбы</td>\n",
       "    </tr>\n",
       "  </tbody>\n",
       "</table>\n",
       "</div>"
      ],
      "text/plain": [
       "   children  days_employed  dob_years  education_id  family_status_id gender  \\\n",
       "0         1    8437.673028         42             0                 0      F   \n",
       "1         1    4024.803754         36             1                 0      F   \n",
       "2         0    5623.422610         33             1                 0      M   \n",
       "3         3    4124.747207         32             1                 0      M   \n",
       "4         0   12775.000000         53             1                 1      F   \n",
       "\n",
       "  income_type  debt  total_income                     purpose  \\\n",
       "0   сотрудник     0        253875               покупка жилья   \n",
       "1   сотрудник     0        112080     приобретение автомобиля   \n",
       "2   сотрудник     0        145885               покупка жилья   \n",
       "3   сотрудник     0        267628  дополнительное образование   \n",
       "4   пенсионер     0        158616             сыграть свадьбу   \n",
       "\n",
       "  total_income_category          purpose_category  \n",
       "0                     B  операции с недвижимостью  \n",
       "1                     C    операции с автомобилем  \n",
       "2                     C  операции с недвижимостью  \n",
       "3                     B     получение образования  \n",
       "4                     C        проведение свадьбы  "
      ]
     },
     "metadata": {},
     "output_type": "display_data"
    }
   ],
   "source": [
    "#создадим функцию, которая на входе принимает строку - цель кредита из датафрейма, а возвращает обобщенную цель кредита\n",
    "def purpose_category(purpose):\n",
    "    if ('недвиж' in purpose) | ('жиль' in purpose):\n",
    "        return 'операции с недвижимостью'\n",
    "    if ('свадьб' in purpose):\n",
    "        return 'проведение свадьбы'\n",
    "    if ('автомобил' in purpose):\n",
    "        return 'операции с автомобилем'\n",
    "    if ('образован' in purpose):\n",
    "        return 'получение образования'\n",
    "clients['purpose_category'] = clients['purpose'].apply(purpose_category)\n",
    "#clients['purpose'].apply(purpose_category)\n",
    "display(clients.head())"
   ]
  },
  {
   "cell_type": "code",
   "execution_count": 74,
   "id": "9f3902ea",
   "metadata": {},
   "outputs": [
    {
     "data": {
      "text/plain": [
       "операции с недвижимостью    10763\n",
       "операции с автомобилем       4284\n",
       "получение образования        3995\n",
       "проведение свадьбы           2310\n",
       "Name: purpose_category, dtype: int64"
      ]
     },
     "execution_count": 74,
     "metadata": {},
     "output_type": "execute_result"
    }
   ],
   "source": [
    "clients['purpose_category'].value_counts()"
   ]
  },
  {
   "cell_type": "markdown",
   "id": "b8b33e6d",
   "metadata": {},
   "source": [
    "Теперь клиенты разделены на категории для дальнейшего анализа влияния цели кредита на возврат кредита в срок."
   ]
  },
  {
   "cell_type": "markdown",
   "id": "b783adbc",
   "metadata": {},
   "source": [
    "### Ответы на вопросы."
   ]
  },
  {
   "cell_type": "markdown",
   "id": "9bb791b2",
   "metadata": {},
   "source": [
    "##### Вопрос 1: Есть ли зависимость между количеством детей и возвратом кредита в срок?"
   ]
  },
  {
   "cell_type": "markdown",
   "id": "6005aa41",
   "metadata": {},
   "source": [
    "Создадим сводную таблицу clients_children, где каждой строке будет соответствовать уникальное количество детей из таблицы clients, а в столбцах будет информация о количестве клиентов без задолженности и с задолженностью."
   ]
  },
  {
   "cell_type": "code",
   "execution_count": 75,
   "id": "827c2fad",
   "metadata": {
    "scrolled": true
   },
   "outputs": [
    {
     "data": {
      "text/html": [
       "<div>\n",
       "<style scoped>\n",
       "    .dataframe tbody tr th:only-of-type {\n",
       "        vertical-align: middle;\n",
       "    }\n",
       "\n",
       "    .dataframe tbody tr th {\n",
       "        vertical-align: top;\n",
       "    }\n",
       "\n",
       "    .dataframe thead th {\n",
       "        text-align: right;\n",
       "    }\n",
       "</style>\n",
       "<table border=\"1\" class=\"dataframe\">\n",
       "  <thead>\n",
       "    <tr style=\"text-align: right;\">\n",
       "      <th>debt</th>\n",
       "      <th>0</th>\n",
       "      <th>1</th>\n",
       "    </tr>\n",
       "    <tr>\n",
       "      <th>children</th>\n",
       "      <th></th>\n",
       "      <th></th>\n",
       "    </tr>\n",
       "  </thead>\n",
       "  <tbody>\n",
       "    <tr>\n",
       "      <th>0</th>\n",
       "      <td>12963</td>\n",
       "      <td>1058</td>\n",
       "    </tr>\n",
       "    <tr>\n",
       "      <th>1</th>\n",
       "      <td>4397</td>\n",
       "      <td>442</td>\n",
       "    </tr>\n",
       "    <tr>\n",
       "      <th>2</th>\n",
       "      <td>1912</td>\n",
       "      <td>202</td>\n",
       "    </tr>\n",
       "    <tr>\n",
       "      <th>3</th>\n",
       "      <td>301</td>\n",
       "      <td>27</td>\n",
       "    </tr>\n",
       "    <tr>\n",
       "      <th>4</th>\n",
       "      <td>37</td>\n",
       "      <td>4</td>\n",
       "    </tr>\n",
       "    <tr>\n",
       "      <th>5</th>\n",
       "      <td>9</td>\n",
       "      <td>0</td>\n",
       "    </tr>\n",
       "  </tbody>\n",
       "</table>\n",
       "</div>"
      ],
      "text/plain": [
       "debt          0     1\n",
       "children             \n",
       "0         12963  1058\n",
       "1          4397   442\n",
       "2          1912   202\n",
       "3           301    27\n",
       "4            37     4\n",
       "5             9     0"
      ]
     },
     "metadata": {},
     "output_type": "display_data"
    }
   ],
   "source": [
    "clients_children = clients.pivot_table(index = ['children'],columns = 'debt', values = 'total_income', aggfunc = 'count', fill_value=0)\n",
    "display(clients_children.head(10)) "
   ]
  },
  {
   "cell_type": "markdown",
   "id": "5c0a7344",
   "metadata": {},
   "source": [
    "Для исследования данных на интересующую нас зависимость добавим в сводную таблицу колонку 'debt_percent', которая покажет долю клиентов, имеющих задолженность, ко всем клиентам с таким же количеством детей. Добавим также колонку 'all_clients', в которой будет сумма всех клиентов по каждой строке таблице, она нужна для расчета 'debt_percent'."
   ]
  },
  {
   "cell_type": "code",
   "execution_count": 76,
   "id": "c41f38d9",
   "metadata": {
    "scrolled": true
   },
   "outputs": [
    {
     "data": {
      "text/html": [
       "<div>\n",
       "<style scoped>\n",
       "    .dataframe tbody tr th:only-of-type {\n",
       "        vertical-align: middle;\n",
       "    }\n",
       "\n",
       "    .dataframe tbody tr th {\n",
       "        vertical-align: top;\n",
       "    }\n",
       "\n",
       "    .dataframe thead th {\n",
       "        text-align: right;\n",
       "    }\n",
       "</style>\n",
       "<table border=\"1\" class=\"dataframe\">\n",
       "  <thead>\n",
       "    <tr style=\"text-align: right;\">\n",
       "      <th>debt</th>\n",
       "      <th>0</th>\n",
       "      <th>1</th>\n",
       "      <th>all_clients</th>\n",
       "      <th>debt_percent</th>\n",
       "    </tr>\n",
       "    <tr>\n",
       "      <th>children</th>\n",
       "      <th></th>\n",
       "      <th></th>\n",
       "      <th></th>\n",
       "      <th></th>\n",
       "    </tr>\n",
       "  </thead>\n",
       "  <tbody>\n",
       "    <tr>\n",
       "      <th>0</th>\n",
       "      <td>12963</td>\n",
       "      <td>1058</td>\n",
       "      <td>14021</td>\n",
       "      <td>7.55</td>\n",
       "    </tr>\n",
       "    <tr>\n",
       "      <th>1</th>\n",
       "      <td>4397</td>\n",
       "      <td>442</td>\n",
       "      <td>4839</td>\n",
       "      <td>9.13</td>\n",
       "    </tr>\n",
       "    <tr>\n",
       "      <th>2</th>\n",
       "      <td>1912</td>\n",
       "      <td>202</td>\n",
       "      <td>2114</td>\n",
       "      <td>9.56</td>\n",
       "    </tr>\n",
       "    <tr>\n",
       "      <th>3</th>\n",
       "      <td>301</td>\n",
       "      <td>27</td>\n",
       "      <td>328</td>\n",
       "      <td>8.23</td>\n",
       "    </tr>\n",
       "    <tr>\n",
       "      <th>4</th>\n",
       "      <td>37</td>\n",
       "      <td>4</td>\n",
       "      <td>41</td>\n",
       "      <td>9.76</td>\n",
       "    </tr>\n",
       "    <tr>\n",
       "      <th>5</th>\n",
       "      <td>9</td>\n",
       "      <td>0</td>\n",
       "      <td>9</td>\n",
       "      <td>0.00</td>\n",
       "    </tr>\n",
       "  </tbody>\n",
       "</table>\n",
       "</div>"
      ],
      "text/plain": [
       "debt          0     1  all_clients  debt_percent\n",
       "children                                        \n",
       "0         12963  1058        14021          7.55\n",
       "1          4397   442         4839          9.13\n",
       "2          1912   202         2114          9.56\n",
       "3           301    27          328          8.23\n",
       "4            37     4           41          9.76\n",
       "5             9     0            9          0.00"
      ]
     },
     "metadata": {},
     "output_type": "display_data"
    }
   ],
   "source": [
    "col_0 = clients_children.columns[0]\n",
    "col_1 = clients_children.columns[1]\n",
    "clients_children['all_clients'] = clients_children[col_0] + clients_children[col_1]\n",
    "clients_children['debt_percent'] = round(clients_children[col_1] / clients_children['all_clients'] * 100,2)\n",
    "display(clients_children)"
   ]
  },
  {
   "cell_type": "markdown",
   "id": "5185f853",
   "metadata": {},
   "source": [
    "##### Вывод 1:"
   ]
  },
  {
   "cell_type": "markdown",
   "id": "caf4518b",
   "metadata": {},
   "source": [
    "Выведем долю должников по убыванию и сопоставим с количеством детей."
   ]
  },
  {
   "cell_type": "code",
   "execution_count": 77,
   "id": "248b6259",
   "metadata": {},
   "outputs": [
    {
     "data": {
      "text/plain": [
       "children\n",
       "5    0.00\n",
       "0    7.55\n",
       "3    8.23\n",
       "1    9.13\n",
       "2    9.56\n",
       "4    9.76\n",
       "Name: debt_percent, dtype: float64"
      ]
     },
     "execution_count": 77,
     "metadata": {},
     "output_type": "execute_result"
    }
   ],
   "source": [
    "clients_children['debt_percent'].sort_values(ascending = True)"
   ]
  },
  {
   "cell_type": "markdown",
   "id": "1e39a5ef",
   "metadata": {},
   "source": [
    "Согласно сводной таблице нет  должников среди клиентов с 5-ю детьми. Но таких клиентов всего 9 человек из 21454 (0.04%), поэтому такой результат малопоказателен. \n",
    "\n",
    "\n",
    "Далее клиентов можно разделить на следующие группы:\n",
    "1. Меньше всего должников (доля около 8%) среди бездетных клиентов и клиентов с 3-мя детьми. \n",
    "2. После них по надежности идут клиенты с одним ребёнком (доля должников около 9%). \n",
    "3. Среди клиентов с 2-мя и 4-мя детьми доля должников около 10%. \n",
    "\n",
    "Разница в долях должников между этими группами выражена слабо - составляет всего около 0.4 - 0.9%."
   ]
  },
  {
   "cell_type": "markdown",
   "id": "0c033b2d",
   "metadata": {},
   "source": [
    "##### Вопрос 2: \tЕсть ли зависимость между семейным положением и возвратом кредита в срок?"
   ]
  },
  {
   "cell_type": "markdown",
   "id": "9c6763a3",
   "metadata": {},
   "source": [
    "Создадим сводную таблицу clients_family_status, где каждой строке будет соответствовать семейное положение из таблицы family_status, а в столбцах будет соответствующая информация о количестве клиентов без задолженности и с задолженностью."
   ]
  },
  {
   "cell_type": "code",
   "execution_count": 78,
   "id": "b469c5f1",
   "metadata": {
    "scrolled": true
   },
   "outputs": [
    {
     "data": {
      "text/html": [
       "<div>\n",
       "<style scoped>\n",
       "    .dataframe tbody tr th:only-of-type {\n",
       "        vertical-align: middle;\n",
       "    }\n",
       "\n",
       "    .dataframe tbody tr th {\n",
       "        vertical-align: top;\n",
       "    }\n",
       "\n",
       "    .dataframe thead th {\n",
       "        text-align: right;\n",
       "    }\n",
       "</style>\n",
       "<table border=\"1\" class=\"dataframe\">\n",
       "  <thead>\n",
       "    <tr style=\"text-align: right;\">\n",
       "      <th>debt</th>\n",
       "      <th>0</th>\n",
       "      <th>1</th>\n",
       "    </tr>\n",
       "    <tr>\n",
       "      <th>family_status</th>\n",
       "      <th></th>\n",
       "      <th></th>\n",
       "    </tr>\n",
       "  </thead>\n",
       "  <tbody>\n",
       "    <tr>\n",
       "      <th>Не женат / не замужем</th>\n",
       "      <td>2521</td>\n",
       "      <td>273</td>\n",
       "    </tr>\n",
       "    <tr>\n",
       "      <th>в разводе</th>\n",
       "      <td>1100</td>\n",
       "      <td>85</td>\n",
       "    </tr>\n",
       "    <tr>\n",
       "      <th>вдовец / вдова</th>\n",
       "      <td>892</td>\n",
       "      <td>62</td>\n",
       "    </tr>\n",
       "    <tr>\n",
       "      <th>гражданский брак</th>\n",
       "      <td>3743</td>\n",
       "      <td>386</td>\n",
       "    </tr>\n",
       "    <tr>\n",
       "      <th>женат / замужем</th>\n",
       "      <td>11363</td>\n",
       "      <td>927</td>\n",
       "    </tr>\n",
       "  </tbody>\n",
       "</table>\n",
       "</div>"
      ],
      "text/plain": [
       "debt                       0    1\n",
       "family_status                    \n",
       "Не женат / не замужем   2521  273\n",
       "в разводе               1100   85\n",
       "вдовец / вдова           892   62\n",
       "гражданский брак        3743  386\n",
       "женат / замужем        11363  927"
      ]
     },
     "metadata": {},
     "output_type": "display_data"
    }
   ],
   "source": [
    "clients_family_status = clients.merge(family_status, on = 'family_status_id', how = 'left').pivot_table(index = ['family_status'],columns = 'debt', values = 'total_income', aggfunc = 'count')\n",
    "display(clients_family_status)"
   ]
  },
  {
   "cell_type": "markdown",
   "id": "fafe93d2",
   "metadata": {},
   "source": [
    "Добавим в сводную таблицу колонку 'debt_percent', которая покажет долю клиентов, имеющих задолженность, ко всем клиентам такого же семейного положения. Добавим также колонку 'all_clients', в которой будет сумма всех клиентов по каждой строке таблице, она нужна для расчета 'debt_percent'."
   ]
  },
  {
   "cell_type": "code",
   "execution_count": 79,
   "id": "9ef682b4",
   "metadata": {},
   "outputs": [
    {
     "data": {
      "text/html": [
       "<div>\n",
       "<style scoped>\n",
       "    .dataframe tbody tr th:only-of-type {\n",
       "        vertical-align: middle;\n",
       "    }\n",
       "\n",
       "    .dataframe tbody tr th {\n",
       "        vertical-align: top;\n",
       "    }\n",
       "\n",
       "    .dataframe thead th {\n",
       "        text-align: right;\n",
       "    }\n",
       "</style>\n",
       "<table border=\"1\" class=\"dataframe\">\n",
       "  <thead>\n",
       "    <tr style=\"text-align: right;\">\n",
       "      <th>debt</th>\n",
       "      <th>0</th>\n",
       "      <th>1</th>\n",
       "      <th>all_clients</th>\n",
       "      <th>debt_percent</th>\n",
       "    </tr>\n",
       "    <tr>\n",
       "      <th>family_status</th>\n",
       "      <th></th>\n",
       "      <th></th>\n",
       "      <th></th>\n",
       "      <th></th>\n",
       "    </tr>\n",
       "  </thead>\n",
       "  <tbody>\n",
       "    <tr>\n",
       "      <th>Не женат / не замужем</th>\n",
       "      <td>2521</td>\n",
       "      <td>273</td>\n",
       "      <td>2794</td>\n",
       "      <td>9.77</td>\n",
       "    </tr>\n",
       "    <tr>\n",
       "      <th>в разводе</th>\n",
       "      <td>1100</td>\n",
       "      <td>85</td>\n",
       "      <td>1185</td>\n",
       "      <td>7.17</td>\n",
       "    </tr>\n",
       "    <tr>\n",
       "      <th>вдовец / вдова</th>\n",
       "      <td>892</td>\n",
       "      <td>62</td>\n",
       "      <td>954</td>\n",
       "      <td>6.50</td>\n",
       "    </tr>\n",
       "    <tr>\n",
       "      <th>гражданский брак</th>\n",
       "      <td>3743</td>\n",
       "      <td>386</td>\n",
       "      <td>4129</td>\n",
       "      <td>9.35</td>\n",
       "    </tr>\n",
       "    <tr>\n",
       "      <th>женат / замужем</th>\n",
       "      <td>11363</td>\n",
       "      <td>927</td>\n",
       "      <td>12290</td>\n",
       "      <td>7.54</td>\n",
       "    </tr>\n",
       "  </tbody>\n",
       "</table>\n",
       "</div>"
      ],
      "text/plain": [
       "debt                       0    1  all_clients  debt_percent\n",
       "family_status                                               \n",
       "Не женат / не замужем   2521  273         2794          9.77\n",
       "в разводе               1100   85         1185          7.17\n",
       "вдовец / вдова           892   62          954          6.50\n",
       "гражданский брак        3743  386         4129          9.35\n",
       "женат / замужем        11363  927        12290          7.54"
      ]
     },
     "metadata": {},
     "output_type": "display_data"
    }
   ],
   "source": [
    "col_0 = clients_family_status.columns[0]\n",
    "col_1 = clients_family_status.columns[1]\n",
    "clients_family_status['all_clients'] = clients_family_status[col_0] + clients_family_status[col_1]\n",
    "clients_family_status['debt_percent'] = round(clients_family_status[col_1] / clients_family_status['all_clients'] * 100,2)\n",
    "display(clients_family_status)"
   ]
  },
  {
   "cell_type": "markdown",
   "id": "2210c246",
   "metadata": {},
   "source": [
    "##### Вывод 2:"
   ]
  },
  {
   "cell_type": "markdown",
   "id": "5b98dd93",
   "metadata": {},
   "source": [
    "Выведем долю должников среди клиентов по убыванию и сопоставим с семейным положением."
   ]
  },
  {
   "cell_type": "code",
   "execution_count": 80,
   "id": "9bc09410",
   "metadata": {},
   "outputs": [
    {
     "data": {
      "text/plain": [
       "family_status\n",
       "вдовец / вдова           6.50\n",
       "в разводе                7.17\n",
       "женат / замужем          7.54\n",
       "гражданский брак         9.35\n",
       "Не женат / не замужем    9.77\n",
       "Name: debt_percent, dtype: float64"
      ]
     },
     "execution_count": 80,
     "metadata": {},
     "output_type": "execute_result"
    }
   ],
   "source": [
    "clients_family_status['debt_percent'].sort_values(ascending = True)"
   ]
  },
  {
   "cell_type": "markdown",
   "id": "bb005fe2",
   "metadata": {},
   "source": [
    "Согласно данным сводной таблицы можно выделить 4 группы по надежности клиентов:\n",
    "1. Самыми надежными являются клиенты с семейным статусом \"в разводе\" и \"вдовец/вдова\". Среди таких клиентов должников меньше всего - около 7%. \n",
    "2. Следующая по надежности группа клиентов со статусом \"женат/замужем\", должников среди них чуть больше - около 8%. \n",
    "3. Далее идут клиенты, состоящие в гражданском браке (около 9% должников).\n",
    "4. Самые последние по надежности - клиенты со статусом \"Не женат / не замужем\", среди них должников около 10%.\n",
    "\n",
    "Разница в долях должников между группами надежности клиентов выражена слабо - составляет всего около 0.4 - 1.8%."
   ]
  },
  {
   "cell_type": "markdown",
   "id": "e4d79fb5",
   "metadata": {},
   "source": [
    "##### Вопрос 3:  \tЕсть ли зависимость между уровнем дохода и возвратом кредита в срок?"
   ]
  },
  {
   "cell_type": "markdown",
   "id": "749403cd",
   "metadata": {},
   "source": [
    "Создадим сводную таблицу clients_total_income, где каждой строке будет соответствовать категория дохода, а в столбцах будет соответствующая информация о количестве клиентов без задолженности и с задолженностью."
   ]
  },
  {
   "cell_type": "code",
   "execution_count": 81,
   "id": "9583f9d6",
   "metadata": {},
   "outputs": [
    {
     "data": {
      "text/html": [
       "<div>\n",
       "<style scoped>\n",
       "    .dataframe tbody tr th:only-of-type {\n",
       "        vertical-align: middle;\n",
       "    }\n",
       "\n",
       "    .dataframe tbody tr th {\n",
       "        vertical-align: top;\n",
       "    }\n",
       "\n",
       "    .dataframe thead th {\n",
       "        text-align: right;\n",
       "    }\n",
       "</style>\n",
       "<table border=\"1\" class=\"dataframe\">\n",
       "  <thead>\n",
       "    <tr style=\"text-align: right;\">\n",
       "      <th>debt</th>\n",
       "      <th>0</th>\n",
       "      <th>1</th>\n",
       "    </tr>\n",
       "    <tr>\n",
       "      <th>total_income_category</th>\n",
       "      <th></th>\n",
       "      <th></th>\n",
       "    </tr>\n",
       "  </thead>\n",
       "  <tbody>\n",
       "    <tr>\n",
       "      <th>A</th>\n",
       "      <td>23</td>\n",
       "      <td>2</td>\n",
       "    </tr>\n",
       "    <tr>\n",
       "      <th>B</th>\n",
       "      <td>4660</td>\n",
       "      <td>355</td>\n",
       "    </tr>\n",
       "    <tr>\n",
       "      <th>C</th>\n",
       "      <td>14589</td>\n",
       "      <td>1353</td>\n",
       "    </tr>\n",
       "    <tr>\n",
       "      <th>D</th>\n",
       "      <td>327</td>\n",
       "      <td>21</td>\n",
       "    </tr>\n",
       "    <tr>\n",
       "      <th>E</th>\n",
       "      <td>20</td>\n",
       "      <td>2</td>\n",
       "    </tr>\n",
       "  </tbody>\n",
       "</table>\n",
       "</div>"
      ],
      "text/plain": [
       "debt                       0     1\n",
       "total_income_category             \n",
       "A                         23     2\n",
       "B                       4660   355\n",
       "C                      14589  1353\n",
       "D                        327    21\n",
       "E                         20     2"
      ]
     },
     "metadata": {},
     "output_type": "display_data"
    }
   ],
   "source": [
    "clients_total_income = clients.pivot_table(index = ['total_income_category'],columns = 'debt', values = 'total_income', aggfunc = 'count')\n",
    "display(clients_total_income)"
   ]
  },
  {
   "cell_type": "markdown",
   "id": "93dc1e61",
   "metadata": {},
   "source": [
    "Чтобы увидеть интересующую нас зависимость, добавим в сводную таблицу колонку 'debt_percent', которая покажет долю клиентов, имеющих задолженность, ко всем клиентам такой же категории дохода. Также добавим также колонку 'all_clients', в которой будет сумма всех клиентов по каждой строке таблице, она нужна для расчета 'debt_percent'."
   ]
  },
  {
   "cell_type": "code",
   "execution_count": 82,
   "id": "73bc326f",
   "metadata": {},
   "outputs": [
    {
     "data": {
      "text/html": [
       "<div>\n",
       "<style scoped>\n",
       "    .dataframe tbody tr th:only-of-type {\n",
       "        vertical-align: middle;\n",
       "    }\n",
       "\n",
       "    .dataframe tbody tr th {\n",
       "        vertical-align: top;\n",
       "    }\n",
       "\n",
       "    .dataframe thead th {\n",
       "        text-align: right;\n",
       "    }\n",
       "</style>\n",
       "<table border=\"1\" class=\"dataframe\">\n",
       "  <thead>\n",
       "    <tr style=\"text-align: right;\">\n",
       "      <th>debt</th>\n",
       "      <th>0</th>\n",
       "      <th>1</th>\n",
       "      <th>all_clients</th>\n",
       "      <th>debt_percent</th>\n",
       "    </tr>\n",
       "    <tr>\n",
       "      <th>total_income_category</th>\n",
       "      <th></th>\n",
       "      <th></th>\n",
       "      <th></th>\n",
       "      <th></th>\n",
       "    </tr>\n",
       "  </thead>\n",
       "  <tbody>\n",
       "    <tr>\n",
       "      <th>A</th>\n",
       "      <td>23</td>\n",
       "      <td>2</td>\n",
       "      <td>25</td>\n",
       "      <td>8.00</td>\n",
       "    </tr>\n",
       "    <tr>\n",
       "      <th>B</th>\n",
       "      <td>4660</td>\n",
       "      <td>355</td>\n",
       "      <td>5015</td>\n",
       "      <td>7.08</td>\n",
       "    </tr>\n",
       "    <tr>\n",
       "      <th>C</th>\n",
       "      <td>14589</td>\n",
       "      <td>1353</td>\n",
       "      <td>15942</td>\n",
       "      <td>8.49</td>\n",
       "    </tr>\n",
       "    <tr>\n",
       "      <th>D</th>\n",
       "      <td>327</td>\n",
       "      <td>21</td>\n",
       "      <td>348</td>\n",
       "      <td>6.03</td>\n",
       "    </tr>\n",
       "    <tr>\n",
       "      <th>E</th>\n",
       "      <td>20</td>\n",
       "      <td>2</td>\n",
       "      <td>22</td>\n",
       "      <td>9.09</td>\n",
       "    </tr>\n",
       "  </tbody>\n",
       "</table>\n",
       "</div>"
      ],
      "text/plain": [
       "debt                       0     1  all_clients  debt_percent\n",
       "total_income_category                                        \n",
       "A                         23     2           25          8.00\n",
       "B                       4660   355         5015          7.08\n",
       "C                      14589  1353        15942          8.49\n",
       "D                        327    21          348          6.03\n",
       "E                         20     2           22          9.09"
      ]
     },
     "metadata": {},
     "output_type": "display_data"
    }
   ],
   "source": [
    "col_0 = clients_total_income.columns[0]\n",
    "col_1 = clients_total_income.columns[1]\n",
    "clients_total_income['all_clients'] = clients_total_income[col_0] + clients_total_income[col_1]\n",
    "clients_total_income['debt_percent'] = round(clients_total_income[col_1] / clients_total_income['all_clients'] * 100,2)\n",
    "display(clients_total_income)"
   ]
  },
  {
   "cell_type": "markdown",
   "id": "2256199a",
   "metadata": {},
   "source": [
    "##### Вывод 3:"
   ]
  },
  {
   "cell_type": "markdown",
   "id": "f91dcc70",
   "metadata": {},
   "source": [
    "Выведем долю должников среди клиентов по убыванию и сопоставим с категорией дохода."
   ]
  },
  {
   "cell_type": "code",
   "execution_count": 83,
   "id": "9df23a48",
   "metadata": {
    "scrolled": true
   },
   "outputs": [
    {
     "data": {
      "text/plain": [
       "total_income_category\n",
       "D    6.03\n",
       "B    7.08\n",
       "A    8.00\n",
       "C    8.49\n",
       "E    9.09\n",
       "Name: debt_percent, dtype: float64"
      ]
     },
     "execution_count": 83,
     "metadata": {},
     "output_type": "execute_result"
    }
   ],
   "source": [
    "clients_total_income['debt_percent'].sort_values(ascending = True)"
   ]
  },
  {
   "cell_type": "markdown",
   "id": "b1b169a6",
   "metadata": {},
   "source": [
    "Исходя из данных сводной таблицы можно выделить следующие группы по надежности клиентов:\n",
    "1. Самыми надежными являются клиенты с доходами категории D (доход 30001–50000), доля должников среди них около 6%. \n",
    "2. Следующие по надежности (около 7% должников) - клиенты категории B (доход 200001–1000000). \n",
    "3. Затем идут клиенты из категорий A и С (доход 50001–200000 и от 1000001), должников здесь около 8%. \n",
    "4. И последняя по надежности группа клиентов (около 9% должников) из категории Е (доход 0–30000).\n",
    "\n",
    "Разница в долях должников между группами надежности клиентов также слабо выражена - составляет только около 0.5 - 1%."
   ]
  },
  {
   "cell_type": "markdown",
   "id": "04f0450a",
   "metadata": {},
   "source": [
    "##### Вопрос 4: \tКак разные цели кредита влияют на его возврат в срок?"
   ]
  },
  {
   "cell_type": "markdown",
   "id": "ef759ee2",
   "metadata": {},
   "source": [
    "Создадим сводную таблицу clients_purpose, где каждой строке будет соответствовать одна из четырех основных целей кредита, а в столбцах будет соответствующая информация о количестве клиентов без задолженности и с задолженностью."
   ]
  },
  {
   "cell_type": "code",
   "execution_count": 84,
   "id": "d695ad16",
   "metadata": {},
   "outputs": [
    {
     "data": {
      "text/html": [
       "<div>\n",
       "<style scoped>\n",
       "    .dataframe tbody tr th:only-of-type {\n",
       "        vertical-align: middle;\n",
       "    }\n",
       "\n",
       "    .dataframe tbody tr th {\n",
       "        vertical-align: top;\n",
       "    }\n",
       "\n",
       "    .dataframe thead th {\n",
       "        text-align: right;\n",
       "    }\n",
       "</style>\n",
       "<table border=\"1\" class=\"dataframe\">\n",
       "  <thead>\n",
       "    <tr style=\"text-align: right;\">\n",
       "      <th>debt</th>\n",
       "      <th>0</th>\n",
       "      <th>1</th>\n",
       "    </tr>\n",
       "    <tr>\n",
       "      <th>purpose_category</th>\n",
       "      <th></th>\n",
       "      <th></th>\n",
       "    </tr>\n",
       "  </thead>\n",
       "  <tbody>\n",
       "    <tr>\n",
       "      <th>операции с автомобилем</th>\n",
       "      <td>3884</td>\n",
       "      <td>400</td>\n",
       "    </tr>\n",
       "    <tr>\n",
       "      <th>операции с недвижимостью</th>\n",
       "      <td>9984</td>\n",
       "      <td>779</td>\n",
       "    </tr>\n",
       "    <tr>\n",
       "      <th>получение образования</th>\n",
       "      <td>3625</td>\n",
       "      <td>370</td>\n",
       "    </tr>\n",
       "    <tr>\n",
       "      <th>проведение свадьбы</th>\n",
       "      <td>2126</td>\n",
       "      <td>184</td>\n",
       "    </tr>\n",
       "  </tbody>\n",
       "</table>\n",
       "</div>"
      ],
      "text/plain": [
       "debt                         0    1\n",
       "purpose_category                   \n",
       "операции с автомобилем    3884  400\n",
       "операции с недвижимостью  9984  779\n",
       "получение образования     3625  370\n",
       "проведение свадьбы        2126  184"
      ]
     },
     "metadata": {},
     "output_type": "display_data"
    }
   ],
   "source": [
    "clients_purpose = clients.pivot_table(index = ['purpose_category'],columns = 'debt', values = 'total_income', aggfunc = 'count')\n",
    "display(clients_purpose)"
   ]
  },
  {
   "cell_type": "markdown",
   "id": "7b9c6c54",
   "metadata": {},
   "source": [
    "Добавим в сводную таблицу колонку 'debt_percent', которая покажет долю клиентов, имеющих задолженность, ко всем клиентам с такой же целью кредита. Также добавим также колонку 'all_clients', в которой будет сумма всех клиентов по каждой строке таблице, она нужна для расчета 'debt_percent'."
   ]
  },
  {
   "cell_type": "code",
   "execution_count": 85,
   "id": "f663ddab",
   "metadata": {},
   "outputs": [
    {
     "data": {
      "text/html": [
       "<div>\n",
       "<style scoped>\n",
       "    .dataframe tbody tr th:only-of-type {\n",
       "        vertical-align: middle;\n",
       "    }\n",
       "\n",
       "    .dataframe tbody tr th {\n",
       "        vertical-align: top;\n",
       "    }\n",
       "\n",
       "    .dataframe thead th {\n",
       "        text-align: right;\n",
       "    }\n",
       "</style>\n",
       "<table border=\"1\" class=\"dataframe\">\n",
       "  <thead>\n",
       "    <tr style=\"text-align: right;\">\n",
       "      <th>debt</th>\n",
       "      <th>0</th>\n",
       "      <th>1</th>\n",
       "      <th>all_clients</th>\n",
       "      <th>debt_percent</th>\n",
       "    </tr>\n",
       "    <tr>\n",
       "      <th>purpose_category</th>\n",
       "      <th></th>\n",
       "      <th></th>\n",
       "      <th></th>\n",
       "      <th></th>\n",
       "    </tr>\n",
       "  </thead>\n",
       "  <tbody>\n",
       "    <tr>\n",
       "      <th>операции с автомобилем</th>\n",
       "      <td>3884</td>\n",
       "      <td>400</td>\n",
       "      <td>4284</td>\n",
       "      <td>9.34</td>\n",
       "    </tr>\n",
       "    <tr>\n",
       "      <th>операции с недвижимостью</th>\n",
       "      <td>9984</td>\n",
       "      <td>779</td>\n",
       "      <td>10763</td>\n",
       "      <td>7.24</td>\n",
       "    </tr>\n",
       "    <tr>\n",
       "      <th>получение образования</th>\n",
       "      <td>3625</td>\n",
       "      <td>370</td>\n",
       "      <td>3995</td>\n",
       "      <td>9.26</td>\n",
       "    </tr>\n",
       "    <tr>\n",
       "      <th>проведение свадьбы</th>\n",
       "      <td>2126</td>\n",
       "      <td>184</td>\n",
       "      <td>2310</td>\n",
       "      <td>7.97</td>\n",
       "    </tr>\n",
       "  </tbody>\n",
       "</table>\n",
       "</div>"
      ],
      "text/plain": [
       "debt                         0    1  all_clients  debt_percent\n",
       "purpose_category                                              \n",
       "операции с автомобилем    3884  400         4284          9.34\n",
       "операции с недвижимостью  9984  779        10763          7.24\n",
       "получение образования     3625  370         3995          9.26\n",
       "проведение свадьбы        2126  184         2310          7.97"
      ]
     },
     "metadata": {},
     "output_type": "display_data"
    }
   ],
   "source": [
    "col_0 = clients_purpose.columns[0]\n",
    "col_1 = clients_purpose.columns[1]\n",
    "clients_purpose['all_clients'] = clients_purpose[col_0] + clients_purpose[col_1]\n",
    "clients_purpose['debt_percent'] = round(clients_purpose[col_1] / clients_purpose['all_clients'] * 100,2)\n",
    "display(clients_purpose)"
   ]
  },
  {
   "cell_type": "markdown",
   "id": "1a980f4a",
   "metadata": {},
   "source": [
    "##### Вывод 4:"
   ]
  },
  {
   "cell_type": "markdown",
   "id": "ba7f0b45",
   "metadata": {},
   "source": [
    "Выведем долю должников среди клиентов по убыванию и сопоставим с целью кредита."
   ]
  },
  {
   "cell_type": "code",
   "execution_count": 86,
   "id": "40664ace",
   "metadata": {
    "scrolled": true
   },
   "outputs": [
    {
     "data": {
      "text/plain": [
       "purpose_category\n",
       "операции с недвижимостью    7.24\n",
       "проведение свадьбы          7.97\n",
       "получение образования       9.26\n",
       "операции с автомобилем      9.34\n",
       "Name: debt_percent, dtype: float64"
      ]
     },
     "execution_count": 86,
     "metadata": {},
     "output_type": "execute_result"
    }
   ],
   "source": [
    "clients_purpose['debt_percent'].sort_values(ascending = True)"
   ]
  },
  {
   "cell_type": "markdown",
   "id": "3588395a",
   "metadata": {},
   "source": [
    "Можно выделить 3 группы нвдежности клиентиов:\n",
    "1. Процент должников меньше всего среди клиентов, которым нужен кредит для операций с недвижимостью (около 7%).\n",
    "2. Менее надежными являются клиенты, которые обращаются за кредитом на свадьбу (их около 8%). \n",
    "3. И больше всего (около 9%) клиентов с задолженностью среди тех, кто берет кредиты на получение образования и операции с автомобилем.\n",
    "\n",
    "Но разница между каждой группой должников незначительная, от 0.7 до 1.3%."
   ]
  },
  {
   "cell_type": "markdown",
   "id": "8f7ed25c",
   "metadata": {},
   "source": [
    "## Общий вывод:"
   ]
  },
  {
   "cell_type": "markdown",
   "id": "ab36a096",
   "metadata": {},
   "source": [
    "С помощью сводных таблиц были проанализированы показатели долей должников среди всех клиентов в зависимости от следующих признаков: количества детей, семейного положения, уровня дохода и цели кредита. Для каждого признака были выделены уровни надежности клиентов:\n",
    "\n",
    "* по количеству детей:\n",
    "\n",
    "        Количество детей:                 Уровень надежности:\n",
    "            0, 3                             I\n",
    "            1                                II\n",
    "            2, 4                             III\n",
    "            \n",
    "* по семейному положению:\n",
    "\n",
    "        Семейное положение:                Уровень надежности:\n",
    "            в разводе; вдовец / вдова        I\n",
    "            женат / замужем                  II\n",
    "            гражданский брак                 III\n",
    "            Не женат / не замужем            IV\n",
    "        \n",
    "* по уровню дохода:\n",
    "    \n",
    "        Категория:                         Уровень надежности:\n",
    "            D (30001–50000)                  I\n",
    "            B (200001–1000000)               II\n",
    "            A, С (50001–200000, от 1000001)  III\n",
    "            E (0–30000)                      IV\n",
    "\n",
    "* по цели кредита:                         \n",
    "\n",
    "        Цель кредита:                       Уровень надежности:\n",
    "            операции с недвижимостью         I\n",
    "            проведение свадьбы               II\n",
    "            операции с автомобилем,\n",
    "            получение образования            III\n",
    "\n",
    "Разница в долях должников в уровнях надежности каждой группы очень маленькая - не более 0.4 - 1.8% (влияние всех перечисленных признаков  на вероятность возврата клиентом кредита в срок несущественное).\n"
   ]
  }
 ],
 "metadata": {
  "ExecuteTimeLog": [
   {
    "duration": 589,
    "start_time": "2022-04-15T07:47:54.946Z"
   },
   {
    "duration": 86,
    "start_time": "2022-04-15T07:47:55.540Z"
   },
   {
    "duration": 33,
    "start_time": "2022-04-15T07:47:55.629Z"
   },
   {
    "duration": 37,
    "start_time": "2022-04-15T07:47:55.664Z"
   },
   {
    "duration": 5,
    "start_time": "2022-04-15T07:47:55.704Z"
   },
   {
    "duration": 17,
    "start_time": "2022-04-15T07:47:55.711Z"
   },
   {
    "duration": 17,
    "start_time": "2022-04-15T07:47:55.730Z"
   },
   {
    "duration": 53,
    "start_time": "2022-04-15T07:47:55.749Z"
   },
   {
    "duration": 13,
    "start_time": "2022-04-15T07:47:55.806Z"
   },
   {
    "duration": 10,
    "start_time": "2022-04-15T07:47:55.822Z"
   },
   {
    "duration": 12,
    "start_time": "2022-04-15T07:47:55.834Z"
   },
   {
    "duration": 8,
    "start_time": "2022-04-15T07:47:55.881Z"
   },
   {
    "duration": 20,
    "start_time": "2022-04-15T07:47:55.892Z"
   },
   {
    "duration": 10,
    "start_time": "2022-04-15T07:47:55.917Z"
   },
   {
    "duration": 6,
    "start_time": "2022-04-15T07:47:55.929Z"
   },
   {
    "duration": 7,
    "start_time": "2022-04-15T07:47:55.982Z"
   },
   {
    "duration": 24,
    "start_time": "2022-04-15T07:47:55.991Z"
   },
   {
    "duration": 10,
    "start_time": "2022-04-15T07:47:56.017Z"
   },
   {
    "duration": 7,
    "start_time": "2022-04-15T07:47:56.029Z"
   },
   {
    "duration": 7,
    "start_time": "2022-04-15T07:47:56.038Z"
   },
   {
    "duration": 51,
    "start_time": "2022-04-15T07:47:56.082Z"
   },
   {
    "duration": 9,
    "start_time": "2022-04-15T07:47:56.136Z"
   },
   {
    "duration": 13,
    "start_time": "2022-04-15T07:47:56.147Z"
   },
   {
    "duration": 27,
    "start_time": "2022-04-15T07:47:56.163Z"
   },
   {
    "duration": 12,
    "start_time": "2022-04-15T07:47:56.193Z"
   },
   {
    "duration": 13,
    "start_time": "2022-04-15T07:47:56.207Z"
   },
   {
    "duration": 22,
    "start_time": "2022-04-15T07:47:56.223Z"
   },
   {
    "duration": 12,
    "start_time": "2022-04-15T07:47:56.283Z"
   },
   {
    "duration": 14,
    "start_time": "2022-04-15T07:47:56.301Z"
   },
   {
    "duration": 18,
    "start_time": "2022-04-15T07:47:56.317Z"
   },
   {
    "duration": 9,
    "start_time": "2022-04-15T07:47:56.337Z"
   },
   {
    "duration": 34,
    "start_time": "2022-04-15T07:47:56.349Z"
   },
   {
    "duration": 10,
    "start_time": "2022-04-15T07:47:56.386Z"
   },
   {
    "duration": 9,
    "start_time": "2022-04-15T07:47:56.398Z"
   },
   {
    "duration": 7,
    "start_time": "2022-04-15T07:47:56.409Z"
   },
   {
    "duration": 14,
    "start_time": "2022-04-15T07:47:56.419Z"
   },
   {
    "duration": 53,
    "start_time": "2022-04-15T07:47:56.436Z"
   },
   {
    "duration": 16,
    "start_time": "2022-04-15T07:47:56.491Z"
   },
   {
    "duration": 11,
    "start_time": "2022-04-15T07:47:56.509Z"
   },
   {
    "duration": 9,
    "start_time": "2022-04-15T07:47:56.523Z"
   },
   {
    "duration": 39,
    "start_time": "2022-04-15T07:47:56.541Z"
   },
   {
    "duration": 13,
    "start_time": "2022-04-15T07:47:56.583Z"
   },
   {
    "duration": 6,
    "start_time": "2022-04-15T07:47:56.598Z"
   },
   {
    "duration": 1098,
    "start_time": "2022-04-15T07:47:56.607Z"
   },
   {
    "duration": 10,
    "start_time": "2022-04-15T07:47:57.708Z"
   },
   {
    "duration": 11,
    "start_time": "2022-04-15T07:47:57.720Z"
   },
   {
    "duration": 8,
    "start_time": "2022-04-15T07:47:57.733Z"
   },
   {
    "duration": 40,
    "start_time": "2022-04-15T07:47:57.743Z"
   },
   {
    "duration": 7,
    "start_time": "2022-04-15T07:47:57.785Z"
   },
   {
    "duration": 15,
    "start_time": "2022-04-15T07:47:57.794Z"
   },
   {
    "duration": 9,
    "start_time": "2022-04-15T07:47:57.812Z"
   },
   {
    "duration": 8,
    "start_time": "2022-04-15T07:47:57.824Z"
   },
   {
    "duration": 52,
    "start_time": "2022-04-15T07:47:57.835Z"
   },
   {
    "duration": 10,
    "start_time": "2022-04-15T07:47:57.889Z"
   },
   {
    "duration": 9,
    "start_time": "2022-04-15T07:47:57.901Z"
   },
   {
    "duration": 11,
    "start_time": "2022-04-15T07:47:57.912Z"
   },
   {
    "duration": 10,
    "start_time": "2022-04-15T07:47:57.925Z"
   },
   {
    "duration": 10,
    "start_time": "2022-04-15T07:47:57.981Z"
   },
   {
    "duration": 11,
    "start_time": "2022-04-15T07:47:57.993Z"
   },
   {
    "duration": 20,
    "start_time": "2022-04-15T07:47:58.006Z"
   },
   {
    "duration": 20,
    "start_time": "2022-04-15T07:47:58.028Z"
   },
   {
    "duration": 26,
    "start_time": "2022-04-15T07:47:58.082Z"
   },
   {
    "duration": 26,
    "start_time": "2022-04-15T07:47:58.110Z"
   },
   {
    "duration": 73,
    "start_time": "2022-04-15T07:47:58.139Z"
   },
   {
    "duration": 16,
    "start_time": "2022-04-15T07:47:58.215Z"
   },
   {
    "duration": 16,
    "start_time": "2022-04-15T07:47:58.233Z"
   },
   {
    "duration": 52,
    "start_time": "2022-04-15T07:47:58.251Z"
   },
   {
    "duration": 31,
    "start_time": "2022-04-15T07:47:58.305Z"
   },
   {
    "duration": 8,
    "start_time": "2022-04-15T07:47:58.339Z"
   },
   {
    "duration": 47,
    "start_time": "2022-04-15T07:47:58.349Z"
   },
   {
    "duration": 26,
    "start_time": "2022-04-15T07:47:58.399Z"
   },
   {
    "duration": 9,
    "start_time": "2022-04-15T07:47:58.427Z"
   },
   {
    "duration": 63,
    "start_time": "2022-04-15T07:47:58.438Z"
   },
   {
    "duration": 14,
    "start_time": "2022-04-15T07:47:58.503Z"
   },
   {
    "duration": 19,
    "start_time": "2022-04-15T07:47:58.519Z"
   },
   {
    "duration": 57,
    "start_time": "2022-04-15T07:47:58.540Z"
   },
   {
    "duration": 14,
    "start_time": "2022-04-15T07:47:58.599Z"
   },
   {
    "duration": 8,
    "start_time": "2022-04-15T07:47:58.615Z"
   },
   {
    "duration": 57,
    "start_time": "2022-04-15T07:47:58.626Z"
   },
   {
    "duration": 16,
    "start_time": "2022-04-15T07:47:58.686Z"
   },
   {
    "duration": 9,
    "start_time": "2022-04-15T07:47:58.705Z"
   },
   {
    "duration": 65,
    "start_time": "2022-04-15T07:47:58.717Z"
   },
   {
    "duration": 16,
    "start_time": "2022-04-15T07:47:58.785Z"
   },
   {
    "duration": 11,
    "start_time": "2022-04-15T07:47:58.803Z"
   },
   {
    "duration": 14,
    "start_time": "2022-04-15T08:08:04.381Z"
   }
  ],
  "kernelspec": {
   "display_name": "Python 3 (ipykernel)",
   "language": "python",
   "name": "python3"
  },
  "language_info": {
   "codemirror_mode": {
    "name": "ipython",
    "version": 3
   },
   "file_extension": ".py",
   "mimetype": "text/x-python",
   "name": "python",
   "nbconvert_exporter": "python",
   "pygments_lexer": "ipython3",
   "version": "3.9.12"
  },
  "toc": {
   "base_numbering": 1,
   "nav_menu": {},
   "number_sections": false,
   "sideBar": true,
   "skip_h1_title": true,
   "title_cell": "Table of Contents",
   "title_sidebar": "Contents",
   "toc_cell": false,
   "toc_position": {},
   "toc_section_display": true,
   "toc_window_display": true
  }
 },
 "nbformat": 4,
 "nbformat_minor": 5
}
